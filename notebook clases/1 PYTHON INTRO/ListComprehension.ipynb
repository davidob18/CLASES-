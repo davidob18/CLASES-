{
 "cells": [
  {
   "cell_type": "markdown",
   "id": "88517005-36b7-410d-a01b-d7d4f24d73e9",
   "metadata": {},
   "source": [
    "## List Comprehension"
   ]
  },
  {
   "cell_type": "code",
   "execution_count": 1,
   "id": "30794e1f-680f-4973-a0f1-944945a2158c",
   "metadata": {},
   "outputs": [
    {
     "data": {
      "text/plain": [
       "[1, 2, 3, 4, 5, 6, 7, 8, 9, 10]"
      ]
     },
     "execution_count": 1,
     "metadata": {},
     "output_type": "execute_result"
    }
   ],
   "source": [
    "lista_10 = [1, 2, 3, 4, 5, 6, 7, 8, 9, 10]\n",
    "lista_10"
   ]
  },
  {
   "cell_type": "code",
   "execution_count": 5,
   "id": "c363af6d-c973-4359-93c3-5eace5a5a6aa",
   "metadata": {},
   "outputs": [
    {
     "data": {
      "text/plain": [
       "[1, 2, 3, 4, 5, 6, 7, 8, 9, 10]"
      ]
     },
     "execution_count": 5,
     "metadata": {},
     "output_type": "execute_result"
    }
   ],
   "source": [
    "list(range(1, 11))"
   ]
  },
  {
   "cell_type": "code",
   "execution_count": 6,
   "id": "fea6e51f-f701-4c7a-b9e5-9ed82a53c197",
   "metadata": {},
   "outputs": [
    {
     "data": {
      "text/plain": [
       "[1, 2, 3, 4, 5, 6, 7, 8, 9, 10]"
      ]
     },
     "execution_count": 6,
     "metadata": {},
     "output_type": "execute_result"
    }
   ],
   "source": [
    "lista_10_loop = []\n",
    "for x in range(1, 11):\n",
    "    lista_10_loop.append(x)\n",
    "lista_10_loop"
   ]
  },
  {
   "cell_type": "code",
   "execution_count": 7,
   "id": "6eaee548-1dae-4432-9b46-772bb8b7484a",
   "metadata": {},
   "outputs": [
    {
     "data": {
      "text/plain": [
       "[1, 2, 3, 4, 5, 6, 7, 8, 9, 10]"
      ]
     },
     "execution_count": 7,
     "metadata": {},
     "output_type": "execute_result"
    }
   ],
   "source": [
    "# Es equivalente al loop de arriba pero de forma mas eficiente\n",
    "lista_10_comprenh = [x for x in range(1, 11)]\n",
    "\n",
    "lista_10_comprenh"
   ]
  },
  {
   "cell_type": "code",
   "execution_count": 8,
   "id": "f229a44c-eb9a-4837-8cae-3ed13bd6df1f",
   "metadata": {},
   "outputs": [],
   "source": [
    "#lista_numeros_texto = ['numero_0', 'numero_1', ... 'numero_10']"
   ]
  },
  {
   "cell_type": "code",
   "execution_count": 10,
   "id": "8b152012-0cfe-4bcf-984a-21c03a3d5cdb",
   "metadata": {},
   "outputs": [
    {
     "data": {
      "text/plain": [
       "['numero_0',\n",
       " 'numero_1',\n",
       " 'numero_2',\n",
       " 'numero_3',\n",
       " 'numero_4',\n",
       " 'numero_5',\n",
       " 'numero_6',\n",
       " 'numero_7',\n",
       " 'numero_8',\n",
       " 'numero_9',\n",
       " 'numero_10']"
      ]
     },
     "execution_count": 10,
     "metadata": {},
     "output_type": "execute_result"
    }
   ],
   "source": [
    "lista_numeros_texto_loop = []\n",
    "\n",
    "for x in range(11):\n",
    "    lista_numeros_texto_loop.append(f'numero_{x}')\n",
    "\n",
    "lista_numeros_texto_loop"
   ]
  },
  {
   "cell_type": "code",
   "execution_count": 13,
   "id": "256ef888-349d-407c-9a63-41ed58e34d76",
   "metadata": {},
   "outputs": [
    {
     "data": {
      "text/plain": [
       "['numero_0',\n",
       " 'numero_1',\n",
       " 'numero_2',\n",
       " 'numero_3',\n",
       " 'numero_4',\n",
       " 'numero_5',\n",
       " 'numero_6',\n",
       " 'numero_7',\n",
       " 'numero_8',\n",
       " 'numero_9',\n",
       " 'numero_10']"
      ]
     },
     "execution_count": 13,
     "metadata": {},
     "output_type": "execute_result"
    }
   ],
   "source": [
    "lista_numeros_texto_comprenh = [f'numero_{x}' for x in range(11)]\n",
    "lista_numeros_texto_comprenh"
   ]
  },
  {
   "cell_type": "code",
   "execution_count": 15,
   "id": "7fdf973c-19f3-40d6-98ea-ca5d41a8109e",
   "metadata": {},
   "outputs": [],
   "source": [
    "mandado = ['yogurt', 'fruta', 'pan', 'tortillas', 'cafe', 'huevo', 'atun',\n",
    "           'queso', 'maruchan']"
   ]
  },
  {
   "cell_type": "code",
   "execution_count": 16,
   "id": "495e8ce7-ee4b-4df1-a6cb-8117c3fa5b2e",
   "metadata": {},
   "outputs": [
    {
     "data": {
      "text/plain": [
       "['pan', 'atun', 'maruchan']"
      ]
     },
     "execution_count": 16,
     "metadata": {},
     "output_type": "execute_result"
    }
   ],
   "source": [
    "mandado_filtrado_loop = list()\n",
    "for producto in mandado:\n",
    "    if producto[-1] == 'n': #if producto.endswith('n')\n",
    "        mandado_filtrado_loop.append(producto)\n",
    "mandado_filtrado_loop"
   ]
  },
  {
   "cell_type": "code",
   "execution_count": 17,
   "id": "51af6938-7989-47be-9562-49767bc1aa25",
   "metadata": {},
   "outputs": [
    {
     "data": {
      "text/plain": [
       "['pan', 'atun', 'maruchan']"
      ]
     },
     "execution_count": 17,
     "metadata": {},
     "output_type": "execute_result"
    }
   ],
   "source": [
    "mandado_filtrado_comprenh = [producto for producto in mandado if producto[-1] == 'n']\n",
    "mandado_filtrado_comprenh"
   ]
  },
  {
   "cell_type": "code",
   "execution_count": 18,
   "id": "ab200ba2-0729-4e59-89d9-393868b9be89",
   "metadata": {},
   "outputs": [
    {
     "data": {
      "text/plain": [
       "['pan', 'tortillas', 'atun', 'maruchan']"
      ]
     },
     "execution_count": 18,
     "metadata": {},
     "output_type": "execute_result"
    }
   ],
   "source": [
    "mandado_filtrado_loop_ns = list()\n",
    "for producto in mandado:\n",
    "    if producto[-1] == 'n' or producto[-1] == 's': #if producto.endswith('n')\n",
    "        mandado_filtrado_loop_ns.append(producto)\n",
    "mandado_filtrado_loop_ns"
   ]
  },
  {
   "cell_type": "code",
   "execution_count": 19,
   "id": "35941089-ac1b-49ea-9234-816df1d2ef63",
   "metadata": {},
   "outputs": [
    {
     "data": {
      "text/plain": [
       "['pan', 'tortillas', 'atun', 'maruchan']"
      ]
     },
     "execution_count": 19,
     "metadata": {},
     "output_type": "execute_result"
    }
   ],
   "source": [
    "mandado_filtrado_comprenh_ns = [producto for producto in mandado if producto[-1] == 'n' or producto[-1] == 's']\n",
    "mandado_filtrado_comprenh_ns"
   ]
  },
  {
   "cell_type": "code",
   "execution_count": 20,
   "id": "44dfca91-3496-4ad7-9150-68cd6059263a",
   "metadata": {},
   "outputs": [
    {
     "data": {
      "text/plain": [
       "['pan', 'TORTILLAS', 'atun', 'maruchan']"
      ]
     },
     "execution_count": 20,
     "metadata": {},
     "output_type": "execute_result"
    }
   ],
   "source": [
    "mandado_filtrado_loop_ns_distintos = list()\n",
    "for producto in mandado:\n",
    "    if producto[-1] == 'n': #if producto.endswith('n')\n",
    "        mandado_filtrado_loop_ns_distintos.append(producto)\n",
    "        \n",
    "    elif producto[-1] == 's':\n",
    "        mandado_filtrado_loop_ns_distintos.append(producto.upper())\n",
    "        \n",
    "mandado_filtrado_loop_ns_distintos"
   ]
  },
  {
   "cell_type": "code",
   "execution_count": 27,
   "id": "fc3b5d7d-1225-4b44-a79d-0dc772a14fb6",
   "metadata": {},
   "outputs": [
    {
     "data": {
      "text/plain": [
       "['YOGURT',\n",
       " 'FRUTA',\n",
       " 'pan',\n",
       " 'TORTILLAS',\n",
       " 'CAFE',\n",
       " 'HUEVO',\n",
       " 'atun',\n",
       " 'QUESO',\n",
       " 'maruchan']"
      ]
     },
     "execution_count": 27,
     "metadata": {},
     "output_type": "execute_result"
    }
   ],
   "source": [
    "[producto if producto[-1] == 'n' else producto.upper() for producto in mandado]"
   ]
  },
  {
   "cell_type": "code",
   "execution_count": 26,
   "id": "a806a4cf-bd9d-4607-89d9-5c196bdc9052",
   "metadata": {},
   "outputs": [
    {
     "data": {
      "text/plain": [
       "['pan', 'TORTILLAS', 'atun', 'maruchan']"
      ]
     },
     "execution_count": 26,
     "metadata": {},
     "output_type": "execute_result"
    }
   ],
   "source": [
    "mandado_filtrado_comprenh_ns_distintos = [producto if producto[-1] == 'n' else producto.upper() for producto in mandado if producto[-1] == 'n' or producto[-1] == 's']\n",
    "mandado_filtrado_comprenh_ns_distintos"
   ]
  },
  {
   "cell_type": "code",
   "execution_count": 28,
   "id": "8e352db9-242c-4a6f-871f-036f702b7e29",
   "metadata": {},
   "outputs": [
    {
     "data": {
      "text/plain": [
       "['yogurt',\n",
       " 'fruta',\n",
       " 'pan',\n",
       " 'tortillas',\n",
       " 'cafe',\n",
       " 'huevo',\n",
       " 'atun',\n",
       " 'queso',\n",
       " 'maruchan']"
      ]
     },
     "execution_count": 28,
     "metadata": {},
     "output_type": "execute_result"
    }
   ],
   "source": [
    "mandado"
   ]
  },
  {
   "cell_type": "code",
   "execution_count": 30,
   "id": "c0f759de-bdf1-45e9-a95a-41a91f61a588",
   "metadata": {},
   "outputs": [
    {
     "data": {
      "text/plain": [
       "['pan', 'TORTILLAS', 'atun', 'maruchan']"
      ]
     },
     "execution_count": 30,
     "metadata": {},
     "output_type": "execute_result"
    }
   ],
   "source": [
    "mandado_filtrado_comprenh_muchos_casos = [producto if producto[-1] == 'n'\n",
    "                                          else producto.upper() if producto.endswith('s')\n",
    "                                          else producto.capitalize() if producto.endswith('e')\n",
    "                                          else producto[-1]\n",
    "                                          for producto in mandado if producto[-1] == 'n' or producto[-1] == 's']\n",
    "mandado_filtrado_comprenh_muchos_casos"
   ]
  },
  {
   "cell_type": "code",
   "execution_count": 33,
   "id": "7d64b349-d44c-48d9-a3fd-71bcae90a660",
   "metadata": {},
   "outputs": [
    {
     "data": {
      "text/plain": [
       "['t', 'a', 'pan', 'TORTILLAS', 'Cafe', 'o', 'atun', 'o', 'maruchan']"
      ]
     },
     "execution_count": 33,
     "metadata": {},
     "output_type": "execute_result"
    }
   ],
   "source": [
    "mandado_filtrado_comprenh_muchos_casos = [producto if producto[-1] == 'n' #Guardo la variable como viene si termina en n\n",
    "                                          else producto.upper() if producto.endswith('s') #Guardo en mayusculas si termina en s\n",
    "                                          else producto.capitalize() if producto.endswith('e')\n",
    "                                          else producto[-1]\n",
    "                                          for producto in mandado]\n",
    "mandado_filtrado_comprenh_muchos_casos"
   ]
  },
  {
   "cell_type": "code",
   "execution_count": null,
   "id": "86445da2-f01f-4fc6-924b-eec9f9bef5ba",
   "metadata": {},
   "outputs": [],
   "source": [
    "mandado_filtrado_comprenh_ns_distintos = [producto for producto in mandado if producto[-1] == 'n' or producto[-1] == 's' producto = producto.uppwer()]\n",
    "mandado_filtrado_comprenh_ns_distintos"
   ]
  },
  {
   "cell_type": "code",
   "execution_count": 39,
   "id": "ad9d6208-001b-4405-aa00-9454045b2281",
   "metadata": {},
   "outputs": [
    {
     "data": {
      "text/plain": [
       "['Lu 7',\n",
       " 'Gilda 10',\n",
       " 'Lili 9',\n",
       " 'montse 8',\n",
       " 'humbi 10',\n",
       " 'marcos 8',\n",
       " 'Beto 9',\n",
       " 'oscar 6']"
      ]
     },
     "execution_count": 39,
     "metadata": {},
     "output_type": "execute_result"
    }
   ],
   "source": [
    "alumnos = '''Lu 7\n",
    "Gilda 10\n",
    "Lili 9\n",
    "montse 8\n",
    "humbi 10\n",
    "marcos 8\n",
    "Beto 9\n",
    "oscar 6'''.split('\\n')\n",
    "\n",
    "alumnos"
   ]
  },
  {
   "cell_type": "code",
   "execution_count": 43,
   "id": "c883fd6c-481a-4ab7-b0ae-315769ad59c4",
   "metadata": {},
   "outputs": [
    {
     "data": {
      "text/plain": [
       "[('Lu', '7'),\n",
       " ('Gilda', '10'),\n",
       " ('Lili', '9'),\n",
       " ('montse', '8'),\n",
       " ('humbi', '10'),\n",
       " ('marcos', '8'),\n",
       " ('Beto', '9'),\n",
       " ('oscar', '6')]"
      ]
     },
     "execution_count": 43,
     "metadata": {},
     "output_type": "execute_result"
    }
   ],
   "source": [
    "puntuaciones = [tuple(x.split()) for x in alumnos]\n",
    "puntuaciones"
   ]
  },
  {
   "cell_type": "code",
   "execution_count": 49,
   "id": "4870676c-861a-4be7-a2bf-8b04c69c30ba",
   "metadata": {},
   "outputs": [
    {
     "data": {
      "text/plain": [
       "['Gilda', 'Lili', 'humbi', 'Beto']"
      ]
     },
     "execution_count": 49,
     "metadata": {},
     "output_type": "execute_result"
    }
   ],
   "source": [
    "amantes_inglor_bast_loop = []\n",
    "for nombre, calif in puntuaciones:\n",
    "    if int(calif) > 8:\n",
    "        amantes_inglor_bast_loop.append(nombre)\n",
    "amantes_inglor_bast_loop"
   ]
  },
  {
   "cell_type": "code",
   "execution_count": 50,
   "id": "da73da31-db31-42d6-9b49-cb92fb2c3c97",
   "metadata": {},
   "outputs": [
    {
     "data": {
      "text/plain": [
       "['Gilda', 'Lili', 'humbi', 'Beto']"
      ]
     },
     "execution_count": 50,
     "metadata": {},
     "output_type": "execute_result"
    }
   ],
   "source": [
    "amantes_inglor_bast_comprenh = [nombre for nombre, calif in puntuaciones if int(calif) > 8]\n",
    "amantes_inglor_bast_comprenh"
   ]
  },
  {
   "cell_type": "code",
   "execution_count": 52,
   "id": "29fede4d-e396-471d-a8a3-10d4d193961b",
   "metadata": {},
   "outputs": [
    {
     "data": {
      "text/plain": [
       "[('Gilda', '10'), ('Lili', '9'), ('humbi', '10'), ('Beto', '9')]"
      ]
     },
     "execution_count": 52,
     "metadata": {},
     "output_type": "execute_result"
    }
   ],
   "source": [
    "amantes_califs_inglor_bast_comprenh = [(nombre, calif) for nombre, calif in puntuaciones if int(calif) > 8]\n",
    "amantes_califs_inglor_bast_comprenh"
   ]
  },
  {
   "cell_type": "code",
   "execution_count": 53,
   "id": "d5c301de-7b6c-436d-bc28-bac2e1c18774",
   "metadata": {},
   "outputs": [
    {
     "data": {
      "text/plain": [
       "{'Gilda': '10', 'Lili': '9', 'humbi': '10', 'Beto': '9'}"
      ]
     },
     "execution_count": 53,
     "metadata": {},
     "output_type": "execute_result"
    }
   ],
   "source": [
    "amantes_califs_inglor_bast_dict_comprenh = {nombre:calif for nombre, calif in puntuaciones if int(calif) > 8}\n",
    "amantes_califs_inglor_bast_dict_comprenh"
   ]
  },
  {
   "cell_type": "code",
   "execution_count": 59,
   "id": "8782f41a-711a-4fb8-bcf9-eb4d024e1fe7",
   "metadata": {},
   "outputs": [
    {
     "data": {
      "text/plain": [
       "{'Gilda': 10, 'Lili': 'Sin valor', 'HUMBI': 10, 'Beto': 'Sin valor'}"
      ]
     },
     "execution_count": 59,
     "metadata": {},
     "output_type": "execute_result"
    }
   ],
   "source": [
    "amantes_califs_inglor_bast_dict_comprenh = {nombre.upper() if nombre.startswith('h') else nombre :\n",
    "                                            int(calif) if int(calif) > 9 else 'Sin valor'\n",
    "                                            for nombre, calif in puntuaciones if int(calif) > 8}\n",
    "amantes_califs_inglor_bast_dict_comprenh"
   ]
  },
  {
   "cell_type": "code",
   "execution_count": 61,
   "id": "4d6a9277-a610-4e22-809d-385075ef98f8",
   "metadata": {},
   "outputs": [
    {
     "data": {
      "text/plain": [
       "['sopa pozole pollo',\n",
       " 'ensalada rajas chorizo',\n",
       " 'tamales pozole pambazos',\n",
       " 'arrachera strudel sopes',\n",
       " 'quesadilla torta pizza',\n",
       " 'Barbacoa chilaquiles consomé',\n",
       " 'sopa arroz tostadas',\n",
       " 'arepa sushi falafel',\n",
       " 'pasta arroz flan']"
      ]
     },
     "execution_count": 61,
     "metadata": {},
     "output_type": "execute_result"
    }
   ],
   "source": [
    "comidas = '''sopa pozole pollo\n",
    "ensalada rajas chorizo\n",
    "tamales pozole pambazos\n",
    "arrachera strudel sopes\n",
    "quesadilla torta pizza\n",
    "Barbacoa chilaquiles consomé\n",
    "sopa arroz tostadas\n",
    "arepa sushi falafel\n",
    "pasta arroz flan'''.split('\\n')\n",
    "comidas"
   ]
  },
  {
   "cell_type": "code",
   "execution_count": 62,
   "id": "7e1a0417-3cd9-43ac-b2f3-d1ee1634ceea",
   "metadata": {},
   "outputs": [
    {
     "data": {
      "text/plain": [
       "[['sopa', 'pozole', 'pollo'],\n",
       " ['ensalada', 'rajas', 'chorizo'],\n",
       " ['tamales', 'pozole', 'pambazos'],\n",
       " ['arrachera', 'strudel', 'sopes'],\n",
       " ['quesadilla', 'torta', 'pizza'],\n",
       " ['Barbacoa', 'chilaquiles', 'consomé'],\n",
       " ['sopa', 'arroz', 'tostadas'],\n",
       " ['arepa', 'sushi', 'falafel'],\n",
       " ['pasta', 'arroz', 'flan']]"
      ]
     },
     "execution_count": 62,
     "metadata": {},
     "output_type": "execute_result"
    }
   ],
   "source": [
    "lista_listas_comidas = [tercia.split() for tercia in comidas]\n",
    "lista_listas_comidas"
   ]
  },
  {
   "cell_type": "code",
   "execution_count": 71,
   "id": "1942eddc-3c9c-48b8-b3d4-7b8203b4e899",
   "metadata": {},
   "outputs": [
    {
     "name": "stdout",
     "output_type": "stream",
     "text": [
      "['sopa', 'pozole', 'pollo', 'ensalada', 'rajas', 'chorizo', 'tamales', 'pozole', 'pambazos', 'arrachera', 'strudel', 'sopes', 'quesadilla', 'torta', 'pizza', 'Barbacoa', 'chilaquiles', 'consomé', 'sopa', 'arroz', 'tostadas', 'arepa', 'sushi', 'falafel', 'pasta', 'arroz', 'flan']\n"
     ]
    }
   ],
   "source": [
    "lista_plana_loop = []\n",
    "\n",
    "for tercia_comidas in lista_listas_comidas:\n",
    "    for comida in tercia_comidas:\n",
    "        lista_plana_loop.append(comida)\n",
    "        \n",
    "print(lista_plana_loop)"
   ]
  },
  {
   "cell_type": "code",
   "execution_count": 72,
   "id": "c90f7949-ec61-41eb-b3ca-a4dc80f177ec",
   "metadata": {},
   "outputs": [
    {
     "ename": "NameError",
     "evalue": "name 'tercia_comidas2' is not defined",
     "output_type": "error",
     "traceback": [
      "\u001b[1;31m---------------------------------------------------------------------------\u001b[0m",
      "\u001b[1;31mNameError\u001b[0m                                 Traceback (most recent call last)",
      "Cell \u001b[1;32mIn [77], line 1\u001b[0m\n\u001b[1;32m----> 1\u001b[0m lista_plana_comprenh \u001b[38;5;241m=\u001b[39m [comida \u001b[38;5;28;01mfor\u001b[39;00m comida \u001b[38;5;129;01min\u001b[39;00m tercia_comidas2 \u001b[38;5;28;01mfor\u001b[39;00m tercia_comidas2 \u001b[38;5;129;01min\u001b[39;00m lista_listas_comidas]\n",
      "\u001b[1;31mNameError\u001b[0m: name 'tercia_comidas2' is not defined"
     ]
    }
   ],
   "source": [
    "lista_plana_comprenh = [comida for comida in tercia_comidas2 for tercia_comidas2 in lista_listas_comidas]"
   ]
  },
  {
   "cell_type": "code",
   "execution_count": 79,
   "id": "82eff7b5-6d93-4df1-ac58-c448e2b14683",
   "metadata": {},
   "outputs": [
    {
     "name": "stdout",
     "output_type": "stream",
     "text": [
      "['sopa', 'pozole', 'pollo', 'ensalada', 'rajas', 'chorizo', 'tamales', 'pozole', 'pambazos', 'arrachera', 'strudel', 'sopes', 'quesadilla', 'torta', 'pizza', 'Barbacoa', 'chilaquiles', 'consomé', 'sopa', 'arroz', 'tostadas', 'arepa', 'sushi', 'falafel', 'pasta', 'arroz', 'flan']\n"
     ]
    }
   ],
   "source": [
    "lista_plana_comprenh = [comida for tercia_comidas2 in lista_listas_comidas for comida in tercia_comidas2]\n",
    "print(lista_plana_comprenh)"
   ]
  },
  {
   "cell_type": "code",
   "execution_count": 85,
   "id": "8cbe0c3c-e809-4e40-8fc8-c4c7b763b8e5",
   "metadata": {},
   "outputs": [
    {
     "name": "stdout",
     "output_type": "stream",
     "text": [
      "pizza\n",
      "1\n",
      "sushi\n",
      "1\n",
      "ensalada\n",
      "1\n",
      "pollo\n",
      "1\n",
      "pasta\n",
      "1\n",
      "arroz\n",
      "2\n",
      "chorizo\n",
      "1\n",
      "tamales\n",
      "1\n",
      "Barbacoa\n",
      "1\n",
      "quesadilla\n",
      "1\n",
      "sopes\n",
      "1\n",
      "strudel\n",
      "1\n",
      "arepa\n",
      "1\n",
      "consomé\n",
      "1\n",
      "chilaquiles\n",
      "1\n",
      "falafel\n",
      "1\n",
      "pambazos\n",
      "1\n",
      "pozole\n",
      "2\n",
      "flan\n",
      "1\n",
      "tostadas\n",
      "1\n",
      "sopa\n",
      "2\n",
      "torta\n",
      "1\n",
      "rajas\n",
      "1\n",
      "arrachera\n",
      "1\n"
     ]
    }
   ],
   "source": [
    "for comida in set(lista_plana_comprenh):\n",
    "    print(comida)\n",
    "    print(lista_plana_comprenh.count(comida))"
   ]
  },
  {
   "cell_type": "code",
   "execution_count": 86,
   "id": "01d59751-243a-4f46-83f3-662322ff55bf",
   "metadata": {},
   "outputs": [
    {
     "data": {
      "text/plain": [
       "{'pizza': 1,\n",
       " 'sushi': 1,\n",
       " 'ensalada': 1,\n",
       " 'pollo': 1,\n",
       " 'pasta': 1,\n",
       " 'arroz': 2,\n",
       " 'chorizo': 1,\n",
       " 'tamales': 1,\n",
       " 'Barbacoa': 1,\n",
       " 'quesadilla': 1,\n",
       " 'sopes': 1,\n",
       " 'strudel': 1,\n",
       " 'arepa': 1,\n",
       " 'consomé': 1,\n",
       " 'chilaquiles': 1,\n",
       " 'falafel': 1,\n",
       " 'pambazos': 1,\n",
       " 'pozole': 2,\n",
       " 'flan': 1,\n",
       " 'tostadas': 1,\n",
       " 'sopa': 2,\n",
       " 'torta': 1,\n",
       " 'rajas': 1,\n",
       " 'arrachera': 1}"
      ]
     },
     "execution_count": 86,
     "metadata": {},
     "output_type": "execute_result"
    }
   ],
   "source": [
    "conteos_comidas = {comida:lista_plana_comprenh.count(comida) for comida in set(lista_plana_comprenh)}\n",
    "conteos_comidas"
   ]
  },
  {
   "cell_type": "code",
   "execution_count": 89,
   "id": "7da8b230-393a-468e-b04c-2c7c4b93902a",
   "metadata": {},
   "outputs": [
    {
     "data": {
      "text/plain": [
       "[[['sopa', 'pozole', 'pollo']],\n",
       " [['ensalada', 'rajas', 'chorizo']],\n",
       " [['tamales', 'pozole', 'pambazos']],\n",
       " [['arrachera', 'strudel', 'sopes']],\n",
       " [['quesadilla', 'torta', 'pizza']],\n",
       " [['Barbacoa', 'chilaquiles', 'consomé']],\n",
       " [['sopa', 'arroz', 'tostadas']],\n",
       " [['arepa', 'sushi', 'falafel']],\n",
       " [['pasta', 'arroz', 'flan']]]"
      ]
     },
     "execution_count": 89,
     "metadata": {},
     "output_type": "execute_result"
    }
   ],
   "source": [
    "super_lista_listas_comidas = [[tercia_comidas] for tercia_comidas in lista_listas_comidas]\n",
    "super_lista_listas_comidas"
   ]
  },
  {
   "cell_type": "code",
   "execution_count": 94,
   "id": "38b89756-2514-44de-9156-febbf69a3af1",
   "metadata": {},
   "outputs": [
    {
     "name": "stdout",
     "output_type": "stream",
     "text": [
      "[['sopa', 'pozole', 'pollo']]\n",
      "['sopa', 'pozole', 'pollo']\n",
      "sopa\n",
      "pozole\n",
      "pollo\n",
      "--------------------------------------------------\n",
      "[['ensalada', 'rajas', 'chorizo']]\n",
      "['ensalada', 'rajas', 'chorizo']\n",
      "ensalada\n",
      "rajas\n",
      "chorizo\n",
      "--------------------------------------------------\n",
      "[['tamales', 'pozole', 'pambazos']]\n",
      "['tamales', 'pozole', 'pambazos']\n",
      "tamales\n",
      "pozole\n",
      "pambazos\n",
      "--------------------------------------------------\n",
      "[['arrachera', 'strudel', 'sopes']]\n",
      "['arrachera', 'strudel', 'sopes']\n",
      "arrachera\n",
      "strudel\n",
      "sopes\n",
      "--------------------------------------------------\n",
      "[['quesadilla', 'torta', 'pizza']]\n",
      "['quesadilla', 'torta', 'pizza']\n",
      "quesadilla\n",
      "torta\n",
      "pizza\n",
      "--------------------------------------------------\n",
      "[['Barbacoa', 'chilaquiles', 'consomé']]\n",
      "['Barbacoa', 'chilaquiles', 'consomé']\n",
      "Barbacoa\n",
      "chilaquiles\n",
      "consomé\n",
      "--------------------------------------------------\n",
      "[['sopa', 'arroz', 'tostadas']]\n",
      "['sopa', 'arroz', 'tostadas']\n",
      "sopa\n",
      "arroz\n",
      "tostadas\n",
      "--------------------------------------------------\n",
      "[['arepa', 'sushi', 'falafel']]\n",
      "['arepa', 'sushi', 'falafel']\n",
      "arepa\n",
      "sushi\n",
      "falafel\n",
      "--------------------------------------------------\n",
      "[['pasta', 'arroz', 'flan']]\n",
      "['pasta', 'arroz', 'flan']\n",
      "pasta\n",
      "arroz\n",
      "flan\n",
      "--------------------------------------------------\n"
     ]
    }
   ],
   "source": [
    "flat_comidas = []\n",
    "for lista_listas_comidas in super_lista_listas_comidas:\n",
    "    print(lista_listas_comidas)\n",
    "    for tercia_comidas in lista_listas_comidas:\n",
    "        print(tercia_comidas)\n",
    "        for comida in tercia_comidas:\n",
    "            print(comida)\n",
    "    print('-'*50)"
   ]
  },
  {
   "cell_type": "code",
   "execution_count": 96,
   "id": "edb0e02b-a9e1-40ff-9cc1-793b7b29fa6d",
   "metadata": {},
   "outputs": [
    {
     "name": "stdout",
     "output_type": "stream",
     "text": [
      "['sopa', 'pozole', 'pollo', 'ensalada', 'rajas', 'chorizo', 'tamales', 'pozole', 'pambazos', 'arrachera', 'strudel', 'sopes', 'quesadilla', 'torta', 'pizza', 'Barbacoa', 'chilaquiles', 'consomé', 'sopa', 'arroz', 'tostadas', 'arepa', 'sushi', 'falafel', 'pasta', 'arroz', 'flan']\n"
     ]
    }
   ],
   "source": [
    "flat_comidas_comprenh = [comida for lista_listas_comidas in super_lista_listas_comidas\n",
    "                        for tercia_comidas in lista_listas_comidas for comida in tercia_comidas]\n",
    "print(flat_comidas_comprenh)"
   ]
  },
  {
   "cell_type": "code",
   "execution_count": 97,
   "id": "bca59a4e-0cea-4f6f-98f2-8ca46bee08f7",
   "metadata": {},
   "outputs": [
    {
     "name": "stdout",
     "output_type": "stream",
     "text": [
      "['SOPAjaja', 'POZOLEjaja', 'POLLOjaja', 'ENSALADAjaja', 'RAJASjaja', 'CHORIZOjaja', 'TAMALESjaja', 'POZOLEjaja', 'PAMBAZOSjaja', 'ARRACHERAjaja', 'STRUDELjaja', 'SOPESjaja', 'QUESADILLAjaja', 'TORTAjaja', 'PIZZAjaja', 'BARBACOAjaja', 'CHILAQUILESjaja', 'CONSOMÉjaja', 'SOPAjaja', 'ARROZjaja', 'TOSTADASjaja', 'AREPAjaja', 'SUSHIjaja', 'FALAFELjaja', 'PASTAjaja', 'ARROZjaja', 'FLANjaja']\n"
     ]
    }
   ],
   "source": [
    "flat_comidas_comprenh = [comida.upper()+'jaja' for lista_listas_comidas in super_lista_listas_comidas\n",
    "                        for tercia_comidas in lista_listas_comidas for comida in tercia_comidas]\n",
    "print(flat_comidas_comprenh)"
   ]
  },
  {
   "cell_type": "code",
   "execution_count": 103,
   "id": "ef5d6542-1c22-4410-9957-9f4b0dbe5c90",
   "metadata": {},
   "outputs": [
    {
     "name": "stdout",
     "output_type": "stream",
     "text": [
      "0 yogurt\n",
      "1 fruta\n",
      "2 pan\n",
      "3 tortillas\n",
      "4 cafe\n",
      "5 huevo\n",
      "6 atun\n",
      "7 queso\n",
      "8 maruchan\n"
     ]
    }
   ],
   "source": [
    "for i, producto in enumerate(mandado):\n",
    "    print(i, producto)"
   ]
  },
  {
   "cell_type": "code",
   "execution_count": 105,
   "id": "b5726f91-308b-4972-a29c-97e0dd65305b",
   "metadata": {},
   "outputs": [
    {
     "data": {
      "text/plain": [
       "[[['sopa', 'pozole', 'pollo']],\n",
       " [['ensalada', 'rajas', 'chorizo']],\n",
       " [['tamales', 'pozole', 'pambazos']],\n",
       " [['arrachera', 'strudel', 'sopes']],\n",
       " [['quesadilla', 'torta', 'pizza']],\n",
       " [['Barbacoa', 'chilaquiles', 'consomé']],\n",
       " [['sopa', 'arroz', 'tostadas']],\n",
       " [['arepa', 'sushi', 'falafel']],\n",
       " [['pasta', 'arroz', 'flan']]]"
      ]
     },
     "execution_count": 105,
     "metadata": {},
     "output_type": "execute_result"
    }
   ],
   "source": [
    "super_lista_listas_comidas"
   ]
  },
  {
   "cell_type": "code",
   "execution_count": 104,
   "id": "e0a407c2-e960-464b-b1c8-b711c0a6af75",
   "metadata": {},
   "outputs": [
    {
     "name": "stdout",
     "output_type": "stream",
     "text": [
      "[('sopa', 0), ('pozole', 0), ('pollo', 0), ('ensalada', 1), ('rajas', 1), ('chorizo', 1), ('tamales', 2), ('pozole', 2), ('pambazos', 2), ('arrachera', 3), ('strudel', 3), ('sopes', 3), ('quesadilla', 4), ('torta', 4), ('pizza', 4), ('Barbacoa', 5), ('chilaquiles', 5), ('consomé', 5), ('sopa', 6), ('arroz', 6), ('tostadas', 6), ('arepa', 7), ('sushi', 7), ('falafel', 7), ('pasta', 8), ('arroz', 8), ('flan', 8)]\n"
     ]
    }
   ],
   "source": [
    "flat_comidas_comprenh = [(comida, conteo_grande) for conteo_grande, lista_listas_comidas in enumerate(super_lista_listas_comidas)\n",
    "                        for tercia_comidas in lista_listas_comidas for comida in tercia_comidas]\n",
    "print(flat_comidas_comprenh)"
   ]
  },
  {
   "cell_type": "code",
   "execution_count": 106,
   "id": "6fb2c291-6579-4af0-87b2-072dceac5504",
   "metadata": {},
   "outputs": [
    {
     "name": "stdout",
     "output_type": "stream",
     "text": [
      "['sopa conteo 0', 'pozole conteo 0', 'pollo conteo 0', 'ensalada conteo 1', 'rajas conteo 1', 'chorizo conteo 1', 'tamales conteo 2', 'pozole conteo 2', 'pambazos conteo 2', 'arrachera conteo 3', 'strudel conteo 3', 'sopes conteo 3', 'quesadilla conteo 4', 'torta conteo 4', 'pizza conteo 4', 'Barbacoa conteo 5', 'chilaquiles conteo 5', 'consomé conteo 5', 'sopa conteo 6', 'arroz conteo 6', 'tostadas conteo 6', 'arepa conteo 7', 'sushi conteo 7', 'falafel conteo 7', 'pasta conteo 8', 'arroz conteo 8', 'flan conteo 8']\n"
     ]
    }
   ],
   "source": [
    "flat_comidas_comprenh = [f'{comida} conteo {conteo_grande}' for conteo_grande, lista_listas_comidas in enumerate(super_lista_listas_comidas)\n",
    "                        for tercia_comidas in lista_listas_comidas for comida in tercia_comidas]\n",
    "print(flat_comidas_comprenh)"
   ]
  },
  {
   "cell_type": "code",
   "execution_count": 107,
   "id": "bbc36c17-1af6-4cf8-a2ed-3bf59db1f4ed",
   "metadata": {},
   "outputs": [],
   "source": [
    "import random"
   ]
  },
  {
   "cell_type": "code",
   "execution_count": 117,
   "id": "e77ba719-09cf-4c5d-955b-c34560f8750d",
   "metadata": {},
   "outputs": [],
   "source": [
    "gandalf = [random.randint(0, 10) for _ in range(10)]\n",
    "saruman = [random.randint(0, 10) for _ in range(10)]"
   ]
  },
  {
   "cell_type": "code",
   "execution_count": 124,
   "id": "527b0524-190f-4146-aa9c-3f3be79a506c",
   "metadata": {},
   "outputs": [
    {
     "data": {
      "text/plain": [
       "['Saruman',\n",
       " 'Gandalf',\n",
       " 'Gandalf',\n",
       " 'Gandalf',\n",
       " 'Empate',\n",
       " 'Saruman',\n",
       " 'Saruman',\n",
       " 'Gandalf',\n",
       " 'Saruman',\n",
       " 'Saruman']"
      ]
     },
     "execution_count": 124,
     "metadata": {},
     "output_type": "execute_result"
    }
   ],
   "source": [
    "ganadores = ['Gandalf' if ga > sa else 'Saruman' if sa > ga else 'Empate' for ga, sa in zip(gandalf, saruman)]\n",
    "ganadores"
   ]
  },
  {
   "cell_type": "code",
   "execution_count": 127,
   "id": "86dd748f-4ba7-4893-a9e5-a42949bae6ea",
   "metadata": {},
   "outputs": [
    {
     "data": {
      "text/plain": [
       "{'Saruman0': 4,\n",
       " 'Gandalf1': 4,\n",
       " 'Gandalf2': 4,\n",
       " 'Gandalf3': 8,\n",
       " 'Empate4': 10,\n",
       " 'Saruman5': 8,\n",
       " 'Saruman6': 2,\n",
       " 'Gandalf7': 8,\n",
       " 'Saruman8': 7,\n",
       " 'Saruman9': 4}"
      ]
     },
     "execution_count": 127,
     "metadata": {},
     "output_type": "execute_result"
    }
   ],
   "source": [
    "ganadores_dict = {f'Gandalf{conteo}' if ga > sa else f'Saruman{conteo}' if sa > ga else f'Empate{conteo}':\n",
    "                  ga if ga > sa else  sa for conteo, (ga, sa) in enumerate(zip(gandalf, saruman))}\n",
    "ganadores_dict"
   ]
  },
  {
   "cell_type": "markdown",
   "id": "076e91a7-011d-4412-bc30-da5b49da4b22",
   "metadata": {},
   "source": [
    "### Dudas Labs"
   ]
  },
  {
   "cell_type": "code",
   "execution_count": 128,
   "id": "450217f5-884c-40b2-8893-79f0acc10fd9",
   "metadata": {},
   "outputs": [],
   "source": [
    "word_freq = {'love': 25, 'conversation': 1, 'every': 6, \"we're\": 1, 'plate': 1, 'sour': 1, 'jukebox': 1, 'now': 11, 'taxi': 1, 'fast': 1, 'bag': 1, 'man': 1, 'push': 3, 'baby': 14, 'going': 1, 'you': 16, \"don't\": 2, 'one': 1, 'mind': 2, 'backseat': 1, 'friends': 1, 'then': 3, 'know': 2, 'take': 1, 'play': 1, 'okay': 1, 'so': 2, 'begin': 1, 'start': 2, 'over': 1, 'body': 17, 'boy': 2, 'just': 1, 'we': 7, 'are': 1, 'girl': 2, 'tell': 1, 'singing': 2, 'drinking': 1, 'put': 3, 'our': 1, 'where': 1, \"i'll\": 1, 'all': 1, \"isn't\": 1, 'make': 1, 'lover': 1, 'get': 1, 'radio': 1, 'give': 1, \"i'm\": 23, 'like': 10, 'can': 1, 'doing': 2, 'with': 22, 'club': 1, 'come': 37, 'it': 1, 'somebody': 2, 'handmade': 2, 'out': 1, 'new': 6, 'room': 3, 'chance': 1, 'follow': 6, 'in': 27, 'may': 2, 'brand': 6, 'that': 2, 'magnet': 3, 'up': 3, 'first': 1, 'and': 23, 'pull': 3, 'of': 6, 'table': 1, 'much': 2, 'last': 3, 'i': 6, 'thrifty': 1, 'grab': 2, 'was': 2, 'driver': 1, 'slow': 1, 'dance': 1, 'the': 18, 'say': 2, 'trust': 1, 'family': 1, 'week': 1, 'date': 1, 'me': 10, 'do': 3, 'waist': 2, 'smell': 3, 'day': 6, 'although': 3, 'your': 21, 'leave': 1, 'want': 2, \"let's\": 2, 'lead': 6, 'at': 1, 'hand': 1, 'how': 1, 'talk': 4, 'not': 2, 'eat': 1, 'falling': 3, 'about': 1, 'story': 1, 'sweet': 1, 'best': 1, 'crazy': 2, 'let': 1, 'too': 5, 'van': 1, 'shots': 1, 'go': 2, 'to': 2, 'a': 8, 'my': 33, 'is': 5, 'place': 1, 'find': 1, 'shape': 6, 'on': 40, 'kiss': 1, 'were': 3, 'night': 3, 'heart': 3, 'for': 3, 'discovering': 6, 'something': 6, 'be': 16, 'bedsheets': 3, 'fill': 2, 'hours': 2, 'stop': 1, 'bar': 1}"
   ]
  },
  {
   "cell_type": "code",
   "execution_count": 131,
   "id": "40e748e4-7a37-4a1d-8efd-a337ce5344e3",
   "metadata": {},
   "outputs": [
    {
     "data": {
      "text/plain": [
       "['a',\n",
       " 'about',\n",
       " 'all',\n",
       " 'although',\n",
       " 'and',\n",
       " 'are',\n",
       " 'at',\n",
       " 'baby',\n",
       " 'backseat',\n",
       " 'bag']"
      ]
     },
     "execution_count": 131,
     "metadata": {},
     "output_type": "execute_result"
    }
   ],
   "source": [
    "lista = sorted(word_freq.keys())\n",
    "lista[:10]"
   ]
  },
  {
   "cell_type": "code",
   "execution_count": 132,
   "id": "650877b8-c773-47b1-996a-449fcdf69190",
   "metadata": {},
   "outputs": [],
   "source": [
    "word_freq2 = {}"
   ]
  },
  {
   "cell_type": "code",
   "execution_count": 133,
   "id": "0ee1ba69-a678-488d-98b2-c55a1f9b676c",
   "metadata": {},
   "outputs": [],
   "source": [
    "for llave in lista:\n",
    "    word_freq2[llave] = word_freq.get(llave) # word_freq[llave]"
   ]
  },
  {
   "cell_type": "code",
   "execution_count": 135,
   "id": "a943f38e-5916-4ac1-bc60-e4df80c98fd6",
   "metadata": {},
   "outputs": [],
   "source": [
    "#word_freq2"
   ]
  },
  {
   "cell_type": "code",
   "execution_count": 151,
   "id": "2aba9baf-e761-40c8-a2f5-b56b292947bb",
   "metadata": {},
   "outputs": [],
   "source": [
    "import os\n",
    "import pandas as pd"
   ]
  },
  {
   "cell_type": "code",
   "execution_count": 152,
   "id": "61fb57aa-24c5-46bb-8299-a509971fd932",
   "metadata": {},
   "outputs": [
    {
     "data": {
      "text/plain": [
       "['data/ListComprehension.ipynb',\n",
       " 'data/ListSetTuplesDicts.ipynb',\n",
       " 'data/PoliteCoding.ipynb',\n",
       " 'data/StringOps.ipynb']"
      ]
     },
     "execution_count": 152,
     "metadata": {},
     "output_type": "execute_result"
    }
   ],
   "source": [
    "lista_rutas = [f'data/{file}' for file in os.listdir() if file.endswith('.ipynb')]\n",
    "lista_rutas"
   ]
  },
  {
   "cell_type": "code",
   "execution_count": 154,
   "id": "6c5c166a-e9d5-4eb6-82b3-b4dce6aac295",
   "metadata": {},
   "outputs": [],
   "source": [
    "#muchas_tablas_pandas = [pd.read_csv(ruta) for ruta in lista_rutas]\n",
    "#tabla_junta = pd.concat(muchas_tablas_pandas)"
   ]
  },
  {
   "cell_type": "code",
   "execution_count": null,
   "id": "9ea573e9-cd29-46b0-b0fd-31e3a4e55192",
   "metadata": {},
   "outputs": [],
   "source": []
  }
 ],
 "metadata": {
  "kernelspec": {
   "display_name": "Python 3 (ipykernel)",
   "language": "python",
   "name": "python3"
  },
  "language_info": {
   "codemirror_mode": {
    "name": "ipython",
    "version": 3
   },
   "file_extension": ".py",
   "mimetype": "text/x-python",
   "name": "python",
   "nbconvert_exporter": "python",
   "pygments_lexer": "ipython3",
   "version": "3.9.13"
  }
 },
 "nbformat": 4,
 "nbformat_minor": 5
}
