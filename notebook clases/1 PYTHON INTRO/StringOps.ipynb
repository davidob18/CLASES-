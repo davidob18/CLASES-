{
 "cells": [
  {
   "cell_type": "code",
   "execution_count": 2,
   "id": "87fd2ab9-09f3-4977-a27c-b404bc33094a",
   "metadata": {},
   "outputs": [
    {
     "data": {
      "text/plain": [
       "'hola'"
      ]
     },
     "execution_count": 2,
     "metadata": {},
     "output_type": "execute_result"
    }
   ],
   "source": [
    "\"hola\""
   ]
  },
  {
   "cell_type": "code",
   "execution_count": 3,
   "id": "8c14b3b8-806e-42a7-a6b2-d78416bc198f",
   "metadata": {},
   "outputs": [
    {
     "data": {
      "text/plain": [
       "'hola'"
      ]
     },
     "execution_count": 3,
     "metadata": {},
     "output_type": "execute_result"
    }
   ],
   "source": [
    "'hola'"
   ]
  },
  {
   "cell_type": "code",
   "execution_count": 5,
   "id": "f0c587bd-969e-44ad-8b62-09d427363744",
   "metadata": {},
   "outputs": [
    {
     "data": {
      "text/plain": [
       "'Y me dijo \"hola\"'"
      ]
     },
     "execution_count": 5,
     "metadata": {},
     "output_type": "execute_result"
    }
   ],
   "source": [
    "'Y me dijo \"hola\"'"
   ]
  },
  {
   "cell_type": "code",
   "execution_count": 6,
   "id": "0c080b13-74b5-4c3b-b5fb-468ada9a90b7",
   "metadata": {},
   "outputs": [
    {
     "data": {
      "text/plain": [
       "'Y me dijo \"hola\"'"
      ]
     },
     "execution_count": 6,
     "metadata": {},
     "output_type": "execute_result"
    }
   ],
   "source": [
    "\"Y me dijo \\\"hola\\\"\""
   ]
  },
  {
   "cell_type": "code",
   "execution_count": 7,
   "id": "4bc6eb53-1c61-4c4d-8c67-2236cb080551",
   "metadata": {},
   "outputs": [
    {
     "data": {
      "text/plain": [
       "'Aqui tengo tres comillas juntas\\ny si salto linea sigue siendo el string\\nja'"
      ]
     },
     "execution_count": 7,
     "metadata": {},
     "output_type": "execute_result"
    }
   ],
   "source": [
    "\"\"\"Aqui tengo tres comillas juntas\n",
    "y si salto linea sigue siendo el string\n",
    "ja\"\"\""
   ]
  },
  {
   "cell_type": "code",
   "execution_count": 8,
   "id": "fd7cb916-f5f8-4f0a-99fe-793257e464f6",
   "metadata": {},
   "outputs": [
    {
     "data": {
      "text/plain": [
       "'Aqui tengo tres comillas juntas\\ny si salto linea sigue siendo el string\\nja'"
      ]
     },
     "execution_count": 8,
     "metadata": {},
     "output_type": "execute_result"
    }
   ],
   "source": [
    "'Aqui tengo tres comillas juntas\\ny si salto linea sigue siendo el string\\nja'"
   ]
  },
  {
   "cell_type": "code",
   "execution_count": 10,
   "id": "d35d4fd7-f6f1-4ac2-8b14-e124674ceb95",
   "metadata": {},
   "outputs": [
    {
     "name": "stdout",
     "output_type": "stream",
     "text": [
      "Aqui tengo tres comillas juntas\n",
      "y si salto linea \tsigue siendo el string\n",
      "ja\n"
     ]
    }
   ],
   "source": [
    "print('Aqui tengo tres comillas juntas\\ny si salto linea \\tsigue siendo el string\\nja')"
   ]
  },
  {
   "cell_type": "code",
   "execution_count": 13,
   "id": "dcee958b-c4f5-48cb-b057-3a98babcad5a",
   "metadata": {},
   "outputs": [
    {
     "data": {
      "text/plain": [
       "3"
      ]
     },
     "execution_count": 13,
     "metadata": {},
     "output_type": "execute_result"
    }
   ],
   "source": [
    "'hola'\n",
    "3"
   ]
  },
  {
   "cell_type": "code",
   "execution_count": 14,
   "id": "c6fdac64-56ce-4c66-8185-bd1b5214ce1f",
   "metadata": {},
   "outputs": [
    {
     "name": "stdout",
     "output_type": "stream",
     "text": [
      "hola\n"
     ]
    },
    {
     "data": {
      "text/plain": [
       "3"
      ]
     },
     "execution_count": 14,
     "metadata": {},
     "output_type": "execute_result"
    }
   ],
   "source": [
    "print('hola')\n",
    "3"
   ]
  },
  {
   "cell_type": "code",
   "execution_count": 15,
   "id": "9e167706-44a8-4235-95d2-334e2452e7cc",
   "metadata": {},
   "outputs": [],
   "source": [
    "nombre = 'Lu,'\n",
    "texto = ' su platillo preferido es '\n",
    "comida = 'pad thai'"
   ]
  },
  {
   "cell_type": "code",
   "execution_count": 16,
   "id": "5a4d6075-8f6b-4059-b455-5c021fe03f39",
   "metadata": {},
   "outputs": [
    {
     "data": {
      "text/plain": [
       "'Lu, su platillo preferido es pad thai'"
      ]
     },
     "execution_count": 16,
     "metadata": {},
     "output_type": "execute_result"
    }
   ],
   "source": [
    "nombre + texto + comida"
   ]
  },
  {
   "cell_type": "code",
   "execution_count": 17,
   "id": "7c4c291a-5fe6-4f5d-9967-e2d8bde546ed",
   "metadata": {},
   "outputs": [
    {
     "ename": "TypeError",
     "evalue": "can only concatenate str (not \"int\") to str",
     "output_type": "error",
     "traceback": [
      "\u001b[1;31m---------------------------------------------------------------------------\u001b[0m",
      "\u001b[1;31mTypeError\u001b[0m                                 Traceback (most recent call last)",
      "Cell \u001b[1;32mIn [17], line 1\u001b[0m\n\u001b[1;32m----> 1\u001b[0m nombre \u001b[38;5;241m+\u001b[39m \u001b[38;5;241m9\u001b[39m\n",
      "\u001b[1;31mTypeError\u001b[0m: can only concatenate str (not \"int\") to str"
     ]
    }
   ],
   "source": [
    "nombre + 9"
   ]
  },
  {
   "cell_type": "code",
   "execution_count": 18,
   "id": "7040b7ba-085e-4d17-b1d0-c8ee0c3b91ee",
   "metadata": {},
   "outputs": [
    {
     "data": {
      "text/plain": [
       "'Lu,9'"
      ]
     },
     "execution_count": 18,
     "metadata": {},
     "output_type": "execute_result"
    }
   ],
   "source": [
    "nombre + str(9)"
   ]
  },
  {
   "cell_type": "code",
   "execution_count": 19,
   "id": "0e916506-953d-4bee-9637-8cb83fe8188d",
   "metadata": {},
   "outputs": [
    {
     "data": {
      "text/plain": [
       "'Lu,Lu,Lu,Lu,Lu,Lu,Lu,Lu,Lu,'"
      ]
     },
     "execution_count": 19,
     "metadata": {},
     "output_type": "execute_result"
    }
   ],
   "source": [
    "nombre * 9"
   ]
  },
  {
   "cell_type": "code",
   "execution_count": 20,
   "id": "9423aba4-5c7f-4d8a-b15c-7abe14d3d6b4",
   "metadata": {},
   "outputs": [
    {
     "ename": "TypeError",
     "evalue": "can't multiply sequence by non-int of type 'str'",
     "output_type": "error",
     "traceback": [
      "\u001b[1;31m---------------------------------------------------------------------------\u001b[0m",
      "\u001b[1;31mTypeError\u001b[0m                                 Traceback (most recent call last)",
      "Cell \u001b[1;32mIn [20], line 1\u001b[0m\n\u001b[1;32m----> 1\u001b[0m nombre \u001b[38;5;241m*\u001b[39m texto\n",
      "\u001b[1;31mTypeError\u001b[0m: can't multiply sequence by non-int of type 'str'"
     ]
    }
   ],
   "source": [
    "nombre * texto"
   ]
  },
  {
   "cell_type": "code",
   "execution_count": 21,
   "id": "3550384e-f50a-4dd2-a2b8-fe5dc916a1cb",
   "metadata": {},
   "outputs": [
    {
     "name": "stdout",
     "output_type": "stream",
     "text": [
      "----------------------------------------------------------------------------------------------------\n"
     ]
    }
   ],
   "source": [
    "print('-'*100)"
   ]
  },
  {
   "cell_type": "code",
   "execution_count": 22,
   "id": "e06adc3d-86cf-4ffe-b092-cc0a85820aae",
   "metadata": {},
   "outputs": [
    {
     "data": {
      "text/plain": [
       "32"
      ]
     },
     "execution_count": 22,
     "metadata": {},
     "output_type": "execute_result"
    }
   ],
   "source": [
    "int('32')"
   ]
  },
  {
   "cell_type": "code",
   "execution_count": 32,
   "id": "8c6b7888-6439-460e-b665-90fc80c9b616",
   "metadata": {},
   "outputs": [
    {
     "ename": "ValueError",
     "evalue": "invalid literal for int() with base 10: '32.7'",
     "output_type": "error",
     "traceback": [
      "\u001b[1;31m---------------------------------------------------------------------------\u001b[0m",
      "\u001b[1;31mValueError\u001b[0m                                Traceback (most recent call last)",
      "Cell \u001b[1;32mIn [32], line 1\u001b[0m\n\u001b[1;32m----> 1\u001b[0m \u001b[38;5;28mint\u001b[39m(\u001b[38;5;124m'\u001b[39m\u001b[38;5;124m32.7\u001b[39m\u001b[38;5;124m'\u001b[39m)\n",
      "\u001b[1;31mValueError\u001b[0m: invalid literal for int() with base 10: '32.7'"
     ]
    }
   ],
   "source": [
    "int('32.7')"
   ]
  },
  {
   "cell_type": "code",
   "execution_count": 31,
   "id": "7498cdb3-1fbb-4587-b0d6-fa5de796043c",
   "metadata": {},
   "outputs": [
    {
     "data": {
      "text/plain": [
       "32.7"
      ]
     },
     "execution_count": 31,
     "metadata": {},
     "output_type": "execute_result"
    }
   ],
   "source": [
    "float('32.7')"
   ]
  },
  {
   "cell_type": "code",
   "execution_count": 30,
   "id": "e399fd1b-abdd-4108-9d89-f723ca50bd49",
   "metadata": {},
   "outputs": [
    {
     "data": {
      "text/plain": [
       "32"
      ]
     },
     "execution_count": 30,
     "metadata": {},
     "output_type": "execute_result"
    }
   ],
   "source": [
    "int(float('32.7'))"
   ]
  },
  {
   "cell_type": "code",
   "execution_count": 34,
   "id": "b6aa5fc5-4b86-40bf-a816-25fe68b1334c",
   "metadata": {},
   "outputs": [
    {
     "data": {
      "text/plain": [
       "32.74"
      ]
     },
     "execution_count": 34,
     "metadata": {},
     "output_type": "execute_result"
    }
   ],
   "source": [
    "round(float('32.7432'), 2)"
   ]
  },
  {
   "cell_type": "code",
   "execution_count": 38,
   "id": "0d967a09-6b93-443f-a3e4-4da9c93edb99",
   "metadata": {},
   "outputs": [
    {
     "data": {
      "text/plain": [
       "True"
      ]
     },
     "execution_count": 38,
     "metadata": {},
     "output_type": "execute_result"
    }
   ],
   "source": [
    "8 > 3"
   ]
  },
  {
   "cell_type": "code",
   "execution_count": 37,
   "id": "83d11b9e-51ad-490e-a623-cc0b4f627abf",
   "metadata": {},
   "outputs": [
    {
     "name": "stdout",
     "output_type": "stream",
     "text": [
      "Es cierto\n"
     ]
    }
   ],
   "source": [
    "if 8 > 3:\n",
    "    print('Es cierto')"
   ]
  },
  {
   "cell_type": "code",
   "execution_count": 39,
   "id": "6c756a40-5bdc-4659-b693-2022e99408fe",
   "metadata": {},
   "outputs": [
    {
     "name": "stdout",
     "output_type": "stream",
     "text": [
      "Pasa algo\n"
     ]
    }
   ],
   "source": [
    "if 8/2:\n",
    "    print('Pasa algo')"
   ]
  },
  {
   "cell_type": "code",
   "execution_count": 40,
   "id": "adcf1a94-b0d3-4533-b79a-b0336eb6b67d",
   "metadata": {},
   "outputs": [
    {
     "data": {
      "text/plain": [
       "4.0"
      ]
     },
     "execution_count": 40,
     "metadata": {},
     "output_type": "execute_result"
    }
   ],
   "source": [
    "8/2"
   ]
  },
  {
   "cell_type": "code",
   "execution_count": 41,
   "id": "da0f6e28-f9d5-410e-ad64-0695a9fae6d0",
   "metadata": {},
   "outputs": [
    {
     "data": {
      "text/plain": [
       "True"
      ]
     },
     "execution_count": 41,
     "metadata": {},
     "output_type": "execute_result"
    }
   ],
   "source": [
    "bool(4.0)"
   ]
  },
  {
   "cell_type": "code",
   "execution_count": 42,
   "id": "6eea0167-80dd-41ce-86eb-77b3e898b623",
   "metadata": {},
   "outputs": [
    {
     "data": {
      "text/plain": [
       "True"
      ]
     },
     "execution_count": 42,
     "metadata": {},
     "output_type": "execute_result"
    }
   ],
   "source": [
    "bool(4)"
   ]
  },
  {
   "cell_type": "code",
   "execution_count": 43,
   "id": "bf6f2189-10c0-42d9-ba26-6a5d65a5abf4",
   "metadata": {},
   "outputs": [
    {
     "data": {
      "text/plain": [
       "True"
      ]
     },
     "execution_count": 43,
     "metadata": {},
     "output_type": "execute_result"
    }
   ],
   "source": [
    "bool(4.43)"
   ]
  },
  {
   "cell_type": "code",
   "execution_count": 44,
   "id": "69cb3aa9-4a15-4fe9-8598-781d2d395f8b",
   "metadata": {},
   "outputs": [
    {
     "data": {
      "text/plain": [
       "True"
      ]
     },
     "execution_count": 44,
     "metadata": {},
     "output_type": "execute_result"
    }
   ],
   "source": [
    "bool(5)"
   ]
  },
  {
   "cell_type": "code",
   "execution_count": 45,
   "id": "2f0902c7-0123-4a5b-883d-526f38d96213",
   "metadata": {},
   "outputs": [
    {
     "data": {
      "text/plain": [
       "False"
      ]
     },
     "execution_count": 45,
     "metadata": {},
     "output_type": "execute_result"
    }
   ],
   "source": [
    "bool(0)"
   ]
  },
  {
   "cell_type": "code",
   "execution_count": 46,
   "id": "128868a1-634a-4e42-9749-d7f2bad802e4",
   "metadata": {},
   "outputs": [
    {
     "data": {
      "text/plain": [
       "0"
      ]
     },
     "execution_count": 46,
     "metadata": {},
     "output_type": "execute_result"
    }
   ],
   "source": [
    "4%2"
   ]
  },
  {
   "cell_type": "code",
   "execution_count": 48,
   "id": "0191fc23-f3f4-4981-a0e8-217a6ef1b8e3",
   "metadata": {},
   "outputs": [],
   "source": [
    "numero = 6\n",
    "if numero % 2:\n",
    "    print('Impar')"
   ]
  },
  {
   "cell_type": "code",
   "execution_count": 49,
   "id": "6a3192ad-b42f-4dab-a7f7-95187afd3aeb",
   "metadata": {},
   "outputs": [
    {
     "data": {
      "text/plain": [
       "0"
      ]
     },
     "execution_count": 49,
     "metadata": {},
     "output_type": "execute_result"
    }
   ],
   "source": [
    "int()"
   ]
  },
  {
   "cell_type": "code",
   "execution_count": 50,
   "id": "b4d70357-cc46-4b88-9b83-9b04d0e59f2a",
   "metadata": {},
   "outputs": [
    {
     "data": {
      "text/plain": [
       "0.0"
      ]
     },
     "execution_count": 50,
     "metadata": {},
     "output_type": "execute_result"
    }
   ],
   "source": [
    "float()"
   ]
  },
  {
   "cell_type": "code",
   "execution_count": 51,
   "id": "c9ac6f15-6bff-4cf5-85ef-2789a3688240",
   "metadata": {},
   "outputs": [
    {
     "data": {
      "text/plain": [
       "''"
      ]
     },
     "execution_count": 51,
     "metadata": {},
     "output_type": "execute_result"
    }
   ],
   "source": [
    "str()"
   ]
  },
  {
   "cell_type": "code",
   "execution_count": 52,
   "id": "76870117-300e-40c9-bb2a-c4ab1478935f",
   "metadata": {},
   "outputs": [
    {
     "data": {
      "text/plain": [
       "[]"
      ]
     },
     "execution_count": 52,
     "metadata": {},
     "output_type": "execute_result"
    }
   ],
   "source": [
    "list()"
   ]
  },
  {
   "cell_type": "code",
   "execution_count": 53,
   "id": "27eb3b19-9894-4471-8ba1-91ab78c883ee",
   "metadata": {},
   "outputs": [
    {
     "data": {
      "text/plain": [
       "set()"
      ]
     },
     "execution_count": 53,
     "metadata": {},
     "output_type": "execute_result"
    }
   ],
   "source": [
    "set()"
   ]
  },
  {
   "cell_type": "code",
   "execution_count": 54,
   "id": "56a437cb-9fcd-4128-96a8-7ebf9b30f2e7",
   "metadata": {},
   "outputs": [
    {
     "data": {
      "text/plain": [
       "{}"
      ]
     },
     "execution_count": 54,
     "metadata": {},
     "output_type": "execute_result"
    }
   ],
   "source": [
    "dict()"
   ]
  },
  {
   "cell_type": "code",
   "execution_count": 57,
   "id": "b28ed3c4-dcd1-40a8-ad49-1a0ef1f096ff",
   "metadata": {},
   "outputs": [
    {
     "data": {
      "text/plain": [
       "False"
      ]
     },
     "execution_count": 57,
     "metadata": {},
     "output_type": "execute_result"
    }
   ],
   "source": [
    "bool(str())"
   ]
  },
  {
   "cell_type": "code",
   "execution_count": 58,
   "id": "620de3a7-e9df-4091-902f-00321a49492c",
   "metadata": {},
   "outputs": [],
   "source": [
    "# Esto es un comentario"
   ]
  },
  {
   "cell_type": "code",
   "execution_count": 59,
   "id": "fa92f5eb-595a-48b5-936e-8bc58909d94c",
   "metadata": {},
   "outputs": [
    {
     "data": {
      "text/plain": [
       "'Esto como tal no es un comentario\\nPero a veces se usa por simplicidad'"
      ]
     },
     "execution_count": 59,
     "metadata": {},
     "output_type": "execute_result"
    }
   ],
   "source": [
    "\"\"\"Esto como tal no es un comentario\n",
    "Pero a veces se usa por simplicidad\"\"\""
   ]
  },
  {
   "cell_type": "code",
   "execution_count": 60,
   "id": "366b3b74-8e71-4a26-81cf-38cdf0eeb865",
   "metadata": {},
   "outputs": [],
   "source": [
    "# Primer linea\n",
    "# segunda linea"
   ]
  },
  {
   "cell_type": "code",
   "execution_count": 61,
   "id": "ae7b3516-0edc-4f99-a584-e100fe1aa93f",
   "metadata": {},
   "outputs": [],
   "source": [
    "def saludo():\n",
    "    # Esta funcion saluda\n",
    "    # jaja\n",
    "    print('hola')"
   ]
  },
  {
   "cell_type": "code",
   "execution_count": 67,
   "id": "c3836518-aa62-4cc5-86a6-a15317a3888b",
   "metadata": {},
   "outputs": [],
   "source": [
    "def saludo2():\n",
    "    '''Esta funcion saluda\n",
    "    jaja'''\n",
    "    print('hola')"
   ]
  },
  {
   "cell_type": "code",
   "execution_count": 64,
   "id": "5bc80847-f7cd-4e94-9179-8513ce78c3d3",
   "metadata": {},
   "outputs": [
    {
     "name": "stdout",
     "output_type": "stream",
     "text": [
      "Help on function saludo in module __main__:\n",
      "\n",
      "saludo()\n",
      "\n"
     ]
    }
   ],
   "source": [
    "help(saludo)"
   ]
  },
  {
   "cell_type": "code",
   "execution_count": 65,
   "id": "f005fec7-d507-43ec-823d-2cc7a2f27a0f",
   "metadata": {},
   "outputs": [
    {
     "name": "stdout",
     "output_type": "stream",
     "text": [
      "Help on function saludo2 in module __main__:\n",
      "\n",
      "saludo2()\n",
      "    Esta funcion saluda\n",
      "    jaja\n",
      "\n"
     ]
    }
   ],
   "source": [
    "help(saludo2)"
   ]
  },
  {
   "cell_type": "code",
   "execution_count": 68,
   "id": "3bd0958b-8c96-49a6-b182-61c57a96accd",
   "metadata": {},
   "outputs": [
    {
     "data": {
      "text/plain": [
       "' su platillo preferido es '"
      ]
     },
     "execution_count": 68,
     "metadata": {},
     "output_type": "execute_result"
    }
   ],
   "source": [
    "texto"
   ]
  },
  {
   "cell_type": "code",
   "execution_count": 69,
   "id": "ea977e46-eea1-4f2a-b6d1-a59fcb3d9393",
   "metadata": {},
   "outputs": [
    {
     "name": "stdout",
     "output_type": "stream",
     "text": [
      " \n",
      "s\n",
      "u\n",
      " \n",
      "p\n",
      "l\n",
      "a\n",
      "t\n",
      "i\n",
      "l\n",
      "l\n",
      "o\n",
      " \n",
      "p\n",
      "r\n",
      "e\n",
      "f\n",
      "e\n",
      "r\n",
      "i\n",
      "d\n",
      "o\n",
      " \n",
      "e\n",
      "s\n",
      " \n"
     ]
    }
   ],
   "source": [
    "for elemento in texto:\n",
    "    print(elemento)"
   ]
  },
  {
   "cell_type": "code",
   "execution_count": 71,
   "id": "52d5d3b5-516b-417f-a3c2-657c2532d7aa",
   "metadata": {},
   "outputs": [
    {
     "ename": "TypeError",
     "evalue": "'int' object is not iterable",
     "output_type": "error",
     "traceback": [
      "\u001b[1;31m---------------------------------------------------------------------------\u001b[0m",
      "\u001b[1;31mTypeError\u001b[0m                                 Traceback (most recent call last)",
      "Cell \u001b[1;32mIn [71], line 1\u001b[0m\n\u001b[1;32m----> 1\u001b[0m \u001b[38;5;28;01mfor\u001b[39;00m elemento \u001b[38;5;129;01min\u001b[39;00m \u001b[38;5;241m342432\u001b[39m:\n\u001b[0;32m      2\u001b[0m     \u001b[38;5;28mprint\u001b[39m(elemento)\n",
      "\u001b[1;31mTypeError\u001b[0m: 'int' object is not iterable"
     ]
    }
   ],
   "source": [
    "for elemento in 342432:\n",
    "    print(elemento)"
   ]
  },
  {
   "cell_type": "code",
   "execution_count": 74,
   "id": "ff9035ee-13a4-431e-9860-d3ea0289a86b",
   "metadata": {},
   "outputs": [
    {
     "data": {
      "text/plain": [
       "' su platillo preferido es '"
      ]
     },
     "execution_count": 74,
     "metadata": {},
     "output_type": "execute_result"
    }
   ],
   "source": [
    "texto"
   ]
  },
  {
   "cell_type": "code",
   "execution_count": 73,
   "id": "32208373-6f17-4560-8eca-d345eae091c3",
   "metadata": {},
   "outputs": [
    {
     "data": {
      "text/plain": [
       "' '"
      ]
     },
     "execution_count": 73,
     "metadata": {},
     "output_type": "execute_result"
    }
   ],
   "source": [
    "texto[0]"
   ]
  },
  {
   "cell_type": "code",
   "execution_count": 75,
   "id": "82fec542-5925-41f3-b4ef-dd90994b74a9",
   "metadata": {},
   "outputs": [
    {
     "data": {
      "text/plain": [
       "'s'"
      ]
     },
     "execution_count": 75,
     "metadata": {},
     "output_type": "execute_result"
    }
   ],
   "source": [
    "texto[1]"
   ]
  },
  {
   "cell_type": "code",
   "execution_count": 82,
   "id": "c06aebf3-2a63-4200-b2ca-8ab07996664a",
   "metadata": {},
   "outputs": [
    {
     "data": {
      "text/plain": [
       "'upa'"
      ]
     },
     "execution_count": 82,
     "metadata": {},
     "output_type": "execute_result"
    }
   ],
   "source": [
    "texto[2:8:2]"
   ]
  },
  {
   "cell_type": "code",
   "execution_count": 85,
   "id": "5c0feaaf-c68f-4a15-97a1-7fee77014a0b",
   "metadata": {},
   "outputs": [
    {
     "data": {
      "text/plain": [
       "'u plat'"
      ]
     },
     "execution_count": 85,
     "metadata": {},
     "output_type": "execute_result"
    }
   ],
   "source": [
    "# Va a empezar en texto[2]\n",
    "# va a terminar ANTES de texto[8]\n",
    "texto[2:8]"
   ]
  },
  {
   "cell_type": "code",
   "execution_count": 83,
   "id": "1413f257-3201-4ea9-88ee-165114cb079f",
   "metadata": {},
   "outputs": [
    {
     "data": {
      "text/plain": [
       "'i'"
      ]
     },
     "execution_count": 83,
     "metadata": {},
     "output_type": "execute_result"
    }
   ],
   "source": [
    "texto[8]"
   ]
  },
  {
   "cell_type": "code",
   "execution_count": 84,
   "id": "a915a278-99c3-488c-9761-63cc838f5fa5",
   "metadata": {},
   "outputs": [
    {
     "data": {
      "text/plain": [
       "'u'"
      ]
     },
     "execution_count": 84,
     "metadata": {},
     "output_type": "execute_result"
    }
   ],
   "source": [
    "texto[2]"
   ]
  },
  {
   "cell_type": "code",
   "execution_count": 89,
   "id": "46602a28-15cd-4f25-9c0c-5e05bd5adb61",
   "metadata": {},
   "outputs": [
    {
     "name": "stdout",
     "output_type": "stream",
     "text": [
      "0\n",
      "1\n",
      "2\n",
      "3\n",
      "4\n"
     ]
    }
   ],
   "source": [
    "for dsff in range(5):\n",
    "    print(dsff)"
   ]
  },
  {
   "cell_type": "code",
   "execution_count": 87,
   "id": "67d8d7b8-ce47-4d5e-8539-1c3f1c030b92",
   "metadata": {},
   "outputs": [],
   "source": [
    "i = 34"
   ]
  },
  {
   "cell_type": "code",
   "execution_count": 88,
   "id": "d0915e5d-6ba9-49cd-970e-73f976766b7a",
   "metadata": {},
   "outputs": [
    {
     "data": {
      "text/plain": [
       "34"
      ]
     },
     "execution_count": 88,
     "metadata": {},
     "output_type": "execute_result"
    }
   ],
   "source": [
    "i"
   ]
  },
  {
   "cell_type": "code",
   "execution_count": 90,
   "id": "74c651e9-2bb8-4c15-9c00-52f39c160fb8",
   "metadata": {},
   "outputs": [
    {
     "name": "stdout",
     "output_type": "stream",
     "text": [
      " \n",
      "s\n",
      "u\n",
      " \n",
      "p\n",
      "l\n",
      "a\n",
      "t\n",
      "i\n",
      "l\n",
      "l\n",
      "o\n",
      " \n",
      "p\n",
      "r\n",
      "e\n",
      "f\n",
      "e\n",
      "r\n",
      "i\n",
      "d\n",
      "o\n",
      " \n",
      "e\n",
      "s\n",
      " \n"
     ]
    }
   ],
   "source": [
    "for elemento in texto:\n",
    "    print(elemento)"
   ]
  },
  {
   "cell_type": "code",
   "execution_count": 91,
   "id": "f9d1d017-ca4e-41e8-801a-4656382c189c",
   "metadata": {},
   "outputs": [
    {
     "data": {
      "text/plain": [
       "' su platillo preferido es '"
      ]
     },
     "execution_count": 91,
     "metadata": {},
     "output_type": "execute_result"
    }
   ],
   "source": [
    "texto"
   ]
  },
  {
   "cell_type": "code",
   "execution_count": 94,
   "id": "6d5adfb8-04ae-4f7d-9cb2-b3e2fa2a3d93",
   "metadata": {},
   "outputs": [
    {
     "data": {
      "text/plain": [
       "'o'"
      ]
     },
     "execution_count": 94,
     "metadata": {},
     "output_type": "execute_result"
    }
   ],
   "source": [
    "texto[-5]"
   ]
  },
  {
   "cell_type": "code",
   "execution_count": 95,
   "id": "aca960bd-621b-4c23-baa6-6be2a3de002a",
   "metadata": {},
   "outputs": [
    {
     "data": {
      "text/plain": [
       "' se odireferp ollitalp us '"
      ]
     },
     "execution_count": 95,
     "metadata": {},
     "output_type": "execute_result"
    }
   ],
   "source": [
    "texto[::-1]"
   ]
  },
  {
   "cell_type": "code",
   "execution_count": 96,
   "id": "59238cbb-2d45-423e-a892-654a08e25013",
   "metadata": {},
   "outputs": [],
   "source": [
    "estudiante = 'Rene'\n",
    "comida = 'spaghetti'"
   ]
  },
  {
   "cell_type": "code",
   "execution_count": 98,
   "id": "5106a559-9c01-449f-9e02-be0b9879384b",
   "metadata": {},
   "outputs": [
    {
     "name": "stdout",
     "output_type": "stream",
     "text": [
      "Rene ama el spaghetti\n"
     ]
    }
   ],
   "source": [
    "print(estudiante, 'ama el', comida)"
   ]
  },
  {
   "cell_type": "code",
   "execution_count": 100,
   "id": "66d48367-3f5a-4bfb-ab58-73a4c95c7152",
   "metadata": {},
   "outputs": [
    {
     "name": "stdout",
     "output_type": "stream",
     "text": [
      "Reneama elspaghetti\n"
     ]
    }
   ],
   "source": [
    "frase = estudiante + 'ama el' + comida\n",
    "print(frase)"
   ]
  },
  {
   "cell_type": "code",
   "execution_count": 101,
   "id": "07f0b72d-0c2d-4dbb-a4f6-b3eeba29acb6",
   "metadata": {},
   "outputs": [
    {
     "name": "stdout",
     "output_type": "stream",
     "text": [
      "Rene ama el spaghetti\n"
     ]
    }
   ],
   "source": [
    "frase = '%s ama el %s' %(estudiante, comida)\n",
    "print(frase)"
   ]
  },
  {
   "cell_type": "code",
   "execution_count": 102,
   "id": "cdea4166-2b87-4a46-a332-0d0cc2c63781",
   "metadata": {},
   "outputs": [
    {
     "name": "stdout",
     "output_type": "stream",
     "text": [
      "Rene ama el spaghetti\n"
     ]
    }
   ],
   "source": [
    "frase = '{} ama el {}'.format(estudiante, comida)\n",
    "print(frase)"
   ]
  },
  {
   "cell_type": "code",
   "execution_count": 110,
   "id": "6fe3b67b-86bc-4a43-ac51-f9e05c63b64b",
   "metadata": {},
   "outputs": [
    {
     "name": "stdout",
     "output_type": "stream",
     "text": [
      "Rene ama el spaghetti\n"
     ]
    }
   ],
   "source": [
    "frase = '{nombre} ama el {comida}'.format(comida = comida, nombre = estudiante)\n",
    "print(frase)"
   ]
  },
  {
   "cell_type": "code",
   "execution_count": 106,
   "id": "8a22a5a3-0988-4abf-8878-97e9653582c6",
   "metadata": {},
   "outputs": [
    {
     "name": "stdout",
     "output_type": "stream",
     "text": [
      "Rene ama el spaghetti, a mi tambien me gusta el spaghetti\n"
     ]
    }
   ],
   "source": [
    "frase = f'{estudiante} ama el {comida}, a mi tambien me gusta el {comida}'\n",
    "print(frase)"
   ]
  },
  {
   "cell_type": "code",
   "execution_count": 111,
   "id": "2f60becb-d477-4719-a33a-cc3f2f8d7d50",
   "metadata": {},
   "outputs": [
    {
     "data": {
      "text/plain": [
       "'Lu,'"
      ]
     },
     "execution_count": 111,
     "metadata": {},
     "output_type": "execute_result"
    }
   ],
   "source": [
    "nombre"
   ]
  },
  {
   "cell_type": "code",
   "execution_count": 112,
   "id": "93919422-af2d-4e98-99e3-03488484f9d6",
   "metadata": {},
   "outputs": [
    {
     "name": "stdout",
     "output_type": "stream",
     "text": [
      "Help on class str in module builtins:\n",
      "\n",
      "class str(object)\n",
      " |  str(object='') -> str\n",
      " |  str(bytes_or_buffer[, encoding[, errors]]) -> str\n",
      " |  \n",
      " |  Create a new string object from the given object. If encoding or\n",
      " |  errors is specified, then the object must expose a data buffer\n",
      " |  that will be decoded using the given encoding and error handler.\n",
      " |  Otherwise, returns the result of object.__str__() (if defined)\n",
      " |  or repr(object).\n",
      " |  encoding defaults to sys.getdefaultencoding().\n",
      " |  errors defaults to 'strict'.\n",
      " |  \n",
      " |  Methods defined here:\n",
      " |  \n",
      " |  __add__(self, value, /)\n",
      " |      Return self+value.\n",
      " |  \n",
      " |  __contains__(self, key, /)\n",
      " |      Return key in self.\n",
      " |  \n",
      " |  __eq__(self, value, /)\n",
      " |      Return self==value.\n",
      " |  \n",
      " |  __format__(self, format_spec, /)\n",
      " |      Return a formatted version of the string as described by format_spec.\n",
      " |  \n",
      " |  __ge__(self, value, /)\n",
      " |      Return self>=value.\n",
      " |  \n",
      " |  __getattribute__(self, name, /)\n",
      " |      Return getattr(self, name).\n",
      " |  \n",
      " |  __getitem__(self, key, /)\n",
      " |      Return self[key].\n",
      " |  \n",
      " |  __getnewargs__(...)\n",
      " |  \n",
      " |  __gt__(self, value, /)\n",
      " |      Return self>value.\n",
      " |  \n",
      " |  __hash__(self, /)\n",
      " |      Return hash(self).\n",
      " |  \n",
      " |  __iter__(self, /)\n",
      " |      Implement iter(self).\n",
      " |  \n",
      " |  __le__(self, value, /)\n",
      " |      Return self<=value.\n",
      " |  \n",
      " |  __len__(self, /)\n",
      " |      Return len(self).\n",
      " |  \n",
      " |  __lt__(self, value, /)\n",
      " |      Return self<value.\n",
      " |  \n",
      " |  __mod__(self, value, /)\n",
      " |      Return self%value.\n",
      " |  \n",
      " |  __mul__(self, value, /)\n",
      " |      Return self*value.\n",
      " |  \n",
      " |  __ne__(self, value, /)\n",
      " |      Return self!=value.\n",
      " |  \n",
      " |  __repr__(self, /)\n",
      " |      Return repr(self).\n",
      " |  \n",
      " |  __rmod__(self, value, /)\n",
      " |      Return value%self.\n",
      " |  \n",
      " |  __rmul__(self, value, /)\n",
      " |      Return value*self.\n",
      " |  \n",
      " |  __sizeof__(self, /)\n",
      " |      Return the size of the string in memory, in bytes.\n",
      " |  \n",
      " |  __str__(self, /)\n",
      " |      Return str(self).\n",
      " |  \n",
      " |  capitalize(self, /)\n",
      " |      Return a capitalized version of the string.\n",
      " |      \n",
      " |      More specifically, make the first character have upper case and the rest lower\n",
      " |      case.\n",
      " |  \n",
      " |  casefold(self, /)\n",
      " |      Return a version of the string suitable for caseless comparisons.\n",
      " |  \n",
      " |  center(self, width, fillchar=' ', /)\n",
      " |      Return a centered string of length width.\n",
      " |      \n",
      " |      Padding is done using the specified fill character (default is a space).\n",
      " |  \n",
      " |  count(...)\n",
      " |      S.count(sub[, start[, end]]) -> int\n",
      " |      \n",
      " |      Return the number of non-overlapping occurrences of substring sub in\n",
      " |      string S[start:end].  Optional arguments start and end are\n",
      " |      interpreted as in slice notation.\n",
      " |  \n",
      " |  encode(self, /, encoding='utf-8', errors='strict')\n",
      " |      Encode the string using the codec registered for encoding.\n",
      " |      \n",
      " |      encoding\n",
      " |        The encoding in which to encode the string.\n",
      " |      errors\n",
      " |        The error handling scheme to use for encoding errors.\n",
      " |        The default is 'strict' meaning that encoding errors raise a\n",
      " |        UnicodeEncodeError.  Other possible values are 'ignore', 'replace' and\n",
      " |        'xmlcharrefreplace' as well as any other name registered with\n",
      " |        codecs.register_error that can handle UnicodeEncodeErrors.\n",
      " |  \n",
      " |  endswith(...)\n",
      " |      S.endswith(suffix[, start[, end]]) -> bool\n",
      " |      \n",
      " |      Return True if S ends with the specified suffix, False otherwise.\n",
      " |      With optional start, test S beginning at that position.\n",
      " |      With optional end, stop comparing S at that position.\n",
      " |      suffix can also be a tuple of strings to try.\n",
      " |  \n",
      " |  expandtabs(self, /, tabsize=8)\n",
      " |      Return a copy where all tab characters are expanded using spaces.\n",
      " |      \n",
      " |      If tabsize is not given, a tab size of 8 characters is assumed.\n",
      " |  \n",
      " |  find(...)\n",
      " |      S.find(sub[, start[, end]]) -> int\n",
      " |      \n",
      " |      Return the lowest index in S where substring sub is found,\n",
      " |      such that sub is contained within S[start:end].  Optional\n",
      " |      arguments start and end are interpreted as in slice notation.\n",
      " |      \n",
      " |      Return -1 on failure.\n",
      " |  \n",
      " |  format(...)\n",
      " |      S.format(*args, **kwargs) -> str\n",
      " |      \n",
      " |      Return a formatted version of S, using substitutions from args and kwargs.\n",
      " |      The substitutions are identified by braces ('{' and '}').\n",
      " |  \n",
      " |  format_map(...)\n",
      " |      S.format_map(mapping) -> str\n",
      " |      \n",
      " |      Return a formatted version of S, using substitutions from mapping.\n",
      " |      The substitutions are identified by braces ('{' and '}').\n",
      " |  \n",
      " |  index(...)\n",
      " |      S.index(sub[, start[, end]]) -> int\n",
      " |      \n",
      " |      Return the lowest index in S where substring sub is found,\n",
      " |      such that sub is contained within S[start:end].  Optional\n",
      " |      arguments start and end are interpreted as in slice notation.\n",
      " |      \n",
      " |      Raises ValueError when the substring is not found.\n",
      " |  \n",
      " |  isalnum(self, /)\n",
      " |      Return True if the string is an alpha-numeric string, False otherwise.\n",
      " |      \n",
      " |      A string is alpha-numeric if all characters in the string are alpha-numeric and\n",
      " |      there is at least one character in the string.\n",
      " |  \n",
      " |  isalpha(self, /)\n",
      " |      Return True if the string is an alphabetic string, False otherwise.\n",
      " |      \n",
      " |      A string is alphabetic if all characters in the string are alphabetic and there\n",
      " |      is at least one character in the string.\n",
      " |  \n",
      " |  isascii(self, /)\n",
      " |      Return True if all characters in the string are ASCII, False otherwise.\n",
      " |      \n",
      " |      ASCII characters have code points in the range U+0000-U+007F.\n",
      " |      Empty string is ASCII too.\n",
      " |  \n",
      " |  isdecimal(self, /)\n",
      " |      Return True if the string is a decimal string, False otherwise.\n",
      " |      \n",
      " |      A string is a decimal string if all characters in the string are decimal and\n",
      " |      there is at least one character in the string.\n",
      " |  \n",
      " |  isdigit(self, /)\n",
      " |      Return True if the string is a digit string, False otherwise.\n",
      " |      \n",
      " |      A string is a digit string if all characters in the string are digits and there\n",
      " |      is at least one character in the string.\n",
      " |  \n",
      " |  isidentifier(self, /)\n",
      " |      Return True if the string is a valid Python identifier, False otherwise.\n",
      " |      \n",
      " |      Call keyword.iskeyword(s) to test whether string s is a reserved identifier,\n",
      " |      such as \"def\" or \"class\".\n",
      " |  \n",
      " |  islower(self, /)\n",
      " |      Return True if the string is a lowercase string, False otherwise.\n",
      " |      \n",
      " |      A string is lowercase if all cased characters in the string are lowercase and\n",
      " |      there is at least one cased character in the string.\n",
      " |  \n",
      " |  isnumeric(self, /)\n",
      " |      Return True if the string is a numeric string, False otherwise.\n",
      " |      \n",
      " |      A string is numeric if all characters in the string are numeric and there is at\n",
      " |      least one character in the string.\n",
      " |  \n",
      " |  isprintable(self, /)\n",
      " |      Return True if the string is printable, False otherwise.\n",
      " |      \n",
      " |      A string is printable if all of its characters are considered printable in\n",
      " |      repr() or if it is empty.\n",
      " |  \n",
      " |  isspace(self, /)\n",
      " |      Return True if the string is a whitespace string, False otherwise.\n",
      " |      \n",
      " |      A string is whitespace if all characters in the string are whitespace and there\n",
      " |      is at least one character in the string.\n",
      " |  \n",
      " |  istitle(self, /)\n",
      " |      Return True if the string is a title-cased string, False otherwise.\n",
      " |      \n",
      " |      In a title-cased string, upper- and title-case characters may only\n",
      " |      follow uncased characters and lowercase characters only cased ones.\n",
      " |  \n",
      " |  isupper(self, /)\n",
      " |      Return True if the string is an uppercase string, False otherwise.\n",
      " |      \n",
      " |      A string is uppercase if all cased characters in the string are uppercase and\n",
      " |      there is at least one cased character in the string.\n",
      " |  \n",
      " |  join(self, iterable, /)\n",
      " |      Concatenate any number of strings.\n",
      " |      \n",
      " |      The string whose method is called is inserted in between each given string.\n",
      " |      The result is returned as a new string.\n",
      " |      \n",
      " |      Example: '.'.join(['ab', 'pq', 'rs']) -> 'ab.pq.rs'\n",
      " |  \n",
      " |  ljust(self, width, fillchar=' ', /)\n",
      " |      Return a left-justified string of length width.\n",
      " |      \n",
      " |      Padding is done using the specified fill character (default is a space).\n",
      " |  \n",
      " |  lower(self, /)\n",
      " |      Return a copy of the string converted to lowercase.\n",
      " |  \n",
      " |  lstrip(self, chars=None, /)\n",
      " |      Return a copy of the string with leading whitespace removed.\n",
      " |      \n",
      " |      If chars is given and not None, remove characters in chars instead.\n",
      " |  \n",
      " |  partition(self, sep, /)\n",
      " |      Partition the string into three parts using the given separator.\n",
      " |      \n",
      " |      This will search for the separator in the string.  If the separator is found,\n",
      " |      returns a 3-tuple containing the part before the separator, the separator\n",
      " |      itself, and the part after it.\n",
      " |      \n",
      " |      If the separator is not found, returns a 3-tuple containing the original string\n",
      " |      and two empty strings.\n",
      " |  \n",
      " |  removeprefix(self, prefix, /)\n",
      " |      Return a str with the given prefix string removed if present.\n",
      " |      \n",
      " |      If the string starts with the prefix string, return string[len(prefix):].\n",
      " |      Otherwise, return a copy of the original string.\n",
      " |  \n",
      " |  removesuffix(self, suffix, /)\n",
      " |      Return a str with the given suffix string removed if present.\n",
      " |      \n",
      " |      If the string ends with the suffix string and that suffix is not empty,\n",
      " |      return string[:-len(suffix)]. Otherwise, return a copy of the original\n",
      " |      string.\n",
      " |  \n",
      " |  replace(self, old, new, count=-1, /)\n",
      " |      Return a copy with all occurrences of substring old replaced by new.\n",
      " |      \n",
      " |        count\n",
      " |          Maximum number of occurrences to replace.\n",
      " |          -1 (the default value) means replace all occurrences.\n",
      " |      \n",
      " |      If the optional argument count is given, only the first count occurrences are\n",
      " |      replaced.\n",
      " |  \n",
      " |  rfind(...)\n",
      " |      S.rfind(sub[, start[, end]]) -> int\n",
      " |      \n",
      " |      Return the highest index in S where substring sub is found,\n",
      " |      such that sub is contained within S[start:end].  Optional\n",
      " |      arguments start and end are interpreted as in slice notation.\n",
      " |      \n",
      " |      Return -1 on failure.\n",
      " |  \n",
      " |  rindex(...)\n",
      " |      S.rindex(sub[, start[, end]]) -> int\n",
      " |      \n",
      " |      Return the highest index in S where substring sub is found,\n",
      " |      such that sub is contained within S[start:end].  Optional\n",
      " |      arguments start and end are interpreted as in slice notation.\n",
      " |      \n",
      " |      Raises ValueError when the substring is not found.\n",
      " |  \n",
      " |  rjust(self, width, fillchar=' ', /)\n",
      " |      Return a right-justified string of length width.\n",
      " |      \n",
      " |      Padding is done using the specified fill character (default is a space).\n",
      " |  \n",
      " |  rpartition(self, sep, /)\n",
      " |      Partition the string into three parts using the given separator.\n",
      " |      \n",
      " |      This will search for the separator in the string, starting at the end. If\n",
      " |      the separator is found, returns a 3-tuple containing the part before the\n",
      " |      separator, the separator itself, and the part after it.\n",
      " |      \n",
      " |      If the separator is not found, returns a 3-tuple containing two empty strings\n",
      " |      and the original string.\n",
      " |  \n",
      " |  rsplit(self, /, sep=None, maxsplit=-1)\n",
      " |      Return a list of the substrings in the string, using sep as the separator string.\n",
      " |      \n",
      " |        sep\n",
      " |          The separator used to split the string.\n",
      " |      \n",
      " |          When set to None (the default value), will split on any whitespace\n",
      " |          character (including \\\\n \\\\r \\\\t \\\\f and spaces) and will discard\n",
      " |          empty strings from the result.\n",
      " |        maxsplit\n",
      " |          Maximum number of splits (starting from the left).\n",
      " |          -1 (the default value) means no limit.\n",
      " |      \n",
      " |      Splitting starts at the end of the string and works to the front.\n",
      " |  \n",
      " |  rstrip(self, chars=None, /)\n",
      " |      Return a copy of the string with trailing whitespace removed.\n",
      " |      \n",
      " |      If chars is given and not None, remove characters in chars instead.\n",
      " |  \n",
      " |  split(self, /, sep=None, maxsplit=-1)\n",
      " |      Return a list of the substrings in the string, using sep as the separator string.\n",
      " |      \n",
      " |        sep\n",
      " |          The separator used to split the string.\n",
      " |      \n",
      " |          When set to None (the default value), will split on any whitespace\n",
      " |          character (including \\\\n \\\\r \\\\t \\\\f and spaces) and will discard\n",
      " |          empty strings from the result.\n",
      " |        maxsplit\n",
      " |          Maximum number of splits (starting from the left).\n",
      " |          -1 (the default value) means no limit.\n",
      " |      \n",
      " |      Note, str.split() is mainly useful for data that has been intentionally\n",
      " |      delimited.  With natural text that includes punctuation, consider using\n",
      " |      the regular expression module.\n",
      " |  \n",
      " |  splitlines(self, /, keepends=False)\n",
      " |      Return a list of the lines in the string, breaking at line boundaries.\n",
      " |      \n",
      " |      Line breaks are not included in the resulting list unless keepends is given and\n",
      " |      true.\n",
      " |  \n",
      " |  startswith(...)\n",
      " |      S.startswith(prefix[, start[, end]]) -> bool\n",
      " |      \n",
      " |      Return True if S starts with the specified prefix, False otherwise.\n",
      " |      With optional start, test S beginning at that position.\n",
      " |      With optional end, stop comparing S at that position.\n",
      " |      prefix can also be a tuple of strings to try.\n",
      " |  \n",
      " |  strip(self, chars=None, /)\n",
      " |      Return a copy of the string with leading and trailing whitespace removed.\n",
      " |      \n",
      " |      If chars is given and not None, remove characters in chars instead.\n",
      " |  \n",
      " |  swapcase(self, /)\n",
      " |      Convert uppercase characters to lowercase and lowercase characters to uppercase.\n",
      " |  \n",
      " |  title(self, /)\n",
      " |      Return a version of the string where each word is titlecased.\n",
      " |      \n",
      " |      More specifically, words start with uppercased characters and all remaining\n",
      " |      cased characters have lower case.\n",
      " |  \n",
      " |  translate(self, table, /)\n",
      " |      Replace each character in the string using the given translation table.\n",
      " |      \n",
      " |        table\n",
      " |          Translation table, which must be a mapping of Unicode ordinals to\n",
      " |          Unicode ordinals, strings, or None.\n",
      " |      \n",
      " |      The table must implement lookup/indexing via __getitem__, for instance a\n",
      " |      dictionary or list.  If this operation raises LookupError, the character is\n",
      " |      left untouched.  Characters mapped to None are deleted.\n",
      " |  \n",
      " |  upper(self, /)\n",
      " |      Return a copy of the string converted to uppercase.\n",
      " |  \n",
      " |  zfill(self, width, /)\n",
      " |      Pad a numeric string with zeros on the left, to fill a field of the given width.\n",
      " |      \n",
      " |      The string is never truncated.\n",
      " |  \n",
      " |  ----------------------------------------------------------------------\n",
      " |  Static methods defined here:\n",
      " |  \n",
      " |  __new__(*args, **kwargs) from builtins.type\n",
      " |      Create and return a new object.  See help(type) for accurate signature.\n",
      " |  \n",
      " |  maketrans(...)\n",
      " |      Return a translation table usable for str.translate().\n",
      " |      \n",
      " |      If there is only one argument, it must be a dictionary mapping Unicode\n",
      " |      ordinals (integers) or characters to Unicode ordinals, strings or None.\n",
      " |      Character keys will be then converted to ordinals.\n",
      " |      If there are two arguments, they must be strings of equal length, and\n",
      " |      in the resulting dictionary, each character in x will be mapped to the\n",
      " |      character at the same position in y. If there is a third argument, it\n",
      " |      must be a string, whose characters will be mapped to None in the result.\n",
      "\n"
     ]
    }
   ],
   "source": [
    "help(str)"
   ]
  },
  {
   "cell_type": "code",
   "execution_count": 113,
   "id": "24e75a0a-4479-4a7d-880b-82ccb4e1dc50",
   "metadata": {},
   "outputs": [
    {
     "data": {
      "text/plain": [
       "'Rene ama el spaghetti'"
      ]
     },
     "execution_count": 113,
     "metadata": {},
     "output_type": "execute_result"
    }
   ],
   "source": [
    "frase"
   ]
  },
  {
   "cell_type": "code",
   "execution_count": 121,
   "id": "66d6427e-72d5-493a-9345-ef5e725d9215",
   "metadata": {},
   "outputs": [
    {
     "data": {
      "text/plain": [
       "'rene ama el spaghetti'"
      ]
     },
     "execution_count": 121,
     "metadata": {},
     "output_type": "execute_result"
    }
   ],
   "source": [
    "frase.lower()"
   ]
  },
  {
   "cell_type": "code",
   "execution_count": 115,
   "id": "5b61807d-2969-4247-a8be-694070ad8dd3",
   "metadata": {},
   "outputs": [
    {
     "data": {
      "text/plain": [
       "'Rene ama el spaghetti'"
      ]
     },
     "execution_count": 115,
     "metadata": {},
     "output_type": "execute_result"
    }
   ],
   "source": [
    "frase"
   ]
  },
  {
   "cell_type": "code",
   "execution_count": 116,
   "id": "670f9268-4102-4659-9ec1-105b448566bc",
   "metadata": {},
   "outputs": [
    {
     "data": {
      "text/plain": [
       "'RENE AMA EL SPAGHETTI'"
      ]
     },
     "execution_count": 116,
     "metadata": {},
     "output_type": "execute_result"
    }
   ],
   "source": [
    "frase.upper()"
   ]
  },
  {
   "cell_type": "code",
   "execution_count": 118,
   "id": "9606ad78-21b6-4a9b-9d7b-fa27aa982160",
   "metadata": {},
   "outputs": [
    {
     "data": {
      "text/plain": [
       "False"
      ]
     },
     "execution_count": 118,
     "metadata": {},
     "output_type": "execute_result"
    }
   ],
   "source": [
    "frase.isupper()"
   ]
  },
  {
   "cell_type": "code",
   "execution_count": 119,
   "id": "f545d5f4-9e62-4989-96cc-25c42621baf4",
   "metadata": {},
   "outputs": [
    {
     "data": {
      "text/plain": [
       "'Rene ama el spaghetti'"
      ]
     },
     "execution_count": 119,
     "metadata": {},
     "output_type": "execute_result"
    }
   ],
   "source": [
    "frase"
   ]
  },
  {
   "cell_type": "code",
   "execution_count": 122,
   "id": "7214a80f-2d6f-493d-9e24-203e8f1f1133",
   "metadata": {},
   "outputs": [
    {
     "data": {
      "text/plain": [
       "'Rene ama el spaghetti'"
      ]
     },
     "execution_count": 122,
     "metadata": {},
     "output_type": "execute_result"
    }
   ],
   "source": [
    "frase.capitalize()"
   ]
  },
  {
   "cell_type": "code",
   "execution_count": 124,
   "id": "8a5f29f1-8e47-4ba8-8d5b-1d9626890150",
   "metadata": {},
   "outputs": [
    {
     "data": {
      "text/plain": [
       "False"
      ]
     },
     "execution_count": 124,
     "metadata": {},
     "output_type": "execute_result"
    }
   ],
   "source": [
    "frase.startswith('r')"
   ]
  },
  {
   "cell_type": "code",
   "execution_count": 127,
   "id": "80632548-2f10-43f0-a0ab-abb9f79db2b3",
   "metadata": {},
   "outputs": [
    {
     "data": {
      "text/plain": [
       "True"
      ]
     },
     "execution_count": 127,
     "metadata": {},
     "output_type": "execute_result"
    }
   ],
   "source": [
    "frase.startswith('R')"
   ]
  },
  {
   "cell_type": "code",
   "execution_count": 129,
   "id": "2d569165-ae11-4690-b963-55a74f00339f",
   "metadata": {},
   "outputs": [
    {
     "data": {
      "text/plain": [
       "True"
      ]
     },
     "execution_count": 129,
     "metadata": {},
     "output_type": "execute_result"
    }
   ],
   "source": [
    "frase.lower().startswith('r')"
   ]
  },
  {
   "cell_type": "code",
   "execution_count": 132,
   "id": "82147f03-49cf-48a6-8374-b023c71e95f4",
   "metadata": {},
   "outputs": [
    {
     "data": {
      "text/plain": [
       "True"
      ]
     },
     "execution_count": 132,
     "metadata": {},
     "output_type": "execute_result"
    }
   ],
   "source": [
    "frase.startswith('Rene')"
   ]
  },
  {
   "cell_type": "code",
   "execution_count": 133,
   "id": "8f75ee08-f822-4a2c-9fa3-f9243032c6f0",
   "metadata": {},
   "outputs": [
    {
     "data": {
      "text/plain": [
       "'Rene ama el spaghetti'"
      ]
     },
     "execution_count": 133,
     "metadata": {},
     "output_type": "execute_result"
    }
   ],
   "source": [
    "frase"
   ]
  },
  {
   "cell_type": "code",
   "execution_count": 135,
   "id": "22eed504-9cff-45cf-bae1-cb9a02f99a20",
   "metadata": {},
   "outputs": [
    {
     "data": {
      "text/plain": [
       "True"
      ]
     },
     "execution_count": 135,
     "metadata": {},
     "output_type": "execute_result"
    }
   ],
   "source": [
    "frase.endswith('tti')"
   ]
  },
  {
   "cell_type": "code",
   "execution_count": 139,
   "id": "134ea0e4-668e-4a6a-adaf-2e74a2d65cda",
   "metadata": {},
   "outputs": [
    {
     "data": {
      "text/plain": [
       "True"
      ]
     },
     "execution_count": 139,
     "metadata": {},
     "output_type": "execute_result"
    }
   ],
   "source": [
    "'ama' in frase"
   ]
  },
  {
   "cell_type": "code",
   "execution_count": 140,
   "id": "aca5e09a-e9b3-43a8-85ea-a90d30f5cae7",
   "metadata": {},
   "outputs": [
    {
     "data": {
      "text/plain": [
       "21"
      ]
     },
     "execution_count": 140,
     "metadata": {},
     "output_type": "execute_result"
    }
   ],
   "source": [
    "len(frase)"
   ]
  },
  {
   "cell_type": "code",
   "execution_count": 141,
   "id": "0fd1dbc0-9ee8-4a28-83d9-012953158481",
   "metadata": {},
   "outputs": [
    {
     "data": {
      "text/plain": [
       "'Rene ama el spaghetti'"
      ]
     },
     "execution_count": 141,
     "metadata": {},
     "output_type": "execute_result"
    }
   ],
   "source": [
    "frase"
   ]
  },
  {
   "cell_type": "code",
   "execution_count": 142,
   "id": "51417cfa-c1e7-4058-ba4e-ac55a47a6fc0",
   "metadata": {},
   "outputs": [
    {
     "data": {
      "text/plain": [
       "5"
      ]
     },
     "execution_count": 142,
     "metadata": {},
     "output_type": "execute_result"
    }
   ],
   "source": [
    "frase.find('a')"
   ]
  },
  {
   "cell_type": "code",
   "execution_count": 143,
   "id": "df39ba83-0214-4b54-a6cc-aca438b8ab8e",
   "metadata": {},
   "outputs": [
    {
     "data": {
      "text/plain": [
       "'a'"
      ]
     },
     "execution_count": 143,
     "metadata": {},
     "output_type": "execute_result"
    }
   ],
   "source": [
    "frase[5]"
   ]
  },
  {
   "cell_type": "code",
   "execution_count": 144,
   "id": "4a2e1484-ea49-47ac-880e-0a619be59a36",
   "metadata": {},
   "outputs": [
    {
     "data": {
      "text/plain": [
       "-1"
      ]
     },
     "execution_count": 144,
     "metadata": {},
     "output_type": "execute_result"
    }
   ],
   "source": [
    "frase.find('A')"
   ]
  },
  {
   "cell_type": "code",
   "execution_count": 148,
   "id": "66a49552-1225-4877-a6a3-fbd55fa6f649",
   "metadata": {},
   "outputs": [
    {
     "name": "stdout",
     "output_type": "stream",
     "text": [
      "23244\n",
      "True\n",
      "True\n",
      "True\n"
     ]
    }
   ],
   "source": [
    "frase = '23244'\n",
    "print(frase)\n",
    "print(frase.isnumeric())\n",
    "print(frase.isdigit())\n",
    "print(frase.isdecimal())"
   ]
  },
  {
   "cell_type": "code",
   "execution_count": 146,
   "id": "b8a0e50d-4ac5-4c46-9c85-98135f3c67e3",
   "metadata": {},
   "outputs": [
    {
     "data": {
      "text/plain": [
       "False"
      ]
     },
     "execution_count": 146,
     "metadata": {},
     "output_type": "execute_result"
    }
   ],
   "source": [
    "'fdasfasd'.isnumeric()"
   ]
  },
  {
   "cell_type": "code",
   "execution_count": 149,
   "id": "d096bd09-5f44-4fa2-acd2-36cedf718c51",
   "metadata": {},
   "outputs": [
    {
     "name": "stdout",
     "output_type": "stream",
     "text": [
      "²\n",
      "True\n",
      "True\n",
      "False\n"
     ]
    }
   ],
   "source": [
    "frase = '\\u00B2'\n",
    "print(frase)\n",
    "print(frase.isnumeric())\n",
    "print(frase.isdigit())\n",
    "print(frase.isdecimal())"
   ]
  },
  {
   "cell_type": "code",
   "execution_count": 150,
   "id": "ae46a8f6-8060-4aeb-b71f-103f409ccb25",
   "metadata": {},
   "outputs": [
    {
     "name": "stdout",
     "output_type": "stream",
     "text": [
      "四\n",
      "True\n",
      "False\n",
      "False\n"
     ]
    }
   ],
   "source": [
    "frase = '四'\n",
    "print(frase) \n",
    "print(frase.isnumeric())\n",
    "print(frase.isdigit())\n",
    "print(frase.isdecimal())"
   ]
  },
  {
   "cell_type": "code",
   "execution_count": 160,
   "id": "0c86f40f-d0b7-4ed3-aa6e-b94855dbfcd4",
   "metadata": {},
   "outputs": [],
   "source": [
    "string_sucio = '   **  Hola, que tal   *'"
   ]
  },
  {
   "cell_type": "code",
   "execution_count": 161,
   "id": "3aab9cd5-0f68-4ef0-80c7-ccb688ad07f1",
   "metadata": {},
   "outputs": [
    {
     "data": {
      "text/plain": [
       "'**  Hola, que tal   *'"
      ]
     },
     "execution_count": 161,
     "metadata": {},
     "output_type": "execute_result"
    }
   ],
   "source": [
    "string_sucio.strip()"
   ]
  },
  {
   "cell_type": "code",
   "execution_count": 162,
   "id": "49e0dd6a-0c77-44bf-b5af-c836afde3568",
   "metadata": {},
   "outputs": [
    {
     "data": {
      "text/plain": [
       "'   **  Hola, que tal   '"
      ]
     },
     "execution_count": 162,
     "metadata": {},
     "output_type": "execute_result"
    }
   ],
   "source": [
    "string_sucio.strip('*')"
   ]
  },
  {
   "cell_type": "code",
   "execution_count": 163,
   "id": "e7715da1-6052-4f5e-82d0-ee66408e12c3",
   "metadata": {},
   "outputs": [
    {
     "data": {
      "text/plain": [
       "'Hola, que tal'"
      ]
     },
     "execution_count": 163,
     "metadata": {},
     "output_type": "execute_result"
    }
   ],
   "source": [
    "string_sucio.strip('* ')"
   ]
  },
  {
   "cell_type": "code",
   "execution_count": 176,
   "id": "aa7a37f1-1af4-4162-9af0-c4b36ab6d431",
   "metadata": {},
   "outputs": [
    {
     "data": {
      "text/plain": [
       "'Hola, que tal   *'"
      ]
     },
     "execution_count": 176,
     "metadata": {},
     "output_type": "execute_result"
    }
   ],
   "source": [
    "string_sucio.lstrip(' *')"
   ]
  },
  {
   "cell_type": "code",
   "execution_count": 167,
   "id": "521028a1-2763-4572-a417-fd60386e101c",
   "metadata": {},
   "outputs": [
    {
     "data": {
      "text/plain": [
       "'   **  Hola, que tal'"
      ]
     },
     "execution_count": 167,
     "metadata": {},
     "output_type": "execute_result"
    }
   ],
   "source": [
    "string_sucio.rstrip('* ')"
   ]
  },
  {
   "cell_type": "code",
   "execution_count": 168,
   "id": "4b8f3284-f0f6-4014-ad41-c19cf88f16f9",
   "metadata": {},
   "outputs": [
    {
     "data": {
      "text/plain": [
       "'   **  Hola, que tal   *'"
      ]
     },
     "execution_count": 168,
     "metadata": {},
     "output_type": "execute_result"
    }
   ],
   "source": [
    "string_sucio"
   ]
  },
  {
   "cell_type": "code",
   "execution_count": 173,
   "id": "3f9474c9-834a-4bb9-8a16-e5d0e1efd2e1",
   "metadata": {},
   "outputs": [
    {
     "data": {
      "text/plain": [
       "'   **  HolTAQUITOS, que tTAQUITOSl   *'"
      ]
     },
     "execution_count": 173,
     "metadata": {},
     "output_type": "execute_result"
    }
   ],
   "source": [
    "string_sucio.replace('a','TAQUITOS')"
   ]
  },
  {
   "cell_type": "code",
   "execution_count": 180,
   "id": "954aa46e-d826-4a63-9eb2-375605d0c562",
   "metadata": {},
   "outputs": [
    {
     "data": {
      "text/plain": [
       "'   **  Hla, que tal   *'"
      ]
     },
     "execution_count": 180,
     "metadata": {},
     "output_type": "execute_result"
    }
   ],
   "source": [
    "string_sucio.replace('o','')"
   ]
  },
  {
   "cell_type": "code",
   "execution_count": 185,
   "id": "de73920a-9e61-448b-b99b-95ac58de00f1",
   "metadata": {},
   "outputs": [
    {
     "data": {
      "text/plain": [
       "'ola, que tal'"
      ]
     },
     "execution_count": 185,
     "metadata": {},
     "output_type": "execute_result"
    }
   ],
   "source": [
    "string_sucio.replace('H','').strip(' *').lower()"
   ]
  },
  {
   "cell_type": "code",
   "execution_count": 186,
   "id": "df1b14b4-9f82-429a-a80d-5e1cd8656fd5",
   "metadata": {},
   "outputs": [],
   "source": [
    "frase_normal = 'Es la 1 de la tarde, y ya tengo sueño'"
   ]
  },
  {
   "cell_type": "code",
   "execution_count": 187,
   "id": "fd8dcf17-a8ed-42f1-bf02-301b1ea14609",
   "metadata": {},
   "outputs": [
    {
     "name": "stdout",
     "output_type": "stream",
     "text": [
      "E\n",
      "s\n",
      " \n",
      "l\n",
      "a\n",
      " \n",
      "1\n",
      " \n",
      "d\n",
      "e\n",
      " \n",
      "l\n",
      "a\n",
      " \n",
      "t\n",
      "a\n",
      "r\n",
      "d\n",
      "e\n",
      ",\n",
      " \n",
      "y\n",
      " \n",
      "y\n",
      "a\n",
      " \n",
      "t\n",
      "e\n",
      "n\n",
      "g\n",
      "o\n",
      " \n",
      "s\n",
      "u\n",
      "e\n",
      "ñ\n",
      "o\n"
     ]
    }
   ],
   "source": [
    "for letra in frase_normal:\n",
    "    print(letra)"
   ]
  },
  {
   "cell_type": "code",
   "execution_count": 227,
   "id": "4d4cdcc9-2696-4702-8e39-1197a77a0a20",
   "metadata": {},
   "outputs": [
    {
     "data": {
      "text/plain": [
       "['E',\n",
       " 's',\n",
       " ' ',\n",
       " 'l',\n",
       " 'a',\n",
       " ' ',\n",
       " '1',\n",
       " ' ',\n",
       " 'd',\n",
       " 'e',\n",
       " ' ',\n",
       " 'l',\n",
       " 'a',\n",
       " ' ',\n",
       " 't',\n",
       " 'a',\n",
       " 'r',\n",
       " 'd',\n",
       " 'e',\n",
       " ',',\n",
       " ' ',\n",
       " 'y',\n",
       " ' ',\n",
       " 'y',\n",
       " 'a',\n",
       " ' ',\n",
       " 't',\n",
       " 'e',\n",
       " 'n',\n",
       " 'g',\n",
       " 'o',\n",
       " ' ',\n",
       " 's',\n",
       " 'u',\n",
       " 'e',\n",
       " 'ñ',\n",
       " 'o']"
      ]
     },
     "execution_count": 227,
     "metadata": {},
     "output_type": "execute_result"
    }
   ],
   "source": [
    "list(frase_normal)"
   ]
  },
  {
   "cell_type": "code",
   "execution_count": 190,
   "id": "0e0755f4-09e2-456e-942c-42c09fd177e8",
   "metadata": {},
   "outputs": [
    {
     "data": {
      "text/plain": [
       "'Es la 1 de la tarde, y ya tengo sueño'"
      ]
     },
     "execution_count": 190,
     "metadata": {},
     "output_type": "execute_result"
    }
   ],
   "source": [
    "frase_normal"
   ]
  },
  {
   "cell_type": "code",
   "execution_count": 189,
   "id": "d8e26a3b-7593-466a-be94-6b8bdb7fc58c",
   "metadata": {},
   "outputs": [
    {
     "data": {
      "text/plain": [
       "['Es', 'la', '1', 'de', 'la', 'tarde,', 'y', 'ya', 'tengo', 'sueño']"
      ]
     },
     "execution_count": 189,
     "metadata": {},
     "output_type": "execute_result"
    }
   ],
   "source": [
    "frase_normal.split()"
   ]
  },
  {
   "cell_type": "code",
   "execution_count": 191,
   "id": "abe9ea61-da5f-4281-b63f-283240433635",
   "metadata": {},
   "outputs": [
    {
     "data": {
      "text/plain": [
       "['Es la 1 de la tarde, ', ' ', 'a tengo sueño']"
      ]
     },
     "execution_count": 191,
     "metadata": {},
     "output_type": "execute_result"
    }
   ],
   "source": [
    "frase_normal.split('y')"
   ]
  },
  {
   "cell_type": "code",
   "execution_count": 195,
   "id": "253d24e1-7c4d-4c30-a711-e09100389900",
   "metadata": {},
   "outputs": [
    {
     "data": {
      "text/plain": [
       "'Es la 1 de'"
      ]
     },
     "execution_count": 195,
     "metadata": {},
     "output_type": "execute_result"
    }
   ],
   "source": [
    "frase_normal[:10]"
   ]
  },
  {
   "cell_type": "code",
   "execution_count": 198,
   "id": "5616ec65-bf5e-476e-83b1-70db54941751",
   "metadata": {},
   "outputs": [
    {
     "data": {
      "text/plain": [
       "'   **  Hola, que tal   *'"
      ]
     },
     "execution_count": 198,
     "metadata": {},
     "output_type": "execute_result"
    }
   ],
   "source": [
    "string_sucio"
   ]
  },
  {
   "cell_type": "code",
   "execution_count": 202,
   "id": "b4b82e9d-de32-4e4b-8ac1-1d3297c7018c",
   "metadata": {},
   "outputs": [
    {
     "data": {
      "text/plain": [
       "['Hola,', 'que']"
      ]
     },
     "execution_count": 202,
     "metadata": {},
     "output_type": "execute_result"
    }
   ],
   "source": [
    "string_sucio.replace('*','').split()[:2]"
   ]
  },
  {
   "cell_type": "code",
   "execution_count": 203,
   "id": "76a434b1-e55f-4664-a155-e0a604dce3f4",
   "metadata": {},
   "outputs": [],
   "source": [
    "lista_strings = ['Es', 'la', '1', 'de', 'la', 'tarde,', 'y', 'ya', 'tengo', 'sueño']"
   ]
  },
  {
   "cell_type": "code",
   "execution_count": 204,
   "id": "fde6f8cd-2ccb-4fcb-85f7-45f95be5c6a8",
   "metadata": {},
   "outputs": [
    {
     "data": {
      "text/plain": [
       "'Es la 1 de la tarde, y ya tengo sueño'"
      ]
     },
     "execution_count": 204,
     "metadata": {},
     "output_type": "execute_result"
    }
   ],
   "source": [
    "' '.join(lista_strings)"
   ]
  },
  {
   "cell_type": "code",
   "execution_count": 205,
   "id": "1f0c513c-a065-448f-ac9f-a6be673af59b",
   "metadata": {},
   "outputs": [
    {
     "data": {
      "text/plain": [
       "'EsDDSlaDDS1DDSdeDDSlaDDStarde,DDSyDDSyaDDStengoDDSsueño'"
      ]
     },
     "execution_count": 205,
     "metadata": {},
     "output_type": "execute_result"
    }
   ],
   "source": [
    "'DDS'.join(lista_strings)"
   ]
  },
  {
   "cell_type": "code",
   "execution_count": 206,
   "id": "74e4fa1f-51ec-41fe-84fc-a7a646f70b26",
   "metadata": {},
   "outputs": [],
   "source": [
    "import re"
   ]
  },
  {
   "cell_type": "code",
   "execution_count": 207,
   "id": "8be16c70-f401-4f62-bdb5-38e51755c539",
   "metadata": {},
   "outputs": [
    {
     "data": {
      "text/plain": [
       "'url_base/datos_inegi/cv00.csv'"
      ]
     },
     "execution_count": 207,
     "metadata": {},
     "output_type": "execute_result"
    }
   ],
   "source": [
    "'url_base/datos_inegi/cv00.csv'"
   ]
  },
  {
   "cell_type": "code",
   "execution_count": null,
   "id": "f7708be9-c899-48b2-82f7-2b53556d00ee",
   "metadata": {},
   "outputs": [],
   "source": [
    "for ruta in lista_rutas:\n",
    "    leer archivo(ruta)"
   ]
  },
  {
   "cell_type": "code",
   "execution_count": 209,
   "id": "294f30c5-3558-4fee-bc97-dc3926e4fd77",
   "metadata": {},
   "outputs": [
    {
     "data": {
      "text/plain": [
       "range(0, 30)"
      ]
     },
     "execution_count": 209,
     "metadata": {},
     "output_type": "execute_result"
    }
   ],
   "source": [
    "range(30)"
   ]
  },
  {
   "cell_type": "code",
   "execution_count": 222,
   "id": "43fee6a4-799e-475c-90fe-5d81cbc1da8f",
   "metadata": {},
   "outputs": [
    {
     "data": {
      "text/plain": [
       "'0000000342'"
      ]
     },
     "execution_count": 222,
     "metadata": {},
     "output_type": "execute_result"
    }
   ],
   "source": [
    "'342'.zfill(10)"
   ]
  },
  {
   "cell_type": "code",
   "execution_count": 225,
   "id": "ec4ad5d4-10a6-4119-9a45-ec578782981f",
   "metadata": {},
   "outputs": [
    {
     "ename": "AttributeError",
     "evalue": "'int' object has no attribute 'zfill'",
     "output_type": "error",
     "traceback": [
      "\u001b[1;31m---------------------------------------------------------------------------\u001b[0m",
      "\u001b[1;31mAttributeError\u001b[0m                            Traceback (most recent call last)",
      "Cell \u001b[1;32mIn [225], line 2\u001b[0m\n\u001b[0;32m      1\u001b[0m numero \u001b[38;5;241m=\u001b[39m \u001b[38;5;241m32\u001b[39m\n\u001b[1;32m----> 2\u001b[0m numero\u001b[38;5;241m.\u001b[39mzfill(\u001b[38;5;241m10\u001b[39m)\n",
      "\u001b[1;31mAttributeError\u001b[0m: 'int' object has no attribute 'zfill'"
     ]
    }
   ],
   "source": [
    "numero = 32\n",
    "numero.zfill(10)"
   ]
  },
  {
   "cell_type": "code",
   "execution_count": 226,
   "id": "ca520a90-a22d-4d23-beb9-808744bf7bcf",
   "metadata": {},
   "outputs": [
    {
     "name": "stdout",
     "output_type": "stream",
     "text": [
      "url_base/datos_inegi/cv00.csv\n",
      "url_base/datos_inegi/cv01.csv\n",
      "url_base/datos_inegi/cv02.csv\n",
      "url_base/datos_inegi/cv03.csv\n",
      "url_base/datos_inegi/cv04.csv\n",
      "url_base/datos_inegi/cv05.csv\n",
      "url_base/datos_inegi/cv06.csv\n",
      "url_base/datos_inegi/cv07.csv\n",
      "url_base/datos_inegi/cv08.csv\n",
      "url_base/datos_inegi/cv09.csv\n",
      "url_base/datos_inegi/cv10.csv\n",
      "url_base/datos_inegi/cv11.csv\n",
      "url_base/datos_inegi/cv12.csv\n",
      "url_base/datos_inegi/cv13.csv\n",
      "url_base/datos_inegi/cv14.csv\n",
      "url_base/datos_inegi/cv15.csv\n",
      "url_base/datos_inegi/cv16.csv\n",
      "url_base/datos_inegi/cv17.csv\n",
      "url_base/datos_inegi/cv18.csv\n",
      "url_base/datos_inegi/cv19.csv\n",
      "url_base/datos_inegi/cv20.csv\n",
      "url_base/datos_inegi/cv21.csv\n",
      "url_base/datos_inegi/cv22.csv\n",
      "url_base/datos_inegi/cv23.csv\n",
      "url_base/datos_inegi/cv24.csv\n",
      "url_base/datos_inegi/cv25.csv\n",
      "url_base/datos_inegi/cv26.csv\n",
      "url_base/datos_inegi/cv27.csv\n",
      "url_base/datos_inegi/cv28.csv\n",
      "url_base/datos_inegi/cv29.csv\n",
      "url_base/datos_inegi/cv30.csv\n",
      "url_base/datos_inegi/cv31.csv\n"
     ]
    }
   ],
   "source": [
    "for estado in range(32):\n",
    "    ruta_completa = f'url_base/datos_inegi/cv{str(estado).zfill(2)}.csv'\n",
    "    print(ruta_completa)"
   ]
  },
  {
   "cell_type": "code",
   "execution_count": 231,
   "id": "a7bf5a8a-fb25-4988-bcff-bf6cd4408570",
   "metadata": {},
   "outputs": [
    {
     "data": {
      "text/plain": [
       "['Es', 'la', '1', 'de', 'la', 'tarde,', 'y', 'ya', 'tengo', 'sueño']"
      ]
     },
     "execution_count": 231,
     "metadata": {},
     "output_type": "execute_result"
    }
   ],
   "source": [
    "lista_palabras = frase_normal.split()\n",
    "lista_palabras"
   ]
  },
  {
   "cell_type": "code",
   "execution_count": 232,
   "id": "20eb3682-2814-4eea-92ed-e8713a3d0a40",
   "metadata": {},
   "outputs": [
    {
     "name": "stdout",
     "output_type": "stream",
     "text": [
      "Es\n",
      "la\n",
      "1\n",
      "de\n",
      "la\n",
      "tarde,\n",
      "y\n",
      "ya\n",
      "tengo\n",
      "sueño\n"
     ]
    }
   ],
   "source": [
    "for letra in lista_palabras:\n",
    "    print(letra)"
   ]
  },
  {
   "cell_type": "code",
   "execution_count": 233,
   "id": "79103739-35fd-4ee1-bb6d-39e84244042b",
   "metadata": {},
   "outputs": [
    {
     "name": "stdout",
     "output_type": "stream",
     "text": [
      "Es\n",
      "la\n",
      "1\n",
      "de\n",
      "la\n",
      "tarde,\n",
      "y\n",
      "ya\n",
      "tengo\n",
      "sueño\n"
     ]
    }
   ],
   "source": [
    "for letra in frase_normal.split():\n",
    "    print(letra)"
   ]
  },
  {
   "cell_type": "code",
   "execution_count": 234,
   "id": "925d3721-b82f-4f1b-97fc-37c2a5d796b1",
   "metadata": {},
   "outputs": [
    {
     "data": {
      "text/plain": [
       "['Es', 'la', '1', 'de', 'la', 'tarde,', 'y', 'ya', 'tengo', 'sueño']"
      ]
     },
     "execution_count": 234,
     "metadata": {},
     "output_type": "execute_result"
    }
   ],
   "source": [
    "lista_palabras"
   ]
  },
  {
   "cell_type": "code",
   "execution_count": 238,
   "id": "38c910be-cb24-4bb3-9344-41f6f86f7d89",
   "metadata": {},
   "outputs": [
    {
     "data": {
      "text/plain": [
       "2"
      ]
     },
     "execution_count": 238,
     "metadata": {},
     "output_type": "execute_result"
    }
   ],
   "source": [
    "lista_palabras.count('la')"
   ]
  },
  {
   "cell_type": "code",
   "execution_count": 240,
   "id": "67bd4d1c-6ff9-4367-a3e4-64e929cc2255",
   "metadata": {},
   "outputs": [],
   "source": [
    "ruta_absoluta = 'C:/Users/zahid/IronhackClases/Sept22/data/prueba_lectura.txt'\n",
    "ruta_relativa = 'data/prueba_lectura.txt'\n",
    "# Esto es porque mi notebook se encuentra en 'C:/Users/zahid/IronhackClases/Sept22'\n",
    "# Si parte de la ruta relativa es irme hacia atras, entonces puedo utilizar /../ para indicar eso"
   ]
  },
  {
   "cell_type": "code",
   "execution_count": 241,
   "id": "72f84f67-0835-4e17-a931-0a1424fcb3e7",
   "metadata": {},
   "outputs": [],
   "source": [
    "archivo = open(ruta_relativa)"
   ]
  },
  {
   "cell_type": "code",
   "execution_count": 242,
   "id": "f4990ea4-ce04-42ff-af36-539d86c8ac29",
   "metadata": {},
   "outputs": [
    {
     "data": {
      "text/plain": [
       "'fila1 que dice algo\\nfila2 que dice otra cosa\\nblablabla'"
      ]
     },
     "execution_count": 242,
     "metadata": {},
     "output_type": "execute_result"
    }
   ],
   "source": [
    "archivo.read()"
   ]
  },
  {
   "cell_type": "code",
   "execution_count": 243,
   "id": "b7e78cb7-87cf-47c4-830a-f0c5ea719fe1",
   "metadata": {},
   "outputs": [],
   "source": [
    "archivo.close()"
   ]
  },
  {
   "cell_type": "code",
   "execution_count": 248,
   "id": "d346f7a8-7cde-4cc8-901d-1bbfa93ac373",
   "metadata": {},
   "outputs": [
    {
     "name": "stdout",
     "output_type": "stream",
     "text": [
      "['fila1 que dice algo\\n', 'fila2 que dice otra cosa\\n', 'blablabla']\n"
     ]
    }
   ],
   "source": [
    "with open(ruta_relativa) as archivo:\n",
    "    data = archivo.readlines()\n",
    "    print(data)"
   ]
  },
  {
   "cell_type": "code",
   "execution_count": 247,
   "id": "f5ac5924-bd42-4075-904a-2da6205ed02f",
   "metadata": {},
   "outputs": [
    {
     "data": {
      "text/plain": [
       "['fila1 que dice algo\\n', 'fila2 que dice otra cosa\\n', 'blablabla']"
      ]
     },
     "execution_count": 247,
     "metadata": {},
     "output_type": "execute_result"
    }
   ],
   "source": [
    "data"
   ]
  },
  {
   "cell_type": "code",
   "execution_count": 249,
   "id": "661eee86-22c6-48fb-921b-3d8d8e178d79",
   "metadata": {},
   "outputs": [
    {
     "name": "stdout",
     "output_type": "stream",
     "text": [
      "fila1 que dice algo\n",
      "fila2 que dice otra cosa\n",
      "blablabla\n"
     ]
    }
   ],
   "source": [
    "with open(ruta_relativa) as archivo:\n",
    "    data = archivo.read()\n",
    "    print(data)"
   ]
  },
  {
   "cell_type": "code",
   "execution_count": 250,
   "id": "a56af52a-bf55-42ea-926b-2ec1ee0d0db9",
   "metadata": {},
   "outputs": [
    {
     "data": {
      "text/plain": [
       "'fila1 que dice algo\\nfila2 que dice otra cosa\\nblablabla'"
      ]
     },
     "execution_count": 250,
     "metadata": {},
     "output_type": "execute_result"
    }
   ],
   "source": [
    "data"
   ]
  },
  {
   "cell_type": "code",
   "execution_count": 251,
   "id": "e0d204bb-a83e-4868-bc95-76c867d1f4ae",
   "metadata": {},
   "outputs": [],
   "source": [
    "with open('Untitled.ipynb') as archivo:\n",
    "    data = archivo.read()"
   ]
  },
  {
   "cell_type": "code",
   "execution_count": 253,
   "id": "47b234d7-d9e3-4353-96a3-0e954cf17540",
   "metadata": {},
   "outputs": [
    {
     "name": "stdout",
     "output_type": "stream",
     "text": [
      "{\n",
      " \"cells\": [\n",
      "  {\n",
      "   \"cell_type\": \"markdown\",\n",
      "   \"id\": \"22dad9ba-0f96-4a86-8053-00c5c92aadd3\",\n",
      "   \"m\n"
     ]
    }
   ],
   "source": [
    "print(data[:100])"
   ]
  }
 ],
 "metadata": {
  "kernelspec": {
   "display_name": "Python 3 (ipykernel)",
   "language": "python",
   "name": "python3"
  },
  "language_info": {
   "codemirror_mode": {
    "name": "ipython",
    "version": 3
   },
   "file_extension": ".py",
   "mimetype": "text/x-python",
   "name": "python",
   "nbconvert_exporter": "python",
   "pygments_lexer": "ipython3",
   "version": "3.9.13"
  }
 },
 "nbformat": 4,
 "nbformat_minor": 5
}
