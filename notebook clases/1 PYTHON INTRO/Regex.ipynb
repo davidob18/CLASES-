{
 "cells": [
  {
   "cell_type": "code",
   "execution_count": 3,
   "id": "7c1890f2-74c7-4e6f-855e-3bb059984060",
   "metadata": {},
   "outputs": [],
   "source": [
    "import re"
   ]
  },
  {
   "cell_type": "code",
   "execution_count": 14,
   "id": "3efd0c6c-ae0b-49a6-b050-afac858b1f71",
   "metadata": {},
   "outputs": [],
   "source": [
    "texto = \"\"\"correo@ironhack.com.mx\n",
    "871-132-89-21\n",
    "Zahid Moises Sanchez Barron\n",
    "estas son palabras aleatorias\"\"\""
   ]
  },
  {
   "cell_type": "code",
   "execution_count": 15,
   "id": "b3b5ec91-f7bd-4aa2-ad6d-4138929433c3",
   "metadata": {},
   "outputs": [
    {
     "name": "stdout",
     "output_type": "stream",
     "text": [
      "correo@ironhack.com.mx\n",
      "871-132-89-21\n",
      "Zahid Moises Sanchez Barron\n",
      "estas son palabras aleatorias\n"
     ]
    }
   ],
   "source": [
    "print(texto)"
   ]
  },
  {
   "cell_type": "code",
   "execution_count": 16,
   "id": "b98ae85b-2eb4-48f2-8887-2e94e28d0baf",
   "metadata": {},
   "outputs": [
    {
     "data": {
      "text/plain": [
       "<re.Match object; span=(37, 42), match='Zahid'>"
      ]
     },
     "execution_count": 16,
     "metadata": {},
     "output_type": "execute_result"
    }
   ],
   "source": [
    "re.search(r'[A-Z][a-z]+', texto)"
   ]
  },
  {
   "cell_type": "code",
   "execution_count": 17,
   "id": "7e5af663-3b47-4da9-ba47-b68256bfda84",
   "metadata": {},
   "outputs": [],
   "source": [
    "re.search(r'[A-Z]6[a-z]+', texto)"
   ]
  },
  {
   "cell_type": "code",
   "execution_count": 18,
   "id": "cb4eebbe-ce40-42c7-a4ab-4c5057e2940f",
   "metadata": {},
   "outputs": [
    {
     "name": "stdout",
     "output_type": "stream",
     "text": [
      "Encontre el patron\n"
     ]
    }
   ],
   "source": [
    "if re.search(r'[A-Z][a-z]+', texto):\n",
    "    print('Encontre el patron')"
   ]
  },
  {
   "cell_type": "code",
   "execution_count": 19,
   "id": "a7ae644d-d312-46e6-822b-0fcfedab663a",
   "metadata": {},
   "outputs": [],
   "source": [
    "if re.search(r'[A-Z]6[a-z]+', texto):\n",
    "    print('Encontre el patron')"
   ]
  },
  {
   "cell_type": "code",
   "execution_count": 45,
   "id": "911eb50b-fa19-4e3a-bc99-8b68895d9d1a",
   "metadata": {},
   "outputs": [],
   "source": [
    "resultado = re.search(r'[A-Z][a-z]+', texto)"
   ]
  },
  {
   "cell_type": "code",
   "execution_count": 46,
   "id": "5178bc22-ddd3-49d6-af01-689dbd908e8b",
   "metadata": {},
   "outputs": [
    {
     "data": {
      "text/plain": [
       "'Zahid'"
      ]
     },
     "execution_count": 46,
     "metadata": {},
     "output_type": "execute_result"
    }
   ],
   "source": [
    "resultado.group(0)"
   ]
  },
  {
   "cell_type": "code",
   "execution_count": 34,
   "id": "cb92d8e2-0867-48d3-a6e1-1394f45e8626",
   "metadata": {},
   "outputs": [
    {
     "data": {
      "text/plain": [
       "<re.Match object; span=(37, 42), match='Zahid'>"
      ]
     },
     "execution_count": 34,
     "metadata": {},
     "output_type": "execute_result"
    }
   ],
   "source": [
    "resultado"
   ]
  },
  {
   "cell_type": "code",
   "execution_count": 37,
   "id": "7211d1e9-4bf9-40a0-a239-9067efa72fbe",
   "metadata": {},
   "outputs": [
    {
     "name": "stdout",
     "output_type": "stream",
     "text": [
      "correo@ironhack.com.mx\n",
      "871-132-89-21\n",
      "Zahid Moises Sanchez Barron\n",
      "estas son palabras aleatorias\n"
     ]
    }
   ],
   "source": [
    "print(texto)"
   ]
  },
  {
   "cell_type": "code",
   "execution_count": 35,
   "id": "5771b61b-866b-4e13-8b84-47011faeb729",
   "metadata": {},
   "outputs": [],
   "source": [
    "re.match(r'[A-Z][a-z]+', texto) # A diferencia del search\n",
    "#este busca que el string comience con la expresion"
   ]
  },
  {
   "cell_type": "code",
   "execution_count": 38,
   "id": "8cfaadd6-9ec3-4aa5-867c-84e8e30b5948",
   "metadata": {},
   "outputs": [
    {
     "data": {
      "text/plain": [
       "<re.Match object; span=(0, 22), match='correo@ironhack.com.mx'>"
      ]
     },
     "execution_count": 38,
     "metadata": {},
     "output_type": "execute_result"
    }
   ],
   "source": [
    "re.match(r'[a-z]+@.+', texto)"
   ]
  },
  {
   "cell_type": "code",
   "execution_count": 49,
   "id": "d27e3959-2c41-43dd-91e4-3f648d527587",
   "metadata": {},
   "outputs": [
    {
     "name": "stdout",
     "output_type": "stream",
     "text": [
      "correo@ironhack.com.mx\n",
      "871-132-89-21\n",
      "Zahid Moises Sanchez Barron\n",
      "estas son palabras aleatorias\n"
     ]
    }
   ],
   "source": [
    "print(texto)"
   ]
  },
  {
   "cell_type": "code",
   "execution_count": 47,
   "id": "47987619-9cf8-4dc5-a02a-72c6631f51aa",
   "metadata": {},
   "outputs": [],
   "source": [
    "re.fullmatch(r'[A-Z][a-z]+', texto)"
   ]
  },
  {
   "cell_type": "code",
   "execution_count": 48,
   "id": "1badb8e1-2b99-4218-bb00-c5c7d5c8f894",
   "metadata": {},
   "outputs": [],
   "source": [
    "re.fullmatch(r'[a-z]+@.+', texto)"
   ]
  },
  {
   "cell_type": "code",
   "execution_count": 51,
   "id": "fea04faf-e2b8-429a-9ab7-dd9ca4c41886",
   "metadata": {},
   "outputs": [
    {
     "data": {
      "text/plain": [
       "<re.Match object; span=(0, 94), match='correo@ironhack.com.mx\\n871-132-89-21\\nZahid Mois>"
      ]
     },
     "execution_count": 51,
     "metadata": {},
     "output_type": "execute_result"
    }
   ],
   "source": [
    "re.fullmatch(r'.+', texto, re.DOTALL) #Mi texto completo\n",
    "# Debe coincidir con la expresion regular"
   ]
  },
  {
   "cell_type": "code",
   "execution_count": 53,
   "id": "9114d41c-9c3e-4025-b56c-d0c4cd430f15",
   "metadata": {},
   "outputs": [
    {
     "data": {
      "text/plain": [
       "94"
      ]
     },
     "execution_count": 53,
     "metadata": {},
     "output_type": "execute_result"
    }
   ],
   "source": [
    "len(texto)"
   ]
  },
  {
   "cell_type": "code",
   "execution_count": 54,
   "id": "8c034400-2dc7-43d9-95c1-ab1855b18782",
   "metadata": {},
   "outputs": [
    {
     "data": {
      "text/plain": [
       "['Zahid', 'Moises', 'Sanchez', 'Barron']"
      ]
     },
     "execution_count": 54,
     "metadata": {},
     "output_type": "execute_result"
    }
   ],
   "source": [
    "re.findall(r'[A-Z][a-z]+', texto)"
   ]
  },
  {
   "cell_type": "code",
   "execution_count": 57,
   "id": "41fa688d-a601-455b-bf4c-a3c46163e342",
   "metadata": {},
   "outputs": [],
   "source": [
    "nombres = re.findall(r'[A-Z][a-z]+', texto)"
   ]
  },
  {
   "cell_type": "code",
   "execution_count": 58,
   "id": "82d62e79-763d-40e0-8aa1-7c4b3844aa46",
   "metadata": {},
   "outputs": [
    {
     "data": {
      "text/plain": [
       "['Zahid', 'Moises', 'Sanchez', 'Barron']"
      ]
     },
     "execution_count": 58,
     "metadata": {},
     "output_type": "execute_result"
    }
   ],
   "source": [
    "nombres"
   ]
  },
  {
   "cell_type": "code",
   "execution_count": 59,
   "id": "8f85727c-2ef7-46f3-9f14-258b85edf443",
   "metadata": {},
   "outputs": [
    {
     "data": {
      "text/plain": [
       "[]"
      ]
     },
     "execution_count": 59,
     "metadata": {},
     "output_type": "execute_result"
    }
   ],
   "source": [
    "re.findall(r'[A-Z]6[a-z]+', texto)"
   ]
  },
  {
   "cell_type": "code",
   "execution_count": 61,
   "id": "0cbc5cb6-88b3-4fb1-858e-03c494fe70db",
   "metadata": {},
   "outputs": [
    {
     "name": "stdout",
     "output_type": "stream",
     "text": [
      "correo@ironhack.com.mx\n",
      "871-132-89-21\n",
      "CENSURADO CENSURADO CENSURADO CENSURADO\n",
      "estas son palabras aleatorias\n"
     ]
    }
   ],
   "source": [
    "print(re.sub(r'[A-Z][a-z]+', 'CENSURADO', texto))"
   ]
  },
  {
   "cell_type": "code",
   "execution_count": 65,
   "id": "64a4406e-03df-4f2c-a3c3-cc0fb0a8f2fb",
   "metadata": {},
   "outputs": [
    {
     "name": "stdout",
     "output_type": "stream",
     "text": [
      "['871-132-89-21']\n"
     ]
    }
   ],
   "source": [
    "print(re.findall(r'\\d{3}-\\d{3}-\\d{2}-\\d{2}', texto))"
   ]
  },
  {
   "cell_type": "code",
   "execution_count": 79,
   "id": "7adfb361-f0fd-4781-850c-02a9e3335f96",
   "metadata": {},
   "outputs": [
    {
     "name": "stdout",
     "output_type": "stream",
     "text": [
      "correo@ironhack.com.mx\n",
      "(871)132-CENSURADO-871-132-89-21132\n",
      "Zahid Moises Sanchez Barron\n",
      "estas son palabras aleatorias\n"
     ]
    }
   ],
   "source": [
    "print(re.sub(r'(\\d{3})-(\\d{3})-(\\d{2})-(\\d{2})', '(\\g<1>)\\g<2>-CENSURADO-\\g<0>\\g<2>', texto))"
   ]
  },
  {
   "cell_type": "code",
   "execution_count": 70,
   "id": "dff5b5d5-7588-4ab7-90f1-e3368112a7b9",
   "metadata": {},
   "outputs": [
    {
     "data": {
      "text/plain": [
       "['Zahid', 'Moises', 'Sanchez', 'Barron']"
      ]
     },
     "execution_count": 70,
     "metadata": {},
     "output_type": "execute_result"
    }
   ],
   "source": [
    "re.findall(r'[A-Z][a-z]+', texto)"
   ]
  },
  {
   "cell_type": "code",
   "execution_count": 76,
   "id": "110c6293-fb6b-4f24-91b2-03dcf8cf7d68",
   "metadata": {},
   "outputs": [
    {
     "data": {
      "text/plain": [
       "[('Z', 'hid'), ('S', 'nchez'), ('B', 'rron')]"
      ]
     },
     "execution_count": 76,
     "metadata": {},
     "output_type": "execute_result"
    }
   ],
   "source": [
    "re.findall(r'([A-Z])a([a-z]+)', texto)"
   ]
  },
  {
   "cell_type": "code",
   "execution_count": 81,
   "id": "4bad20ee-d8cf-4ee4-a676-2ccbb2d84143",
   "metadata": {},
   "outputs": [],
   "source": [
    "string_prueba = 'dsaf9fdsa9fds90f90dsaf90dsaf09'"
   ]
  },
  {
   "cell_type": "code",
   "execution_count": 82,
   "id": "c9ca1277-2445-4cab-86e8-22fe95f18c57",
   "metadata": {},
   "outputs": [
    {
     "data": {
      "text/plain": [
       "['ds', 'f9fds', '9fds90f90ds', 'f90ds', 'f09']"
      ]
     },
     "execution_count": 82,
     "metadata": {},
     "output_type": "execute_result"
    }
   ],
   "source": [
    "string_prueba.split('a')"
   ]
  },
  {
   "cell_type": "code",
   "execution_count": 86,
   "id": "2232c04b-67f5-449f-96ab-5fa2c3abc12a",
   "metadata": {},
   "outputs": [
    {
     "data": {
      "text/plain": [
       "['dsaf', 'fdsa', 'fds', '', 'f', '', 'dsaf', '', 'dsaf', '', '']"
      ]
     },
     "execution_count": 86,
     "metadata": {},
     "output_type": "execute_result"
    }
   ],
   "source": [
    "re.split(r'\\d', string_prueba)"
   ]
  },
  {
   "cell_type": "code",
   "execution_count": 85,
   "id": "b6fe8550-db54-4896-92cf-5a5c4503fdc0",
   "metadata": {},
   "outputs": [
    {
     "data": {
      "text/plain": [
       "['dsaf', '9fdsa', '9fds', '9', '0f', '9', '0dsaf', '9', '0dsaf', '0', '9']"
      ]
     },
     "execution_count": 85,
     "metadata": {},
     "output_type": "execute_result"
    }
   ],
   "source": [
    "re.split(r'(?=\\d)', string_prueba)"
   ]
  },
  {
   "cell_type": "code",
   "execution_count": 88,
   "id": "af7036cd-596f-42e9-89d2-0a49b913ba5c",
   "metadata": {},
   "outputs": [
    {
     "data": {
      "text/plain": [
       "['dsaf9', 'fdsa9', 'fds9', '0', 'f9', '0', 'dsaf9', '0', 'dsaf0', '9', '']"
      ]
     },
     "execution_count": 88,
     "metadata": {},
     "output_type": "execute_result"
    }
   ],
   "source": [
    "re.split(r'(?<=\\d)', string_prueba)"
   ]
  },
  {
   "cell_type": "code",
   "execution_count": 90,
   "id": "fab04429-79ab-46ba-b0f3-9839a8681461",
   "metadata": {},
   "outputs": [
    {
     "name": "stdout",
     "output_type": "stream",
     "text": [
      "Help on function split in module re:\n",
      "\n",
      "split(pattern, string, maxsplit=0, flags=0)\n",
      "    Split the source string by the occurrences of the pattern,\n",
      "    returning a list containing the resulting substrings.  If\n",
      "    capturing parentheses are used in pattern, then the text of all\n",
      "    groups in the pattern are also returned as part of the resulting\n",
      "    list.  If maxsplit is nonzero, at most maxsplit splits occur,\n",
      "    and the remainder of the string is returned as the final element\n",
      "    of the list.\n",
      "\n"
     ]
    }
   ],
   "source": [
    "help(re.split)"
   ]
  },
  {
   "cell_type": "code",
   "execution_count": null,
   "id": "37107812-2c82-4882-a582-4e2dbb95d0d6",
   "metadata": {},
   "outputs": [],
   "source": []
  }
 ],
 "metadata": {
  "kernelspec": {
   "display_name": "Python 3 (ipykernel)",
   "language": "python",
   "name": "python3"
  },
  "language_info": {
   "codemirror_mode": {
    "name": "ipython",
    "version": 3
   },
   "file_extension": ".py",
   "mimetype": "text/x-python",
   "name": "python",
   "nbconvert_exporter": "python",
   "pygments_lexer": "ipython3",
   "version": "3.9.13"
  }
 },
 "nbformat": 4,
 "nbformat_minor": 5
}
