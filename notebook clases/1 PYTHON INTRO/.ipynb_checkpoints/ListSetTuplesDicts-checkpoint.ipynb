{
 "cells": [
  {
   "cell_type": "markdown",
   "id": "f0451170-2fe2-42e1-ad28-a903d78d61e7",
   "metadata": {
    "jp-MarkdownHeadingCollapsed": true,
    "tags": []
   },
   "source": [
    "## Listas"
   ]
  },
  {
   "cell_type": "code",
   "execution_count": 2,
   "id": "5afafb57-5319-42f1-8f5c-0e103ec925a4",
   "metadata": {},
   "outputs": [],
   "source": [
    "#se crean con corchetes (las cajitas)\n",
    "lista1 = ['primer element', [1,3,(2.3, 2)], 324]"
   ]
  },
  {
   "cell_type": "code",
   "execution_count": 3,
   "id": "2e9cd9bb-6b53-4e68-b2cd-23a57b8b1a6f",
   "metadata": {},
   "outputs": [
    {
     "data": {
      "text/plain": [
       "[1, 3, (2.3, 2)]"
      ]
     },
     "execution_count": 3,
     "metadata": {},
     "output_type": "execute_result"
    }
   ],
   "source": [
    "lista1[1]"
   ]
  },
  {
   "cell_type": "code",
   "execution_count": 4,
   "id": "6b98c22b-4fc6-4f33-ad23-ae42bd75099d",
   "metadata": {},
   "outputs": [
    {
     "data": {
      "text/plain": [
       "3"
      ]
     },
     "execution_count": 4,
     "metadata": {},
     "output_type": "execute_result"
    }
   ],
   "source": [
    "lista1[1][1]"
   ]
  },
  {
   "cell_type": "code",
   "execution_count": 5,
   "id": "cfe5e121-737f-4d7c-9c5c-45fa6bb2ebe8",
   "metadata": {},
   "outputs": [],
   "source": [
    "mandado = ['yogurt', 'fruta', 'pan', 'tortillas', 'cafe', 'huevo', 'atun',\n",
    "           'queso', 'maruchan']"
   ]
  },
  {
   "cell_type": "code",
   "execution_count": 6,
   "id": "0f033a11-bf19-4f48-9fe1-d3b4aaaeb2b7",
   "metadata": {},
   "outputs": [
    {
     "data": {
      "text/plain": [
       "['pan', 'tortillas', 'cafe']"
      ]
     },
     "execution_count": 6,
     "metadata": {},
     "output_type": "execute_result"
    }
   ],
   "source": [
    "mandado[2:5]"
   ]
  },
  {
   "cell_type": "code",
   "execution_count": 7,
   "id": "a1cb2197-c73b-49e7-b539-23fb0cbd375d",
   "metadata": {},
   "outputs": [
    {
     "data": {
      "text/plain": [
       "'pan'"
      ]
     },
     "execution_count": 7,
     "metadata": {},
     "output_type": "execute_result"
    }
   ],
   "source": [
    "mandado[2]"
   ]
  },
  {
   "cell_type": "code",
   "execution_count": 8,
   "id": "6105e956-10b1-42d1-98c0-3bb8f4a6347c",
   "metadata": {},
   "outputs": [
    {
     "data": {
      "text/plain": [
       "['pan']"
      ]
     },
     "execution_count": 8,
     "metadata": {},
     "output_type": "execute_result"
    }
   ],
   "source": [
    "mandado[2:3]"
   ]
  },
  {
   "cell_type": "code",
   "execution_count": 9,
   "id": "79605558-570c-4edd-a6cb-4cc8f64bde2f",
   "metadata": {},
   "outputs": [
    {
     "data": {
      "text/plain": [
       "['maruchan', 'atun', 'cafe']"
      ]
     },
     "execution_count": 9,
     "metadata": {},
     "output_type": "execute_result"
    }
   ],
   "source": [
    "mandado[8:2:-2]"
   ]
  },
  {
   "cell_type": "code",
   "execution_count": 10,
   "id": "566522a5-f998-48e7-aa7a-340afaa422cf",
   "metadata": {},
   "outputs": [
    {
     "data": {
      "text/plain": [
       "[]"
      ]
     },
     "execution_count": 10,
     "metadata": {},
     "output_type": "execute_result"
    }
   ],
   "source": [
    "mandado[2:8:-2]"
   ]
  },
  {
   "cell_type": "code",
   "execution_count": 11,
   "id": "9bd78235-a72a-49f4-a2a6-9b1c3e703ac8",
   "metadata": {},
   "outputs": [
    {
     "data": {
      "text/plain": [
       "2407597480192"
      ]
     },
     "execution_count": 11,
     "metadata": {},
     "output_type": "execute_result"
    }
   ],
   "source": [
    "#1637609848768\n",
    "id(mandado)"
   ]
  },
  {
   "cell_type": "code",
   "execution_count": 12,
   "id": "4d9b6b79-20d1-458d-8345-6a9888253e30",
   "metadata": {},
   "outputs": [
    {
     "data": {
      "text/plain": [
       "['yogurt',\n",
       " 'fruta',\n",
       " 'pan',\n",
       " 'tortillas',\n",
       " 'cafe',\n",
       " 'huevo',\n",
       " 'atun',\n",
       " 'queso',\n",
       " 'maruchan']"
      ]
     },
     "execution_count": 12,
     "metadata": {},
     "output_type": "execute_result"
    }
   ],
   "source": [
    "mandado"
   ]
  },
  {
   "cell_type": "code",
   "execution_count": 13,
   "id": "db8a2267-5d00-49fa-a5ce-fb1adc0c7705",
   "metadata": {},
   "outputs": [],
   "source": [
    "mandado.append('leche') "
   ]
  },
  {
   "cell_type": "code",
   "execution_count": 14,
   "id": "04160172-57a2-4b8e-b965-731f61abce0b",
   "metadata": {},
   "outputs": [
    {
     "data": {
      "text/plain": [
       "['yogurt',\n",
       " 'fruta',\n",
       " 'pan',\n",
       " 'tortillas',\n",
       " 'cafe',\n",
       " 'huevo',\n",
       " 'atun',\n",
       " 'queso',\n",
       " 'maruchan',\n",
       " 'leche']"
      ]
     },
     "execution_count": 14,
     "metadata": {},
     "output_type": "execute_result"
    }
   ],
   "source": [
    "mandado"
   ]
  },
  {
   "cell_type": "code",
   "execution_count": 15,
   "id": "21f0d965-024b-4adf-ae3a-3031f0e0b4b9",
   "metadata": {},
   "outputs": [
    {
     "data": {
      "text/plain": [
       "2407597480192"
      ]
     },
     "execution_count": 15,
     "metadata": {},
     "output_type": "execute_result"
    }
   ],
   "source": [
    "id(mandado)"
   ]
  },
  {
   "cell_type": "code",
   "execution_count": 16,
   "id": "62c57158-4e8e-47a3-816f-418276d5a44d",
   "metadata": {},
   "outputs": [],
   "source": [
    "numero = 4"
   ]
  },
  {
   "cell_type": "code",
   "execution_count": 17,
   "id": "437eea9a-0b2f-429a-bcbc-a09c66fbdf6f",
   "metadata": {},
   "outputs": [
    {
     "data": {
      "text/plain": [
       "2407514177872"
      ]
     },
     "execution_count": 17,
     "metadata": {},
     "output_type": "execute_result"
    }
   ],
   "source": [
    "id(numero)"
   ]
  },
  {
   "cell_type": "code",
   "execution_count": 18,
   "id": "3f4344e9-e61e-4079-93f3-9b204767ffd5",
   "metadata": {},
   "outputs": [],
   "source": [
    "numero += 3"
   ]
  },
  {
   "cell_type": "code",
   "execution_count": 19,
   "id": "dee8c8ca-bd02-4f86-9ff2-36cffc905f80",
   "metadata": {},
   "outputs": [
    {
     "data": {
      "text/plain": [
       "2407514177968"
      ]
     },
     "execution_count": 19,
     "metadata": {},
     "output_type": "execute_result"
    }
   ],
   "source": [
    "id(numero)"
   ]
  },
  {
   "cell_type": "code",
   "execution_count": 20,
   "id": "15da1d51-b160-439d-a621-5badb8e777a0",
   "metadata": {},
   "outputs": [
    {
     "data": {
      "text/plain": [
       "7"
      ]
     },
     "execution_count": 20,
     "metadata": {},
     "output_type": "execute_result"
    }
   ],
   "source": [
    "numero"
   ]
  },
  {
   "cell_type": "code",
   "execution_count": 21,
   "id": "d662058f-d92f-47b7-9aba-be06d5cadef5",
   "metadata": {},
   "outputs": [],
   "source": [
    "numero *= 2"
   ]
  },
  {
   "cell_type": "code",
   "execution_count": 22,
   "id": "fbaf9772-f4d4-48d4-9d1c-b353f6f97238",
   "metadata": {},
   "outputs": [
    {
     "data": {
      "text/plain": [
       "14"
      ]
     },
     "execution_count": 22,
     "metadata": {},
     "output_type": "execute_result"
    }
   ],
   "source": [
    "numero"
   ]
  },
  {
   "cell_type": "code",
   "execution_count": 23,
   "id": "ff09570b-b210-43f2-accc-f0ca13a78b92",
   "metadata": {},
   "outputs": [],
   "source": [
    "numero /= 7"
   ]
  },
  {
   "cell_type": "code",
   "execution_count": 24,
   "id": "a8f2f938-bc00-4e4d-8361-b2520312bef2",
   "metadata": {},
   "outputs": [
    {
     "data": {
      "text/plain": [
       "2.0"
      ]
     },
     "execution_count": 24,
     "metadata": {},
     "output_type": "execute_result"
    }
   ],
   "source": [
    "numero"
   ]
  },
  {
   "cell_type": "code",
   "execution_count": 25,
   "id": "980e211e-1d91-49ab-b3d2-d6bbabdf46de",
   "metadata": {},
   "outputs": [
    {
     "name": "stdout",
     "output_type": "stream",
     "text": [
      "['yogurt', 'fruta', 'pan', 'tortillas', 'cafe', 'huevo', 'atun', 'queso', 'maruchan', 'leche']\n"
     ]
    }
   ],
   "source": [
    "print(mandado)"
   ]
  },
  {
   "cell_type": "code",
   "execution_count": 26,
   "id": "0e69d6ee-1cde-4443-a21d-d25c4f5a4d71",
   "metadata": {},
   "outputs": [],
   "source": [
    "mandado2 = mandado\n",
    "mandado3 = mandado.copy()"
   ]
  },
  {
   "cell_type": "code",
   "execution_count": 27,
   "id": "bba922f7-e59c-4013-b2aa-1c6dd76ce184",
   "metadata": {},
   "outputs": [
    {
     "name": "stdout",
     "output_type": "stream",
     "text": [
      "2407597480192\n",
      "2407597480192\n",
      "2407625903488\n"
     ]
    }
   ],
   "source": [
    "print(id(mandado))\n",
    "print(id(mandado2))\n",
    "print(id(mandado3))"
   ]
  },
  {
   "cell_type": "code",
   "execution_count": 28,
   "id": "13acdb5b-ebde-4045-b870-2f2616c707fa",
   "metadata": {},
   "outputs": [
    {
     "data": {
      "text/plain": [
       "'maruchan'"
      ]
     },
     "execution_count": 28,
     "metadata": {},
     "output_type": "execute_result"
    }
   ],
   "source": [
    "resultado = mandado.pop(-2)\n",
    "resultado"
   ]
  },
  {
   "cell_type": "code",
   "execution_count": 29,
   "id": "a554afce-c7b1-46c8-a3c9-5984f23f66d7",
   "metadata": {},
   "outputs": [
    {
     "name": "stdout",
     "output_type": "stream",
     "text": [
      "['yogurt', 'fruta', 'pan', 'tortillas', 'cafe', 'huevo', 'atun', 'queso', 'leche']\n"
     ]
    }
   ],
   "source": [
    "print(mandado)"
   ]
  },
  {
   "cell_type": "code",
   "execution_count": 30,
   "id": "22121b7d-4d90-4866-8b94-2210ad4917a4",
   "metadata": {},
   "outputs": [
    {
     "name": "stdout",
     "output_type": "stream",
     "text": [
      "['yogurt', 'fruta', 'pan', 'tortillas', 'cafe', 'huevo', 'atun', 'queso', 'leche']\n"
     ]
    }
   ],
   "source": [
    "print(mandado2)"
   ]
  },
  {
   "cell_type": "code",
   "execution_count": 31,
   "id": "bf679949-d142-48c6-bbec-a26e127bc239",
   "metadata": {},
   "outputs": [
    {
     "name": "stdout",
     "output_type": "stream",
     "text": [
      "['yogurt', 'fruta', 'pan', 'tortillas', 'cafe', 'huevo', 'atun', 'queso', 'maruchan', 'leche']\n"
     ]
    }
   ],
   "source": [
    "print(mandado3)"
   ]
  },
  {
   "cell_type": "code",
   "execution_count": 32,
   "id": "3485de65-6c62-4ce8-b8bf-6436b1e8402c",
   "metadata": {},
   "outputs": [
    {
     "data": {
      "text/plain": [
       "['yogurt',\n",
       " 'fruta',\n",
       " 'pan',\n",
       " 'tortillas',\n",
       " 'cafe',\n",
       " 'huevo',\n",
       " 'atun',\n",
       " 'queso',\n",
       " 'leche']"
      ]
     },
     "execution_count": 32,
     "metadata": {},
     "output_type": "execute_result"
    }
   ],
   "source": [
    "mandado"
   ]
  },
  {
   "cell_type": "code",
   "execution_count": 33,
   "id": "00c7b92e-8cb7-4be8-bdfd-4c8344e24ad2",
   "metadata": {},
   "outputs": [],
   "source": [
    "mandado.remove('yogurt')"
   ]
  },
  {
   "cell_type": "code",
   "execution_count": 34,
   "id": "d0ce8669-c0e6-4bb3-917b-02e7fb98de3e",
   "metadata": {},
   "outputs": [],
   "source": [
    "mandado.append('yakult')"
   ]
  },
  {
   "cell_type": "code",
   "execution_count": 35,
   "id": "cd76a8d2-14ae-4bdd-8e24-0a5760732cdb",
   "metadata": {},
   "outputs": [
    {
     "data": {
      "text/plain": [
       "['fruta',\n",
       " 'pan',\n",
       " 'tortillas',\n",
       " 'cafe',\n",
       " 'huevo',\n",
       " 'atun',\n",
       " 'queso',\n",
       " 'leche',\n",
       " 'yakult']"
      ]
     },
     "execution_count": 35,
     "metadata": {},
     "output_type": "execute_result"
    }
   ],
   "source": [
    "mandado"
   ]
  },
  {
   "cell_type": "code",
   "execution_count": 37,
   "id": "6c752440-5872-4d54-b5dc-dc0bec66a2ff",
   "metadata": {},
   "outputs": [],
   "source": [
    "mandado[0] = 'cereal'"
   ]
  },
  {
   "cell_type": "code",
   "execution_count": 38,
   "id": "56286ad1-a3c7-4a71-aae0-0fd4257a6155",
   "metadata": {},
   "outputs": [
    {
     "data": {
      "text/plain": [
       "['cereal',\n",
       " 'pan',\n",
       " 'tortillas',\n",
       " 'cafe',\n",
       " 'huevo',\n",
       " 'atun',\n",
       " 'queso',\n",
       " 'leche',\n",
       " 'yakult']"
      ]
     },
     "execution_count": 38,
     "metadata": {},
     "output_type": "execute_result"
    }
   ],
   "source": [
    "mandado"
   ]
  },
  {
   "cell_type": "code",
   "execution_count": 43,
   "id": "d928dfd6-d33f-42d7-8640-95cadafcbb9c",
   "metadata": {},
   "outputs": [],
   "source": [
    "mandado.insert(2, 'yogurt')"
   ]
  },
  {
   "cell_type": "code",
   "execution_count": 42,
   "id": "e6686f02-9037-4fa9-b2eb-d1199d7420b0",
   "metadata": {},
   "outputs": [
    {
     "name": "stdout",
     "output_type": "stream",
     "text": [
      "Help on method_descriptor:\n",
      "\n",
      "insert(self, index, object, /)\n",
      "    Insert object before index.\n",
      "\n"
     ]
    }
   ],
   "source": [
    "help(list.insert)"
   ]
  },
  {
   "cell_type": "code",
   "execution_count": 44,
   "id": "824918cb-78d5-470c-8bc6-e45f218edb3e",
   "metadata": {},
   "outputs": [
    {
     "data": {
      "text/plain": [
       "['cereal',\n",
       " 'pan',\n",
       " 'yogurt',\n",
       " 'tortillas',\n",
       " 'cafe',\n",
       " 'huevo',\n",
       " 'atun',\n",
       " 'queso',\n",
       " 'leche',\n",
       " 'yakult']"
      ]
     },
     "execution_count": 44,
     "metadata": {},
     "output_type": "execute_result"
    }
   ],
   "source": [
    "mandado"
   ]
  },
  {
   "cell_type": "code",
   "execution_count": 56,
   "id": "9eea5bca-e2b3-407e-91d2-cbd773f7582b",
   "metadata": {},
   "outputs": [],
   "source": [
    "mandado.extend(('tacos', 'burritos'))"
   ]
  },
  {
   "cell_type": "code",
   "execution_count": 58,
   "id": "90fc5c0c-8253-4a0f-b4a8-3ba40b6bfea2",
   "metadata": {},
   "outputs": [
    {
     "data": {
      "text/plain": [
       "['cereal',\n",
       " 'pan',\n",
       " 'yogurt',\n",
       " 'tortillas',\n",
       " 'cafe',\n",
       " 'huevo',\n",
       " 'atun',\n",
       " 'queso',\n",
       " 'leche',\n",
       " 'yakult',\n",
       " 'tacos',\n",
       " 'burritos',\n",
       " 'yogurt',\n",
       " 'fruta',\n",
       " 'pan',\n",
       " 'tortillas',\n",
       " 'cafe',\n",
       " 'huevo',\n",
       " 'atun',\n",
       " 'queso',\n",
       " 'maruchan',\n",
       " 'leche',\n",
       " 'tacos',\n",
       " 'burritos']"
      ]
     },
     "execution_count": 58,
     "metadata": {},
     "output_type": "execute_result"
    }
   ],
   "source": [
    "mandado"
   ]
  },
  {
   "cell_type": "code",
   "execution_count": 47,
   "id": "15180c31-0661-4737-a4d6-bc7d54d73907",
   "metadata": {},
   "outputs": [
    {
     "data": {
      "text/plain": [
       "['yogurt',\n",
       " 'fruta',\n",
       " 'pan',\n",
       " 'tortillas',\n",
       " 'cafe',\n",
       " 'huevo',\n",
       " 'atun',\n",
       " 'queso',\n",
       " 'maruchan',\n",
       " 'leche']"
      ]
     },
     "execution_count": 47,
     "metadata": {},
     "output_type": "execute_result"
    }
   ],
   "source": [
    "mandado3"
   ]
  },
  {
   "cell_type": "code",
   "execution_count": 53,
   "id": "fe04e612-e9b8-4cd4-a2ad-52a6259af421",
   "metadata": {},
   "outputs": [],
   "source": [
    "mandado += mandado3 # Es equivalente a mandado = mandado + mandado3"
   ]
  },
  {
   "cell_type": "code",
   "execution_count": 54,
   "id": "29532dc5-4029-41e2-88b4-a87d571d622b",
   "metadata": {},
   "outputs": [
    {
     "data": {
      "text/plain": [
       "['cereal',\n",
       " 'pan',\n",
       " 'yogurt',\n",
       " 'tortillas',\n",
       " 'cafe',\n",
       " 'huevo',\n",
       " 'atun',\n",
       " 'queso',\n",
       " 'leche',\n",
       " 'yakult',\n",
       " 'tacos',\n",
       " 'burritos',\n",
       " 'yogurt',\n",
       " 'fruta',\n",
       " 'pan',\n",
       " 'tortillas',\n",
       " 'cafe',\n",
       " 'huevo',\n",
       " 'atun',\n",
       " 'queso',\n",
       " 'maruchan',\n",
       " 'leche']"
      ]
     },
     "execution_count": 54,
     "metadata": {},
     "output_type": "execute_result"
    }
   ],
   "source": [
    "mandado"
   ]
  },
  {
   "cell_type": "code",
   "execution_count": 59,
   "id": "33830f8a-c9fc-4877-833b-716e6fd0bc0f",
   "metadata": {},
   "outputs": [
    {
     "data": {
      "text/plain": [
       "<function list.sort(*, key=None, reverse=False)>"
      ]
     },
     "execution_count": 73,
     "metadata": {},
     "output_type": "execute_result"
    }
   ],
   "source": [
    "mandado.sort()"
   ]
  },
  {
   "cell_type": "code",
   "execution_count": 60,
   "id": "486f8df1-75ba-491b-a132-1b0b5253232d",
   "metadata": {},
   "outputs": [
    {
     "data": {
      "text/plain": [
       "['atun',\n",
       " 'atun',\n",
       " 'burritos',\n",
       " 'burritos',\n",
       " 'cafe',\n",
       " 'cafe',\n",
       " 'cereal',\n",
       " 'fruta',\n",
       " 'huevo',\n",
       " 'huevo',\n",
       " 'leche',\n",
       " 'leche',\n",
       " 'maruchan',\n",
       " 'pan',\n",
       " 'pan',\n",
       " 'queso',\n",
       " 'queso',\n",
       " 'tacos',\n",
       " 'tacos',\n",
       " 'tortillas',\n",
       " 'tortillas',\n",
       " 'yakult',\n",
       " 'yogurt',\n",
       " 'yogurt']"
      ]
     },
     "execution_count": 60,
     "metadata": {},
     "output_type": "execute_result"
    }
   ],
   "source": [
    "mandado"
   ]
  },
  {
   "cell_type": "code",
   "execution_count": 61,
   "id": "460433f1-447c-4b58-82df-6c49c0375df5",
   "metadata": {},
   "outputs": [
    {
     "data": {
      "text/plain": [
       "['yogurt',\n",
       " 'fruta',\n",
       " 'pan',\n",
       " 'tortillas',\n",
       " 'cafe',\n",
       " 'huevo',\n",
       " 'atun',\n",
       " 'queso',\n",
       " 'maruchan',\n",
       " 'leche']"
      ]
     },
     "execution_count": 61,
     "metadata": {},
     "output_type": "execute_result"
    }
   ],
   "source": [
    "mandado3"
   ]
  },
  {
   "cell_type": "code",
   "execution_count": 62,
   "id": "be68a679-7e55-4a47-a795-f11a43253fa5",
   "metadata": {},
   "outputs": [
    {
     "data": {
      "text/plain": [
       "['atun',\n",
       " 'cafe',\n",
       " 'fruta',\n",
       " 'huevo',\n",
       " 'leche',\n",
       " 'maruchan',\n",
       " 'pan',\n",
       " 'queso',\n",
       " 'tortillas',\n",
       " 'yogurt']"
      ]
     },
     "execution_count": 62,
     "metadata": {},
     "output_type": "execute_result"
    }
   ],
   "source": [
    "sorted(mandado3)"
   ]
  },
  {
   "cell_type": "code",
   "execution_count": 63,
   "id": "d557a842-da49-4026-9e46-5e1933a4212a",
   "metadata": {},
   "outputs": [
    {
     "data": {
      "text/plain": [
       "['yogurt',\n",
       " 'fruta',\n",
       " 'pan',\n",
       " 'tortillas',\n",
       " 'cafe',\n",
       " 'huevo',\n",
       " 'atun',\n",
       " 'queso',\n",
       " 'maruchan',\n",
       " 'leche']"
      ]
     },
     "execution_count": 63,
     "metadata": {},
     "output_type": "execute_result"
    }
   ],
   "source": [
    "mandado3"
   ]
  },
  {
   "cell_type": "code",
   "execution_count": 71,
   "id": "9a218bfa-76b9-492b-b7d6-4e29ad360cd6",
   "metadata": {},
   "outputs": [],
   "source": [
    "lista_desordenada = ['ánimal', 'Atipico', '2001', 'estoico']"
   ]
  },
  {
   "cell_type": "code",
   "execution_count": 72,
   "id": "4516f7f1-81ba-4c64-84e5-00c6d73691ff",
   "metadata": {},
   "outputs": [
    {
     "data": {
      "text/plain": [
       "['2001', 'Atipico', 'estoico', 'ánimal']"
      ]
     },
     "execution_count": 72,
     "metadata": {},
     "output_type": "execute_result"
    }
   ],
   "source": [
    "sorted(lista_desordenada)"
   ]
  },
  {
   "cell_type": "code",
   "execution_count": 67,
   "id": "cf9680ea-ad33-46cb-93fc-e15e6a5933bc",
   "metadata": {},
   "outputs": [
    {
     "data": {
      "text/plain": [
       "50"
      ]
     },
     "execution_count": 67,
     "metadata": {},
     "output_type": "execute_result"
    }
   ],
   "source": [
    "ord('2')"
   ]
  },
  {
   "cell_type": "code",
   "execution_count": 68,
   "id": "1b9bfc40-03d3-4c9e-a70f-71795212e3bf",
   "metadata": {},
   "outputs": [
    {
     "data": {
      "text/plain": [
       "65"
      ]
     },
     "execution_count": 68,
     "metadata": {},
     "output_type": "execute_result"
    }
   ],
   "source": [
    "ord('A')"
   ]
  },
  {
   "cell_type": "code",
   "execution_count": 69,
   "id": "758f5f51-0a27-4924-8136-e40f1852c5ea",
   "metadata": {},
   "outputs": [
    {
     "data": {
      "text/plain": [
       "97"
      ]
     },
     "execution_count": 69,
     "metadata": {},
     "output_type": "execute_result"
    }
   ],
   "source": [
    "ord('a')"
   ]
  },
  {
   "cell_type": "code",
   "execution_count": 70,
   "id": "03d383b9-2c47-4ce4-95a1-d07bf5d94930",
   "metadata": {},
   "outputs": [
    {
     "data": {
      "text/plain": [
       "225"
      ]
     },
     "execution_count": 70,
     "metadata": {},
     "output_type": "execute_result"
    }
   ],
   "source": [
    "ord('á')"
   ]
  },
  {
   "cell_type": "code",
   "execution_count": 74,
   "id": "3436bcce-13a7-43ef-8416-054171ea5087",
   "metadata": {},
   "outputs": [
    {
     "data": {
      "text/plain": [
       "['yogurt',\n",
       " 'fruta',\n",
       " 'pan',\n",
       " 'tortillas',\n",
       " 'cafe',\n",
       " 'huevo',\n",
       " 'atun',\n",
       " 'queso',\n",
       " 'maruchan',\n",
       " 'leche']"
      ]
     },
     "execution_count": 74,
     "metadata": {},
     "output_type": "execute_result"
    }
   ],
   "source": [
    "mandado3"
   ]
  },
  {
   "cell_type": "code",
   "execution_count": 75,
   "id": "ef232bcd-f560-469c-8324-26cfb726c0a7",
   "metadata": {},
   "outputs": [],
   "source": [
    "lacteos = ['yogurt', 'queso', 'leche']"
   ]
  },
  {
   "cell_type": "code",
   "execution_count": 76,
   "id": "82f69c5f-f885-4575-a80e-f7171bef024d",
   "metadata": {},
   "outputs": [],
   "source": [
    "mandado4 = mandado3.copy()"
   ]
  },
  {
   "cell_type": "code",
   "execution_count": 77,
   "id": "908a0399-f863-4806-b470-134237febaa7",
   "metadata": {},
   "outputs": [],
   "source": [
    "buenos = []\n",
    "for producto in mandado4:\n",
    "    for lacteo in lacteos:\n",
    "        if producto == lacteo:\n",
    "            mandado4.remove(lacteo)"
   ]
  },
  {
   "cell_type": "code",
   "execution_count": 78,
   "id": "b8993cda-58ac-45f6-974b-82d53f77e440",
   "metadata": {},
   "outputs": [
    {
     "data": {
      "text/plain": [
       "['fruta', 'pan', 'tortillas', 'cafe', 'huevo', 'atun', 'maruchan']"
      ]
     },
     "execution_count": 78,
     "metadata": {},
     "output_type": "execute_result"
    }
   ],
   "source": [
    "mandado4"
   ]
  },
  {
   "cell_type": "code",
   "execution_count": 79,
   "id": "dc1d6d8b-c386-4fb5-9f24-d54698fab063",
   "metadata": {},
   "outputs": [],
   "source": [
    "buenos = []\n",
    "for producto in mandado3:\n",
    "    if producto not in lacteos:\n",
    "        buenos.append(producto)"
   ]
  },
  {
   "cell_type": "code",
   "execution_count": 80,
   "id": "ccdba956-cd77-4147-aec8-5d93d70b884b",
   "metadata": {},
   "outputs": [
    {
     "data": {
      "text/plain": [
       "['fruta', 'pan', 'tortillas', 'cafe', 'huevo', 'atun', 'maruchan']"
      ]
     },
     "execution_count": 80,
     "metadata": {},
     "output_type": "execute_result"
    }
   ],
   "source": [
    "buenos"
   ]
  },
  {
   "cell_type": "code",
   "execution_count": 81,
   "id": "bf486919-fbd3-4c32-8dc9-4583b23c8417",
   "metadata": {},
   "outputs": [
    {
     "data": {
      "text/plain": [
       "['fruta', 'pan', 'tortillas', 'cafe', 'huevo', 'atun', 'maruchan']"
      ]
     },
     "execution_count": 81,
     "metadata": {},
     "output_type": "execute_result"
    }
   ],
   "source": [
    "buenos"
   ]
  },
  {
   "cell_type": "code",
   "execution_count": 82,
   "id": "7467d5a7-98d6-415c-b678-f8f2e97f9d4d",
   "metadata": {},
   "outputs": [],
   "source": [
    "buenos.reverse()"
   ]
  },
  {
   "cell_type": "code",
   "execution_count": 83,
   "id": "1d24ff1c-1cbe-4ebc-9479-1cc5b27dc961",
   "metadata": {},
   "outputs": [
    {
     "data": {
      "text/plain": [
       "['maruchan', 'atun', 'huevo', 'cafe', 'tortillas', 'pan', 'fruta']"
      ]
     },
     "execution_count": 83,
     "metadata": {},
     "output_type": "execute_result"
    }
   ],
   "source": [
    "buenos"
   ]
  },
  {
   "cell_type": "code",
   "execution_count": 84,
   "id": "20b3e0fb-0610-45d3-b89e-cfd9f666103b",
   "metadata": {},
   "outputs": [
    {
     "data": {
      "text/plain": [
       "['fruta', 'pan', 'tortillas', 'cafe', 'huevo', 'atun', 'maruchan']"
      ]
     },
     "execution_count": 84,
     "metadata": {},
     "output_type": "execute_result"
    }
   ],
   "source": [
    "buenos[::-1] # buenos = buenos[::-1]"
   ]
  },
  {
   "cell_type": "code",
   "execution_count": 85,
   "id": "f7d294c7-6758-4970-9a90-a61f526c95d9",
   "metadata": {},
   "outputs": [
    {
     "data": {
      "text/plain": [
       "['maruchan', 'atun', 'huevo', 'cafe', 'tortillas', 'pan', 'fruta']"
      ]
     },
     "execution_count": 85,
     "metadata": {},
     "output_type": "execute_result"
    }
   ],
   "source": [
    "buenos"
   ]
  },
  {
   "cell_type": "code",
   "execution_count": 86,
   "id": "c01277ab-9a7e-4e1f-89df-7de13ea7625d",
   "metadata": {},
   "outputs": [],
   "source": [
    "tupla = ('elemento1', 'elemento2')"
   ]
  },
  {
   "cell_type": "markdown",
   "id": "240a4c7d-b7ca-49b2-bb56-d35c747c1f4e",
   "metadata": {
    "jp-MarkdownHeadingCollapsed": true,
    "tags": []
   },
   "source": [
    "## Tuplas"
   ]
  },
  {
   "cell_type": "code",
   "execution_count": 87,
   "id": "f264736b-c661-4d1e-94a5-9dc596b6907d",
   "metadata": {},
   "outputs": [
    {
     "data": {
      "text/plain": [
       "('elemento1', 'elemento2')"
      ]
     },
     "execution_count": 87,
     "metadata": {},
     "output_type": "execute_result"
    }
   ],
   "source": [
    "tupla"
   ]
  },
  {
   "cell_type": "code",
   "execution_count": 88,
   "id": "01782a7f-b19f-4fee-84e6-955bd367aa6a",
   "metadata": {},
   "outputs": [
    {
     "data": {
      "text/plain": [
       "tuple"
      ]
     },
     "execution_count": 88,
     "metadata": {},
     "output_type": "execute_result"
    }
   ],
   "source": [
    "type(tupla)"
   ]
  },
  {
   "cell_type": "code",
   "execution_count": 89,
   "id": "bc2af570-d7e7-4585-9db6-ded27f49f75f",
   "metadata": {},
   "outputs": [
    {
     "data": {
      "text/plain": [
       "list"
      ]
     },
     "execution_count": 89,
     "metadata": {},
     "output_type": "execute_result"
    }
   ],
   "source": [
    "type(mandado)"
   ]
  },
  {
   "cell_type": "code",
   "execution_count": 90,
   "id": "bfaf08ed-43d5-4810-a572-aab31a0bab58",
   "metadata": {},
   "outputs": [
    {
     "data": {
      "text/plain": [
       "['yogurt',\n",
       " 'fruta',\n",
       " 'pan',\n",
       " 'tortillas',\n",
       " 'cafe',\n",
       " 'huevo',\n",
       " 'atun',\n",
       " 'queso',\n",
       " 'maruchan',\n",
       " 'leche']"
      ]
     },
     "execution_count": 90,
     "metadata": {},
     "output_type": "execute_result"
    }
   ],
   "source": [
    "mandado3"
   ]
  },
  {
   "cell_type": "code",
   "execution_count": 91,
   "id": "9a14d130-06bc-4577-a435-d193e10b4f36",
   "metadata": {},
   "outputs": [],
   "source": [
    "tupla_mandado = tuple(mandado3)"
   ]
  },
  {
   "cell_type": "code",
   "execution_count": 99,
   "id": "d0312c37-030f-45e5-bde8-bd94703c9bbf",
   "metadata": {},
   "outputs": [
    {
     "data": {
      "text/plain": [
       "('yogurt',\n",
       " 'fruta',\n",
       " 'pan',\n",
       " 'tortillas',\n",
       " 'cafe',\n",
       " 'huevo',\n",
       " 'atun',\n",
       " 'queso',\n",
       " 'maruchan',\n",
       " 'leche')"
      ]
     },
     "execution_count": 99,
     "metadata": {},
     "output_type": "execute_result"
    }
   ],
   "source": [
    "tupla_mandado"
   ]
  },
  {
   "cell_type": "code",
   "execution_count": 97,
   "id": "322a6bd7-733a-43d6-8e46-a6af5a591bca",
   "metadata": {},
   "outputs": [
    {
     "name": "stdout",
     "output_type": "stream",
     "text": [
      "('yogurt', 'fruta', 'pan', 'tortillas', 'cafe', 'huevo', 'atun', 'queso', 'maruchan', 'leche')\n"
     ]
    },
    {
     "data": {
      "text/plain": [
       "4"
      ]
     },
     "execution_count": 97,
     "metadata": {},
     "output_type": "execute_result"
    }
   ],
   "source": [
    "print(tupla_mandado)\n",
    "4"
   ]
  },
  {
   "cell_type": "code",
   "execution_count": 100,
   "id": "ed961d32-5ab8-4f01-b7f0-915abbf86c69",
   "metadata": {},
   "outputs": [
    {
     "name": "stdout",
     "output_type": "stream",
     "text": [
      "yogurt\n",
      "fruta\n",
      "pan\n",
      "tortillas\n",
      "cafe\n",
      "huevo\n",
      "atun\n",
      "queso\n",
      "maruchan\n",
      "leche\n"
     ]
    }
   ],
   "source": [
    "for elemento in tupla_mandado:\n",
    "    print(elemento)"
   ]
  },
  {
   "cell_type": "code",
   "execution_count": 102,
   "id": "71ea20d2-40a9-4977-aa23-0a4f9ca0a194",
   "metadata": {},
   "outputs": [
    {
     "ename": "AttributeError",
     "evalue": "'tuple' object has no attribute 'append'",
     "output_type": "error",
     "traceback": [
      "\u001b[1;31m---------------------------------------------------------------------------\u001b[0m",
      "\u001b[1;31mAttributeError\u001b[0m                            Traceback (most recent call last)",
      "Cell \u001b[1;32mIn [102], line 1\u001b[0m\n\u001b[1;32m----> 1\u001b[0m tupla_mandado\u001b[38;5;241m.\u001b[39mappend(\u001b[38;5;124m'\u001b[39m\u001b[38;5;124msalmon\u001b[39m\u001b[38;5;124m'\u001b[39m)\n",
      "\u001b[1;31mAttributeError\u001b[0m: 'tuple' object has no attribute 'append'"
     ]
    }
   ],
   "source": [
    "tupla_mandado.append('salmon')"
   ]
  },
  {
   "cell_type": "code",
   "execution_count": 103,
   "id": "75e2392a-78ad-4745-b072-194c28b4a302",
   "metadata": {},
   "outputs": [
    {
     "data": {
      "text/plain": [
       "2407637718080"
      ]
     },
     "execution_count": 103,
     "metadata": {},
     "output_type": "execute_result"
    }
   ],
   "source": [
    "id(tupla_mandado)"
   ]
  },
  {
   "cell_type": "code",
   "execution_count": 104,
   "id": "26be3447-4b5c-4e28-81d9-7747635d8aeb",
   "metadata": {},
   "outputs": [],
   "source": [
    "tupla_mandado = list(tupla_mandado)\n",
    "tupla_mandado.append('salmon')\n",
    "tupla_mandado = tuple(tupla_mandado)"
   ]
  },
  {
   "cell_type": "code",
   "execution_count": 106,
   "id": "d611734f-ff2a-4aff-81fa-3ebe27da8a08",
   "metadata": {},
   "outputs": [
    {
     "name": "stdout",
     "output_type": "stream",
     "text": [
      "('yogurt', 'fruta', 'pan', 'tortillas', 'cafe', 'huevo', 'atun', 'queso', 'maruchan', 'leche', 'salmon')\n"
     ]
    }
   ],
   "source": [
    "print(tupla_mandado)"
   ]
  },
  {
   "cell_type": "code",
   "execution_count": 107,
   "id": "943525b8-aad5-4346-8a80-efa9cb90c1a2",
   "metadata": {},
   "outputs": [
    {
     "data": {
      "text/plain": [
       "2407640503360"
      ]
     },
     "execution_count": 107,
     "metadata": {},
     "output_type": "execute_result"
    }
   ],
   "source": [
    "id(tupla_mandado)"
   ]
  },
  {
   "cell_type": "code",
   "execution_count": 116,
   "id": "4b970087-95a1-40fc-abfe-84d74171d26f",
   "metadata": {},
   "outputs": [],
   "source": [
    "tupla_con_lista = ('1', [2,3], '2')"
   ]
  },
  {
   "cell_type": "code",
   "execution_count": 117,
   "id": "8a808672-ba1e-4eab-9508-d62ed594a36d",
   "metadata": {},
   "outputs": [
    {
     "data": {
      "text/plain": [
       "2407636814592"
      ]
     },
     "execution_count": 117,
     "metadata": {},
     "output_type": "execute_result"
    }
   ],
   "source": [
    "id(tupla_con_lista)"
   ]
  },
  {
   "cell_type": "code",
   "execution_count": 118,
   "id": "e750444b-fa6b-4ea9-8d56-b774fd3fee9c",
   "metadata": {},
   "outputs": [
    {
     "data": {
      "text/plain": [
       "('1', [2, 3], '2')"
      ]
     },
     "execution_count": 118,
     "metadata": {},
     "output_type": "execute_result"
    }
   ],
   "source": [
    "tupla_con_lista"
   ]
  },
  {
   "cell_type": "code",
   "execution_count": 119,
   "id": "be86ae3e-75ca-419f-89b0-05e8ef34790e",
   "metadata": {},
   "outputs": [],
   "source": [
    "tupla_con_lista[1].append('2')  "
   ]
  },
  {
   "cell_type": "code",
   "execution_count": 120,
   "id": "e1a7bbee-22d8-434a-92d5-8216574476c1",
   "metadata": {},
   "outputs": [
    {
     "data": {
      "text/plain": [
       "('1', [2, 3, '2'], '2')"
      ]
     },
     "execution_count": 120,
     "metadata": {},
     "output_type": "execute_result"
    }
   ],
   "source": [
    "tupla_con_lista"
   ]
  },
  {
   "cell_type": "code",
   "execution_count": 121,
   "id": "c72094a1-13d6-48a4-8901-1f7b6fa28c87",
   "metadata": {},
   "outputs": [
    {
     "data": {
      "text/plain": [
       "2407636814592"
      ]
     },
     "execution_count": 121,
     "metadata": {},
     "output_type": "execute_result"
    }
   ],
   "source": [
    "id(tupla_con_lista)"
   ]
  },
  {
   "cell_type": "markdown",
   "id": "7ed40cb6-5812-4c96-a06b-c807ee760353",
   "metadata": {
    "jp-MarkdownHeadingCollapsed": true,
    "tags": []
   },
   "source": [
    "## Sets"
   ]
  },
  {
   "cell_type": "code",
   "execution_count": 122,
   "id": "153e0ffd-f11e-4ab0-889e-d89dccb1e207",
   "metadata": {},
   "outputs": [],
   "source": [
    "conjunto = {1,2,34,1,2,3,4,1,34,2,1,1,2,3,4}"
   ]
  },
  {
   "cell_type": "code",
   "execution_count": 123,
   "id": "0fe4ce28-342c-4d50-87b6-45b768493635",
   "metadata": {},
   "outputs": [
    {
     "data": {
      "text/plain": [
       "{1, 2, 3, 4, 34}"
      ]
     },
     "execution_count": 123,
     "metadata": {},
     "output_type": "execute_result"
    }
   ],
   "source": [
    "conjunto"
   ]
  },
  {
   "cell_type": "code",
   "execution_count": 124,
   "id": "2d7f95cf-39f9-49a5-99c2-c197f969a350",
   "metadata": {},
   "outputs": [
    {
     "ename": "TypeError",
     "evalue": "'set' object is not subscriptable",
     "output_type": "error",
     "traceback": [
      "\u001b[1;31m---------------------------------------------------------------------------\u001b[0m",
      "\u001b[1;31mTypeError\u001b[0m                                 Traceback (most recent call last)",
      "Cell \u001b[1;32mIn [124], line 1\u001b[0m\n\u001b[1;32m----> 1\u001b[0m conjunto[\u001b[38;5;241m0\u001b[39m]\n",
      "\u001b[1;31mTypeError\u001b[0m: 'set' object is not subscriptable"
     ]
    }
   ],
   "source": [
    "conjunto[0]"
   ]
  },
  {
   "cell_type": "code",
   "execution_count": 125,
   "id": "309d0412-d18a-4645-82e5-2a4ffe4ca33c",
   "metadata": {},
   "outputs": [
    {
     "name": "stdout",
     "output_type": "stream",
     "text": [
      "1\n",
      "2\n",
      "3\n",
      "34\n",
      "4\n"
     ]
    }
   ],
   "source": [
    "for elemento in conjunto:\n",
    "    print(elemento)"
   ]
  },
  {
   "cell_type": "code",
   "execution_count": 126,
   "id": "b2387773-d9ab-4adb-a0de-1a27005701a6",
   "metadata": {},
   "outputs": [
    {
     "data": {
      "text/plain": [
       "{1, 2, 3, 4, 34}"
      ]
     },
     "execution_count": 126,
     "metadata": {},
     "output_type": "execute_result"
    }
   ],
   "source": [
    "conjunto"
   ]
  },
  {
   "cell_type": "code",
   "execution_count": 128,
   "id": "c76908c7-5899-421a-9d55-4307f5f00d68",
   "metadata": {},
   "outputs": [
    {
     "data": {
      "text/plain": [
       "[1, 2, 3, 34, 4]"
      ]
     },
     "execution_count": 128,
     "metadata": {},
     "output_type": "execute_result"
    }
   ],
   "source": [
    "lista_repetido = [1,2,34,1,2,3,4,1,34,2,1,1,2,3,4]\n",
    "lista_repetido = list(set(lista_repetido))\n",
    "lista_repetido"
   ]
  },
  {
   "cell_type": "code",
   "execution_count": 130,
   "id": "7c25128f-40e4-4f29-bfa5-e33e84b4b672",
   "metadata": {},
   "outputs": [],
   "source": [
    "lista_repetido = [1,2,34,1,2,3,4,1,34,2,1,1,2,3,4]"
   ]
  },
  {
   "cell_type": "code",
   "execution_count": 135,
   "id": "0f10be54-456a-4c90-a86e-4acc60714183",
   "metadata": {},
   "outputs": [
    {
     "data": {
      "text/plain": [
       "dict"
      ]
     },
     "execution_count": 135,
     "metadata": {},
     "output_type": "execute_result"
    }
   ],
   "source": [
    "type({})"
   ]
  },
  {
   "cell_type": "code",
   "execution_count": 169,
   "id": "6188e3b0-ae37-4ea8-b36d-f1dbc37705e9",
   "metadata": {},
   "outputs": [],
   "source": [
    "conteos = {}\n",
    "ciclos = 0\n",
    "for numero in set(lista_repetido):\n",
    "    ciclos+=1\n",
    "    conteos[numero] = lista_repetido.count(numero)"
   ]
  },
  {
   "cell_type": "code",
   "execution_count": 170,
   "id": "3d775e4d-3cd2-4aa6-b6e5-fc9c4e0812e6",
   "metadata": {},
   "outputs": [
    {
     "data": {
      "text/plain": [
       "5"
      ]
     },
     "execution_count": 170,
     "metadata": {},
     "output_type": "execute_result"
    }
   ],
   "source": [
    "ciclos"
   ]
  },
  {
   "cell_type": "code",
   "execution_count": 166,
   "id": "026866b6-18cc-4e7a-9dbe-fcb77af3cfa0",
   "metadata": {},
   "outputs": [
    {
     "data": {
      "text/plain": [
       "{1: 5, 2: 4, 34: 2, 3: 2, 4: 2}"
      ]
     },
     "execution_count": 166,
     "metadata": {},
     "output_type": "execute_result"
    }
   ],
   "source": [
    "conteos"
   ]
  },
  {
   "cell_type": "code",
   "execution_count": 143,
   "id": "5df4431f-3e08-488d-89cf-0fcdba79045f",
   "metadata": {},
   "outputs": [
    {
     "data": {
      "text/plain": [
       "{1, 2, 3, 4, 34}"
      ]
     },
     "execution_count": 143,
     "metadata": {},
     "output_type": "execute_result"
    }
   ],
   "source": [
    "conjunto"
   ]
  },
  {
   "cell_type": "code",
   "execution_count": 144,
   "id": "0cfec1c1-bb10-4919-b86f-cef3b2333c7c",
   "metadata": {},
   "outputs": [],
   "source": [
    "conjunto.add(23)"
   ]
  },
  {
   "cell_type": "code",
   "execution_count": 145,
   "id": "0f8a24f4-201c-45fe-9156-d149d46e9f6e",
   "metadata": {},
   "outputs": [
    {
     "data": {
      "text/plain": [
       "{1, 2, 3, 4, 23, 34}"
      ]
     },
     "execution_count": 145,
     "metadata": {},
     "output_type": "execute_result"
    }
   ],
   "source": [
    "conjunto"
   ]
  },
  {
   "cell_type": "code",
   "execution_count": 149,
   "id": "c17fcc91-11c4-46b1-9e83-7612479a62c0",
   "metadata": {},
   "outputs": [
    {
     "data": {
      "text/plain": [
       "2"
      ]
     },
     "execution_count": 149,
     "metadata": {},
     "output_type": "execute_result"
    }
   ],
   "source": [
    "conjunto.pop()"
   ]
  },
  {
   "cell_type": "code",
   "execution_count": 150,
   "id": "4a698a9e-86e2-4e64-85b2-ead972176622",
   "metadata": {},
   "outputs": [
    {
     "data": {
      "text/plain": [
       "{3, 4, 23, 34}"
      ]
     },
     "execution_count": 150,
     "metadata": {},
     "output_type": "execute_result"
    }
   ],
   "source": [
    "conjunto"
   ]
  },
  {
   "cell_type": "code",
   "execution_count": 151,
   "id": "80f4f050-cd11-4707-8a36-4c73d6f37f68",
   "metadata": {},
   "outputs": [],
   "source": [
    "a = {1, 3, 5}\n",
    "b = {1, 5, 9}\n",
    "c = {1, 3, 4, 5, 9}"
   ]
  },
  {
   "cell_type": "code",
   "execution_count": 152,
   "id": "1398a62b-64d2-4a74-bd05-6650997723af",
   "metadata": {},
   "outputs": [
    {
     "data": {
      "text/plain": [
       "{1, 3, 5, 9}"
      ]
     },
     "execution_count": 152,
     "metadata": {},
     "output_type": "execute_result"
    }
   ],
   "source": [
    "a.union(b)"
   ]
  },
  {
   "cell_type": "code",
   "execution_count": 153,
   "id": "eb6c2bb7-a669-4f35-9490-7e805d9e2cdc",
   "metadata": {},
   "outputs": [
    {
     "data": {
      "text/plain": [
       "{1, 5}"
      ]
     },
     "execution_count": 153,
     "metadata": {},
     "output_type": "execute_result"
    }
   ],
   "source": [
    "a.intersection(b)"
   ]
  },
  {
   "cell_type": "code",
   "execution_count": 154,
   "id": "022ff443-56fd-4327-a6da-337d33ab32cb",
   "metadata": {},
   "outputs": [
    {
     "data": {
      "text/plain": [
       "{3}"
      ]
     },
     "execution_count": 154,
     "metadata": {},
     "output_type": "execute_result"
    }
   ],
   "source": [
    "a.difference(b)"
   ]
  },
  {
   "cell_type": "code",
   "execution_count": 155,
   "id": "a4b75927-e479-4989-91d3-0e68b00a3326",
   "metadata": {},
   "outputs": [
    {
     "data": {
      "text/plain": [
       "{9}"
      ]
     },
     "execution_count": 155,
     "metadata": {},
     "output_type": "execute_result"
    }
   ],
   "source": [
    "b.difference(a)"
   ]
  },
  {
   "cell_type": "code",
   "execution_count": 156,
   "id": "43861102-319a-4457-89a1-9991577803a7",
   "metadata": {},
   "outputs": [
    {
     "data": {
      "text/plain": [
       "{9}"
      ]
     },
     "execution_count": 156,
     "metadata": {},
     "output_type": "execute_result"
    }
   ],
   "source": [
    "b - a"
   ]
  },
  {
   "cell_type": "code",
   "execution_count": 157,
   "id": "db47d65f-2936-40f5-85fa-d38ec1db02d6",
   "metadata": {},
   "outputs": [
    {
     "ename": "TypeError",
     "evalue": "unsupported operand type(s) for +: 'set' and 'set'",
     "output_type": "error",
     "traceback": [
      "\u001b[1;31m---------------------------------------------------------------------------\u001b[0m",
      "\u001b[1;31mTypeError\u001b[0m                                 Traceback (most recent call last)",
      "Cell \u001b[1;32mIn [157], line 1\u001b[0m\n\u001b[1;32m----> 1\u001b[0m b \u001b[38;5;241m+\u001b[39m a\n",
      "\u001b[1;31mTypeError\u001b[0m: unsupported operand type(s) for +: 'set' and 'set'"
     ]
    }
   ],
   "source": [
    "b + a"
   ]
  },
  {
   "cell_type": "code",
   "execution_count": 159,
   "id": "f250b47f-6524-45ea-a996-13f7b059e5e8",
   "metadata": {},
   "outputs": [
    {
     "data": {
      "text/plain": [
       "{3, 9}"
      ]
     },
     "execution_count": 159,
     "metadata": {},
     "output_type": "execute_result"
    }
   ],
   "source": [
    "a.symmetric_difference(b)"
   ]
  },
  {
   "cell_type": "code",
   "execution_count": 174,
   "id": "7d55243b-59d5-4ec8-aaee-74c75083c06d",
   "metadata": {},
   "outputs": [
    {
     "data": {
      "text/plain": [
       "{(213, 23), 23, 'sc'}"
      ]
     },
     "execution_count": 174,
     "metadata": {},
     "output_type": "execute_result"
    }
   ],
   "source": [
    "{'sc', 23, (213,23)}"
   ]
  },
  {
   "cell_type": "markdown",
   "id": "d9f03acf-260d-45a6-8bef-892ca6387dd9",
   "metadata": {},
   "source": [
    "Si a esta contenido en b \n",
    "\n",
    "$a\\subset b$\n",
    "\n",
    "entonces todos los elementos de a estan en b"
   ]
  },
  {
   "cell_type": "code",
   "execution_count": 176,
   "id": "0b1857f7-ac56-46ed-a21c-78f89a01cec8",
   "metadata": {},
   "outputs": [
    {
     "name": "stdout",
     "output_type": "stream",
     "text": [
      "{1, 3, 5}\n",
      "{1, 5, 9}\n",
      "{1, 3, 4, 5, 9}\n"
     ]
    }
   ],
   "source": [
    "print(a)\n",
    "print(b)\n",
    "print(c)"
   ]
  },
  {
   "cell_type": "code",
   "execution_count": 175,
   "id": "ea9a4694-3bc4-4572-b007-bf40fb70a212",
   "metadata": {},
   "outputs": [
    {
     "data": {
      "text/plain": [
       "True"
      ]
     },
     "execution_count": 175,
     "metadata": {},
     "output_type": "execute_result"
    }
   ],
   "source": [
    "a.issubset(c)"
   ]
  },
  {
   "cell_type": "code",
   "execution_count": 177,
   "id": "7d3e293f-2686-413e-a7a6-5cb7a3b0a6a8",
   "metadata": {},
   "outputs": [
    {
     "data": {
      "text/plain": [
       "True"
      ]
     },
     "execution_count": 177,
     "metadata": {},
     "output_type": "execute_result"
    }
   ],
   "source": [
    "b.issubset(c)"
   ]
  },
  {
   "cell_type": "code",
   "execution_count": 178,
   "id": "bc59c9f6-df7c-439a-8db4-6bf61487307b",
   "metadata": {},
   "outputs": [
    {
     "data": {
      "text/plain": [
       "False"
      ]
     },
     "execution_count": 178,
     "metadata": {},
     "output_type": "execute_result"
    }
   ],
   "source": [
    "a.issubset(b)"
   ]
  },
  {
   "cell_type": "code",
   "execution_count": 179,
   "id": "af18950e-b5cc-4ba9-8776-d258964974f7",
   "metadata": {},
   "outputs": [
    {
     "data": {
      "text/plain": [
       "True"
      ]
     },
     "execution_count": 179,
     "metadata": {},
     "output_type": "execute_result"
    }
   ],
   "source": [
    "c.issuperset(b)"
   ]
  },
  {
   "cell_type": "code",
   "execution_count": 182,
   "id": "0992087f-3354-4db5-a492-5c1c72ec745c",
   "metadata": {},
   "outputs": [
    {
     "data": {
      "text/plain": [
       "{1, 5, 9}"
      ]
     },
     "execution_count": 182,
     "metadata": {},
     "output_type": "execute_result"
    }
   ],
   "source": [
    "b"
   ]
  },
  {
   "cell_type": "code",
   "execution_count": 180,
   "id": "6ff2f3b0-d716-423f-b174-f74c8510c386",
   "metadata": {},
   "outputs": [
    {
     "data": {
      "text/plain": [
       "False"
      ]
     },
     "execution_count": 180,
     "metadata": {},
     "output_type": "execute_result"
    }
   ],
   "source": [
    "a.isdisjoint(b)"
   ]
  },
  {
   "cell_type": "code",
   "execution_count": 181,
   "id": "a9f0e1db-2d74-404c-be92-d39e5e4c90fa",
   "metadata": {},
   "outputs": [
    {
     "data": {
      "text/plain": [
       "True"
      ]
     },
     "execution_count": 181,
     "metadata": {},
     "output_type": "execute_result"
    }
   ],
   "source": [
    "a.isdisjoint({2, 6, 8})"
   ]
  },
  {
   "cell_type": "code",
   "execution_count": 183,
   "id": "60ab4357-7bf2-4dad-b5dc-aa062afac8bd",
   "metadata": {},
   "outputs": [
    {
     "data": {
      "text/plain": [
       "True"
      ]
     },
     "execution_count": 183,
     "metadata": {},
     "output_type": "execute_result"
    }
   ],
   "source": [
    "{2, 6, 8}.isdisjoint(b)"
   ]
  },
  {
   "cell_type": "markdown",
   "id": "4b5fb71b-0e4b-4f06-903a-d6b70a694966",
   "metadata": {},
   "source": [
    "## Diccionarios"
   ]
  },
  {
   "cell_type": "code",
   "execution_count": 190,
   "id": "af434e78-fa4f-4640-84b1-108b1ec5e9ae",
   "metadata": {},
   "outputs": [],
   "source": [
    "mandado = {'fruta': 3, 'leche':3, 'maruchan':10, 'huevo':1}"
   ]
  },
  {
   "cell_type": "code",
   "execution_count": 191,
   "id": "23cbc7e0-acdd-48d4-bd8f-63b2f49fadb6",
   "metadata": {},
   "outputs": [
    {
     "data": {
      "text/plain": [
       "{'fruta': 3, 'leche': 3, 'maruchan': 10, 'huevo': 1}"
      ]
     },
     "execution_count": 191,
     "metadata": {},
     "output_type": "execute_result"
    }
   ],
   "source": [
    "mandado"
   ]
  },
  {
   "cell_type": "code",
   "execution_count": 192,
   "id": "d500625b-10f3-4529-b39d-142c89b65821",
   "metadata": {},
   "outputs": [
    {
     "data": {
      "text/plain": [
       "10"
      ]
     },
     "execution_count": 192,
     "metadata": {},
     "output_type": "execute_result"
    }
   ],
   "source": [
    "mandado['maruchan']"
   ]
  },
  {
   "cell_type": "code",
   "execution_count": 193,
   "id": "52b323fa-454d-4146-870f-c2e4dd93790e",
   "metadata": {},
   "outputs": [],
   "source": [
    "mandado['maruchan'] = 8"
   ]
  },
  {
   "cell_type": "code",
   "execution_count": 194,
   "id": "de231636-ff37-4f0c-9db7-db9bf4991628",
   "metadata": {},
   "outputs": [
    {
     "data": {
      "text/plain": [
       "{'fruta': 3, 'leche': 3, 'maruchan': 8, 'huevo': 1}"
      ]
     },
     "execution_count": 194,
     "metadata": {},
     "output_type": "execute_result"
    }
   ],
   "source": [
    "mandado"
   ]
  },
  {
   "cell_type": "code",
   "execution_count": 196,
   "id": "1d24d11a-36a3-4a91-8314-e555214d72fb",
   "metadata": {},
   "outputs": [],
   "source": [
    "mandado['tortillas'] = 1"
   ]
  },
  {
   "cell_type": "code",
   "execution_count": 197,
   "id": "972410a0-2a74-4ec1-b5ed-ac5a7880ee0f",
   "metadata": {},
   "outputs": [
    {
     "data": {
      "text/plain": [
       "{'fruta': 3, 'leche': 3, 'maruchan': 8, 'huevo': 1, 'tortillas': 1}"
      ]
     },
     "execution_count": 197,
     "metadata": {},
     "output_type": "execute_result"
    }
   ],
   "source": [
    "mandado"
   ]
  },
  {
   "cell_type": "code",
   "execution_count": 199,
   "id": "983956c5-c8f6-4aff-b124-5c8dd3eaade7",
   "metadata": {},
   "outputs": [],
   "source": [
    "mandado[2] = 3"
   ]
  },
  {
   "cell_type": "code",
   "execution_count": 200,
   "id": "649e1d40-3e92-4464-b098-0b4d69f2d906",
   "metadata": {},
   "outputs": [
    {
     "data": {
      "text/plain": [
       "{'fruta': 3, 'leche': 3, 'maruchan': 8, 'huevo': 1, 'tortillas': 1, 2: 3}"
      ]
     },
     "execution_count": 200,
     "metadata": {},
     "output_type": "execute_result"
    }
   ],
   "source": [
    "mandado"
   ]
  },
  {
   "cell_type": "code",
   "execution_count": 201,
   "id": "c9b2dbc9-6819-4e17-a65e-6a52c46fcf65",
   "metadata": {},
   "outputs": [
    {
     "data": {
      "text/plain": [
       "3"
      ]
     },
     "execution_count": 201,
     "metadata": {},
     "output_type": "execute_result"
    }
   ],
   "source": [
    "mandado.pop(2)"
   ]
  },
  {
   "cell_type": "code",
   "execution_count": 203,
   "id": "2382229a-772f-4da0-8b7a-1be8758bac2c",
   "metadata": {},
   "outputs": [
    {
     "data": {
      "text/plain": [
       "{'fruta': 3, 'leche': 3, 'maruchan': 8, 'huevo': 1, 'tortillas': 1}"
      ]
     },
     "execution_count": 203,
     "metadata": {},
     "output_type": "execute_result"
    }
   ],
   "source": [
    "mandado"
   ]
  },
  {
   "cell_type": "code",
   "execution_count": 204,
   "id": "1c4b2336-4c8f-4264-8774-f9d34d65c85a",
   "metadata": {},
   "outputs": [],
   "source": [
    "mandado['llave'] = 'valor'"
   ]
  },
  {
   "cell_type": "code",
   "execution_count": 206,
   "id": "1f36bb89-e224-4dbe-a17f-0fe53447cc20",
   "metadata": {},
   "outputs": [
    {
     "data": {
      "text/plain": [
       "{'fruta': 3,\n",
       " 'leche': 3,\n",
       " 'maruchan': 8,\n",
       " 'huevo': 1,\n",
       " 'tortillas': 1,\n",
       " 'llave': 'valor'}"
      ]
     },
     "execution_count": 206,
     "metadata": {},
     "output_type": "execute_result"
    }
   ],
   "source": [
    "mandado"
   ]
  },
  {
   "cell_type": "code",
   "execution_count": 207,
   "id": "e1617219-23f1-432f-b182-2e7e4e51425e",
   "metadata": {},
   "outputs": [
    {
     "data": {
      "text/plain": [
       "'valor'"
      ]
     },
     "execution_count": 207,
     "metadata": {},
     "output_type": "execute_result"
    }
   ],
   "source": [
    "mandado.pop('llave')"
   ]
  },
  {
   "cell_type": "code",
   "execution_count": 208,
   "id": "debdc6f2-4db0-4642-bfaa-96cd617804fb",
   "metadata": {},
   "outputs": [
    {
     "data": {
      "text/plain": [
       "{'fruta': 3, 'leche': 3, 'maruchan': 8, 'huevo': 1, 'tortillas': 1}"
      ]
     },
     "execution_count": 208,
     "metadata": {},
     "output_type": "execute_result"
    }
   ],
   "source": [
    "mandado"
   ]
  },
  {
   "cell_type": "code",
   "execution_count": 210,
   "id": "c705afb3-1f77-4819-b9f7-ef60fa7555c3",
   "metadata": {},
   "outputs": [
    {
     "data": {
      "text/plain": [
       "('tortillas', 1)"
      ]
     },
     "execution_count": 210,
     "metadata": {},
     "output_type": "execute_result"
    }
   ],
   "source": [
    "mandado.popitem()"
   ]
  },
  {
   "cell_type": "code",
   "execution_count": 211,
   "id": "4b14cfe4-727a-46a3-81eb-f936243a071b",
   "metadata": {},
   "outputs": [
    {
     "data": {
      "text/plain": [
       "{'fruta': 3, 'leche': 3, 'maruchan': 8, 'huevo': 1}"
      ]
     },
     "execution_count": 211,
     "metadata": {},
     "output_type": "execute_result"
    }
   ],
   "source": [
    "mandado"
   ]
  },
  {
   "cell_type": "code",
   "execution_count": 212,
   "id": "4659639e-35bf-4a83-9a02-bf131643de5e",
   "metadata": {},
   "outputs": [
    {
     "ename": "KeyError",
     "evalue": "'tortillas'",
     "output_type": "error",
     "traceback": [
      "\u001b[1;31m---------------------------------------------------------------------------\u001b[0m",
      "\u001b[1;31mKeyError\u001b[0m                                  Traceback (most recent call last)",
      "Cell \u001b[1;32mIn [212], line 1\u001b[0m\n\u001b[1;32m----> 1\u001b[0m mandado[\u001b[38;5;124m'\u001b[39m\u001b[38;5;124mtortillas\u001b[39m\u001b[38;5;124m'\u001b[39m]\n",
      "\u001b[1;31mKeyError\u001b[0m: 'tortillas'"
     ]
    }
   ],
   "source": [
    "mandado['tortillas']"
   ]
  },
  {
   "cell_type": "code",
   "execution_count": 213,
   "id": "18bed023-4477-4db5-88cd-f05287d34dda",
   "metadata": {},
   "outputs": [],
   "source": [
    "mandado.get('tortillas')"
   ]
  },
  {
   "cell_type": "code",
   "execution_count": 214,
   "id": "84491853-2061-4bf4-b2b1-5ad8bcb5729e",
   "metadata": {},
   "outputs": [
    {
     "data": {
      "text/plain": [
       "3"
      ]
     },
     "execution_count": 214,
     "metadata": {},
     "output_type": "execute_result"
    }
   ],
   "source": [
    "mandado.get('leche')"
   ]
  },
  {
   "cell_type": "code",
   "execution_count": 215,
   "id": "29cce2a2-7055-4a6c-b26c-2813c783f4dd",
   "metadata": {},
   "outputs": [
    {
     "data": {
      "text/plain": [
       "'NO SE ENCUENTRA'"
      ]
     },
     "execution_count": 215,
     "metadata": {},
     "output_type": "execute_result"
    }
   ],
   "source": [
    "mandado.get('tortillas', 'NO SE ENCUENTRA')"
   ]
  },
  {
   "cell_type": "code",
   "execution_count": 216,
   "id": "5c4acb7d-6b56-4f0f-a70b-5122691757bb",
   "metadata": {},
   "outputs": [
    {
     "data": {
      "text/plain": [
       "3"
      ]
     },
     "execution_count": 216,
     "metadata": {},
     "output_type": "execute_result"
    }
   ],
   "source": [
    "mandado.get('leche', 'NO SE ENCUENTRA')"
   ]
  },
  {
   "cell_type": "code",
   "execution_count": 217,
   "id": "8058ce6a-e7a5-4e26-afe1-3b124a15ebf6",
   "metadata": {},
   "outputs": [],
   "source": [
    "respuesta = mandado.get('tortillas')"
   ]
  },
  {
   "cell_type": "code",
   "execution_count": 219,
   "id": "c56daffa-ff37-4c7c-acf5-ccb2f98f38d0",
   "metadata": {},
   "outputs": [
    {
     "name": "stdout",
     "output_type": "stream",
     "text": [
      "None\n"
     ]
    }
   ],
   "source": [
    "print(respuesta)"
   ]
  },
  {
   "cell_type": "code",
   "execution_count": 220,
   "id": "50bfeca9-1086-44de-9796-c4cd65facec2",
   "metadata": {},
   "outputs": [],
   "source": [
    "def buscar_actualizar(llave, diccionario):\n",
    "    if diccionario.get(llave) is None:\n",
    "        diccionario[llave] = 'valor nuevo'"
   ]
  },
  {
   "cell_type": "code",
   "execution_count": 221,
   "id": "fade1c9b-e8e4-4de7-a039-38bffceeaef6",
   "metadata": {},
   "outputs": [
    {
     "data": {
      "text/plain": [
       "{'fruta': 3, 'leche': 3, 'maruchan': 8, 'huevo': 1}"
      ]
     },
     "execution_count": 221,
     "metadata": {},
     "output_type": "execute_result"
    }
   ],
   "source": [
    "mandado"
   ]
  },
  {
   "cell_type": "code",
   "execution_count": 222,
   "id": "ccf46fe4-43be-4e9a-8d55-b033661ee013",
   "metadata": {},
   "outputs": [],
   "source": [
    "buscar_actualizar('tortillas', mandado)"
   ]
  },
  {
   "cell_type": "code",
   "execution_count": 223,
   "id": "d20c77ec-38e9-4f2b-b7c1-8c81fef1918c",
   "metadata": {},
   "outputs": [
    {
     "data": {
      "text/plain": [
       "{'fruta': 3, 'leche': 3, 'maruchan': 8, 'huevo': 1, 'tortillas': 'valor nuevo'}"
      ]
     },
     "execution_count": 223,
     "metadata": {},
     "output_type": "execute_result"
    }
   ],
   "source": [
    "mandado"
   ]
  },
  {
   "cell_type": "code",
   "execution_count": 224,
   "id": "8f342bf0-e5cf-4281-9fa4-538ed8562ef7",
   "metadata": {},
   "outputs": [
    {
     "name": "stdout",
     "output_type": "stream",
     "text": [
      "fruta\n",
      "leche\n",
      "maruchan\n",
      "huevo\n",
      "tortillas\n"
     ]
    }
   ],
   "source": [
    "for elemento in mandado:\n",
    "    print(elemento)"
   ]
  },
  {
   "cell_type": "code",
   "execution_count": 225,
   "id": "6e1e5dcc-b5f6-461e-bf3c-07bd0420afff",
   "metadata": {},
   "outputs": [
    {
     "data": {
      "text/plain": [
       "dict_keys(['fruta', 'leche', 'maruchan', 'huevo', 'tortillas'])"
      ]
     },
     "execution_count": 225,
     "metadata": {},
     "output_type": "execute_result"
    }
   ],
   "source": [
    "mandado.keys()"
   ]
  },
  {
   "cell_type": "code",
   "execution_count": 226,
   "id": "a3748a24-c3a2-43a2-ad4f-24fa338b9bca",
   "metadata": {},
   "outputs": [
    {
     "data": {
      "text/plain": [
       "dict_values([3, 3, 8, 1, 'valor nuevo'])"
      ]
     },
     "execution_count": 226,
     "metadata": {},
     "output_type": "execute_result"
    }
   ],
   "source": [
    "mandado.values()"
   ]
  },
  {
   "cell_type": "code",
   "execution_count": 227,
   "id": "11744c8f-af3c-455d-8660-656a439150c2",
   "metadata": {},
   "outputs": [
    {
     "data": {
      "text/plain": [
       "dict_items([('fruta', 3), ('leche', 3), ('maruchan', 8), ('huevo', 1), ('tortillas', 'valor nuevo')])"
      ]
     },
     "execution_count": 227,
     "metadata": {},
     "output_type": "execute_result"
    }
   ],
   "source": [
    "mandado.items()"
   ]
  },
  {
   "cell_type": "code",
   "execution_count": 228,
   "id": "1274d892-4fc9-4923-b805-182f061aa445",
   "metadata": {},
   "outputs": [
    {
     "name": "stdout",
     "output_type": "stream",
     "text": [
      "fruta\n",
      "leche\n",
      "maruchan\n",
      "huevo\n",
      "tortillas\n"
     ]
    }
   ],
   "source": [
    "for elemento in mandado.keys():\n",
    "    print(elemento)"
   ]
  },
  {
   "cell_type": "code",
   "execution_count": 229,
   "id": "03c5d8af-1bb4-4570-a675-4e936ccbc7ca",
   "metadata": {},
   "outputs": [
    {
     "name": "stdout",
     "output_type": "stream",
     "text": [
      "3\n",
      "3\n",
      "8\n",
      "1\n",
      "valor nuevo\n"
     ]
    }
   ],
   "source": [
    "for elemento in mandado.values():\n",
    "    print(elemento)"
   ]
  },
  {
   "cell_type": "code",
   "execution_count": 230,
   "id": "0f39491a-30ff-4de4-abe2-6be4603e6770",
   "metadata": {},
   "outputs": [
    {
     "name": "stdout",
     "output_type": "stream",
     "text": [
      "('fruta', 3)\n",
      "('leche', 3)\n",
      "('maruchan', 8)\n",
      "('huevo', 1)\n",
      "('tortillas', 'valor nuevo')\n"
     ]
    }
   ],
   "source": [
    "for elemento in mandado.items():\n",
    "    print(elemento)"
   ]
  },
  {
   "cell_type": "code",
   "execution_count": 231,
   "id": "7d9adc3e-0fb1-4d3e-baeb-c4b55c4ef1c7",
   "metadata": {},
   "outputs": [],
   "source": [
    "a = b = 4"
   ]
  },
  {
   "cell_type": "code",
   "execution_count": 232,
   "id": "af6a808d-1ac2-46cc-9f23-eaabe71e06ae",
   "metadata": {},
   "outputs": [
    {
     "data": {
      "text/plain": [
       "4"
      ]
     },
     "execution_count": 232,
     "metadata": {},
     "output_type": "execute_result"
    }
   ],
   "source": [
    "a"
   ]
  },
  {
   "cell_type": "code",
   "execution_count": 233,
   "id": "a95d5f67-3d8c-4076-9e44-0f92212f3871",
   "metadata": {},
   "outputs": [
    {
     "data": {
      "text/plain": [
       "4"
      ]
     },
     "execution_count": 233,
     "metadata": {},
     "output_type": "execute_result"
    }
   ],
   "source": [
    "b"
   ]
  },
  {
   "cell_type": "code",
   "execution_count": 234,
   "id": "c539a523-4344-4866-a393-0989a94712c4",
   "metadata": {},
   "outputs": [],
   "source": [
    "a, b = 3, 9"
   ]
  },
  {
   "cell_type": "code",
   "execution_count": 235,
   "id": "e2d0dadd-d261-433d-b9d5-b73710a0bccb",
   "metadata": {},
   "outputs": [
    {
     "data": {
      "text/plain": [
       "3"
      ]
     },
     "execution_count": 235,
     "metadata": {},
     "output_type": "execute_result"
    }
   ],
   "source": [
    "a"
   ]
  },
  {
   "cell_type": "code",
   "execution_count": 236,
   "id": "30531dec-325a-4ac2-ad35-c79f503cea27",
   "metadata": {},
   "outputs": [
    {
     "data": {
      "text/plain": [
       "9"
      ]
     },
     "execution_count": 236,
     "metadata": {},
     "output_type": "execute_result"
    }
   ],
   "source": [
    "b"
   ]
  },
  {
   "cell_type": "code",
   "execution_count": 237,
   "id": "9a8eec8b-7a34-48b0-8b42-159457cdd364",
   "metadata": {},
   "outputs": [
    {
     "data": {
      "text/plain": [
       "(3, 9)"
      ]
     },
     "execution_count": 237,
     "metadata": {},
     "output_type": "execute_result"
    }
   ],
   "source": [
    "3, 9"
   ]
  },
  {
   "cell_type": "code",
   "execution_count": 242,
   "id": "ae408415-2f29-4e84-bf71-efdc169e8619",
   "metadata": {},
   "outputs": [],
   "source": [
    "tupla = (3, 9)"
   ]
  },
  {
   "cell_type": "code",
   "execution_count": 238,
   "id": "a3765ad8-75f9-4dfa-939a-051d6ef1ac3a",
   "metadata": {},
   "outputs": [],
   "source": [
    "a, b = (3, 9)"
   ]
  },
  {
   "cell_type": "code",
   "execution_count": 239,
   "id": "bfa76069-4a6f-4b9f-9025-d109155ffa79",
   "metadata": {},
   "outputs": [
    {
     "data": {
      "text/plain": [
       "3"
      ]
     },
     "execution_count": 239,
     "metadata": {},
     "output_type": "execute_result"
    }
   ],
   "source": [
    "a"
   ]
  },
  {
   "cell_type": "code",
   "execution_count": 240,
   "id": "472755e0-722c-4ea7-9fbb-f65e9b6a537b",
   "metadata": {},
   "outputs": [
    {
     "data": {
      "text/plain": [
       "9"
      ]
     },
     "execution_count": 240,
     "metadata": {},
     "output_type": "execute_result"
    }
   ],
   "source": [
    "b"
   ]
  },
  {
   "cell_type": "code",
   "execution_count": 249,
   "id": "df4e51fe-a7fa-4bd0-b01a-a71ac1b76682",
   "metadata": {},
   "outputs": [
    {
     "name": "stdout",
     "output_type": "stream",
     "text": [
      "llave:fruta\t valor:3\n",
      "llave:leche\t valor:3\n",
      "llave:maruchan\t valor:8\n",
      "llave:huevo\t valor:1\n",
      "llave:tortillas\t valor:valor nuevo\n"
     ]
    }
   ],
   "source": [
    "for elemento in mandado.items():\n",
    "    print(f'llave:{elemento[0]}\\t valor:{elemento[1]}')"
   ]
  },
  {
   "cell_type": "code",
   "execution_count": 251,
   "id": "0d5b3fe7-57be-4836-a505-1e1587b882bb",
   "metadata": {},
   "outputs": [
    {
     "ename": "ValueError",
     "evalue": "not enough values to unpack (expected 3, got 2)",
     "output_type": "error",
     "traceback": [
      "\u001b[1;31m---------------------------------------------------------------------------\u001b[0m",
      "\u001b[1;31mValueError\u001b[0m                                Traceback (most recent call last)",
      "Cell \u001b[1;32mIn [251], line 4\u001b[0m\n\u001b[0;32m      1\u001b[0m \u001b[38;5;66;03m# Es importante que coincida el numero de valores que me regresa con el numero de valores\u001b[39;00m\n\u001b[0;32m      2\u001b[0m \u001b[38;5;66;03m# que quiero guardar, en este caso parece que quiero guardar 3 (key, value y otro)\u001b[39;00m\n\u001b[0;32m      3\u001b[0m \u001b[38;5;66;03m# pero mandado.items() solo regresa parejas (llave y valor)\u001b[39;00m\n\u001b[1;32m----> 4\u001b[0m \u001b[38;5;28;01mfor\u001b[39;00m key, value, otro \u001b[38;5;129;01min\u001b[39;00m mandado\u001b[38;5;241m.\u001b[39mitems():\n\u001b[0;32m      5\u001b[0m     \u001b[38;5;28mprint\u001b[39m(\u001b[38;5;124mf\u001b[39m\u001b[38;5;124m'\u001b[39m\u001b[38;5;124mllave:\u001b[39m\u001b[38;5;132;01m{\u001b[39;00mkey\u001b[38;5;132;01m}\u001b[39;00m\u001b[38;5;130;01m\\t\u001b[39;00m\u001b[38;5;124m valor:\u001b[39m\u001b[38;5;132;01m{\u001b[39;00mvalue\u001b[38;5;132;01m}\u001b[39;00m\u001b[38;5;124m'\u001b[39m)\n",
      "\u001b[1;31mValueError\u001b[0m: not enough values to unpack (expected 3, got 2)"
     ]
    }
   ],
   "source": [
    "# Es importante que coincida el numero de valores que me regresa con el numero de valores\n",
    "# que quiero guardar, en este caso parece que quiero guardar 3 (key, value y otro)\n",
    "# pero mandado.items() solo regresa parejas (llave y valor)\n",
    "for key, value, otro in mandado.items():\n",
    "    print(f'llave:{key}\\t valor:{value}')"
   ]
  },
  {
   "cell_type": "code",
   "execution_count": 248,
   "id": "b30730e9-f766-413c-8455-a662d93c8baf",
   "metadata": {},
   "outputs": [
    {
     "name": "stdout",
     "output_type": "stream",
     "text": [
      "llave:fruta\t valor:3\n",
      "llave:leche\t valor:3\n",
      "llave:maruchan\t valor:8\n",
      "llave:huevo\t valor:1\n",
      "llave:tortillas\t valor:valor nuevo\n"
     ]
    }
   ],
   "source": [
    "for key, value in mandado.items():\n",
    "    print(f'llave:{key}\\t valor:{value}')"
   ]
  },
  {
   "cell_type": "code",
   "execution_count": 252,
   "id": "37a757f8-caf9-4e8f-a4ca-6473b6bbb0d6",
   "metadata": {},
   "outputs": [
    {
     "data": {
      "text/plain": [
       "{'fruta': 3, 'leche': 3, 'maruchan': 8, 'huevo': 1, 'tortillas': 'valor nuevo'}"
      ]
     },
     "execution_count": 252,
     "metadata": {},
     "output_type": "execute_result"
    }
   ],
   "source": [
    "mandado"
   ]
  },
  {
   "cell_type": "code",
   "execution_count": 255,
   "id": "77567fe6-a80b-4d38-885a-5c144273d724",
   "metadata": {},
   "outputs": [
    {
     "data": {
      "text/plain": [
       "'no esta'"
      ]
     },
     "execution_count": 255,
     "metadata": {},
     "output_type": "execute_result"
    }
   ],
   "source": [
    "mandado.pop('tacos', 'no esta')"
   ]
  },
  {
   "cell_type": "code",
   "execution_count": 258,
   "id": "e5104324-db6b-46fe-9f86-fe11e04d33f9",
   "metadata": {},
   "outputs": [],
   "source": [
    "mandado['valor_vacio'] = None"
   ]
  },
  {
   "cell_type": "code",
   "execution_count": 260,
   "id": "27334569-7ac6-40fc-933e-c956cee2eb27",
   "metadata": {},
   "outputs": [],
   "source": [
    "mandado['valor_vacio']"
   ]
  },
  {
   "cell_type": "code",
   "execution_count": 261,
   "id": "2da3a1d5-3aa6-48f9-abb9-7bcee19aaf0a",
   "metadata": {},
   "outputs": [
    {
     "data": {
      "text/plain": [
       "{'fruta': 3,\n",
       " 'leche': 3,\n",
       " 'maruchan': 8,\n",
       " 'huevo': 1,\n",
       " 'tortillas': 'valor nuevo',\n",
       " 'valor_vacio': None}"
      ]
     },
     "execution_count": 261,
     "metadata": {},
     "output_type": "execute_result"
    }
   ],
   "source": [
    "mandado"
   ]
  },
  {
   "cell_type": "code",
   "execution_count": 262,
   "id": "5df084cb-7ab4-48d9-aaf5-9ad5d40fc9d3",
   "metadata": {},
   "outputs": [
    {
     "name": "stdout",
     "output_type": "stream",
     "text": [
      "Es falso\n"
     ]
    }
   ],
   "source": [
    "if not mandado['valor_vacio']:\n",
    "    print('Es falso')"
   ]
  },
  {
   "cell_type": "code",
   "execution_count": 263,
   "id": "1b0e83c7-c4e5-4bd5-aa71-39525f4826c0",
   "metadata": {},
   "outputs": [
    {
     "name": "stdout",
     "output_type": "stream",
     "text": [
      "Es falso\n"
     ]
    }
   ],
   "source": [
    "if mandado['valor_vacio'] is None:\n",
    "    print('Es falso')"
   ]
  },
  {
   "cell_type": "code",
   "execution_count": 264,
   "id": "54d6ede8-8394-4118-a779-1f15838b6724",
   "metadata": {},
   "outputs": [
    {
     "data": {
      "text/plain": [
       "{'fruta': 3,\n",
       " 'leche': 3,\n",
       " 'maruchan': 8,\n",
       " 'huevo': 1,\n",
       " 'tortillas': 'valor nuevo',\n",
       " 'valor_vacio': None}"
      ]
     },
     "execution_count": 264,
     "metadata": {},
     "output_type": "execute_result"
    }
   ],
   "source": [
    "mandado"
   ]
  },
  {
   "cell_type": "code",
   "execution_count": 265,
   "id": "f9f5df5e-42b1-4564-9264-1d33c033bc80",
   "metadata": {},
   "outputs": [],
   "source": [
    "actualizaciones_mandado = {'leche':2, 'cereal':1}"
   ]
  },
  {
   "cell_type": "code",
   "execution_count": 266,
   "id": "9d72d8a8-b6ea-4856-a8eb-d401c16eb752",
   "metadata": {},
   "outputs": [],
   "source": [
    "mandado.update(actualizaciones_mandado)"
   ]
  },
  {
   "cell_type": "code",
   "execution_count": 267,
   "id": "73d591e7-5dbe-49d1-a7bc-e5957dd74b3d",
   "metadata": {},
   "outputs": [
    {
     "data": {
      "text/plain": [
       "{'fruta': 3,\n",
       " 'leche': 2,\n",
       " 'maruchan': 8,\n",
       " 'huevo': 1,\n",
       " 'tortillas': 'valor nuevo',\n",
       " 'valor_vacio': None,\n",
       " 'cereal': 1}"
      ]
     },
     "execution_count": 267,
     "metadata": {},
     "output_type": "execute_result"
    }
   ],
   "source": [
    "mandado"
   ]
  },
  {
   "cell_type": "code",
   "execution_count": 268,
   "id": "0189a9af-b405-4f17-98a5-6750d46d611d",
   "metadata": {},
   "outputs": [],
   "source": [
    "mandado['fruta'] = None"
   ]
  },
  {
   "cell_type": "code",
   "execution_count": 269,
   "id": "83585e26-7a58-4e23-a8f6-ea65748a1ad0",
   "metadata": {},
   "outputs": [
    {
     "data": {
      "text/plain": [
       "{'fruta': None,\n",
       " 'leche': 2,\n",
       " 'maruchan': 8,\n",
       " 'huevo': 1,\n",
       " 'tortillas': 'valor nuevo',\n",
       " 'valor_vacio': None,\n",
       " 'cereal': 1}"
      ]
     },
     "execution_count": 269,
     "metadata": {},
     "output_type": "execute_result"
    }
   ],
   "source": [
    "mandado"
   ]
  },
  {
   "cell_type": "code",
   "execution_count": 285,
   "id": "25f3750e-094b-412a-8e12-c3ea3bd334bd",
   "metadata": {},
   "outputs": [],
   "source": [
    "diccionario_rapido = {f'llave_{i}': i**2 for i in range(10)}"
   ]
  },
  {
   "cell_type": "code",
   "execution_count": 292,
   "id": "b289f4f0-1cbb-4c2e-8554-7eaaf0443147",
   "metadata": {},
   "outputs": [
    {
     "data": {
      "text/plain": [
       "9"
      ]
     },
     "execution_count": 292,
     "metadata": {},
     "output_type": "execute_result"
    }
   ],
   "source": [
    "3 ** 2"
   ]
  },
  {
   "cell_type": "code",
   "execution_count": 293,
   "id": "234931f7-fffa-45a9-8706-a90aa3feaeb1",
   "metadata": {},
   "outputs": [
    {
     "data": {
      "text/plain": [
       "32"
      ]
     },
     "execution_count": 293,
     "metadata": {},
     "output_type": "execute_result"
    }
   ],
   "source": [
    "2 ** 5"
   ]
  },
  {
   "cell_type": "code",
   "execution_count": 294,
   "id": "f8732d2d-dd40-4812-a550-0e2799af1776",
   "metadata": {},
   "outputs": [
    {
     "data": {
      "text/plain": [
       "2.0"
      ]
     },
     "execution_count": 294,
     "metadata": {},
     "output_type": "execute_result"
    }
   ],
   "source": [
    "4 ** .5"
   ]
  },
  {
   "cell_type": "code",
   "execution_count": 271,
   "id": "b4896901-b8bb-499d-84fa-cb0e3540288c",
   "metadata": {},
   "outputs": [
    {
     "data": {
      "text/plain": [
       "{'llave_0': 0,\n",
       " 'llave_1': 1,\n",
       " 'llave_2': 4,\n",
       " 'llave_3': 9,\n",
       " 'llave_4': 16,\n",
       " 'llave_5': 25,\n",
       " 'llave_6': 36,\n",
       " 'llave_7': 49,\n",
       " 'llave_8': 64,\n",
       " 'llave_9': 81}"
      ]
     },
     "execution_count": 271,
     "metadata": {},
     "output_type": "execute_result"
    }
   ],
   "source": [
    "diccionario_rapido"
   ]
  },
  {
   "cell_type": "code",
   "execution_count": 273,
   "id": "788f4e5b-6885-4b4e-8db5-3ed54a7bd16c",
   "metadata": {},
   "outputs": [
    {
     "data": {
      "text/plain": [
       "10"
      ]
     },
     "execution_count": 273,
     "metadata": {},
     "output_type": "execute_result"
    }
   ],
   "source": [
    "len(mandado3)"
   ]
  },
  {
   "cell_type": "code",
   "execution_count": 274,
   "id": "60ecb6d8-ee49-4e8a-8682-a25249e2afa1",
   "metadata": {},
   "outputs": [
    {
     "data": {
      "text/plain": [
       "10"
      ]
     },
     "execution_count": 274,
     "metadata": {},
     "output_type": "execute_result"
    }
   ],
   "source": [
    "len(set(mandado3))"
   ]
  },
  {
   "cell_type": "code",
   "execution_count": 277,
   "id": "07079717-f419-43aa-b59a-c91a9c9e7167",
   "metadata": {},
   "outputs": [
    {
     "data": {
      "text/plain": [
       "dict_keys(['llave_0', 'llave_1', 'llave_2', 'llave_3', 'llave_4', 'llave_5', 'llave_6', 'llave_7', 'llave_8', 'llave_9'])"
      ]
     },
     "execution_count": 277,
     "metadata": {},
     "output_type": "execute_result"
    }
   ],
   "source": [
    "diccionario_rapido.keys()"
   ]
  },
  {
   "cell_type": "code",
   "execution_count": 282,
   "id": "7a9d2615-cb45-4fdd-a92b-9aa7e204d67a",
   "metadata": {},
   "outputs": [
    {
     "name": "stdout",
     "output_type": "stream",
     "text": [
      "['yogurt', 'fruta', 'pan', 'tortillas', 'cafe', 'huevo', 'atun', 'queso', 'maruchan', 'leche']\n"
     ]
    }
   ],
   "source": [
    "print(mandado3)"
   ]
  },
  {
   "cell_type": "code",
   "execution_count": 279,
   "id": "9131dd2e-adff-46c3-ac62-eabcd5b0f8f5",
   "metadata": {},
   "outputs": [
    {
     "data": {
      "text/plain": [
       "[(1, '1'), (2, '2'), (3, '3')]"
      ]
     },
     "execution_count": 279,
     "metadata": {},
     "output_type": "execute_result"
    }
   ],
   "source": [
    "lista1 = [1,2,3,4]\n",
    "lista2 = ['1', '2', '3']\n",
    "list(zip(lista1, lista2))"
   ]
  },
  {
   "cell_type": "code",
   "execution_count": 283,
   "id": "8c239ca3-1b88-41f1-be46-18a41fa4cfa7",
   "metadata": {},
   "outputs": [
    {
     "name": "stdout",
     "output_type": "stream",
     "text": [
      "('llave_0', 'yogurt')\n",
      "('llave_1', 'fruta')\n",
      "('llave_2', 'pan')\n",
      "('llave_3', 'tortillas')\n",
      "('llave_4', 'cafe')\n",
      "('llave_5', 'huevo')\n",
      "('llave_6', 'atun')\n",
      "('llave_7', 'queso')\n",
      "('llave_8', 'maruchan')\n",
      "('llave_9', 'leche')\n"
     ]
    }
   ],
   "source": [
    "for elemento in zip(diccionario_rapido.keys(), mandado3):\n",
    "    print(elemento)"
   ]
  },
  {
   "cell_type": "code",
   "execution_count": 287,
   "id": "fefdf1b9-6258-49e0-8d1f-f065fab74a86",
   "metadata": {},
   "outputs": [],
   "source": [
    "lista_llaves_antiguas = list(diccionario_rapido.keys())\n",
    "for old_key, new_key in zip(lista_llaves_antiguas, mandado3):\n",
    "    diccionario_rapido[new_key] = diccionario_rapido.pop(old_key)"
   ]
  },
  {
   "cell_type": "code",
   "execution_count": 288,
   "id": "77450b17-57b2-44d4-a2b5-b356c499c247",
   "metadata": {},
   "outputs": [
    {
     "data": {
      "text/plain": [
       "{'yogurt': 1,\n",
       " 'fruta': 4,\n",
       " 'pan': 9,\n",
       " 'tortillas': 16,\n",
       " 'cafe': 25,\n",
       " 'huevo': 36,\n",
       " 'atun': 49,\n",
       " 'queso': 64,\n",
       " 'maruchan': 81,\n",
       " 'leche': 0}"
      ]
     },
     "execution_count": 288,
     "metadata": {},
     "output_type": "execute_result"
    }
   ],
   "source": [
    "diccionario_rapido"
   ]
  },
  {
   "cell_type": "code",
   "execution_count": 296,
   "id": "c9419b74-287b-46d2-815b-4f6b7e6eb33a",
   "metadata": {},
   "outputs": [],
   "source": [
    "str_list = ['Durante', 'un', 'tiempo', 'no', 'estuvo', 'segura', 'de', 'si', 'su',\n",
    "            'marido', 'era', 'su', 'marido']"
   ]
  },
  {
   "cell_type": "code",
   "execution_count": 301,
   "id": "709854d6-6e80-49b6-b1ae-e902bcbecae7",
   "metadata": {},
   "outputs": [
    {
     "data": {
      "text/plain": [
       "'Durante un tiempo no estuvo segura de si su marido era su marido.'"
      ]
     },
     "execution_count": 301,
     "metadata": {},
     "output_type": "execute_result"
    }
   ],
   "source": [
    "' '.join(str_list)+'.'"
   ]
  },
  {
   "cell_type": "code",
   "execution_count": 300,
   "id": "8044cc62-0771-4911-9ed4-9e7d6eacae73",
   "metadata": {},
   "outputs": [
    {
     "name": "stdout",
     "output_type": "stream",
     "text": [
      "['Durante', 'un', 'tiempo', 'no', 'estuvo', 'segura', 'de', 'si', 'su', 'marido', 'era', 'su', 'marido', '.']\n"
     ]
    }
   ],
   "source": [
    "lista_extendida = str_list + ['.']\n",
    "print(lista_extendida)"
   ]
  },
  {
   "cell_type": "code",
   "execution_count": 303,
   "id": "1dc12e69-4e74-4225-bff0-032d83a9ec84",
   "metadata": {},
   "outputs": [
    {
     "data": {
      "text/plain": [
       "'Durante un tiempo no estuvo segura de si su marido era su marido.'"
      ]
     },
     "execution_count": 303,
     "metadata": {},
     "output_type": "execute_result"
    }
   ],
   "source": [
    "' '.join(lista_extendida).replace(' .','.')"
   ]
  },
  {
   "cell_type": "code",
   "execution_count": null,
   "id": "d8ba789c-e36a-4186-bf1c-d6e2a4b05101",
   "metadata": {},
   "outputs": [],
   "source": []
  }
 ],
 "metadata": {
  "kernelspec": {
   "display_name": "Python 3 (ipykernel)",
   "language": "python",
   "name": "python3"
  },
  "language_info": {
   "codemirror_mode": {
    "name": "ipython",
    "version": 3
   },
   "file_extension": ".py",
   "mimetype": "text/x-python",
   "name": "python",
   "nbconvert_exporter": "python",
   "pygments_lexer": "ipython3",
   "version": "3.10.7"
  }
 },
 "nbformat": 4,
 "nbformat_minor": 5
}
