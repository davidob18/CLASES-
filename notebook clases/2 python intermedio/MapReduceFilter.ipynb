{
 "cells": [
  {
   "cell_type": "markdown",
   "id": "ecf118f1-0a3d-4327-9628-f3093c6412f5",
   "metadata": {},
   "source": [
    "### Map"
   ]
  },
  {
   "cell_type": "markdown",
   "id": "97a6cda0-8bd5-4798-b4f1-ff33ba73d406",
   "metadata": {},
   "source": [
    "En palabras simples se encarga de aplicar una funcion a todos los elementos en un iterable\n",
    "\n",
    "Lo anterior lo hace de forma optima y el calculo de la funcion se realiza hasta que yo\n",
    "accedo al elemento"
   ]
  },
  {
   "cell_type": "code",
   "execution_count": 2,
   "id": "9dbe649f-b424-4864-a221-88433fc382f4",
   "metadata": {},
   "outputs": [
    {
     "data": {
      "text/plain": [
       "[0, 1, 2, 3, 4, 5, 6, 7, 8, 9, 10, 11, 12, 13, 14]"
      ]
     },
     "execution_count": 2,
     "metadata": {},
     "output_type": "execute_result"
    }
   ],
   "source": [
    "lista = list(range(15))\n",
    "lista"
   ]
  },
  {
   "cell_type": "code",
   "execution_count": 11,
   "id": "e758c43b-99fb-4e42-9063-ca07cba02d90",
   "metadata": {},
   "outputs": [],
   "source": [
    "lista_2 = map(lambda x: x + 2, lista)"
   ]
  },
  {
   "cell_type": "code",
   "execution_count": 12,
   "id": "dbadf603-d9f0-454e-9f98-9cddd90d7cd5",
   "metadata": {},
   "outputs": [
    {
     "data": {
      "text/plain": [
       "<map at 0x28515b542e0>"
      ]
     },
     "execution_count": 12,
     "metadata": {},
     "output_type": "execute_result"
    }
   ],
   "source": [
    "lista_2"
   ]
  },
  {
   "cell_type": "code",
   "execution_count": 13,
   "id": "0bd3f08b-23a1-4ec3-a6e3-21480c5b0623",
   "metadata": {},
   "outputs": [
    {
     "data": {
      "text/plain": [
       "[2, 3, 4, 5, 6, 7, 8, 9, 10, 11, 12, 13, 14, 15, 16]"
      ]
     },
     "execution_count": 13,
     "metadata": {},
     "output_type": "execute_result"
    }
   ],
   "source": [
    "list(lista_2)"
   ]
  },
  {
   "cell_type": "code",
   "execution_count": 14,
   "id": "fdb0ed27-506d-4d43-b248-8f21459415d5",
   "metadata": {},
   "outputs": [],
   "source": [
    "for elemento in lista_2:\n",
    "    print(elemento)"
   ]
  },
  {
   "cell_type": "code",
   "execution_count": 15,
   "id": "2222ef2a-e35a-4ee5-8415-40d49edd31e9",
   "metadata": {},
   "outputs": [],
   "source": [
    "def cubo(numero):\n",
    "    return numero ** 3"
   ]
  },
  {
   "cell_type": "code",
   "execution_count": 17,
   "id": "822d0ed9-e9fe-422e-903b-3aded31afd2a",
   "metadata": {},
   "outputs": [],
   "source": [
    "lista_cubos = map(cubo, lista)"
   ]
  },
  {
   "cell_type": "code",
   "execution_count": 18,
   "id": "db926e1d-ac2a-4b10-b63f-43f726ff5367",
   "metadata": {},
   "outputs": [
    {
     "data": {
      "text/plain": [
       "[0, 1, 8, 27, 64, 125, 216, 343, 512, 729, 1000, 1331, 1728, 2197, 2744]"
      ]
     },
     "execution_count": 18,
     "metadata": {},
     "output_type": "execute_result"
    }
   ],
   "source": [
    "list(lista_cubos)"
   ]
  },
  {
   "cell_type": "code",
   "execution_count": 19,
   "id": "56b1d757-2dc8-40f0-bffd-a84e84c2e31c",
   "metadata": {},
   "outputs": [],
   "source": [
    "#[f(x) for x in lista] equivalente a list(map(f, lista))"
   ]
  },
  {
   "cell_type": "code",
   "execution_count": 20,
   "id": "fd96fe3c-829b-4806-a489-be0a14683f63",
   "metadata": {},
   "outputs": [],
   "source": [
    "lista_real_cubos = list(map(cubo,lista))"
   ]
  },
  {
   "cell_type": "code",
   "execution_count": 37,
   "id": "65bf5820-60d3-4f35-9028-0c24163d5ed8",
   "metadata": {},
   "outputs": [
    {
     "name": "stdout",
     "output_type": "stream",
     "text": [
      "0\n",
      "1\n",
      "8\n",
      "27\n",
      "64\n",
      "125\n",
      "216\n",
      "343\n",
      "512\n",
      "729\n",
      "1000\n",
      "1331\n",
      "1728\n",
      "2197\n",
      "2744\n"
     ]
    }
   ],
   "source": [
    "for el in lista_real_cubos:\n",
    "    print(el)"
   ]
  },
  {
   "cell_type": "code",
   "execution_count": 39,
   "id": "141ce62e-e3dd-4945-9513-d0f76ffafc4d",
   "metadata": {},
   "outputs": [
    {
     "data": {
      "text/plain": [
       "['Par',\n",
       " 'Impar',\n",
       " 'Par',\n",
       " 'Impar',\n",
       " 'Par',\n",
       " 'Impar',\n",
       " 'Par',\n",
       " 'Impar',\n",
       " 'Par',\n",
       " 'Impar',\n",
       " 'Par',\n",
       " 'Impar',\n",
       " 'Par',\n",
       " 'Impar',\n",
       " 'Par']"
      ]
     },
     "execution_count": 39,
     "metadata": {},
     "output_type": "execute_result"
    }
   ],
   "source": [
    "list(map(validar_par, lista))"
   ]
  },
  {
   "cell_type": "code",
   "execution_count": 40,
   "id": "be4db371-50ef-4c33-b3cc-b33b0af394c0",
   "metadata": {},
   "outputs": [
    {
     "data": {
      "text/plain": [
       "[0, 1, 2, 3, 4, 5, 6, 7, 8, 9, 10, 11, 12, 13, 14]"
      ]
     },
     "execution_count": 40,
     "metadata": {},
     "output_type": "execute_result"
    }
   ],
   "source": [
    "lista"
   ]
  },
  {
   "cell_type": "code",
   "execution_count": 45,
   "id": "e473d8b0-cb13-43aa-a9ea-7c17c52db02b",
   "metadata": {},
   "outputs": [],
   "source": [
    "import random"
   ]
  },
  {
   "cell_type": "code",
   "execution_count": 46,
   "id": "6070ed6b-58b6-4fdc-a694-f048a1017203",
   "metadata": {},
   "outputs": [],
   "source": [
    "lista2 = [random.randint(0,14) for _ in range(len(lista))]"
   ]
  },
  {
   "cell_type": "code",
   "execution_count": 47,
   "id": "bd7c4ded-45f3-400a-b340-a4309be800f2",
   "metadata": {},
   "outputs": [
    {
     "data": {
      "text/plain": [
       "[3, 9, 8, 9, 8, 14, 10, 10, 7, 9, 9, 5, 14, 10, 11]"
      ]
     },
     "execution_count": 47,
     "metadata": {},
     "output_type": "execute_result"
    }
   ],
   "source": [
    "lista2"
   ]
  },
  {
   "cell_type": "code",
   "execution_count": 48,
   "id": "c61313f1-df87-448a-b423-d7864b1dc1b7",
   "metadata": {},
   "outputs": [
    {
     "data": {
      "text/plain": [
       "[3, 10, 10, 12, 12, 19, 16, 17, 15, 18, 19, 16, 26, 23, 25]"
      ]
     },
     "execution_count": 48,
     "metadata": {},
     "output_type": "execute_result"
    }
   ],
   "source": [
    "list(map(lambda x, y: x + y, lista, lista2))"
   ]
  },
  {
   "cell_type": "code",
   "execution_count": 49,
   "id": "6976352f-4221-439e-a883-a4ec01c4a879",
   "metadata": {},
   "outputs": [
    {
     "data": {
      "text/plain": [
       "[(0, 3),\n",
       " (1, 9),\n",
       " (2, 8),\n",
       " (3, 9),\n",
       " (4, 8),\n",
       " (5, 14),\n",
       " (6, 10),\n",
       " (7, 10),\n",
       " (8, 7),\n",
       " (9, 9),\n",
       " (10, 9),\n",
       " (11, 5),\n",
       " (12, 14),\n",
       " (13, 10),\n",
       " (14, 11)]"
      ]
     },
     "execution_count": 49,
     "metadata": {},
     "output_type": "execute_result"
    }
   ],
   "source": [
    "parejas = list(zip(lista, lista2))\n",
    "parejas"
   ]
  },
  {
   "cell_type": "code",
   "execution_count": 52,
   "id": "b075d010-a69f-4b2e-94d6-1180de2dc752",
   "metadata": {},
   "outputs": [
    {
     "data": {
      "text/plain": [
       "[(0, 0), (1, 1), (2, 2), (3, 3)]"
      ]
     },
     "execution_count": 52,
     "metadata": {},
     "output_type": "execute_result"
    }
   ],
   "source": [
    "list(zip([0,1,2,3], [0,1,2,3,4,5,6]))"
   ]
  },
  {
   "cell_type": "code",
   "execution_count": 53,
   "id": "fdfd8f67-5fdd-40b3-bbb3-082f1950c0b1",
   "metadata": {},
   "outputs": [],
   "source": [
    "import itertools"
   ]
  },
  {
   "cell_type": "code",
   "execution_count": 54,
   "id": "a6b243e2-5768-43c7-9c85-95d59ca501f7",
   "metadata": {},
   "outputs": [
    {
     "data": {
      "text/plain": [
       "[(0, 0), (1, 1), (2, 2), (3, 3), (None, 4), (None, 5), (None, 6)]"
      ]
     },
     "execution_count": 54,
     "metadata": {},
     "output_type": "execute_result"
    }
   ],
   "source": [
    "list(itertools.zip_longest([0,1,2,3], [0,1,2,3,4,5,6]))"
   ]
  },
  {
   "cell_type": "markdown",
   "id": "f7d96b9d-4b1e-4eed-8a6b-098a321f6c4b",
   "metadata": {},
   "source": [
    "##### Map en pandas (apply)"
   ]
  },
  {
   "cell_type": "code",
   "execution_count": 55,
   "id": "99fa89bd-e808-4902-a158-bec8a984a802",
   "metadata": {},
   "outputs": [],
   "source": [
    "import pandas as pd"
   ]
  },
  {
   "cell_type": "code",
   "execution_count": 57,
   "id": "e33e7776-b153-4809-a517-85305d81d4cf",
   "metadata": {},
   "outputs": [],
   "source": [
    "df = pd.DataFrame()"
   ]
  },
  {
   "cell_type": "code",
   "execution_count": 59,
   "id": "2db5833c-ac42-4cd4-8df1-a5e9f7d3dcdd",
   "metadata": {},
   "outputs": [],
   "source": [
    "valores = ['Masculino', 'Hombre', 'hombre', 'Masculino', 'M', 'm', 'M', 'mujer', 'Femenino', 'femenino', 'Femenino', 'F', 'f', 'f', 'Femenino']"
   ]
  },
  {
   "cell_type": "code",
   "execution_count": 60,
   "id": "488e973f-3ffa-4823-9b7d-80dd0f03db30",
   "metadata": {},
   "outputs": [],
   "source": [
    "df['sexo'] = valores"
   ]
  },
  {
   "cell_type": "code",
   "execution_count": 65,
   "id": "a32fc5f1-6f6c-4361-ad2b-ef2a3f2ea42a",
   "metadata": {},
   "outputs": [
    {
     "data": {
      "text/html": [
       "<div>\n",
       "<style scoped>\n",
       "    .dataframe tbody tr th:only-of-type {\n",
       "        vertical-align: middle;\n",
       "    }\n",
       "\n",
       "    .dataframe tbody tr th {\n",
       "        vertical-align: top;\n",
       "    }\n",
       "\n",
       "    .dataframe thead th {\n",
       "        text-align: right;\n",
       "    }\n",
       "</style>\n",
       "<table border=\"1\" class=\"dataframe\">\n",
       "  <thead>\n",
       "    <tr style=\"text-align: right;\">\n",
       "      <th></th>\n",
       "      <th>sexo</th>\n",
       "    </tr>\n",
       "  </thead>\n",
       "  <tbody>\n",
       "    <tr>\n",
       "      <th>0</th>\n",
       "      <td>Masculino</td>\n",
       "    </tr>\n",
       "    <tr>\n",
       "      <th>1</th>\n",
       "      <td>Hombre</td>\n",
       "    </tr>\n",
       "    <tr>\n",
       "      <th>2</th>\n",
       "      <td>hombre</td>\n",
       "    </tr>\n",
       "    <tr>\n",
       "      <th>3</th>\n",
       "      <td>Masculino</td>\n",
       "    </tr>\n",
       "    <tr>\n",
       "      <th>4</th>\n",
       "      <td>M</td>\n",
       "    </tr>\n",
       "    <tr>\n",
       "      <th>5</th>\n",
       "      <td>m</td>\n",
       "    </tr>\n",
       "    <tr>\n",
       "      <th>6</th>\n",
       "      <td>M</td>\n",
       "    </tr>\n",
       "    <tr>\n",
       "      <th>7</th>\n",
       "      <td>mujer</td>\n",
       "    </tr>\n",
       "    <tr>\n",
       "      <th>8</th>\n",
       "      <td>Femenino</td>\n",
       "    </tr>\n",
       "    <tr>\n",
       "      <th>9</th>\n",
       "      <td>femenino</td>\n",
       "    </tr>\n",
       "  </tbody>\n",
       "</table>\n",
       "</div>"
      ],
      "text/plain": [
       "        sexo\n",
       "0  Masculino\n",
       "1     Hombre\n",
       "2     hombre\n",
       "3  Masculino\n",
       "4          M\n",
       "5          m\n",
       "6          M\n",
       "7      mujer\n",
       "8   Femenino\n",
       "9   femenino"
      ]
     },
     "execution_count": 65,
     "metadata": {},
     "output_type": "execute_result"
    }
   ],
   "source": [
    "df.head(10)"
   ]
  },
  {
   "cell_type": "code",
   "execution_count": 67,
   "id": "fb12b08e-d4a4-4254-81c4-5a1f091c6916",
   "metadata": {},
   "outputs": [
    {
     "data": {
      "text/plain": [
       "Femenino     3\n",
       "Masculino    2\n",
       "M            2\n",
       "f            2\n",
       "Hombre       1\n",
       "hombre       1\n",
       "m            1\n",
       "mujer        1\n",
       "femenino     1\n",
       "F            1\n",
       "Name: sexo, dtype: int64"
      ]
     },
     "execution_count": 67,
     "metadata": {},
     "output_type": "execute_result"
    }
   ],
   "source": [
    "df.sexo.value_counts()"
   ]
  },
  {
   "cell_type": "code",
   "execution_count": 71,
   "id": "b9aae2b0-1889-4c92-8de0-1ee35c9c7980",
   "metadata": {},
   "outputs": [
    {
     "data": {
      "text/plain": [
       "0     Masculino\n",
       "1        Hombre\n",
       "2        hombre\n",
       "3     Masculino\n",
       "4             M\n",
       "5             m\n",
       "6             M\n",
       "7         mujer\n",
       "8      Femenino\n",
       "9      femenino\n",
       "10     Femenino\n",
       "11            F\n",
       "12            f\n",
       "13            f\n",
       "14     Femenino\n",
       "Name: sexo, dtype: object"
      ]
     },
     "execution_count": 71,
     "metadata": {},
     "output_type": "execute_result"
    }
   ],
   "source": [
    "df['sexo']"
   ]
  },
  {
   "cell_type": "code",
   "execution_count": 72,
   "id": "3866c3fd-6480-464b-a628-83162d3f1f10",
   "metadata": {},
   "outputs": [
    {
     "data": {
      "text/plain": [
       "0     Masculino\n",
       "1        Hombre\n",
       "2        hombre\n",
       "3     Masculino\n",
       "4             M\n",
       "5             m\n",
       "6             M\n",
       "7         mujer\n",
       "8      Femenino\n",
       "9      femenino\n",
       "10     Femenino\n",
       "11            F\n",
       "12            f\n",
       "13            f\n",
       "14     Femenino\n",
       "Name: sexo, dtype: object"
      ]
     },
     "execution_count": 72,
     "metadata": {},
     "output_type": "execute_result"
    }
   ],
   "source": [
    "df.sexo"
   ]
  },
  {
   "cell_type": "code",
   "execution_count": 74,
   "id": "068811ae-98c4-4bb0-86b7-5fb9ce319b88",
   "metadata": {},
   "outputs": [
    {
     "data": {
      "text/plain": [
       "array(['Masculino', 'Hombre', 'hombre', 'M', 'm', 'mujer', 'Femenino',\n",
       "       'femenino', 'F', 'f'], dtype=object)"
      ]
     },
     "execution_count": 74,
     "metadata": {},
     "output_type": "execute_result"
    }
   ],
   "source": [
    "df.sexo.unique()"
   ]
  },
  {
   "cell_type": "code",
   "execution_count": 75,
   "id": "5d2721f8-ad26-4c77-a21c-250536e66b77",
   "metadata": {},
   "outputs": [],
   "source": [
    "## Todo lo que empieza con M"
   ]
  },
  {
   "cell_type": "code",
   "execution_count": 77,
   "id": "9fa7c29f-3707-455e-8cce-cd51e6e8f540",
   "metadata": {},
   "outputs": [],
   "source": [
    "diccionario_cambios = {\n",
    "    'Masculino' : 'Hombre',\n",
    "    'hombre' : 'Hombre',\n",
    "    'M' : 'Hombre',\n",
    "    'm' : 'Hombre',\n",
    "    'mujer' : 'Mujer',\n",
    "    'Femenino' : 'Mujer',\n",
    "    'femenino' : 'Mujer',\n",
    "    'F' : 'Mujer',\n",
    "    'f' : 'Mujer'\n",
    "}"
   ]
  },
  {
   "cell_type": "code",
   "execution_count": 79,
   "id": "a775e685-9941-44e5-83e9-8b618f423fb9",
   "metadata": {},
   "outputs": [
    {
     "name": "stdout",
     "output_type": "stream",
     "text": [
      "['Masculino', 'Hombre', 'hombre', 'Masculino', 'M', 'm', 'M', 'mujer', 'Femenino', 'femenino', 'Femenino', 'F', 'f', 'f', 'Femenino']\n"
     ]
    }
   ],
   "source": [
    "print(valores)"
   ]
  },
  {
   "cell_type": "code",
   "execution_count": 82,
   "id": "483b785d-9c4e-44ac-b648-5aa7ce6e795b",
   "metadata": {},
   "outputs": [
    {
     "data": {
      "text/plain": [
       "'hombre'"
      ]
     },
     "execution_count": 82,
     "metadata": {},
     "output_type": "execute_result"
    }
   ],
   "source": [
    "valores[2]"
   ]
  },
  {
   "cell_type": "code",
   "execution_count": 84,
   "id": "a1fd45b1-65c9-427e-9519-5d19e1501c39",
   "metadata": {},
   "outputs": [
    {
     "data": {
      "text/plain": [
       "'Hombre'"
      ]
     },
     "execution_count": 84,
     "metadata": {},
     "output_type": "execute_result"
    }
   ],
   "source": [
    "diccionario_cambios['hombre']"
   ]
  },
  {
   "cell_type": "code",
   "execution_count": 88,
   "id": "9a5062df-640f-4824-b620-de90111d1c08",
   "metadata": {},
   "outputs": [
    {
     "data": {
      "text/plain": [
       "'Hombre'"
      ]
     },
     "execution_count": 88,
     "metadata": {},
     "output_type": "execute_result"
    }
   ],
   "source": [
    "diccionario_cambios.get('Hombre', 'Hombre')"
   ]
  },
  {
   "cell_type": "code",
   "execution_count": 89,
   "id": "1ed499f1-c6a2-4d6e-8200-468d8b603839",
   "metadata": {},
   "outputs": [],
   "source": [
    "map_cambios = map(lambda x: diccionario_cambios.get(x,x), valores)"
   ]
  },
  {
   "cell_type": "code",
   "execution_count": 90,
   "id": "42ff5d0d-66fe-483f-812c-e4bdf4b69527",
   "metadata": {},
   "outputs": [
    {
     "data": {
      "text/plain": [
       "['Hombre',\n",
       " 'Hombre',\n",
       " 'Hombre',\n",
       " 'Hombre',\n",
       " 'Hombre',\n",
       " 'Hombre',\n",
       " 'Hombre',\n",
       " 'Mujer',\n",
       " 'Mujer',\n",
       " 'Mujer',\n",
       " 'Mujer',\n",
       " 'Mujer',\n",
       " 'Mujer',\n",
       " 'Mujer',\n",
       " 'Mujer']"
      ]
     },
     "execution_count": 90,
     "metadata": {},
     "output_type": "execute_result"
    }
   ],
   "source": [
    "list(map_cambios)"
   ]
  },
  {
   "cell_type": "code",
   "execution_count": 94,
   "id": "78a82ae1-32df-402c-870b-030dde230193",
   "metadata": {},
   "outputs": [],
   "source": [
    "diccionario_cambios = {\n",
    "    'masculino' : 'Hombre',\n",
    "    'm' : 'Hombre',\n",
    "    'femenino' : 'Mujer',\n",
    "    'f' : 'Mujer'\n",
    "}"
   ]
  },
  {
   "cell_type": "code",
   "execution_count": 97,
   "id": "575b3ec6-406b-47d8-8a5a-31d060ad702e",
   "metadata": {},
   "outputs": [],
   "source": [
    "map_cambios = map(lambda x: diccionario_cambios.get(x.lower(),x.capitalize()), valores)"
   ]
  },
  {
   "cell_type": "code",
   "execution_count": 106,
   "id": "a5d9cd8b-7e16-4c0c-bc99-8e3d6f27090f",
   "metadata": {},
   "outputs": [],
   "source": [
    "df['sexo_limpio'] = df.sexo.apply(lambda x: diccionario_cambios.get(x.lower(),x.capitalize()))"
   ]
  },
  {
   "cell_type": "code",
   "execution_count": 107,
   "id": "0bbcba08-a01a-4f52-a0cb-115f5e4c6c93",
   "metadata": {},
   "outputs": [
    {
     "data": {
      "text/html": [
       "<div>\n",
       "<style scoped>\n",
       "    .dataframe tbody tr th:only-of-type {\n",
       "        vertical-align: middle;\n",
       "    }\n",
       "\n",
       "    .dataframe tbody tr th {\n",
       "        vertical-align: top;\n",
       "    }\n",
       "\n",
       "    .dataframe thead th {\n",
       "        text-align: right;\n",
       "    }\n",
       "</style>\n",
       "<table border=\"1\" class=\"dataframe\">\n",
       "  <thead>\n",
       "    <tr style=\"text-align: right;\">\n",
       "      <th></th>\n",
       "      <th>sexo</th>\n",
       "      <th>sexo_limpio</th>\n",
       "    </tr>\n",
       "  </thead>\n",
       "  <tbody>\n",
       "    <tr>\n",
       "      <th>0</th>\n",
       "      <td>Masculino</td>\n",
       "      <td>Hombre</td>\n",
       "    </tr>\n",
       "    <tr>\n",
       "      <th>1</th>\n",
       "      <td>Hombre</td>\n",
       "      <td>Hombre</td>\n",
       "    </tr>\n",
       "    <tr>\n",
       "      <th>2</th>\n",
       "      <td>hombre</td>\n",
       "      <td>Hombre</td>\n",
       "    </tr>\n",
       "    <tr>\n",
       "      <th>3</th>\n",
       "      <td>Masculino</td>\n",
       "      <td>Hombre</td>\n",
       "    </tr>\n",
       "    <tr>\n",
       "      <th>4</th>\n",
       "      <td>M</td>\n",
       "      <td>Hombre</td>\n",
       "    </tr>\n",
       "  </tbody>\n",
       "</table>\n",
       "</div>"
      ],
      "text/plain": [
       "        sexo sexo_limpio\n",
       "0  Masculino      Hombre\n",
       "1     Hombre      Hombre\n",
       "2     hombre      Hombre\n",
       "3  Masculino      Hombre\n",
       "4          M      Hombre"
      ]
     },
     "execution_count": 107,
     "metadata": {},
     "output_type": "execute_result"
    }
   ],
   "source": [
    "df.head()"
   ]
  },
  {
   "cell_type": "code",
   "execution_count": 108,
   "id": "33767afa-6f13-4812-bd9b-76ae080758a8",
   "metadata": {},
   "outputs": [
    {
     "name": "stderr",
     "output_type": "stream",
     "text": [
      "C:\\Users\\zahid\\AppData\\Local\\Temp\\ipykernel_14392\\1056808035.py:1: UserWarning: Pandas doesn't allow columns to be created via a new attribute name - see https://pandas.pydata.org/pandas-docs/stable/indexing.html#attribute-access\n",
      "  df.sexo_otro = df.sexo.apply(lambda x: diccionario_cambios.get(x.lower(),x.capitalize()))\n"
     ]
    }
   ],
   "source": [
    "df.sexo_otro = df.sexo.apply(lambda x: diccionario_cambios.get(x.lower(),x.capitalize()))"
   ]
  },
  {
   "cell_type": "code",
   "execution_count": 109,
   "id": "d13ee19e-a663-4d4c-b092-bf8eec34ea82",
   "metadata": {},
   "outputs": [
    {
     "data": {
      "text/html": [
       "<div>\n",
       "<style scoped>\n",
       "    .dataframe tbody tr th:only-of-type {\n",
       "        vertical-align: middle;\n",
       "    }\n",
       "\n",
       "    .dataframe tbody tr th {\n",
       "        vertical-align: top;\n",
       "    }\n",
       "\n",
       "    .dataframe thead th {\n",
       "        text-align: right;\n",
       "    }\n",
       "</style>\n",
       "<table border=\"1\" class=\"dataframe\">\n",
       "  <thead>\n",
       "    <tr style=\"text-align: right;\">\n",
       "      <th></th>\n",
       "      <th>sexo</th>\n",
       "      <th>sexo_limpio</th>\n",
       "    </tr>\n",
       "  </thead>\n",
       "  <tbody>\n",
       "    <tr>\n",
       "      <th>0</th>\n",
       "      <td>Masculino</td>\n",
       "      <td>Hombre</td>\n",
       "    </tr>\n",
       "    <tr>\n",
       "      <th>1</th>\n",
       "      <td>Hombre</td>\n",
       "      <td>Hombre</td>\n",
       "    </tr>\n",
       "    <tr>\n",
       "      <th>2</th>\n",
       "      <td>hombre</td>\n",
       "      <td>Hombre</td>\n",
       "    </tr>\n",
       "    <tr>\n",
       "      <th>3</th>\n",
       "      <td>Masculino</td>\n",
       "      <td>Hombre</td>\n",
       "    </tr>\n",
       "    <tr>\n",
       "      <th>4</th>\n",
       "      <td>M</td>\n",
       "      <td>Hombre</td>\n",
       "    </tr>\n",
       "  </tbody>\n",
       "</table>\n",
       "</div>"
      ],
      "text/plain": [
       "        sexo sexo_limpio\n",
       "0  Masculino      Hombre\n",
       "1     Hombre      Hombre\n",
       "2     hombre      Hombre\n",
       "3  Masculino      Hombre\n",
       "4          M      Hombre"
      ]
     },
     "execution_count": 109,
     "metadata": {},
     "output_type": "execute_result"
    }
   ],
   "source": [
    "df.head()"
   ]
  },
  {
   "cell_type": "code",
   "execution_count": 110,
   "id": "3329e818-f64a-45f8-b345-e7ec256f378c",
   "metadata": {},
   "outputs": [
    {
     "data": {
      "text/plain": [
       "0     Hombre\n",
       "1     Hombre\n",
       "2     Hombre\n",
       "3     Hombre\n",
       "4     Hombre\n",
       "5     Hombre\n",
       "6     Hombre\n",
       "7      Mujer\n",
       "8      Mujer\n",
       "9      Mujer\n",
       "10     Mujer\n",
       "11     Mujer\n",
       "12     Mujer\n",
       "13     Mujer\n",
       "14     Mujer\n",
       "Name: sexo, dtype: object"
      ]
     },
     "execution_count": 110,
     "metadata": {},
     "output_type": "execute_result"
    }
   ],
   "source": [
    "df.sexo_otro"
   ]
  },
  {
   "cell_type": "markdown",
   "id": "1926062d-8fdc-46eb-83cc-3344c73c9387",
   "metadata": {
    "tags": []
   },
   "source": [
    "### Filter"
   ]
  },
  {
   "cell_type": "code",
   "execution_count": 111,
   "id": "3bb6307b-dd99-43d5-b2ff-33fc8ad2117b",
   "metadata": {},
   "outputs": [
    {
     "data": {
      "text/plain": [
       "[0, 1, 2, 3, 4, 5, 6, 7, 8, 9, 10, 11, 12, 13, 14]"
      ]
     },
     "execution_count": 111,
     "metadata": {},
     "output_type": "execute_result"
    }
   ],
   "source": [
    "lista"
   ]
  },
  {
   "cell_type": "code",
   "execution_count": 113,
   "id": "a90d5384-234a-42fa-9ddb-5a16714242ee",
   "metadata": {},
   "outputs": [],
   "source": [
    "def validar_par_boolean(numero):\n",
    "    if numero % 2 == 0:\n",
    "        return True\n",
    "    else:\n",
    "        return False"
   ]
  },
  {
   "cell_type": "code",
   "execution_count": 115,
   "id": "77c490fd-dfc1-4f78-8320-17ca13b21037",
   "metadata": {},
   "outputs": [
    {
     "data": {
      "text/plain": [
       "[True,\n",
       " False,\n",
       " True,\n",
       " False,\n",
       " True,\n",
       " False,\n",
       " True,\n",
       " False,\n",
       " True,\n",
       " False,\n",
       " True,\n",
       " False,\n",
       " True,\n",
       " False,\n",
       " True]"
      ]
     },
     "execution_count": 115,
     "metadata": {},
     "output_type": "execute_result"
    }
   ],
   "source": [
    "list(map(validar_par_boolean, lista))"
   ]
  },
  {
   "cell_type": "code",
   "execution_count": 116,
   "id": "70a10c5f-d65c-4678-b5ac-c3689ce9efe2",
   "metadata": {},
   "outputs": [
    {
     "data": {
      "text/plain": [
       "[0, 2, 4, 6, 8, 10, 12, 14]"
      ]
     },
     "execution_count": 116,
     "metadata": {},
     "output_type": "execute_result"
    }
   ],
   "source": [
    "list(filter(validar_par_boolean, lista))"
   ]
  },
  {
   "cell_type": "code",
   "execution_count": 139,
   "id": "b324efac-30de-4586-b02d-910121d27c1b",
   "metadata": {},
   "outputs": [],
   "source": [
    "filtro_por2 = filter(lambda x: x+2, lista)"
   ]
  },
  {
   "cell_type": "code",
   "execution_count": 140,
   "id": "52282330-2d22-46cd-ae8d-0989badd27bb",
   "metadata": {},
   "outputs": [
    {
     "data": {
      "text/plain": [
       "<filter at 0x285316d1b70>"
      ]
     },
     "execution_count": 140,
     "metadata": {},
     "output_type": "execute_result"
    }
   ],
   "source": [
    "filtro_por2"
   ]
  },
  {
   "cell_type": "code",
   "execution_count": 141,
   "id": "5329f118-5c9b-4ecc-9981-057879971f34",
   "metadata": {},
   "outputs": [
    {
     "data": {
      "text/plain": [
       "[0, 1, 2, 3, 4, 5, 6, 7, 8, 9, 10, 11, 12, 13, 14]"
      ]
     },
     "execution_count": 141,
     "metadata": {},
     "output_type": "execute_result"
    }
   ],
   "source": [
    "lista"
   ]
  },
  {
   "cell_type": "code",
   "execution_count": 142,
   "id": "09a4f97e-66b0-4b91-8b67-0839579fddfa",
   "metadata": {},
   "outputs": [
    {
     "data": {
      "text/plain": [
       "[0, 1, 2, 3, 4, 5, 6, 7, 8, 9, 10, 11, 12, 13, 14]"
      ]
     },
     "execution_count": 142,
     "metadata": {},
     "output_type": "execute_result"
    }
   ],
   "source": [
    "list(filtro_por2)"
   ]
  },
  {
   "cell_type": "markdown",
   "id": "1bfefe3e-df7d-4943-af9b-b585f5f92475",
   "metadata": {},
   "source": [
    "##### Filter en pandas (filtros)"
   ]
  },
  {
   "cell_type": "code",
   "execution_count": 146,
   "id": "e707964f-c8a5-4946-afd4-3183c1ccc749",
   "metadata": {},
   "outputs": [
    {
     "data": {
      "text/plain": [
       "0      True\n",
       "1      True\n",
       "2      True\n",
       "3      True\n",
       "4      True\n",
       "5      True\n",
       "6      True\n",
       "7     False\n",
       "8     False\n",
       "9     False\n",
       "10    False\n",
       "11    False\n",
       "12    False\n",
       "13    False\n",
       "14    False\n",
       "Name: sexo_limpio, dtype: bool"
      ]
     },
     "execution_count": 146,
     "metadata": {},
     "output_type": "execute_result"
    }
   ],
   "source": [
    "df.sexo_limpio == 'Hombre'"
   ]
  },
  {
   "cell_type": "code",
   "execution_count": 148,
   "id": "04a733ef-67ae-4683-ab06-fc3472fb3dee",
   "metadata": {},
   "outputs": [
    {
     "data": {
      "text/html": [
       "<div>\n",
       "<style scoped>\n",
       "    .dataframe tbody tr th:only-of-type {\n",
       "        vertical-align: middle;\n",
       "    }\n",
       "\n",
       "    .dataframe tbody tr th {\n",
       "        vertical-align: top;\n",
       "    }\n",
       "\n",
       "    .dataframe thead th {\n",
       "        text-align: right;\n",
       "    }\n",
       "</style>\n",
       "<table border=\"1\" class=\"dataframe\">\n",
       "  <thead>\n",
       "    <tr style=\"text-align: right;\">\n",
       "      <th></th>\n",
       "      <th>sexo</th>\n",
       "      <th>sexo_limpio</th>\n",
       "    </tr>\n",
       "  </thead>\n",
       "  <tbody>\n",
       "    <tr>\n",
       "      <th>0</th>\n",
       "      <td>Masculino</td>\n",
       "      <td>Hombre</td>\n",
       "    </tr>\n",
       "    <tr>\n",
       "      <th>1</th>\n",
       "      <td>Hombre</td>\n",
       "      <td>Hombre</td>\n",
       "    </tr>\n",
       "    <tr>\n",
       "      <th>2</th>\n",
       "      <td>hombre</td>\n",
       "      <td>Hombre</td>\n",
       "    </tr>\n",
       "    <tr>\n",
       "      <th>3</th>\n",
       "      <td>Masculino</td>\n",
       "      <td>Hombre</td>\n",
       "    </tr>\n",
       "    <tr>\n",
       "      <th>4</th>\n",
       "      <td>M</td>\n",
       "      <td>Hombre</td>\n",
       "    </tr>\n",
       "    <tr>\n",
       "      <th>5</th>\n",
       "      <td>m</td>\n",
       "      <td>Hombre</td>\n",
       "    </tr>\n",
       "    <tr>\n",
       "      <th>6</th>\n",
       "      <td>M</td>\n",
       "      <td>Hombre</td>\n",
       "    </tr>\n",
       "  </tbody>\n",
       "</table>\n",
       "</div>"
      ],
      "text/plain": [
       "        sexo sexo_limpio\n",
       "0  Masculino      Hombre\n",
       "1     Hombre      Hombre\n",
       "2     hombre      Hombre\n",
       "3  Masculino      Hombre\n",
       "4          M      Hombre\n",
       "5          m      Hombre\n",
       "6          M      Hombre"
      ]
     },
     "execution_count": 148,
     "metadata": {},
     "output_type": "execute_result"
    }
   ],
   "source": [
    "df[df.sexo_limpio == 'Hombre']"
   ]
  },
  {
   "cell_type": "code",
   "execution_count": 151,
   "id": "d276936a-ce51-4fb2-ae81-596fbcb36827",
   "metadata": {},
   "outputs": [
    {
     "data": {
      "text/html": [
       "<div>\n",
       "<style scoped>\n",
       "    .dataframe tbody tr th:only-of-type {\n",
       "        vertical-align: middle;\n",
       "    }\n",
       "\n",
       "    .dataframe tbody tr th {\n",
       "        vertical-align: top;\n",
       "    }\n",
       "\n",
       "    .dataframe thead th {\n",
       "        text-align: right;\n",
       "    }\n",
       "</style>\n",
       "<table border=\"1\" class=\"dataframe\">\n",
       "  <thead>\n",
       "    <tr style=\"text-align: right;\">\n",
       "      <th></th>\n",
       "      <th>sexo</th>\n",
       "      <th>sexo_limpio</th>\n",
       "    </tr>\n",
       "  </thead>\n",
       "  <tbody>\n",
       "    <tr>\n",
       "      <th>0</th>\n",
       "      <td>Masculino</td>\n",
       "      <td>Hombre</td>\n",
       "    </tr>\n",
       "    <tr>\n",
       "      <th>1</th>\n",
       "      <td>Hombre</td>\n",
       "      <td>Hombre</td>\n",
       "    </tr>\n",
       "    <tr>\n",
       "      <th>2</th>\n",
       "      <td>hombre</td>\n",
       "      <td>Hombre</td>\n",
       "    </tr>\n",
       "    <tr>\n",
       "      <th>3</th>\n",
       "      <td>Masculino</td>\n",
       "      <td>Hombre</td>\n",
       "    </tr>\n",
       "    <tr>\n",
       "      <th>4</th>\n",
       "      <td>M</td>\n",
       "      <td>Hombre</td>\n",
       "    </tr>\n",
       "    <tr>\n",
       "      <th>5</th>\n",
       "      <td>m</td>\n",
       "      <td>Hombre</td>\n",
       "    </tr>\n",
       "    <tr>\n",
       "      <th>6</th>\n",
       "      <td>M</td>\n",
       "      <td>Hombre</td>\n",
       "    </tr>\n",
       "    <tr>\n",
       "      <th>7</th>\n",
       "      <td>mujer</td>\n",
       "      <td>Mujer</td>\n",
       "    </tr>\n",
       "    <tr>\n",
       "      <th>8</th>\n",
       "      <td>Femenino</td>\n",
       "      <td>Mujer</td>\n",
       "    </tr>\n",
       "    <tr>\n",
       "      <th>9</th>\n",
       "      <td>femenino</td>\n",
       "      <td>Mujer</td>\n",
       "    </tr>\n",
       "    <tr>\n",
       "      <th>10</th>\n",
       "      <td>Femenino</td>\n",
       "      <td>Mujer</td>\n",
       "    </tr>\n",
       "    <tr>\n",
       "      <th>11</th>\n",
       "      <td>F</td>\n",
       "      <td>Mujer</td>\n",
       "    </tr>\n",
       "    <tr>\n",
       "      <th>12</th>\n",
       "      <td>f</td>\n",
       "      <td>Mujer</td>\n",
       "    </tr>\n",
       "    <tr>\n",
       "      <th>13</th>\n",
       "      <td>f</td>\n",
       "      <td>Mujer</td>\n",
       "    </tr>\n",
       "    <tr>\n",
       "      <th>14</th>\n",
       "      <td>Femenino</td>\n",
       "      <td>Mujer</td>\n",
       "    </tr>\n",
       "  </tbody>\n",
       "</table>\n",
       "</div>"
      ],
      "text/plain": [
       "         sexo sexo_limpio\n",
       "0   Masculino      Hombre\n",
       "1      Hombre      Hombre\n",
       "2      hombre      Hombre\n",
       "3   Masculino      Hombre\n",
       "4           M      Hombre\n",
       "5           m      Hombre\n",
       "6           M      Hombre\n",
       "7       mujer       Mujer\n",
       "8    Femenino       Mujer\n",
       "9    femenino       Mujer\n",
       "10   Femenino       Mujer\n",
       "11          F       Mujer\n",
       "12          f       Mujer\n",
       "13          f       Mujer\n",
       "14   Femenino       Mujer"
      ]
     },
     "execution_count": 151,
     "metadata": {},
     "output_type": "execute_result"
    }
   ],
   "source": [
    "df"
   ]
  },
  {
   "cell_type": "code",
   "execution_count": 150,
   "id": "c514e9f0-0ddb-41ce-afd3-3492e602f52a",
   "metadata": {},
   "outputs": [
    {
     "data": {
      "text/plain": [
       "0     False\n",
       "1     False\n",
       "2     False\n",
       "3     False\n",
       "4     False\n",
       "5      True\n",
       "6     False\n",
       "7      True\n",
       "8     False\n",
       "9     False\n",
       "10    False\n",
       "11    False\n",
       "12    False\n",
       "13    False\n",
       "14    False\n",
       "Name: sexo, dtype: bool"
      ]
     },
     "execution_count": 150,
     "metadata": {},
     "output_type": "execute_result"
    }
   ],
   "source": [
    "df.sexo.apply(lambda x: x.startswith('m'))"
   ]
  },
  {
   "cell_type": "code",
   "execution_count": 152,
   "id": "b4f69a6a-672b-4307-9e40-6efa7f35d14a",
   "metadata": {},
   "outputs": [
    {
     "data": {
      "text/html": [
       "<div>\n",
       "<style scoped>\n",
       "    .dataframe tbody tr th:only-of-type {\n",
       "        vertical-align: middle;\n",
       "    }\n",
       "\n",
       "    .dataframe tbody tr th {\n",
       "        vertical-align: top;\n",
       "    }\n",
       "\n",
       "    .dataframe thead th {\n",
       "        text-align: right;\n",
       "    }\n",
       "</style>\n",
       "<table border=\"1\" class=\"dataframe\">\n",
       "  <thead>\n",
       "    <tr style=\"text-align: right;\">\n",
       "      <th></th>\n",
       "      <th>sexo</th>\n",
       "      <th>sexo_limpio</th>\n",
       "    </tr>\n",
       "  </thead>\n",
       "  <tbody>\n",
       "    <tr>\n",
       "      <th>5</th>\n",
       "      <td>m</td>\n",
       "      <td>Hombre</td>\n",
       "    </tr>\n",
       "    <tr>\n",
       "      <th>7</th>\n",
       "      <td>mujer</td>\n",
       "      <td>Mujer</td>\n",
       "    </tr>\n",
       "  </tbody>\n",
       "</table>\n",
       "</div>"
      ],
      "text/plain": [
       "    sexo sexo_limpio\n",
       "5      m      Hombre\n",
       "7  mujer       Mujer"
      ]
     },
     "execution_count": 152,
     "metadata": {},
     "output_type": "execute_result"
    }
   ],
   "source": [
    "df[df.sexo.apply(lambda x: x.startswith('m'))]"
   ]
  },
  {
   "cell_type": "code",
   "execution_count": 161,
   "id": "fc741600-680f-4c72-ada8-592c11e3e5a2",
   "metadata": {},
   "outputs": [],
   "source": [
    "filtros = [True, True, False, True, False, False, False, False, False, False, True, False, True, False, False]"
   ]
  },
  {
   "cell_type": "code",
   "execution_count": 162,
   "id": "ddbd89c5-aa2d-4880-b2c4-a105420c6cfa",
   "metadata": {},
   "outputs": [
    {
     "data": {
      "text/html": [
       "<div>\n",
       "<style scoped>\n",
       "    .dataframe tbody tr th:only-of-type {\n",
       "        vertical-align: middle;\n",
       "    }\n",
       "\n",
       "    .dataframe tbody tr th {\n",
       "        vertical-align: top;\n",
       "    }\n",
       "\n",
       "    .dataframe thead th {\n",
       "        text-align: right;\n",
       "    }\n",
       "</style>\n",
       "<table border=\"1\" class=\"dataframe\">\n",
       "  <thead>\n",
       "    <tr style=\"text-align: right;\">\n",
       "      <th></th>\n",
       "      <th>sexo</th>\n",
       "      <th>sexo_limpio</th>\n",
       "    </tr>\n",
       "  </thead>\n",
       "  <tbody>\n",
       "    <tr>\n",
       "      <th>0</th>\n",
       "      <td>Masculino</td>\n",
       "      <td>Hombre</td>\n",
       "    </tr>\n",
       "    <tr>\n",
       "      <th>1</th>\n",
       "      <td>Hombre</td>\n",
       "      <td>Hombre</td>\n",
       "    </tr>\n",
       "    <tr>\n",
       "      <th>3</th>\n",
       "      <td>Masculino</td>\n",
       "      <td>Hombre</td>\n",
       "    </tr>\n",
       "    <tr>\n",
       "      <th>10</th>\n",
       "      <td>Femenino</td>\n",
       "      <td>Mujer</td>\n",
       "    </tr>\n",
       "    <tr>\n",
       "      <th>12</th>\n",
       "      <td>f</td>\n",
       "      <td>Mujer</td>\n",
       "    </tr>\n",
       "  </tbody>\n",
       "</table>\n",
       "</div>"
      ],
      "text/plain": [
       "         sexo sexo_limpio\n",
       "0   Masculino      Hombre\n",
       "1      Hombre      Hombre\n",
       "3   Masculino      Hombre\n",
       "10   Femenino       Mujer\n",
       "12          f       Mujer"
      ]
     },
     "execution_count": 162,
     "metadata": {},
     "output_type": "execute_result"
    }
   ],
   "source": [
    "df[filtros]"
   ]
  },
  {
   "cell_type": "code",
   "execution_count": 155,
   "id": "0725b6bb-386c-4711-b8d6-04f617d7e9bd",
   "metadata": {},
   "outputs": [
    {
     "data": {
      "text/plain": [
       "0    Masculino\n",
       "1       Hombre\n",
       "2       hombre\n",
       "3    Masculino\n",
       "4            M\n",
       "Name: sexo, dtype: object"
      ]
     },
     "execution_count": 155,
     "metadata": {},
     "output_type": "execute_result"
    }
   ],
   "source": [
    "df['sexo'].head()"
   ]
  },
  {
   "cell_type": "code",
   "execution_count": 156,
   "id": "9fb3fcc0-dd42-4c53-9acd-d449f4b15461",
   "metadata": {},
   "outputs": [
    {
     "data": {
      "text/plain": [
       "pandas.core.series.Series"
      ]
     },
     "execution_count": 156,
     "metadata": {},
     "output_type": "execute_result"
    }
   ],
   "source": [
    "type(df['sexo'])"
   ]
  },
  {
   "cell_type": "code",
   "execution_count": 157,
   "id": "039a6fd8-e9e7-4590-b2ad-05a2001519bf",
   "metadata": {},
   "outputs": [
    {
     "data": {
      "text/html": [
       "<div>\n",
       "<style scoped>\n",
       "    .dataframe tbody tr th:only-of-type {\n",
       "        vertical-align: middle;\n",
       "    }\n",
       "\n",
       "    .dataframe tbody tr th {\n",
       "        vertical-align: top;\n",
       "    }\n",
       "\n",
       "    .dataframe thead th {\n",
       "        text-align: right;\n",
       "    }\n",
       "</style>\n",
       "<table border=\"1\" class=\"dataframe\">\n",
       "  <thead>\n",
       "    <tr style=\"text-align: right;\">\n",
       "      <th></th>\n",
       "      <th>sexo</th>\n",
       "    </tr>\n",
       "  </thead>\n",
       "  <tbody>\n",
       "    <tr>\n",
       "      <th>0</th>\n",
       "      <td>Masculino</td>\n",
       "    </tr>\n",
       "    <tr>\n",
       "      <th>1</th>\n",
       "      <td>Hombre</td>\n",
       "    </tr>\n",
       "    <tr>\n",
       "      <th>2</th>\n",
       "      <td>hombre</td>\n",
       "    </tr>\n",
       "    <tr>\n",
       "      <th>3</th>\n",
       "      <td>Masculino</td>\n",
       "    </tr>\n",
       "    <tr>\n",
       "      <th>4</th>\n",
       "      <td>M</td>\n",
       "    </tr>\n",
       "  </tbody>\n",
       "</table>\n",
       "</div>"
      ],
      "text/plain": [
       "        sexo\n",
       "0  Masculino\n",
       "1     Hombre\n",
       "2     hombre\n",
       "3  Masculino\n",
       "4          M"
      ]
     },
     "execution_count": 157,
     "metadata": {},
     "output_type": "execute_result"
    }
   ],
   "source": [
    "df[['sexo']].head()"
   ]
  },
  {
   "cell_type": "code",
   "execution_count": 158,
   "id": "342dafc4-59fb-4386-a149-144224b96002",
   "metadata": {},
   "outputs": [
    {
     "data": {
      "text/plain": [
       "pandas.core.frame.DataFrame"
      ]
     },
     "execution_count": 158,
     "metadata": {},
     "output_type": "execute_result"
    }
   ],
   "source": [
    "type(df[['sexo']])"
   ]
  },
  {
   "cell_type": "code",
   "execution_count": 163,
   "id": "d6559a65-0b42-4380-af85-2cc2e37a2f5a",
   "metadata": {},
   "outputs": [],
   "source": [
    "lista_rara = [0, 1, 5, '', 'hola', []]"
   ]
  },
  {
   "cell_type": "code",
   "execution_count": 166,
   "id": "223ae944-3531-4d86-80a7-4e6b6cb5c270",
   "metadata": {},
   "outputs": [
    {
     "data": {
      "text/plain": [
       "[False, True, True, False, True, False]"
      ]
     },
     "execution_count": 166,
     "metadata": {},
     "output_type": "execute_result"
    }
   ],
   "source": [
    "list(map(lambda x: bool(x), lista_rara))"
   ]
  },
  {
   "cell_type": "code",
   "execution_count": 165,
   "id": "e24433fb-5961-4b5f-8547-c7d97feb4f4d",
   "metadata": {},
   "outputs": [
    {
     "data": {
      "text/plain": [
       "[1, 5, 'hola']"
      ]
     },
     "execution_count": 165,
     "metadata": {},
     "output_type": "execute_result"
    }
   ],
   "source": [
    "list(filter(None, lista_rara))"
   ]
  },
  {
   "cell_type": "markdown",
   "id": "ec108de9-63af-4298-a045-5ccf1a4938ff",
   "metadata": {
    "tags": []
   },
   "source": [
    "### Reduce"
   ]
  },
  {
   "cell_type": "code",
   "execution_count": 167,
   "id": "4b5bd69b-9cb9-4dc9-88e5-31109b7b5360",
   "metadata": {},
   "outputs": [],
   "source": [
    "from functools import reduce"
   ]
  },
  {
   "cell_type": "markdown",
   "id": "02d5379f-288d-410f-a17b-7d0f4be68eee",
   "metadata": {},
   "source": [
    "5!\n",
    "\n",
    "1 * 2 * 3 * 4 * 5\n",
    "\n",
    "1 * 2 = 2\n",
    "\n",
    "2 * 3 = 6\n",
    "\n",
    "6 * 4 = 24\n",
    "\n",
    "24 * 5 = 120"
   ]
  },
  {
   "cell_type": "code",
   "execution_count": 172,
   "id": "fae740f7-a9e1-4fb1-8445-14b0786611ee",
   "metadata": {},
   "outputs": [
    {
     "data": {
      "text/plain": [
       "120"
      ]
     },
     "execution_count": 172,
     "metadata": {},
     "output_type": "execute_result"
    }
   ],
   "source": [
    "reduce(lambda x, y : x * y, [1, 2, 3, 4, 5])"
   ]
  },
  {
   "cell_type": "code",
   "execution_count": 173,
   "id": "348a4580-edda-4ac6-925a-73ce062abf81",
   "metadata": {},
   "outputs": [
    {
     "data": {
      "text/plain": [
       "10"
      ]
     },
     "execution_count": 173,
     "metadata": {},
     "output_type": "execute_result"
    }
   ],
   "source": [
    "reduce(lambda x, y : x * y if x < y else x-y, [1, 2, 3, 4, 5])"
   ]
  },
  {
   "cell_type": "code",
   "execution_count": 174,
   "id": "0d51c79d-b5f9-4a56-ae18-eff0516f095d",
   "metadata": {},
   "outputs": [
    {
     "data": {
      "text/plain": [
       "'hola como estas'"
      ]
     },
     "execution_count": 174,
     "metadata": {},
     "output_type": "execute_result"
    }
   ],
   "source": [
    "reduce(lambda x, y : f'{x} {y}', ['hola', 'como', 'estas'])"
   ]
  },
  {
   "cell_type": "code",
   "execution_count": 176,
   "id": "58be646f-a5bc-479d-a0bd-b3e1f972d2ba",
   "metadata": {},
   "outputs": [
    {
     "data": {
      "text/plain": [
       "'Amigo, hola como estas'"
      ]
     },
     "execution_count": 176,
     "metadata": {},
     "output_type": "execute_result"
    }
   ],
   "source": [
    "reduce(lambda x, y : f'{x} {y}', ['hola', 'como', 'estas'], 'Amigo,')"
   ]
  },
  {
   "cell_type": "code",
   "execution_count": 177,
   "id": "ff5cfd58-629f-4585-9cd8-9908514e9a0a",
   "metadata": {},
   "outputs": [
    {
     "data": {
      "text/plain": [
       "'hola como estas'"
      ]
     },
     "execution_count": 177,
     "metadata": {},
     "output_type": "execute_result"
    }
   ],
   "source": [
    "' '.join(['hola', 'como', 'estas'])"
   ]
  },
  {
   "cell_type": "code",
   "execution_count": 178,
   "id": "b989c260-1748-4064-b30b-596a6fa41327",
   "metadata": {},
   "outputs": [
    {
     "data": {
      "text/plain": [
       "[3, 2, 5, 143]"
      ]
     },
     "execution_count": 178,
     "metadata": {},
     "output_type": "execute_result"
    }
   ],
   "source": [
    "[3, 2, 5, 143]"
   ]
  },
  {
   "cell_type": "code",
   "execution_count": 186,
   "id": "ea005abf-03a5-4515-ad49-b438bc8d56e5",
   "metadata": {},
   "outputs": [
    {
     "data": {
      "text/plain": [
       "{2, 3, 5, 143}"
      ]
     },
     "execution_count": 186,
     "metadata": {},
     "output_type": "execute_result"
    }
   ],
   "source": [
    "reduce(lambda x, y: x.union({y}), [3, 2, 5, 143], set())"
   ]
  }
 ],
 "metadata": {
  "kernelspec": {
   "display_name": "Python 3 (ipykernel)",
   "language": "python",
   "name": "python3"
  },
  "language_info": {
   "codemirror_mode": {
    "name": "ipython",
    "version": 3
   },
   "file_extension": ".py",
   "mimetype": "text/x-python",
   "name": "python",
   "nbconvert_exporter": "python",
   "pygments_lexer": "ipython3",
   "version": "3.10.7"
  }
 },
 "nbformat": 4,
 "nbformat_minor": 5
}
