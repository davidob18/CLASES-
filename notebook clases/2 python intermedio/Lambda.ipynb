{
 "cells": [
  {
   "cell_type": "markdown",
   "id": "3b82838f-66e3-4f34-b9cb-a560d37851d2",
   "metadata": {},
   "source": [
    "Una funcion caulquiera\n",
    "\n",
    "def nombre_funcion(argumentos):\n",
    "\n",
    "     return algo"
   ]
  },
  {
   "cell_type": "markdown",
   "id": "b9c37a1c-1cd5-47b6-8421-247fbe853225",
   "metadata": {},
   "source": [
    "Funciones anonimas o lambda functions son funciones mas simples\n",
    "\n",
    "lambda argumentos: algo"
   ]
  },
  {
   "cell_type": "code",
   "execution_count": 1,
   "id": "4c9e5687-c3ae-404e-9cb2-6e72a8422cab",
   "metadata": {},
   "outputs": [
    {
     "data": {
      "text/plain": [
       "<function __main__.<lambda>(nombre)>"
      ]
     },
     "execution_count": 1,
     "metadata": {},
     "output_type": "execute_result"
    }
   ],
   "source": [
    "lambda nombre: f'Hola {nombre}'"
   ]
  },
  {
   "cell_type": "code",
   "execution_count": 2,
   "id": "7d348e6f-f61a-400e-a333-f1b6d9e4f45d",
   "metadata": {},
   "outputs": [],
   "source": [
    "lambda_saludar = lambda nombre: f'Hola {nombre}'"
   ]
  },
  {
   "cell_type": "code",
   "execution_count": 3,
   "id": "1662b5c4-b567-4f4e-b8ac-71bf79f7ba80",
   "metadata": {},
   "outputs": [],
   "source": [
    "resultado = lambda_saludar('Zahid')"
   ]
  },
  {
   "cell_type": "code",
   "execution_count": 4,
   "id": "edf41366-c6d4-4751-831a-5f2f4b421a29",
   "metadata": {},
   "outputs": [
    {
     "name": "stdout",
     "output_type": "stream",
     "text": [
      "Hola Zahid\n"
     ]
    }
   ],
   "source": [
    "print(resultado)"
   ]
  },
  {
   "cell_type": "code",
   "execution_count": 5,
   "id": "8d85aec9-a0be-4eb5-84cf-e0d70ede3144",
   "metadata": {},
   "outputs": [],
   "source": [
    "def funcion_saludar(nombre):\n",
    "    return f'Hola {nombre}'"
   ]
  },
  {
   "cell_type": "code",
   "execution_count": 7,
   "id": "ac6fe089-8086-4b4c-abff-c9553eeac8bf",
   "metadata": {},
   "outputs": [
    {
     "name": "stdout",
     "output_type": "stream",
     "text": [
      "Hola Zahid\n"
     ]
    }
   ],
   "source": [
    "resultado = funcion_saludar('Zahid')\n",
    "print(resultado)"
   ]
  },
  {
   "cell_type": "code",
   "execution_count": 8,
   "id": "9756f408-aaab-401d-84dc-f521e52c1fe9",
   "metadata": {},
   "outputs": [
    {
     "data": {
      "text/plain": [
       "<function __main__.<lambda>(nombre)>"
      ]
     },
     "execution_count": 8,
     "metadata": {},
     "output_type": "execute_result"
    }
   ],
   "source": [
    "lambda_saludar"
   ]
  },
  {
   "cell_type": "code",
   "execution_count": 9,
   "id": "a3c4bb6a-1cc9-4a38-8a9f-aaa6d65341d5",
   "metadata": {},
   "outputs": [
    {
     "data": {
      "text/plain": [
       "<function __main__.funcion_saludar(nombre)>"
      ]
     },
     "execution_count": 9,
     "metadata": {},
     "output_type": "execute_result"
    }
   ],
   "source": [
    "funcion_saludar"
   ]
  },
  {
   "cell_type": "markdown",
   "id": "2e000aad-4ca9-4260-a643-8324bd1b4921",
   "metadata": {},
   "source": [
    "Que puedo hacer en una lambda que tambien podria en una tradicional\n",
    "\n",
    "* Keywords SI\n",
    "* *Args SI\n",
    "* **Kwargs SI\n",
    "* Returns multiples SI\n",
    "* Print\n",
    "* Regresar otra funcion\n",
    "* Probablemente si usar lambda dentro de una funcion"
   ]
  },
  {
   "cell_type": "code",
   "execution_count": 10,
   "id": "dcbc4875-e324-49cb-929d-6b04deefa620",
   "metadata": {},
   "outputs": [
    {
     "name": "stdout",
     "output_type": "stream",
     "text": [
      "Hola Zahid Sanchez\n"
     ]
    }
   ],
   "source": [
    "lambda_saludar_completo = lambda nombre, apellido: f'Hola {nombre} {apellido}'\n",
    "resultado = lambda_saludar_completo('Zahid', 'Sanchez')\n",
    "print(resultado)"
   ]
  },
  {
   "cell_type": "code",
   "execution_count": 11,
   "id": "8705065f-57f1-4105-8ceb-7089a2fc1a67",
   "metadata": {},
   "outputs": [
    {
     "name": "stdout",
     "output_type": "stream",
     "text": [
      "Hola Zahid \n"
     ]
    }
   ],
   "source": [
    "lambda_saludar_completo = lambda nombre, apellido = '': f'Hola {nombre} {apellido}'\n",
    "resultado = lambda_saludar_completo('Zahid')\n",
    "print(resultado)"
   ]
  },
  {
   "cell_type": "code",
   "execution_count": 12,
   "id": "e5930c55-3b20-4e99-ba62-a302b93807de",
   "metadata": {},
   "outputs": [
    {
     "name": "stdout",
     "output_type": "stream",
     "text": [
      "None\n"
     ]
    }
   ],
   "source": [
    "print(None)"
   ]
  },
  {
   "cell_type": "code",
   "execution_count": 13,
   "id": "e56b2694-8d86-446a-b2b9-7de339152c91",
   "metadata": {},
   "outputs": [
    {
     "name": "stdout",
     "output_type": "stream",
     "text": [
      "\n"
     ]
    }
   ],
   "source": [
    "print('')"
   ]
  },
  {
   "cell_type": "code",
   "execution_count": 14,
   "id": "bde0831a-dd16-4e7b-bc5f-f96314802f8f",
   "metadata": {},
   "outputs": [
    {
     "data": {
      "text/plain": [
       "True"
      ]
     },
     "execution_count": 14,
     "metadata": {},
     "output_type": "execute_result"
    }
   ],
   "source": [
    "None is None"
   ]
  },
  {
   "cell_type": "code",
   "execution_count": 15,
   "id": "b28dc3be-ea4a-4637-a49a-0c30b8752f33",
   "metadata": {},
   "outputs": [
    {
     "name": "stderr",
     "output_type": "stream",
     "text": [
      "<>:1: SyntaxWarning: \"is\" with a literal. Did you mean \"==\"?\n",
      "<>:1: SyntaxWarning: \"is\" with a literal. Did you mean \"==\"?\n",
      "C:\\Users\\zahid\\AppData\\Local\\Temp\\ipykernel_17328\\1115366061.py:1: SyntaxWarning: \"is\" with a literal. Did you mean \"==\"?\n",
      "  '' is None\n"
     ]
    },
    {
     "data": {
      "text/plain": [
       "False"
      ]
     },
     "execution_count": 15,
     "metadata": {},
     "output_type": "execute_result"
    }
   ],
   "source": [
    "'' is None"
   ]
  },
  {
   "cell_type": "code",
   "execution_count": 16,
   "id": "c6b14e21-2c68-4642-accd-de13bc2c1ed5",
   "metadata": {},
   "outputs": [
    {
     "data": {
      "text/plain": [
       "NoneType"
      ]
     },
     "execution_count": 16,
     "metadata": {},
     "output_type": "execute_result"
    }
   ],
   "source": [
    "type(None)"
   ]
  },
  {
   "cell_type": "code",
   "execution_count": 17,
   "id": "dd37f8b9-c72e-4dd9-96ff-aca1d70dd101",
   "metadata": {},
   "outputs": [
    {
     "data": {
      "text/plain": [
       "str"
      ]
     },
     "execution_count": 17,
     "metadata": {},
     "output_type": "execute_result"
    }
   ],
   "source": [
    "type('')"
   ]
  },
  {
   "cell_type": "code",
   "execution_count": 18,
   "id": "07d495a5-8c6a-4ccf-89b4-1ecacb75c8d0",
   "metadata": {},
   "outputs": [
    {
     "name": "stdout",
     "output_type": "stream",
     "text": [
      "Hola Zahid Sanchez\n"
     ]
    }
   ],
   "source": [
    "lambda_saludar_completo = lambda nombre, apellido = '': f'Hola {nombre} {apellido}'\n",
    "resultado = lambda_saludar_completo(apellido = 'Sanchez', nombre = 'Zahid')\n",
    "print(resultado)"
   ]
  },
  {
   "cell_type": "code",
   "execution_count": 24,
   "id": "67cd65c7-e32c-4d10-b369-04ab2058118d",
   "metadata": {},
   "outputs": [
    {
     "name": "stdout",
     "output_type": "stream",
     "text": [
      "Hola Zahid Sanchez\n",
      "Aqui te va una tupla ('objeto1', 'objeto2')\n"
     ]
    }
   ],
   "source": [
    "lambda_saludar_completo = lambda nombre, *args, apellido = '': f'Hola {nombre} {apellido}\\nAqui te va una tupla {args}'\n",
    "resultado = lambda_saludar_completo('Zahid', 'objeto1', 'objeto2', apellido = 'Sanchez')\n",
    "print(resultado)"
   ]
  },
  {
   "cell_type": "code",
   "execution_count": 35,
   "id": "8cbb0489-a618-46e7-a732-9d29bbbcca4d",
   "metadata": {},
   "outputs": [
    {
     "name": "stdout",
     "output_type": "stream",
     "text": [
      "Hola Zahid Sanchez\n",
      "Aqui te va una tupla ('objeto1', 'objeto2')\n",
      "Aqui te va un diccionario {'llave1': 'valor1', 'llave2': 'valor2'}\n"
     ]
    }
   ],
   "source": [
    "lambda_saludar_completo = lambda nombre, *args, apellido = '', **kwargs: f'Hola {nombre} {apellido}\\nAqui te va una tupla {args}\\nAqui te va un diccionario {kwargs}'\n",
    "resultado = lambda_saludar_completo('Zahid', 'objeto1', 'objeto2', apellido = 'Sanchez', llave1 = 'valor1', llave2 = 'valor2')\n",
    "print(resultado)"
   ]
  },
  {
   "cell_type": "code",
   "execution_count": 32,
   "id": "ac789dd2-a13a-486a-b05f-1a7ca6c894c9",
   "metadata": {},
   "outputs": [
    {
     "name": "stdout",
     "output_type": "stream",
     "text": [
      "9 20\n"
     ]
    }
   ],
   "source": [
    "lambda_operar = lambda valor1, valor2: (valor1 + valor2, valor1*valor2)\n",
    "resultado_suma, resultado_producto = lambda_operar(4, 5)\n",
    "print(resultado_suma, resultado_producto)"
   ]
  },
  {
   "cell_type": "markdown",
   "id": "be94a4db-67d3-4987-88cc-530a01d8029d",
   "metadata": {},
   "source": [
    "Que puedo hacer en una lambda que tambien podria en una tradicional\n",
    "\n",
    "* Keywords SI\n",
    "* *Args SI\n",
    "* **Kwargs SI\n",
    "* Returns multiples SI\n",
    "* Print SI\n",
    "* Regresar otra funcion SI\n",
    "* Probablemente si usar lambda dentro de una funcion"
   ]
  },
  {
   "cell_type": "code",
   "execution_count": 37,
   "id": "346f16d9-9b2b-4616-af4b-f8e898d0c43e",
   "metadata": {},
   "outputs": [
    {
     "name": "stdout",
     "output_type": "stream",
     "text": [
      "Hola Zahid\n",
      "None\n"
     ]
    }
   ],
   "source": [
    "saludar_print = lambda nombre: print(f'Hola {nombre}')\n",
    "\n",
    "resultado = saludar_print('Zahid')\n",
    "print(resultado)"
   ]
  },
  {
   "cell_type": "code",
   "execution_count": 38,
   "id": "fe69d749-b392-46d0-b27b-d24d05adbeb3",
   "metadata": {},
   "outputs": [
    {
     "name": "stdout",
     "output_type": "stream",
     "text": [
      "Hola\n"
     ]
    }
   ],
   "source": [
    "resultado = print('Hola')"
   ]
  },
  {
   "cell_type": "code",
   "execution_count": 39,
   "id": "ee7bafd8-1b74-4143-a670-81a9492598c7",
   "metadata": {},
   "outputs": [
    {
     "name": "stdout",
     "output_type": "stream",
     "text": [
      "None\n"
     ]
    }
   ],
   "source": [
    "print(resultado)"
   ]
  },
  {
   "cell_type": "code",
   "execution_count": 40,
   "id": "50a90a85-06b2-474c-9a45-fda1cdd4fcdf",
   "metadata": {},
   "outputs": [],
   "source": [
    "def repetir2_veces(palabra):\n",
    "    return palabra*2"
   ]
  },
  {
   "cell_type": "code",
   "execution_count": 41,
   "id": "e92b0bfa-9b48-42d7-8b0c-b12c1dc83583",
   "metadata": {},
   "outputs": [
    {
     "name": "stdout",
     "output_type": "stream",
     "text": [
      "ZahidZahid\n"
     ]
    }
   ],
   "source": [
    "lambda_usar_funcion = lambda palabra: repetir2_veces(palabra)\n",
    "\n",
    "resultado = lambda_usar_funcion('Zahid')\n",
    "print(resultado)"
   ]
  },
  {
   "cell_type": "code",
   "execution_count": 42,
   "id": "e3ff0116-b0ea-47d6-ac2c-f4262a6cd583",
   "metadata": {},
   "outputs": [],
   "source": [
    "def sumar_numeros(numero1, numero2):\n",
    "    return numero1 + numero2"
   ]
  },
  {
   "cell_type": "code",
   "execution_count": 44,
   "id": "3b80a729-72f1-43b1-9e45-bae5ab35ebfc",
   "metadata": {},
   "outputs": [
    {
     "data": {
      "text/plain": [
       "7"
      ]
     },
     "execution_count": 44,
     "metadata": {},
     "output_type": "execute_result"
    }
   ],
   "source": [
    "sumar_numeros(2,5)"
   ]
  },
  {
   "cell_type": "code",
   "execution_count": 45,
   "id": "ebe04faa-d023-408d-bd41-0633bda78175",
   "metadata": {},
   "outputs": [],
   "source": [
    "fijar_izquierda = lambda numero1: lambda numero2: sumar_numeros(numero1, numero2)"
   ]
  },
  {
   "cell_type": "code",
   "execution_count": 46,
   "id": "8362967f-6746-483d-8e29-d552cf1ec876",
   "metadata": {},
   "outputs": [],
   "source": [
    "sumar4 = fijar_izquierda(4) # lambda numero2: sumar_numeros(4, numero2) "
   ]
  },
  {
   "cell_type": "code",
   "execution_count": 48,
   "id": "ffd69b83-e2bb-4286-93c8-f9ec1d62e59c",
   "metadata": {},
   "outputs": [
    {
     "data": {
      "text/plain": [
       "<function __main__.<lambda>.<locals>.<lambda>(numero2)>"
      ]
     },
     "execution_count": 48,
     "metadata": {},
     "output_type": "execute_result"
    }
   ],
   "source": [
    "sumar4"
   ]
  },
  {
   "cell_type": "code",
   "execution_count": 47,
   "id": "b743fa1a-e843-42db-b8be-cd9364e1005a",
   "metadata": {},
   "outputs": [
    {
     "data": {
      "text/plain": [
       "23"
      ]
     },
     "execution_count": 47,
     "metadata": {},
     "output_type": "execute_result"
    }
   ],
   "source": [
    "sumar4(19) #sumar_numeros(4, 19) = 23"
   ]
  },
  {
   "cell_type": "code",
   "execution_count": 50,
   "id": "ebb22258-b896-494b-8f01-8e9cda122b7d",
   "metadata": {},
   "outputs": [],
   "source": [
    "def fijar_numero_funcion(numero1):\n",
    "    return lambda numero2: numero1 + numero2"
   ]
  },
  {
   "cell_type": "code",
   "execution_count": 51,
   "id": "f8080941-624f-4905-b4bc-2cbeb14c1740",
   "metadata": {},
   "outputs": [],
   "source": [
    "sumar8 = fijar_numero_funcion(8) # return lambda numero2: 8 + numero2"
   ]
  },
  {
   "cell_type": "code",
   "execution_count": 52,
   "id": "20f2d424-e0e8-4b9e-af47-3572f8e6008a",
   "metadata": {},
   "outputs": [
    {
     "data": {
      "text/plain": [
       "<function __main__.fijar_numero_funcion.<locals>.<lambda>(numero2)>"
      ]
     },
     "execution_count": 52,
     "metadata": {},
     "output_type": "execute_result"
    }
   ],
   "source": [
    "sumar8"
   ]
  },
  {
   "cell_type": "code",
   "execution_count": 53,
   "id": "be68d7b2-e4a9-4916-8872-2249e63ea425",
   "metadata": {},
   "outputs": [
    {
     "data": {
      "text/plain": [
       "13"
      ]
     },
     "execution_count": 53,
     "metadata": {},
     "output_type": "execute_result"
    }
   ],
   "source": [
    "sumar8(5)"
   ]
  },
  {
   "cell_type": "code",
   "execution_count": 55,
   "id": "d50f436d-67f5-444a-84e5-74549cb45ca0",
   "metadata": {},
   "outputs": [],
   "source": [
    "lista_frases = \"\"\"Padecieron un aumento de la presión arterial 20 o 30 personas\n",
    "Entre 20 y 30 personas padecieron un aumento de la presión arterial\n",
    "De 20 a 30 personas padecieron un aumento de la presión arterial\"\"\".split('\\n')"
   ]
  },
  {
   "cell_type": "code",
   "execution_count": 56,
   "id": "98b5e878-a495-4df4-98fe-1626ea9008e0",
   "metadata": {},
   "outputs": [
    {
     "data": {
      "text/plain": [
       "['Padecieron un aumento de la presión arterial 20 o 30 personas',\n",
       " 'Entre 20 y 30 personas padecieron un aumento de la presión arterial',\n",
       " 'De 20 a 30 personas padecieron un aumento de la presión arterial']"
      ]
     },
     "execution_count": 56,
     "metadata": {},
     "output_type": "execute_result"
    }
   ],
   "source": [
    "lista_frases"
   ]
  },
  {
   "cell_type": "code",
   "execution_count": 57,
   "id": "4a65fd0c-17b5-461c-a558-3fd47c92f22e",
   "metadata": {},
   "outputs": [],
   "source": [
    "import re"
   ]
  },
  {
   "cell_type": "code",
   "execution_count": 62,
   "id": "459bb338-5f58-4fa8-a494-62c90af11ad7",
   "metadata": {},
   "outputs": [
    {
     "name": "stdout",
     "output_type": "stream",
     "text": [
      "['20', '30']\n",
      "['20', '30']\n",
      "['20', '30']\n"
     ]
    }
   ],
   "source": [
    "for renglon in lista_frases:\n",
    "    print(re.findall(r'\\d+', renglon))"
   ]
  },
  {
   "cell_type": "code",
   "execution_count": 63,
   "id": "bed8b5a2-28e9-4391-bbd7-2cbe7c1df090",
   "metadata": {},
   "outputs": [],
   "source": [
    "numeros_renglon = [re.findall(r'\\d+', renglon) for renglon in lista_frases]"
   ]
  },
  {
   "cell_type": "code",
   "execution_count": 64,
   "id": "eca2fe13-6e25-43b8-bf3b-da07274ebe0d",
   "metadata": {},
   "outputs": [
    {
     "data": {
      "text/plain": [
       "[['20', '30'], ['20', '30'], ['20', '30']]"
      ]
     },
     "execution_count": 64,
     "metadata": {},
     "output_type": "execute_result"
    }
   ],
   "source": [
    "numeros_renglon"
   ]
  },
  {
   "cell_type": "code",
   "execution_count": 65,
   "id": "133d0185-cf79-4c29-92c6-21823d545e47",
   "metadata": {},
   "outputs": [],
   "source": [
    "extraer_numeros_lambda = lambda renglon: re.findall(r'\\d+', renglon)"
   ]
  },
  {
   "cell_type": "code",
   "execution_count": 66,
   "id": "242062ef-b520-4045-a31a-23f712e437f7",
   "metadata": {},
   "outputs": [
    {
     "data": {
      "text/plain": [
       "'Padecieron un aumento de la presión arterial 20 o 30 personas'"
      ]
     },
     "execution_count": 66,
     "metadata": {},
     "output_type": "execute_result"
    }
   ],
   "source": [
    "primer_renglon = lista_frases[0]\n",
    "primer_renglon"
   ]
  },
  {
   "cell_type": "code",
   "execution_count": 67,
   "id": "bba03779-a4e8-4c0c-99b5-4f799b2f618c",
   "metadata": {},
   "outputs": [
    {
     "data": {
      "text/plain": [
       "['20', '30']"
      ]
     },
     "execution_count": 67,
     "metadata": {},
     "output_type": "execute_result"
    }
   ],
   "source": [
    "extraer_numeros_lambda(primer_renglon)"
   ]
  },
  {
   "cell_type": "code",
   "execution_count": 68,
   "id": "c114acc6-80e9-4e1c-8c85-da944b472248",
   "metadata": {},
   "outputs": [],
   "source": [
    "numeros_renglon = map(lambda renglon: re.findall(r'\\d+', renglon), lista_frases)"
   ]
  },
  {
   "cell_type": "code",
   "execution_count": 73,
   "id": "20c33e22-0c27-482a-9bd2-ceb7a94c8b56",
   "metadata": {},
   "outputs": [
    {
     "ename": "StopIteration",
     "evalue": "",
     "output_type": "error",
     "traceback": [
      "\u001b[1;31m---------------------------------------------------------------------------\u001b[0m",
      "\u001b[1;31mStopIteration\u001b[0m                             Traceback (most recent call last)",
      "Cell \u001b[1;32mIn [73], line 1\u001b[0m\n\u001b[1;32m----> 1\u001b[0m \u001b[38;5;28mnext\u001b[39m(numeros_renglon)\n",
      "\u001b[1;31mStopIteration\u001b[0m: "
     ]
    }
   ],
   "source": [
    "next(numeros_renglon)"
   ]
  },
  {
   "cell_type": "code",
   "execution_count": 80,
   "id": "a05909f8-9d2f-4f09-ba15-c5a5491cda9c",
   "metadata": {},
   "outputs": [
    {
     "name": "stdout",
     "output_type": "stream",
     "text": [
      "Impar\n"
     ]
    }
   ],
   "source": [
    "numero = 7\n",
    "\n",
    "if numero % 2:\n",
    "    print('Impar')\n",
    "else:\n",
    "    print('Par')"
   ]
  },
  {
   "cell_type": "code",
   "execution_count": 81,
   "id": "2baf89c7-9b50-470e-ae7b-d21c5adc2700",
   "metadata": {},
   "outputs": [
    {
     "data": {
      "text/plain": [
       "False"
      ]
     },
     "execution_count": 81,
     "metadata": {},
     "output_type": "execute_result"
    }
   ],
   "source": [
    "bool(0)"
   ]
  },
  {
   "cell_type": "code",
   "execution_count": 82,
   "id": "af36b642-f006-443d-bc18-cf37554fb361",
   "metadata": {},
   "outputs": [
    {
     "data": {
      "text/plain": [
       "True"
      ]
     },
     "execution_count": 82,
     "metadata": {},
     "output_type": "execute_result"
    }
   ],
   "source": [
    "bool(1)"
   ]
  },
  {
   "cell_type": "code",
   "execution_count": 85,
   "id": "9a44fbfd-b8b2-43b6-8841-473768374953",
   "metadata": {},
   "outputs": [
    {
     "name": "stdout",
     "output_type": "stream",
     "text": [
      "Impar\n"
     ]
    }
   ],
   "source": [
    "numero = 7\n",
    "\n",
    "if numero % 2 != 0:\n",
    "    print('Impar')\n",
    "else:\n",
    "    print('Par')"
   ]
  },
  {
   "cell_type": "code",
   "execution_count": null,
   "id": "228f4330-9ceb-47bd-a53e-ed5f5759f8ec",
   "metadata": {},
   "outputs": [],
   "source": []
  },
  {
   "cell_type": "code",
   "execution_count": 87,
   "id": "42cd02a0-a011-4ccb-a67a-204f7666d14b",
   "metadata": {},
   "outputs": [],
   "source": [
    "validar_pares = lambda numero: 'Par' if numero % 2 == 0 else 'Impar' "
   ]
  },
  {
   "cell_type": "code",
   "execution_count": 88,
   "id": "5992ea74-127c-494b-b304-fb19cdf23c13",
   "metadata": {},
   "outputs": [
    {
     "data": {
      "text/plain": [
       "'Par'"
      ]
     },
     "execution_count": 88,
     "metadata": {},
     "output_type": "execute_result"
    }
   ],
   "source": [
    "validar_pares(8)"
   ]
  },
  {
   "cell_type": "code",
   "execution_count": 89,
   "id": "30d729df-1e79-4b51-8320-024566319f40",
   "metadata": {},
   "outputs": [
    {
     "data": {
      "text/plain": [
       "'Impar'"
      ]
     },
     "execution_count": 89,
     "metadata": {},
     "output_type": "execute_result"
    }
   ],
   "source": [
    "validar_pares(7)"
   ]
  },
  {
   "cell_type": "code",
   "execution_count": 90,
   "id": "b1e98016-b37e-4920-9d95-46f4259ec7d2",
   "metadata": {},
   "outputs": [
    {
     "data": {
      "text/plain": [
       "'Par'"
      ]
     },
     "execution_count": 90,
     "metadata": {},
     "output_type": "execute_result"
    }
   ],
   "source": [
    "validar_pares(0)"
   ]
  },
  {
   "cell_type": "code",
   "execution_count": 92,
   "id": "30a2523c-8519-4fcb-8e12-289a22d14471",
   "metadata": {},
   "outputs": [],
   "source": [
    "validar_numeros = lambda numero: 'Par' if numero % 2 == 0\\\n",
    "                    else 'Multiplo 3' if numero % 3 == 0\\\n",
    "                    else 'otro' "
   ]
  },
  {
   "cell_type": "code",
   "execution_count": 93,
   "id": "8286baa0-bc76-439f-8fc4-4351ac0d9478",
   "metadata": {},
   "outputs": [
    {
     "data": {
      "text/plain": [
       "'Par'"
      ]
     },
     "execution_count": 93,
     "metadata": {},
     "output_type": "execute_result"
    }
   ],
   "source": [
    "validar_numeros(8)"
   ]
  },
  {
   "cell_type": "code",
   "execution_count": 94,
   "id": "d57346bc-e968-4675-8fbd-53960569a47c",
   "metadata": {},
   "outputs": [
    {
     "data": {
      "text/plain": [
       "'Multiplo 3'"
      ]
     },
     "execution_count": 94,
     "metadata": {},
     "output_type": "execute_result"
    }
   ],
   "source": [
    "validar_numeros(27)"
   ]
  },
  {
   "cell_type": "code",
   "execution_count": 95,
   "id": "67a73c73-9c87-4985-b5a0-1f9695c5dec0",
   "metadata": {},
   "outputs": [
    {
     "data": {
      "text/plain": [
       "'otro'"
      ]
     },
     "execution_count": 95,
     "metadata": {},
     "output_type": "execute_result"
    }
   ],
   "source": [
    "validar_numeros(25)"
   ]
  },
  {
   "cell_type": "code",
   "execution_count": 96,
   "id": "3df901ef-eafe-47d4-9d26-ca6306425b15",
   "metadata": {},
   "outputs": [],
   "source": [
    "validar_booleano_par = lambda numero: True if numero % 2 == 0 else False"
   ]
  },
  {
   "cell_type": "code",
   "execution_count": 100,
   "id": "56eb56eb-6926-4a5f-aa8d-2a1655055fb8",
   "metadata": {},
   "outputs": [],
   "source": [
    "validar_booleano_par = lambda numero: numero % 2 == 0"
   ]
  },
  {
   "cell_type": "code",
   "execution_count": 101,
   "id": "31e523bf-3cd0-4774-8bca-4cfc4c016e77",
   "metadata": {},
   "outputs": [
    {
     "data": {
      "text/plain": [
       "True"
      ]
     },
     "execution_count": 101,
     "metadata": {},
     "output_type": "execute_result"
    }
   ],
   "source": [
    "validar_booleano_par(8)"
   ]
  },
  {
   "cell_type": "code",
   "execution_count": 102,
   "id": "d6ab841a-365a-42fe-bd6c-4e52ef57ec14",
   "metadata": {},
   "outputs": [
    {
     "data": {
      "text/plain": [
       "False"
      ]
     },
     "execution_count": 102,
     "metadata": {},
     "output_type": "execute_result"
    }
   ],
   "source": [
    "validar_booleano_par(7)"
   ]
  },
  {
   "cell_type": "markdown",
   "id": "a978e620-8722-4d4c-8d93-4453231b9b30",
   "metadata": {},
   "source": [
    "---"
   ]
  },
  {
   "cell_type": "code",
   "execution_count": 106,
   "id": "caec8c8f-39a5-42f8-9cdf-a709c1960c68",
   "metadata": {},
   "outputs": [],
   "source": [
    "import pandas as pd\n",
    "import random"
   ]
  },
  {
   "cell_type": "code",
   "execution_count": 104,
   "id": "5d0d3281-af24-47ce-8645-d859fa82891b",
   "metadata": {},
   "outputs": [],
   "source": [
    "df = pd.DataFrame()"
   ]
  },
  {
   "cell_type": "code",
   "execution_count": 107,
   "id": "94f35903-1192-4ed5-96ff-f90a1021886a",
   "metadata": {},
   "outputs": [],
   "source": [
    "df['numeros'] = [random.random() for _ in range(10)]"
   ]
  },
  {
   "cell_type": "code",
   "execution_count": 109,
   "id": "3683a183-6ea1-4e42-bf6e-ffc7afe268ca",
   "metadata": {},
   "outputs": [
    {
     "data": {
      "text/html": [
       "<div>\n",
       "<style scoped>\n",
       "    .dataframe tbody tr th:only-of-type {\n",
       "        vertical-align: middle;\n",
       "    }\n",
       "\n",
       "    .dataframe tbody tr th {\n",
       "        vertical-align: top;\n",
       "    }\n",
       "\n",
       "    .dataframe thead th {\n",
       "        text-align: right;\n",
       "    }\n",
       "</style>\n",
       "<table border=\"1\" class=\"dataframe\">\n",
       "  <thead>\n",
       "    <tr style=\"text-align: right;\">\n",
       "      <th></th>\n",
       "      <th>numeros</th>\n",
       "    </tr>\n",
       "  </thead>\n",
       "  <tbody>\n",
       "    <tr>\n",
       "      <th>0</th>\n",
       "      <td>0.970187</td>\n",
       "    </tr>\n",
       "    <tr>\n",
       "      <th>1</th>\n",
       "      <td>0.999580</td>\n",
       "    </tr>\n",
       "    <tr>\n",
       "      <th>2</th>\n",
       "      <td>0.962457</td>\n",
       "    </tr>\n",
       "    <tr>\n",
       "      <th>3</th>\n",
       "      <td>0.482210</td>\n",
       "    </tr>\n",
       "    <tr>\n",
       "      <th>4</th>\n",
       "      <td>0.896633</td>\n",
       "    </tr>\n",
       "    <tr>\n",
       "      <th>5</th>\n",
       "      <td>0.254105</td>\n",
       "    </tr>\n",
       "    <tr>\n",
       "      <th>6</th>\n",
       "      <td>0.621072</td>\n",
       "    </tr>\n",
       "    <tr>\n",
       "      <th>7</th>\n",
       "      <td>0.338701</td>\n",
       "    </tr>\n",
       "    <tr>\n",
       "      <th>8</th>\n",
       "      <td>0.692115</td>\n",
       "    </tr>\n",
       "    <tr>\n",
       "      <th>9</th>\n",
       "      <td>0.533987</td>\n",
       "    </tr>\n",
       "  </tbody>\n",
       "</table>\n",
       "</div>"
      ],
      "text/plain": [
       "    numeros\n",
       "0  0.970187\n",
       "1  0.999580\n",
       "2  0.962457\n",
       "3  0.482210\n",
       "4  0.896633\n",
       "5  0.254105\n",
       "6  0.621072\n",
       "7  0.338701\n",
       "8  0.692115\n",
       "9  0.533987"
      ]
     },
     "execution_count": 109,
     "metadata": {},
     "output_type": "execute_result"
    }
   ],
   "source": [
    "df.head(10)"
   ]
  },
  {
   "cell_type": "code",
   "execution_count": 114,
   "id": "4a5fbee2-6c6c-409e-8358-ac3ca160c1a7",
   "metadata": {},
   "outputs": [],
   "source": [
    "df.insert(0, 'columna_nueva', 0.432432)"
   ]
  },
  {
   "cell_type": "code",
   "execution_count": 115,
   "id": "3ce6133f-b65c-4d7f-aa4c-00b6b04c3daf",
   "metadata": {},
   "outputs": [
    {
     "data": {
      "text/html": [
       "<div>\n",
       "<style scoped>\n",
       "    .dataframe tbody tr th:only-of-type {\n",
       "        vertical-align: middle;\n",
       "    }\n",
       "\n",
       "    .dataframe tbody tr th {\n",
       "        vertical-align: top;\n",
       "    }\n",
       "\n",
       "    .dataframe thead th {\n",
       "        text-align: right;\n",
       "    }\n",
       "</style>\n",
       "<table border=\"1\" class=\"dataframe\">\n",
       "  <thead>\n",
       "    <tr style=\"text-align: right;\">\n",
       "      <th></th>\n",
       "      <th>columna_nueva</th>\n",
       "      <th>numeros</th>\n",
       "    </tr>\n",
       "  </thead>\n",
       "  <tbody>\n",
       "    <tr>\n",
       "      <th>0</th>\n",
       "      <td>0.432432</td>\n",
       "      <td>0.970187</td>\n",
       "    </tr>\n",
       "    <tr>\n",
       "      <th>1</th>\n",
       "      <td>0.432432</td>\n",
       "      <td>0.999580</td>\n",
       "    </tr>\n",
       "    <tr>\n",
       "      <th>2</th>\n",
       "      <td>0.432432</td>\n",
       "      <td>0.962457</td>\n",
       "    </tr>\n",
       "    <tr>\n",
       "      <th>3</th>\n",
       "      <td>0.432432</td>\n",
       "      <td>0.482210</td>\n",
       "    </tr>\n",
       "    <tr>\n",
       "      <th>4</th>\n",
       "      <td>0.432432</td>\n",
       "      <td>0.896633</td>\n",
       "    </tr>\n",
       "  </tbody>\n",
       "</table>\n",
       "</div>"
      ],
      "text/plain": [
       "   columna_nueva   numeros\n",
       "0       0.432432  0.970187\n",
       "1       0.432432  0.999580\n",
       "2       0.432432  0.962457\n",
       "3       0.432432  0.482210\n",
       "4       0.432432  0.896633"
      ]
     },
     "execution_count": 115,
     "metadata": {},
     "output_type": "execute_result"
    }
   ],
   "source": [
    "df.head()"
   ]
  },
  {
   "cell_type": "code",
   "execution_count": 116,
   "id": "cbe04aec-7079-49e9-8c46-22964ad9977b",
   "metadata": {},
   "outputs": [
    {
     "data": {
      "text/plain": [
       "0    0.970187\n",
       "1    0.999580\n",
       "2    0.962457\n",
       "3    0.482210\n",
       "4    0.896633\n",
       "5    0.254105\n",
       "6    0.621072\n",
       "7    0.338701\n",
       "8    0.692115\n",
       "9    0.533987\n",
       "Name: numeros, dtype: float64"
      ]
     },
     "execution_count": 116,
     "metadata": {},
     "output_type": "execute_result"
    }
   ],
   "source": [
    "df['numeros']"
   ]
  },
  {
   "cell_type": "code",
   "execution_count": 119,
   "id": "25b8393d-5b31-4578-9f73-715d948dc09a",
   "metadata": {},
   "outputs": [],
   "source": [
    "df.drop(columns = ['columna_nueva'], inplace = True)"
   ]
  },
  {
   "cell_type": "code",
   "execution_count": 120,
   "id": "f94de442-df48-4cff-aef7-ccd57e7a2d24",
   "metadata": {},
   "outputs": [
    {
     "data": {
      "text/html": [
       "<div>\n",
       "<style scoped>\n",
       "    .dataframe tbody tr th:only-of-type {\n",
       "        vertical-align: middle;\n",
       "    }\n",
       "\n",
       "    .dataframe tbody tr th {\n",
       "        vertical-align: top;\n",
       "    }\n",
       "\n",
       "    .dataframe thead th {\n",
       "        text-align: right;\n",
       "    }\n",
       "</style>\n",
       "<table border=\"1\" class=\"dataframe\">\n",
       "  <thead>\n",
       "    <tr style=\"text-align: right;\">\n",
       "      <th></th>\n",
       "      <th>numeros</th>\n",
       "    </tr>\n",
       "  </thead>\n",
       "  <tbody>\n",
       "    <tr>\n",
       "      <th>0</th>\n",
       "      <td>0.970187</td>\n",
       "    </tr>\n",
       "    <tr>\n",
       "      <th>1</th>\n",
       "      <td>0.999580</td>\n",
       "    </tr>\n",
       "    <tr>\n",
       "      <th>2</th>\n",
       "      <td>0.962457</td>\n",
       "    </tr>\n",
       "    <tr>\n",
       "      <th>3</th>\n",
       "      <td>0.482210</td>\n",
       "    </tr>\n",
       "    <tr>\n",
       "      <th>4</th>\n",
       "      <td>0.896633</td>\n",
       "    </tr>\n",
       "    <tr>\n",
       "      <th>5</th>\n",
       "      <td>0.254105</td>\n",
       "    </tr>\n",
       "    <tr>\n",
       "      <th>6</th>\n",
       "      <td>0.621072</td>\n",
       "    </tr>\n",
       "    <tr>\n",
       "      <th>7</th>\n",
       "      <td>0.338701</td>\n",
       "    </tr>\n",
       "    <tr>\n",
       "      <th>8</th>\n",
       "      <td>0.692115</td>\n",
       "    </tr>\n",
       "    <tr>\n",
       "      <th>9</th>\n",
       "      <td>0.533987</td>\n",
       "    </tr>\n",
       "  </tbody>\n",
       "</table>\n",
       "</div>"
      ],
      "text/plain": [
       "    numeros\n",
       "0  0.970187\n",
       "1  0.999580\n",
       "2  0.962457\n",
       "3  0.482210\n",
       "4  0.896633\n",
       "5  0.254105\n",
       "6  0.621072\n",
       "7  0.338701\n",
       "8  0.692115\n",
       "9  0.533987"
      ]
     },
     "execution_count": 120,
     "metadata": {},
     "output_type": "execute_result"
    }
   ],
   "source": [
    "df"
   ]
  },
  {
   "cell_type": "code",
   "execution_count": 122,
   "id": "3f03e964-f3ac-4c76-b1a7-97d2f5b407c4",
   "metadata": {},
   "outputs": [
    {
     "data": {
      "text/plain": [
       "0    1\n",
       "1    1\n",
       "2    1\n",
       "3    0\n",
       "4    1\n",
       "5    0\n",
       "6    1\n",
       "7    0\n",
       "8    1\n",
       "9    1\n",
       "Name: numeros, dtype: int64"
      ]
     },
     "execution_count": 122,
     "metadata": {},
     "output_type": "execute_result"
    }
   ],
   "source": [
    "df['numeros'].apply(lambda numero: round(numero))"
   ]
  },
  {
   "cell_type": "code",
   "execution_count": 130,
   "id": "c112a346-1cbb-4ea7-b05d-4530d5a82a50",
   "metadata": {},
   "outputs": [
    {
     "data": {
      "text/plain": [
       "0    0.970187\n",
       "1    0.999580\n",
       "2    0.962457\n",
       "3    0.482210\n",
       "4    0.896633\n",
       "5    0.254105\n",
       "6    0.621072\n",
       "7    0.338701\n",
       "8    0.692115\n",
       "9    0.533987\n",
       "Name: numeros, dtype: float64"
      ]
     },
     "execution_count": 130,
     "metadata": {},
     "output_type": "execute_result"
    }
   ],
   "source": [
    "df['numeros']"
   ]
  },
  {
   "cell_type": "code",
   "execution_count": 131,
   "id": "99e32368-80ca-436c-be3b-e72cd3ee0722",
   "metadata": {},
   "outputs": [],
   "source": [
    "df['solucion1'] = df['numeros'].apply(lambda numero: numero - 0.1)"
   ]
  },
  {
   "cell_type": "code",
   "execution_count": 132,
   "id": "44ecaab7-4310-44e4-8a6f-433a5f85da4a",
   "metadata": {},
   "outputs": [],
   "source": [
    "df['solucion2'] = df['numeros'] - 0.1"
   ]
  },
  {
   "cell_type": "code",
   "execution_count": 133,
   "id": "4cb238db-7bfb-4d1d-950d-2538924ba8f5",
   "metadata": {},
   "outputs": [
    {
     "data": {
      "text/html": [
       "<div>\n",
       "<style scoped>\n",
       "    .dataframe tbody tr th:only-of-type {\n",
       "        vertical-align: middle;\n",
       "    }\n",
       "\n",
       "    .dataframe tbody tr th {\n",
       "        vertical-align: top;\n",
       "    }\n",
       "\n",
       "    .dataframe thead th {\n",
       "        text-align: right;\n",
       "    }\n",
       "</style>\n",
       "<table border=\"1\" class=\"dataframe\">\n",
       "  <thead>\n",
       "    <tr style=\"text-align: right;\">\n",
       "      <th></th>\n",
       "      <th>numeros</th>\n",
       "      <th>solucion1</th>\n",
       "      <th>solucion2</th>\n",
       "    </tr>\n",
       "  </thead>\n",
       "  <tbody>\n",
       "    <tr>\n",
       "      <th>0</th>\n",
       "      <td>0.970187</td>\n",
       "      <td>0.870187</td>\n",
       "      <td>0.870187</td>\n",
       "    </tr>\n",
       "    <tr>\n",
       "      <th>1</th>\n",
       "      <td>0.999580</td>\n",
       "      <td>0.899580</td>\n",
       "      <td>0.899580</td>\n",
       "    </tr>\n",
       "    <tr>\n",
       "      <th>2</th>\n",
       "      <td>0.962457</td>\n",
       "      <td>0.862457</td>\n",
       "      <td>0.862457</td>\n",
       "    </tr>\n",
       "    <tr>\n",
       "      <th>3</th>\n",
       "      <td>0.482210</td>\n",
       "      <td>0.382210</td>\n",
       "      <td>0.382210</td>\n",
       "    </tr>\n",
       "    <tr>\n",
       "      <th>4</th>\n",
       "      <td>0.896633</td>\n",
       "      <td>0.796633</td>\n",
       "      <td>0.796633</td>\n",
       "    </tr>\n",
       "  </tbody>\n",
       "</table>\n",
       "</div>"
      ],
      "text/plain": [
       "    numeros  solucion1  solucion2\n",
       "0  0.970187   0.870187   0.870187\n",
       "1  0.999580   0.899580   0.899580\n",
       "2  0.962457   0.862457   0.862457\n",
       "3  0.482210   0.382210   0.382210\n",
       "4  0.896633   0.796633   0.796633"
      ]
     },
     "execution_count": 133,
     "metadata": {},
     "output_type": "execute_result"
    }
   ],
   "source": [
    "df.head()"
   ]
  },
  {
   "cell_type": "code",
   "execution_count": 123,
   "id": "edb51930-15bd-40de-aaa5-86be42848de1",
   "metadata": {},
   "outputs": [],
   "source": [
    "def aplicar_funcion_interable(iterable, funcion):\n",
    "    for item in iterable:\n",
    "        print(funcion(item))"
   ]
  },
  {
   "cell_type": "code",
   "execution_count": 124,
   "id": "c4962dd5-e809-47f7-b55e-174d8da8b7b5",
   "metadata": {},
   "outputs": [],
   "source": [
    "lista = [0,1,2,3,4,5,6]"
   ]
  },
  {
   "cell_type": "code",
   "execution_count": 126,
   "id": "d5f238c8-86ca-4582-af06-5d8ec6dc045c",
   "metadata": {},
   "outputs": [
    {
     "name": "stdout",
     "output_type": "stream",
     "text": [
      "0\n",
      "1\n",
      "4\n",
      "9\n",
      "16\n",
      "25\n",
      "36\n"
     ]
    }
   ],
   "source": [
    "aplicar_funcion_interable(lista, lambda numero: numero**2)"
   ]
  },
  {
   "cell_type": "code",
   "execution_count": 127,
   "id": "ae32b0ff-3e73-4fb7-902d-1defbe4c9aed",
   "metadata": {},
   "outputs": [
    {
     "name": "stdout",
     "output_type": "stream",
     "text": [
      "0\n",
      "1\n",
      "8\n",
      "27\n",
      "64\n",
      "125\n",
      "216\n"
     ]
    }
   ],
   "source": [
    "aplicar_funcion_interable(lista, lambda numero: numero**3)"
   ]
  },
  {
   "cell_type": "code",
   "execution_count": 128,
   "id": "78fc7a97-b874-4b71-8bb1-83c0b7ee4c63",
   "metadata": {},
   "outputs": [
    {
     "name": "stdout",
     "output_type": "stream",
     "text": [
      "0\n",
      "1\n",
      "4\n",
      "27\n",
      "16\n",
      "125\n",
      "36\n"
     ]
    }
   ],
   "source": [
    "aplicar_funcion_interable(lista, lambda numero: numero**2 if numero%2 ==0 else numero**3)"
   ]
  },
  {
   "cell_type": "markdown",
   "id": "61ef4cb3-4073-433c-bdfb-15fd848fa1a0",
   "metadata": {},
   "source": [
    "---"
   ]
  },
  {
   "cell_type": "code",
   "execution_count": 134,
   "id": "917d327c-0efd-4b12-8cbc-7174e6578031",
   "metadata": {},
   "outputs": [],
   "source": [
    "def potencia_fija(valor_potencia):\n",
    "    return lambda numero: numero**valor_potencia"
   ]
  },
  {
   "cell_type": "code",
   "execution_count": 135,
   "id": "51c047ca-d653-438d-8169-1d628d5a36b5",
   "metadata": {},
   "outputs": [],
   "source": [
    "elevar5 = potencia_fija(5)"
   ]
  },
  {
   "cell_type": "code",
   "execution_count": 136,
   "id": "d486663a-74c4-4530-9d4b-309517793d2c",
   "metadata": {},
   "outputs": [
    {
     "data": {
      "text/plain": [
       "<function __main__.potencia_fija.<locals>.<lambda>(numero)>"
      ]
     },
     "execution_count": 136,
     "metadata": {},
     "output_type": "execute_result"
    }
   ],
   "source": [
    "elevar5"
   ]
  },
  {
   "cell_type": "code",
   "execution_count": 137,
   "id": "70e459c7-6606-45a3-afcc-c37823084943",
   "metadata": {},
   "outputs": [
    {
     "data": {
      "text/plain": [
       "1"
      ]
     },
     "execution_count": 137,
     "metadata": {},
     "output_type": "execute_result"
    }
   ],
   "source": [
    "elevar5(1)"
   ]
  },
  {
   "cell_type": "code",
   "execution_count": 139,
   "id": "321fc732-1c8a-4cc6-9773-9aca25fb03d1",
   "metadata": {},
   "outputs": [
    {
     "data": {
      "text/plain": [
       "32"
      ]
     },
     "execution_count": 139,
     "metadata": {},
     "output_type": "execute_result"
    }
   ],
   "source": [
    "elevar5(2)"
   ]
  },
  {
   "cell_type": "code",
   "execution_count": 140,
   "id": "224c1f24-7b99-444c-9d9a-1dfbc7afd6f5",
   "metadata": {},
   "outputs": [
    {
     "data": {
      "text/plain": [
       "32"
      ]
     },
     "execution_count": 140,
     "metadata": {},
     "output_type": "execute_result"
    }
   ],
   "source": [
    "2**5"
   ]
  },
  {
   "cell_type": "code",
   "execution_count": 141,
   "id": "43f91e69-384b-4ec1-9731-8a31d81fc527",
   "metadata": {},
   "outputs": [
    {
     "data": {
      "text/plain": [
       "243"
      ]
     },
     "execution_count": 141,
     "metadata": {},
     "output_type": "execute_result"
    }
   ],
   "source": [
    "3**5"
   ]
  },
  {
   "cell_type": "code",
   "execution_count": 142,
   "id": "866e6b55-a9db-45f5-9b6f-1e592f5153eb",
   "metadata": {},
   "outputs": [
    {
     "data": {
      "text/plain": [
       "243"
      ]
     },
     "execution_count": 142,
     "metadata": {},
     "output_type": "execute_result"
    }
   ],
   "source": [
    "elevar5(3)"
   ]
  },
  {
   "cell_type": "code",
   "execution_count": 145,
   "id": "33abdcb7-e657-4751-8345-673a293815a9",
   "metadata": {},
   "outputs": [],
   "source": [
    "def elevar_numero(numero, valor_potencia):\n",
    "    return numero**valor_potencia"
   ]
  },
  {
   "cell_type": "code",
   "execution_count": 148,
   "id": "b745e3ee-807d-498b-9cdc-3829991dd3ba",
   "metadata": {},
   "outputs": [],
   "source": [
    "apellidos = '''margain\n",
    "navarro\n",
    "serrano\n",
    "valdes\n",
    "ortiz\n",
    "leon\n",
    "caballero\n",
    "alcantara\n",
    "rios\n",
    "gonzalez\n",
    "landivar'''.split('\\n')"
   ]
  },
  {
   "cell_type": "code",
   "execution_count": 149,
   "id": "13e0b807-8fd2-4f2d-868a-4243c543c588",
   "metadata": {},
   "outputs": [
    {
     "data": {
      "text/plain": [
       "['margain',\n",
       " 'navarro',\n",
       " 'serrano',\n",
       " 'valdes',\n",
       " 'ortiz',\n",
       " 'leon',\n",
       " 'caballero',\n",
       " 'alcantara',\n",
       " 'rios',\n",
       " 'gonzalez',\n",
       " 'landivar']"
      ]
     },
     "execution_count": 149,
     "metadata": {},
     "output_type": "execute_result"
    }
   ],
   "source": [
    "apellidos"
   ]
  },
  {
   "cell_type": "code",
   "execution_count": 150,
   "id": "433414ca-b14e-4161-9535-d56f40e846d5",
   "metadata": {},
   "outputs": [
    {
     "data": {
      "text/plain": [
       "['alcantara',\n",
       " 'caballero',\n",
       " 'gonzalez',\n",
       " 'landivar',\n",
       " 'leon',\n",
       " 'margain',\n",
       " 'navarro',\n",
       " 'ortiz',\n",
       " 'rios',\n",
       " 'serrano',\n",
       " 'valdes']"
      ]
     },
     "execution_count": 150,
     "metadata": {},
     "output_type": "execute_result"
    }
   ],
   "source": [
    "sorted(apellidos)"
   ]
  },
  {
   "cell_type": "code",
   "execution_count": 152,
   "id": "6079e5f8-7d49-42f5-a777-ac2a2a1d97cd",
   "metadata": {},
   "outputs": [
    {
     "data": {
      "text/plain": [
       "'landivar'"
      ]
     },
     "execution_count": 152,
     "metadata": {},
     "output_type": "execute_result"
    }
   ],
   "source": [
    "apellidos[-1]"
   ]
  },
  {
   "cell_type": "code",
   "execution_count": 151,
   "id": "1598f343-d528-4253-a6b8-cbe7dc1e8999",
   "metadata": {},
   "outputs": [
    {
     "data": {
      "text/plain": [
       "['a', 'a', 'd', 'i', 'l', 'n', 'r', 'v']"
      ]
     },
     "execution_count": 151,
     "metadata": {},
     "output_type": "execute_result"
    }
   ],
   "source": [
    "sorted(apellidos[-1])"
   ]
  },
  {
   "cell_type": "code",
   "execution_count": 153,
   "id": "29762cf3-b32b-46a4-ad2d-48888891363c",
   "metadata": {},
   "outputs": [
    {
     "name": "stdout",
     "output_type": "stream",
     "text": [
      "n\n",
      "o\n",
      "o\n",
      "s\n",
      "z\n",
      "n\n",
      "o\n",
      "a\n",
      "s\n",
      "z\n",
      "r\n"
     ]
    }
   ],
   "source": [
    "prueba = lambda palabra: palabra[-1]\n",
    "for elemento in apellidos:\n",
    "    print(prueba(elemento))"
   ]
  },
  {
   "cell_type": "code",
   "execution_count": 157,
   "id": "c4b362a5-fc25-4704-ab2c-9bf743d6c2ff",
   "metadata": {},
   "outputs": [
    {
     "data": {
      "text/plain": [
       "['alcantara',\n",
       " 'margain',\n",
       " 'leon',\n",
       " 'navarro',\n",
       " 'serrano',\n",
       " 'caballero',\n",
       " 'landivar',\n",
       " 'valdes',\n",
       " 'rios',\n",
       " 'ortiz',\n",
       " 'gonzalez']"
      ]
     },
     "execution_count": 157,
     "metadata": {},
     "output_type": "execute_result"
    }
   ],
   "source": [
    "lista_orden_raro = sorted(apellidos, key = lambda palabra: palabra[-1])\n",
    "lista_orden_raro"
   ]
  },
  {
   "cell_type": "code",
   "execution_count": 155,
   "id": "ab141518-260b-4f0d-a3be-c65276a429ea",
   "metadata": {},
   "outputs": [
    {
     "name": "stdout",
     "output_type": "stream",
     "text": [
      "margain -> n\n",
      "navarro -> o\n",
      "serrano -> o\n",
      "valdes -> s\n",
      "ortiz -> z\n",
      "leon -> n\n",
      "caballero -> o\n",
      "alcantara -> a\n",
      "rios -> s\n",
      "gonzalez -> z\n",
      "landivar -> r\n"
     ]
    }
   ],
   "source": [
    "prueba = lambda palabra: palabra[-1]\n",
    "for elemento in apellidos:\n",
    "    print(f'{elemento} -> {prueba(elemento)}')"
   ]
  },
  {
   "cell_type": "code",
   "execution_count": 159,
   "id": "b3a17437-a9cc-40db-b062-22d6aa8cb66c",
   "metadata": {},
   "outputs": [
    {
     "data": {
      "text/plain": [
       "['valdes',\n",
       " 'serrano',\n",
       " 'rios',\n",
       " 'ortiz',\n",
       " 'navarro',\n",
       " 'margain',\n",
       " 'leon',\n",
       " 'landivar',\n",
       " 'gonzalez',\n",
       " 'caballero',\n",
       " 'alcantara']"
      ]
     },
     "execution_count": 159,
     "metadata": {},
     "output_type": "execute_result"
    }
   ],
   "source": [
    "sorted(apellidos, reverse = True)"
   ]
  },
  {
   "cell_type": "code",
   "execution_count": 161,
   "id": "938a1d18-6ac5-4878-b1c6-24778cccabe8",
   "metadata": {},
   "outputs": [
    {
     "data": {
      "text/plain": [
       "['ortiz',\n",
       " 'gonzalez',\n",
       " 'valdes',\n",
       " 'rios',\n",
       " 'landivar',\n",
       " 'navarro',\n",
       " 'serrano',\n",
       " 'caballero',\n",
       " 'margain',\n",
       " 'leon',\n",
       " 'alcantara']"
      ]
     },
     "execution_count": 161,
     "metadata": {},
     "output_type": "execute_result"
    }
   ],
   "source": [
    "sorted(apellidos, key = lambda palabra: palabra[-1], reverse = True)"
   ]
  },
  {
   "cell_type": "code",
   "execution_count": 162,
   "id": "26e6d5c7-cf81-4c49-8339-ce27f06d53fe",
   "metadata": {},
   "outputs": [
    {
     "data": {
      "text/plain": [
       "['caballero',\n",
       " 'alcantara',\n",
       " 'valdes',\n",
       " 'gonzalez',\n",
       " 'landivar',\n",
       " 'leon',\n",
       " 'rios',\n",
       " 'margain',\n",
       " 'serrano',\n",
       " 'ortiz',\n",
       " 'navarro']"
      ]
     },
     "execution_count": 162,
     "metadata": {},
     "output_type": "execute_result"
    }
   ],
   "source": [
    "sorted(apellidos, key = lambda palabra: palabra[2])"
   ]
  },
  {
   "cell_type": "code",
   "execution_count": 167,
   "id": "b65ad031-043e-4468-b048-9f6f9eb88507",
   "metadata": {},
   "outputs": [],
   "source": [
    "apellidos_puntos = [(apellido, random.randint(0,10)) for apellido in apellidos]"
   ]
  },
  {
   "cell_type": "code",
   "execution_count": 168,
   "id": "d3cfb947-e840-4e94-badc-3680f0dc705f",
   "metadata": {},
   "outputs": [
    {
     "name": "stdout",
     "output_type": "stream",
     "text": [
      "[('margain', 6), ('navarro', 5), ('serrano', 10), ('valdes', 2), ('ortiz', 4), ('leon', 2), ('caballero', 6), ('alcantara', 10), ('rios', 10), ('gonzalez', 3), ('landivar', 8)]\n"
     ]
    }
   ],
   "source": [
    "print(apellidos_puntos)"
   ]
  },
  {
   "cell_type": "code",
   "execution_count": 169,
   "id": "8cd0c9dd-0c49-4c1c-a7d6-0cb73fd41619",
   "metadata": {},
   "outputs": [
    {
     "data": {
      "text/plain": [
       "[('alcantara', 10),\n",
       " ('caballero', 6),\n",
       " ('gonzalez', 3),\n",
       " ('landivar', 8),\n",
       " ('leon', 2),\n",
       " ('margain', 6),\n",
       " ('navarro', 5),\n",
       " ('ortiz', 4),\n",
       " ('rios', 10),\n",
       " ('serrano', 10),\n",
       " ('valdes', 2)]"
      ]
     },
     "execution_count": 169,
     "metadata": {},
     "output_type": "execute_result"
    }
   ],
   "source": [
    "sorted(apellidos_puntos)"
   ]
  },
  {
   "cell_type": "code",
   "execution_count": 175,
   "id": "9d81f23f-9523-4bee-b836-0b18682bf90d",
   "metadata": {},
   "outputs": [
    {
     "name": "stdout",
     "output_type": "stream",
     "text": [
      "('margain', 6) -> 6\n",
      "('navarro', 5) -> 5\n",
      "('serrano', 10) -> 10\n",
      "('valdes', 2) -> 2\n",
      "('ortiz', 4) -> 4\n",
      "('leon', 2) -> 2\n",
      "('caballero', 6) -> 6\n",
      "('alcantara', 10) -> 10\n",
      "('rios', 10) -> 10\n",
      "('gonzalez', 3) -> 3\n",
      "('landivar', 8) -> 8\n"
     ]
    }
   ],
   "source": [
    "prueba = lambda tupla: tupla[1]\n",
    "for elemento in apellidos_puntos:\n",
    "    print(f'{elemento} -> {prueba(elemento)}')"
   ]
  },
  {
   "cell_type": "code",
   "execution_count": 173,
   "id": "c50daa70-44a3-4ce9-8bed-15fa4f564126",
   "metadata": {},
   "outputs": [
    {
     "data": {
      "text/plain": [
       "('margain', 6)"
      ]
     },
     "execution_count": 173,
     "metadata": {},
     "output_type": "execute_result"
    }
   ],
   "source": [
    "apellidos_puntos[0]"
   ]
  },
  {
   "cell_type": "code",
   "execution_count": 170,
   "id": "84ac87e5-4b6c-44c1-8d89-ecefbbbc5305",
   "metadata": {},
   "outputs": [
    {
     "data": {
      "text/plain": [
       "[('valdes', 2),\n",
       " ('leon', 2),\n",
       " ('gonzalez', 3),\n",
       " ('ortiz', 4),\n",
       " ('navarro', 5),\n",
       " ('margain', 6),\n",
       " ('caballero', 6),\n",
       " ('landivar', 8),\n",
       " ('serrano', 10),\n",
       " ('alcantara', 10),\n",
       " ('rios', 10)]"
      ]
     },
     "execution_count": 170,
     "metadata": {},
     "output_type": "execute_result"
    }
   ],
   "source": [
    "sorted(apellidos_puntos, key = lambda tupla: tupla[1])"
   ]
  },
  {
   "cell_type": "code",
   "execution_count": 176,
   "id": "b105274e-cec5-4578-8d44-b0c53396f180",
   "metadata": {},
   "outputs": [],
   "source": [
    "apellidos_puntos_dict = {apellido : random.randint(0,10) for apellido in apellidos}"
   ]
  },
  {
   "cell_type": "code",
   "execution_count": 177,
   "id": "bb939cc6-401e-4a51-8768-06ed7b23f36b",
   "metadata": {},
   "outputs": [
    {
     "data": {
      "text/plain": [
       "{'margain': 6,\n",
       " 'navarro': 3,\n",
       " 'serrano': 6,\n",
       " 'valdes': 1,\n",
       " 'ortiz': 4,\n",
       " 'leon': 9,\n",
       " 'caballero': 7,\n",
       " 'alcantara': 7,\n",
       " 'rios': 3,\n",
       " 'gonzalez': 6,\n",
       " 'landivar': 0}"
      ]
     },
     "execution_count": 177,
     "metadata": {},
     "output_type": "execute_result"
    }
   ],
   "source": [
    "apellidos_puntos_dict"
   ]
  },
  {
   "cell_type": "code",
   "execution_count": 179,
   "id": "9bab65f9-891b-46f1-a8a1-ab2b77aa1548",
   "metadata": {},
   "outputs": [
    {
     "data": {
      "text/plain": [
       "['alcantara',\n",
       " 'caballero',\n",
       " 'gonzalez',\n",
       " 'landivar',\n",
       " 'leon',\n",
       " 'margain',\n",
       " 'navarro',\n",
       " 'ortiz',\n",
       " 'rios',\n",
       " 'serrano',\n",
       " 'valdes']"
      ]
     },
     "execution_count": 179,
     "metadata": {},
     "output_type": "execute_result"
    }
   ],
   "source": [
    "sorted(apellidos_puntos_dict)"
   ]
  },
  {
   "cell_type": "code",
   "execution_count": 182,
   "id": "6f7ee1cb-a605-403e-95a7-f7dc94209513",
   "metadata": {},
   "outputs": [
    {
     "data": {
      "text/plain": [
       "{'margain': 6,\n",
       " 'navarro': 3,\n",
       " 'serrano': 6,\n",
       " 'valdes': 1,\n",
       " 'ortiz': 4,\n",
       " 'leon': 9,\n",
       " 'caballero': 7,\n",
       " 'alcantara': 7,\n",
       " 'rios': 3,\n",
       " 'gonzalez': 6,\n",
       " 'landivar': 0}"
      ]
     },
     "execution_count": 182,
     "metadata": {},
     "output_type": "execute_result"
    }
   ],
   "source": [
    "apellidos_puntos_dict"
   ]
  },
  {
   "cell_type": "code",
   "execution_count": 181,
   "id": "31a05aec-d44d-405c-8d16-924cd5e72d69",
   "metadata": {},
   "outputs": [
    {
     "data": {
      "text/plain": [
       "['landivar',\n",
       " 'valdes',\n",
       " 'navarro',\n",
       " 'rios',\n",
       " 'ortiz',\n",
       " 'margain',\n",
       " 'serrano',\n",
       " 'gonzalez',\n",
       " 'caballero',\n",
       " 'alcantara',\n",
       " 'leon']"
      ]
     },
     "execution_count": 181,
     "metadata": {},
     "output_type": "execute_result"
    }
   ],
   "source": [
    "sorted(apellidos_puntos_dict, key = lambda llave: apellidos_puntos_dict[llave])"
   ]
  },
  {
   "cell_type": "code",
   "execution_count": null,
   "id": "f8297792-3c09-4b4b-88a6-a03c1860fc90",
   "metadata": {},
   "outputs": [],
   "source": []
  }
 ],
 "metadata": {
  "kernelspec": {
   "display_name": "Python 3 (ipykernel)",
   "language": "python",
   "name": "python3"
  },
  "language_info": {
   "codemirror_mode": {
    "name": "ipython",
    "version": 3
   },
   "file_extension": ".py",
   "mimetype": "text/x-python",
   "name": "python",
   "nbconvert_exporter": "python",
   "pygments_lexer": "ipython3",
   "version": "3.9.13"
  }
 },
 "nbformat": 4,
 "nbformat_minor": 5
}
