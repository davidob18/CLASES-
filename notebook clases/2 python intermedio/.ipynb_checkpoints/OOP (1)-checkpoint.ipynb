{
 "cells": [
  {
   "cell_type": "code",
   "execution_count": 1,
   "id": "38f40323-d5d2-4e81-a423-e1d15cfff009",
   "metadata": {},
   "outputs": [],
   "source": [
    "class NuevaClase: # class NuevaClase():\n",
    "    pass"
   ]
  },
  {
   "cell_type": "code",
   "execution_count": null,
   "id": "5a2c6166-1995-4c53-b58f-7cd68256584a",
   "metadata": {},
   "outputs": [],
   "source": [
    "pd.read_csv()"
   ]
  },
  {
   "cell_type": "code",
   "execution_count": null,
   "id": "5c3efa32-293b-49b9-9298-31cd05234322",
   "metadata": {},
   "outputs": [],
   "source": [
    "df.head()"
   ]
  },
  {
   "cell_type": "code",
   "execution_count": null,
   "id": "29e700ac-fc6b-4191-b92e-96e2370905f7",
   "metadata": {},
   "outputs": [],
   "source": [
    "pd.DataFrame"
   ]
  },
  {
   "cell_type": "code",
   "execution_count": null,
   "id": "eb629cf2-a718-4655-91fc-ba7774858a4c",
   "metadata": {},
   "outputs": [],
   "source": [
    "df = pd.DataFrame() #df es un objeto (una instancia) de la clase pd.DataFrame"
   ]
  },
  {
   "cell_type": "code",
   "execution_count": 2,
   "id": "d04386d8-da88-479f-b726-daa77051eab8",
   "metadata": {},
   "outputs": [],
   "source": [
    "objeto_nuevo = NuevaClase()"
   ]
  },
  {
   "cell_type": "code",
   "execution_count": 3,
   "id": "ddf26e1c-6808-4f9a-8d8f-9136e9ae449a",
   "metadata": {},
   "outputs": [
    {
     "data": {
      "text/plain": [
       "__main__.NuevaClase"
      ]
     },
     "execution_count": 3,
     "metadata": {},
     "output_type": "execute_result"
    }
   ],
   "source": [
    "type(objeto_nuevo)"
   ]
  },
  {
   "cell_type": "code",
   "execution_count": 4,
   "id": "d8b3e2b8-a675-4f10-81ea-ed44343410db",
   "metadata": {},
   "outputs": [
    {
     "data": {
      "text/plain": [
       "True"
      ]
     },
     "execution_count": 4,
     "metadata": {},
     "output_type": "execute_result"
    }
   ],
   "source": [
    "isinstance(objeto_nuevo, NuevaClase)"
   ]
  },
  {
   "cell_type": "code",
   "execution_count": 5,
   "id": "3c9a497a-667b-4475-9da3-aee7ee94cb90",
   "metadata": {},
   "outputs": [],
   "source": [
    "comida = 'tacos'"
   ]
  },
  {
   "cell_type": "code",
   "execution_count": 6,
   "id": "4b05349f-ea5a-4f38-986b-52f21d8cfa4f",
   "metadata": {},
   "outputs": [
    {
     "data": {
      "text/plain": [
       "'tacos'"
      ]
     },
     "execution_count": 6,
     "metadata": {},
     "output_type": "execute_result"
    }
   ],
   "source": [
    "comida"
   ]
  },
  {
   "cell_type": "code",
   "execution_count": 7,
   "id": "e1327969-bd2f-4340-8f1b-10aaccce580f",
   "metadata": {},
   "outputs": [],
   "source": [
    "objeto_nuevo.comida = 'burritos'"
   ]
  },
  {
   "cell_type": "code",
   "execution_count": 8,
   "id": "266ccc92-3a87-460b-aa7a-c202aac3481e",
   "metadata": {},
   "outputs": [
    {
     "data": {
      "text/plain": [
       "'tacos'"
      ]
     },
     "execution_count": 8,
     "metadata": {},
     "output_type": "execute_result"
    }
   ],
   "source": [
    "comida"
   ]
  },
  {
   "cell_type": "code",
   "execution_count": 9,
   "id": "e70ef7d2-ce4f-4bb7-97fc-034955ac6a49",
   "metadata": {},
   "outputs": [
    {
     "data": {
      "text/plain": [
       "'burritos'"
      ]
     },
     "execution_count": 9,
     "metadata": {},
     "output_type": "execute_result"
    }
   ],
   "source": [
    "objeto_nuevo.comida"
   ]
  },
  {
   "cell_type": "code",
   "execution_count": 10,
   "id": "d6fb63b4-ab24-4ce4-9937-9177d11d4f0f",
   "metadata": {},
   "outputs": [
    {
     "data": {
      "text/plain": [
       "{'comida': 'burritos'}"
      ]
     },
     "execution_count": 10,
     "metadata": {},
     "output_type": "execute_result"
    }
   ],
   "source": [
    "objeto_nuevo.__dict__"
   ]
  },
  {
   "cell_type": "code",
   "execution_count": 11,
   "id": "1e9e742e-a98a-40f9-a3b5-60eb81212b62",
   "metadata": {},
   "outputs": [],
   "source": [
    "objeto_nuevo.probando = {'hola', 3}"
   ]
  },
  {
   "cell_type": "code",
   "execution_count": 12,
   "id": "ba2ac302-b7a4-4e93-a0e9-74148da092ee",
   "metadata": {},
   "outputs": [
    {
     "data": {
      "text/plain": [
       "{'comida': 'burritos', 'probando': {3, 'hola'}}"
      ]
     },
     "execution_count": 12,
     "metadata": {},
     "output_type": "execute_result"
    }
   ],
   "source": [
    "objeto_nuevo.__dict__"
   ]
  },
  {
   "cell_type": "code",
   "execution_count": 13,
   "id": "96caddc5-5624-4ffc-861b-42de655aa638",
   "metadata": {},
   "outputs": [],
   "source": [
    "objeto_nuevo.lambda_function = lambda x: x+3"
   ]
  },
  {
   "cell_type": "code",
   "execution_count": 14,
   "id": "4e7e97ae-0fb1-40ac-a1f2-da223efdab36",
   "metadata": {},
   "outputs": [
    {
     "data": {
      "text/plain": [
       "7"
      ]
     },
     "execution_count": 14,
     "metadata": {},
     "output_type": "execute_result"
    }
   ],
   "source": [
    "objeto_nuevo.lambda_function(4)"
   ]
  },
  {
   "cell_type": "code",
   "execution_count": 15,
   "id": "27e76550-7717-4cc6-abd8-f29c865e95db",
   "metadata": {},
   "outputs": [],
   "source": [
    "def sumar3(numero):\n",
    "    return numero + 3"
   ]
  },
  {
   "cell_type": "code",
   "execution_count": 16,
   "id": "4d6699e3-a8a5-4c95-8553-caba1662156c",
   "metadata": {},
   "outputs": [],
   "source": [
    "objeto_nuevo.normal_function = sumar3"
   ]
  },
  {
   "cell_type": "code",
   "execution_count": 17,
   "id": "70cad187-cc0d-44e7-a0ed-822aa95d5783",
   "metadata": {},
   "outputs": [
    {
     "data": {
      "text/plain": [
       "6"
      ]
     },
     "execution_count": 17,
     "metadata": {},
     "output_type": "execute_result"
    }
   ],
   "source": [
    "objeto_nuevo.normal_function(3)"
   ]
  },
  {
   "cell_type": "code",
   "execution_count": 18,
   "id": "24f73163-6512-4d36-ae65-26bb35aed5b2",
   "metadata": {},
   "outputs": [],
   "source": [
    "objeto_nuevo.comida = 'burrito'"
   ]
  },
  {
   "cell_type": "code",
   "execution_count": 19,
   "id": "f4604959-7b75-4132-bf62-81f32de6a84b",
   "metadata": {},
   "outputs": [
    {
     "data": {
      "text/plain": [
       "{'comida': 'burrito',\n",
       " 'probando': {3, 'hola'},\n",
       " 'lambda_function': <function __main__.<lambda>(x)>,\n",
       " 'normal_function': <function __main__.sumar3(numero)>}"
      ]
     },
     "execution_count": 19,
     "metadata": {},
     "output_type": "execute_result"
    }
   ],
   "source": [
    "objeto_nuevo.__dict__"
   ]
  },
  {
   "cell_type": "code",
   "execution_count": 20,
   "id": "49c2d89e-1e45-4e42-9990-47c21d4d38be",
   "metadata": {},
   "outputs": [],
   "source": [
    "class Persona:\n",
    "    tipo = 'homosapiens'\n",
    "    piernas = 2"
   ]
  },
  {
   "cell_type": "code",
   "execution_count": 21,
   "id": "443e0db6-b545-4065-8bdc-fb8ca40a350f",
   "metadata": {},
   "outputs": [
    {
     "data": {
      "text/plain": [
       "<__main__.Persona at 0x1d2d1b2dc00>"
      ]
     },
     "execution_count": 21,
     "metadata": {},
     "output_type": "execute_result"
    }
   ],
   "source": [
    "nay = Persona()\n",
    "nay"
   ]
  },
  {
   "cell_type": "code",
   "execution_count": 22,
   "id": "ba4342c1-47d3-4c86-b20e-e481ae0a6fbc",
   "metadata": {},
   "outputs": [
    {
     "data": {
      "text/plain": [
       "2"
      ]
     },
     "execution_count": 22,
     "metadata": {},
     "output_type": "execute_result"
    }
   ],
   "source": [
    "nay.piernas"
   ]
  },
  {
   "cell_type": "code",
   "execution_count": 23,
   "id": "c41e1d04-0a03-4094-9fbe-3dfc9b168dfb",
   "metadata": {},
   "outputs": [
    {
     "data": {
      "text/plain": [
       "'homosapiens'"
      ]
     },
     "execution_count": 23,
     "metadata": {},
     "output_type": "execute_result"
    }
   ],
   "source": [
    "nay.tipo"
   ]
  },
  {
   "cell_type": "code",
   "execution_count": 24,
   "id": "09d6b560-a288-4c87-83da-a66ec1f09dd2",
   "metadata": {},
   "outputs": [
    {
     "data": {
      "text/plain": [
       "<__main__.Persona at 0x1d2d1b2ea10>"
      ]
     },
     "execution_count": 24,
     "metadata": {},
     "output_type": "execute_result"
    }
   ],
   "source": [
    "zahid = Persona()\n",
    "zahid"
   ]
  },
  {
   "cell_type": "code",
   "execution_count": 25,
   "id": "b42f1c0c-1534-4bb1-be7d-91fbf29037f2",
   "metadata": {},
   "outputs": [
    {
     "data": {
      "text/plain": [
       "'homosapiens'"
      ]
     },
     "execution_count": 25,
     "metadata": {},
     "output_type": "execute_result"
    }
   ],
   "source": [
    "zahid.tipo"
   ]
  },
  {
   "cell_type": "code",
   "execution_count": 26,
   "id": "b665da1e-a7dd-401c-a11c-7115445a1c1d",
   "metadata": {},
   "outputs": [
    {
     "data": {
      "text/plain": [
       "2"
      ]
     },
     "execution_count": 26,
     "metadata": {},
     "output_type": "execute_result"
    }
   ],
   "source": [
    "zahid.piernas"
   ]
  },
  {
   "cell_type": "code",
   "execution_count": 27,
   "id": "510004a9-76a8-48b6-a44c-3a35a8fba745",
   "metadata": {},
   "outputs": [],
   "source": [
    "zahid.brazos = 2"
   ]
  },
  {
   "cell_type": "code",
   "execution_count": 28,
   "id": "8c1bf5dc-1d29-4bb9-8883-87fddb81a409",
   "metadata": {},
   "outputs": [],
   "source": [
    "zahid.piernas = 1"
   ]
  },
  {
   "cell_type": "code",
   "execution_count": 29,
   "id": "89008c03-a69c-4098-bb9c-096c80e35f6e",
   "metadata": {},
   "outputs": [
    {
     "data": {
      "text/plain": [
       "{'brazos': 2, 'piernas': 1}"
      ]
     },
     "execution_count": 29,
     "metadata": {},
     "output_type": "execute_result"
    }
   ],
   "source": [
    "zahid.__dict__"
   ]
  },
  {
   "cell_type": "code",
   "execution_count": 30,
   "id": "75ced864-f243-4eed-8445-68cb2e0c0b67",
   "metadata": {},
   "outputs": [
    {
     "data": {
      "text/plain": [
       "1"
      ]
     },
     "execution_count": 30,
     "metadata": {},
     "output_type": "execute_result"
    }
   ],
   "source": [
    "zahid.piernas"
   ]
  },
  {
   "cell_type": "code",
   "execution_count": 31,
   "id": "b553b9bb-5d5b-4cbc-b543-b2379916b616",
   "metadata": {},
   "outputs": [
    {
     "data": {
      "text/plain": [
       "'homosapiens'"
      ]
     },
     "execution_count": 31,
     "metadata": {},
     "output_type": "execute_result"
    }
   ],
   "source": [
    "zahid.tipo"
   ]
  },
  {
   "cell_type": "code",
   "execution_count": 32,
   "id": "98ad88f2-6e44-41eb-bee1-c93997db57cf",
   "metadata": {},
   "outputs": [
    {
     "data": {
      "text/plain": [
       "{}"
      ]
     },
     "execution_count": 32,
     "metadata": {},
     "output_type": "execute_result"
    }
   ],
   "source": [
    "nay.__dict__"
   ]
  },
  {
   "cell_type": "code",
   "execution_count": 33,
   "id": "2301d876-5675-4da4-b23f-09fc35c00bca",
   "metadata": {},
   "outputs": [
    {
     "data": {
      "text/plain": [
       "'homosapiens'"
      ]
     },
     "execution_count": 33,
     "metadata": {},
     "output_type": "execute_result"
    }
   ],
   "source": [
    "Persona.tipo"
   ]
  },
  {
   "cell_type": "code",
   "execution_count": 34,
   "id": "72f05bbf-6aeb-44e5-94b4-23d926a55866",
   "metadata": {},
   "outputs": [
    {
     "data": {
      "text/plain": [
       "2"
      ]
     },
     "execution_count": 34,
     "metadata": {},
     "output_type": "execute_result"
    }
   ],
   "source": [
    "Persona.piernas"
   ]
  },
  {
   "cell_type": "code",
   "execution_count": 35,
   "id": "5da47892-1c30-4b7d-ac09-2c7da14690b8",
   "metadata": {},
   "outputs": [],
   "source": [
    "class Persona:\n",
    "    tipo = 'homosapiens'\n",
    "    piernas = 2\n",
    "    def __init__(self):\n",
    "        self.brazos = 2"
   ]
  },
  {
   "cell_type": "code",
   "execution_count": 36,
   "id": "4448bd3d-4c72-4d06-9468-ac3a7c20754b",
   "metadata": {},
   "outputs": [],
   "source": [
    "zahid = Persona()\n",
    "# zahid.brazos = 2, por que? porque zahid = self"
   ]
  },
  {
   "cell_type": "code",
   "execution_count": 37,
   "id": "92fbdf23-899a-45c4-9df4-a55890cc130e",
   "metadata": {},
   "outputs": [
    {
     "data": {
      "text/plain": [
       "{'brazos': 2}"
      ]
     },
     "execution_count": 37,
     "metadata": {},
     "output_type": "execute_result"
    }
   ],
   "source": [
    "zahid.__dict__"
   ]
  },
  {
   "cell_type": "code",
   "execution_count": 38,
   "id": "c49d6bfa-a644-4a06-bbf4-1dc99ae4a94c",
   "metadata": {},
   "outputs": [
    {
     "data": {
      "text/plain": [
       "'homosapiens'"
      ]
     },
     "execution_count": 38,
     "metadata": {},
     "output_type": "execute_result"
    }
   ],
   "source": [
    "zahid.tipo"
   ]
  },
  {
   "cell_type": "code",
   "execution_count": 39,
   "id": "b1c08f79-95d9-4cb5-bc4b-3744bc0e4780",
   "metadata": {},
   "outputs": [
    {
     "data": {
      "text/plain": [
       "2"
      ]
     },
     "execution_count": 39,
     "metadata": {},
     "output_type": "execute_result"
    }
   ],
   "source": [
    "zahid.brazos"
   ]
  },
  {
   "cell_type": "code",
   "execution_count": 40,
   "id": "f77d0616-1c24-4289-b355-1e8e26303b50",
   "metadata": {},
   "outputs": [
    {
     "ename": "AttributeError",
     "evalue": "type object 'Persona' has no attribute 'brazos'",
     "output_type": "error",
     "traceback": [
      "\u001b[1;31m---------------------------------------------------------------------------\u001b[0m",
      "\u001b[1;31mAttributeError\u001b[0m                            Traceback (most recent call last)",
      "Cell \u001b[1;32mIn [40], line 1\u001b[0m\n\u001b[1;32m----> 1\u001b[0m Persona\u001b[38;5;241m.\u001b[39mbrazos\n",
      "\u001b[1;31mAttributeError\u001b[0m: type object 'Persona' has no attribute 'brazos'"
     ]
    }
   ],
   "source": [
    "Persona.brazos"
   ]
  },
  {
   "cell_type": "code",
   "execution_count": 69,
   "id": "d726404c-95d7-46a4-86f2-b164d00413e3",
   "metadata": {},
   "outputs": [],
   "source": [
    "class Persona:\n",
    "    tipo = 'homosapiens'\n",
    "    piernas = 2\n",
    "    def __init__(self, nombre):\n",
    "        self.brazos = 2\n",
    "        self.nombre = nombre"
   ]
  },
  {
   "cell_type": "code",
   "execution_count": 70,
   "id": "cbee664d-d5e9-4445-8ec2-98a379f50255",
   "metadata": {},
   "outputs": [],
   "source": [
    "zahid = Persona('zahid')"
   ]
  },
  {
   "cell_type": "code",
   "execution_count": 71,
   "id": "1157a494-6631-4b30-b163-0b3049e9dc26",
   "metadata": {},
   "outputs": [
    {
     "data": {
      "text/plain": [
       "'zahid'"
      ]
     },
     "execution_count": 71,
     "metadata": {},
     "output_type": "execute_result"
    }
   ],
   "source": [
    "zahid.nombre"
   ]
  },
  {
   "cell_type": "code",
   "execution_count": 72,
   "id": "b7f74b54-aaa5-4067-bebb-36c0236f9b06",
   "metadata": {},
   "outputs": [],
   "source": [
    "class Persona:\n",
    "    tipo = 'homosapiens'\n",
    "    piernas = 2\n",
    "    def __init__(self, nombre):\n",
    "        self.brazos = 2\n",
    "        self.nombre = nombre\n",
    "        \n",
    "    def decir_nombre(self):\n",
    "        print(self.nombre)"
   ]
  },
  {
   "cell_type": "code",
   "execution_count": 73,
   "id": "efaf16df-68e8-4c5f-a589-fc51077ee3b9",
   "metadata": {},
   "outputs": [],
   "source": [
    "zahid = Persona('zahid')"
   ]
  },
  {
   "cell_type": "code",
   "execution_count": 75,
   "id": "945c614b-f738-4b33-9c93-111b787047ec",
   "metadata": {},
   "outputs": [
    {
     "name": "stdout",
     "output_type": "stream",
     "text": [
      "zahid\n"
     ]
    }
   ],
   "source": [
    "zahid.decir_nombre()"
   ]
  },
  {
   "cell_type": "code",
   "execution_count": 77,
   "id": "3189e781-114e-4562-b68c-3a62c58565aa",
   "metadata": {},
   "outputs": [
    {
     "name": "stdout",
     "output_type": "stream",
     "text": [
      "zahid\n"
     ]
    }
   ],
   "source": [
    "Persona.decir_nombre(zahid)"
   ]
  },
  {
   "cell_type": "code",
   "execution_count": 78,
   "id": "73034f09-9504-4b97-94a2-95e4bf3120a7",
   "metadata": {},
   "outputs": [
    {
     "data": {
      "text/plain": [
       "['hola', 'amigo']"
      ]
     },
     "execution_count": 78,
     "metadata": {},
     "output_type": "execute_result"
    }
   ],
   "source": [
    "'hola amigo'.split()"
   ]
  },
  {
   "cell_type": "code",
   "execution_count": 79,
   "id": "abdb5070-3db8-4789-a131-f6e792184f3e",
   "metadata": {},
   "outputs": [
    {
     "data": {
      "text/plain": [
       "['hola', 'amigo']"
      ]
     },
     "execution_count": 79,
     "metadata": {},
     "output_type": "execute_result"
    }
   ],
   "source": [
    "str.split('hola amigo')"
   ]
  },
  {
   "cell_type": "code",
   "execution_count": 90,
   "id": "9cb98bc2-defe-4422-a2c8-244d86a9c7ca",
   "metadata": {},
   "outputs": [],
   "source": [
    "class Persona:\n",
    "    \n",
    "    def __init__(self, nombre_persona, edad = 30):\n",
    "        self.nombre = nombre_persona\n",
    "        self.edad = edad\n",
    "        \n",
    "    def decir_nombre(self):\n",
    "        print(f'Mi nombre es {self.nombre}')"
   ]
  },
  {
   "cell_type": "code",
   "execution_count": 91,
   "id": "384346ce-e0de-4332-8593-17de987099ff",
   "metadata": {},
   "outputs": [],
   "source": [
    "zahid = Persona('Zahid')"
   ]
  },
  {
   "cell_type": "code",
   "execution_count": 92,
   "id": "408b42c5-3994-40a0-8bbd-77916c55a804",
   "metadata": {},
   "outputs": [
    {
     "data": {
      "text/plain": [
       "{'nombre': 'Zahid', 'edad': 30}"
      ]
     },
     "execution_count": 92,
     "metadata": {},
     "output_type": "execute_result"
    }
   ],
   "source": [
    "zahid.__dict__"
   ]
  },
  {
   "cell_type": "code",
   "execution_count": 93,
   "id": "b7fa901f-4793-4581-af0e-db1e9ca02cc4",
   "metadata": {},
   "outputs": [],
   "source": [
    "nay = Persona('Nayely', 26)"
   ]
  },
  {
   "cell_type": "code",
   "execution_count": 94,
   "id": "0bdc19cf-f7ca-4f49-96db-da347f526122",
   "metadata": {},
   "outputs": [
    {
     "data": {
      "text/plain": [
       "{'nombre': 'Nayely', 'edad': 26}"
      ]
     },
     "execution_count": 94,
     "metadata": {},
     "output_type": "execute_result"
    }
   ],
   "source": [
    "nay.__dict__"
   ]
  },
  {
   "cell_type": "code",
   "execution_count": 95,
   "id": "c9e19130-bd47-4499-8587-26b0134d5b83",
   "metadata": {},
   "outputs": [],
   "source": [
    "nay.edad = 'la nueva edad que quiera ponerle'"
   ]
  },
  {
   "cell_type": "code",
   "execution_count": 96,
   "id": "fc2b2a25-c6ad-4401-88b6-e2b22f127e33",
   "metadata": {},
   "outputs": [
    {
     "data": {
      "text/plain": [
       "{'nombre': 'Nayely', 'edad': 'la nueva edad que quiera ponerle'}"
      ]
     },
     "execution_count": 96,
     "metadata": {},
     "output_type": "execute_result"
    }
   ],
   "source": [
    "nay.__dict__"
   ]
  },
  {
   "cell_type": "code",
   "execution_count": 97,
   "id": "28891218-6620-4eed-a624-b96418c4244a",
   "metadata": {},
   "outputs": [
    {
     "data": {
      "text/plain": [
       "'la nueva edad que quiera ponerle'"
      ]
     },
     "execution_count": 97,
     "metadata": {},
     "output_type": "execute_result"
    }
   ],
   "source": [
    "nay.edad"
   ]
  },
  {
   "cell_type": "code",
   "execution_count": 98,
   "id": "8fd81a07-a9d4-4d81-9669-11fc17590699",
   "metadata": {},
   "outputs": [],
   "source": [
    "class Persona:\n",
    "    \n",
    "    def __init__(self, nombre_persona, edad = 30):\n",
    "        self.nombre = nombre_persona\n",
    "        self.edad = edad\n",
    "        \n",
    "    def decir_nombre(self):\n",
    "        print(f'Mi nombre es {self.nombre}')\n",
    "        \n",
    "    def cumplir_anios(self, cuantos = 1):\n",
    "        #self.edad = self.edad + cuantos\n",
    "        self.edad += cuantos"
   ]
  },
  {
   "cell_type": "code",
   "execution_count": 99,
   "id": "65d5b2fb-304e-40f6-a9cf-eab93c45e608",
   "metadata": {},
   "outputs": [],
   "source": [
    "nay = Persona('Nayely', 26)"
   ]
  },
  {
   "cell_type": "code",
   "execution_count": 100,
   "id": "5e1c68bf-ef77-4174-be36-aa6c50fdb9b7",
   "metadata": {},
   "outputs": [
    {
     "data": {
      "text/plain": [
       "26"
      ]
     },
     "execution_count": 100,
     "metadata": {},
     "output_type": "execute_result"
    }
   ],
   "source": [
    "nay.edad"
   ]
  },
  {
   "cell_type": "code",
   "execution_count": 102,
   "id": "3e50fe66-1b12-47d9-9dc0-1f34a5a7d287",
   "metadata": {},
   "outputs": [],
   "source": [
    "nay.cumplir_anios()"
   ]
  },
  {
   "cell_type": "code",
   "execution_count": 103,
   "id": "a5fc36bd-29f6-40be-bd8d-6241b7c6f49c",
   "metadata": {},
   "outputs": [
    {
     "data": {
      "text/plain": [
       "27"
      ]
     },
     "execution_count": 103,
     "metadata": {},
     "output_type": "execute_result"
    }
   ],
   "source": [
    "nay.edad"
   ]
  },
  {
   "cell_type": "code",
   "execution_count": 104,
   "id": "099a1d9d-4db3-4b65-ad3a-073207e91ec4",
   "metadata": {},
   "outputs": [],
   "source": [
    "nay.cumplir_anios(4)"
   ]
  },
  {
   "cell_type": "code",
   "execution_count": 105,
   "id": "55ca790d-052e-4c0d-9842-06f5f8d296e7",
   "metadata": {},
   "outputs": [
    {
     "data": {
      "text/plain": [
       "31"
      ]
     },
     "execution_count": 105,
     "metadata": {},
     "output_type": "execute_result"
    }
   ],
   "source": [
    "nay.edad"
   ]
  },
  {
   "cell_type": "code",
   "execution_count": 106,
   "id": "a76a869a-cc50-43c6-81df-a45d95996fff",
   "metadata": {},
   "outputs": [],
   "source": [
    "nay.cumplir_anios(-5)"
   ]
  },
  {
   "cell_type": "code",
   "execution_count": 107,
   "id": "f9d27076-9a83-4b03-89fb-eff4db4b299c",
   "metadata": {},
   "outputs": [
    {
     "data": {
      "text/plain": [
       "26"
      ]
     },
     "execution_count": 107,
     "metadata": {},
     "output_type": "execute_result"
    }
   ],
   "source": [
    "nay.edad"
   ]
  },
  {
   "cell_type": "code",
   "execution_count": 108,
   "id": "f1a8c229-165d-4365-8bc7-097e17607b24",
   "metadata": {},
   "outputs": [],
   "source": [
    "zahid = Persona('Zahid')"
   ]
  },
  {
   "cell_type": "code",
   "execution_count": 110,
   "id": "de6b2fd1-df89-440c-b1da-4aefaa77a8fe",
   "metadata": {},
   "outputs": [],
   "source": [
    "zahid.cumplir_anios(40)"
   ]
  },
  {
   "cell_type": "code",
   "execution_count": 111,
   "id": "b81f3d16-4976-41b1-af69-c9b920370873",
   "metadata": {},
   "outputs": [
    {
     "data": {
      "text/plain": [
       "70"
      ]
     },
     "execution_count": 111,
     "metadata": {},
     "output_type": "execute_result"
    }
   ],
   "source": [
    "zahid.edad"
   ]
  },
  {
   "cell_type": "code",
   "execution_count": 112,
   "id": "b02fa616-c6ed-46d4-a68e-9e0c61190a64",
   "metadata": {},
   "outputs": [],
   "source": [
    "nay.cumplir_anios(-5)"
   ]
  },
  {
   "cell_type": "code",
   "execution_count": 113,
   "id": "f1022c13-efeb-4c37-a936-12ad23e1ae46",
   "metadata": {},
   "outputs": [
    {
     "data": {
      "text/plain": [
       "21"
      ]
     },
     "execution_count": 113,
     "metadata": {},
     "output_type": "execute_result"
    }
   ],
   "source": [
    "nay.edad"
   ]
  },
  {
   "cell_type": "code",
   "execution_count": 114,
   "id": "971d8e7a-0dfe-4c9c-9ecf-e6375af9ed11",
   "metadata": {},
   "outputs": [],
   "source": [
    "Persona.cumplir_anios(zahid)"
   ]
  },
  {
   "cell_type": "code",
   "execution_count": 115,
   "id": "b1d9cf10-9092-4af8-9621-8fb6564d6524",
   "metadata": {},
   "outputs": [
    {
     "data": {
      "text/plain": [
       "71"
      ]
     },
     "execution_count": 115,
     "metadata": {},
     "output_type": "execute_result"
    }
   ],
   "source": [
    "zahid.edad"
   ]
  },
  {
   "cell_type": "code",
   "execution_count": 116,
   "id": "3be73c97-9a43-488c-a9bc-7152b01b691a",
   "metadata": {},
   "outputs": [],
   "source": [
    "oscar = 'Oscar'"
   ]
  },
  {
   "cell_type": "code",
   "execution_count": 117,
   "id": "19e7d2a7-4f89-4d59-bd98-029d3e34dc96",
   "metadata": {},
   "outputs": [
    {
     "ename": "AttributeError",
     "evalue": "'str' object has no attribute 'edad'",
     "output_type": "error",
     "traceback": [
      "\u001b[1;31m---------------------------------------------------------------------------\u001b[0m",
      "\u001b[1;31mAttributeError\u001b[0m                            Traceback (most recent call last)",
      "Cell \u001b[1;32mIn [117], line 1\u001b[0m\n\u001b[1;32m----> 1\u001b[0m Persona\u001b[38;5;241m.\u001b[39mcumplir_anios(oscar)\n",
      "Cell \u001b[1;32mIn [98], line 12\u001b[0m, in \u001b[0;36mPersona.cumplir_anios\u001b[1;34m(self, cuantos)\u001b[0m\n\u001b[0;32m     10\u001b[0m \u001b[38;5;28;01mdef\u001b[39;00m \u001b[38;5;21mcumplir_anios\u001b[39m(\u001b[38;5;28mself\u001b[39m, cuantos \u001b[38;5;241m=\u001b[39m \u001b[38;5;241m1\u001b[39m):\n\u001b[0;32m     11\u001b[0m     \u001b[38;5;66;03m#self.edad = self.edad + cuantos\u001b[39;00m\n\u001b[1;32m---> 12\u001b[0m     \u001b[38;5;28mself\u001b[39m\u001b[38;5;241m.\u001b[39medad \u001b[38;5;241m+\u001b[39m\u001b[38;5;241m=\u001b[39m cuantos\n",
      "\u001b[1;31mAttributeError\u001b[0m: 'str' object has no attribute 'edad'"
     ]
    }
   ],
   "source": [
    "Persona.cumplir_anios(oscar)"
   ]
  },
  {
   "cell_type": "code",
   "execution_count": 127,
   "id": "2e16585d-5fbd-422c-a38a-2802b2ef9dbf",
   "metadata": {},
   "outputs": [],
   "source": [
    "class Persona:\n",
    "    \n",
    "    def __init__(self, nombre_persona, edad = 30):\n",
    "        self.nombre = nombre_persona\n",
    "        self.edad = edad\n",
    "        \n",
    "    def decir_nombre(self):\n",
    "        print(f'Mi nombre es {self.nombre}')\n",
    "        \n",
    "    def cumplir_anios(self, cuantos = 1):\n",
    "        #self.edad = self.edad + cuantos\n",
    "        self.edad += cuantos\n",
    "        return self.nombre"
   ]
  },
  {
   "cell_type": "code",
   "execution_count": 128,
   "id": "357b74e7-abd7-4b77-8d38-615faf02cf49",
   "metadata": {},
   "outputs": [],
   "source": [
    "zahid = Persona('Zahid')"
   ]
  },
  {
   "cell_type": "code",
   "execution_count": 129,
   "id": "7647c3a6-270d-4a4e-9b8b-fbf1d5f072d0",
   "metadata": {},
   "outputs": [
    {
     "data": {
      "text/plain": [
       "'Zahid'"
      ]
     },
     "execution_count": 129,
     "metadata": {},
     "output_type": "execute_result"
    }
   ],
   "source": [
    "zahid.cumplir_anios()"
   ]
  },
  {
   "cell_type": "code",
   "execution_count": 130,
   "id": "c151ad13-2995-4f48-97fc-795c6b13cda6",
   "metadata": {},
   "outputs": [
    {
     "data": {
      "text/plain": [
       "{'nombre': 'Zahid', 'edad': 31}"
      ]
     },
     "execution_count": 130,
     "metadata": {},
     "output_type": "execute_result"
    }
   ],
   "source": [
    "zahid.__dict__"
   ]
  },
  {
   "cell_type": "code",
   "execution_count": 132,
   "id": "b45ae9c6-11d2-4b05-9711-d0d62108bbc4",
   "metadata": {},
   "outputs": [],
   "source": [
    "class Alumno:\n",
    "    \n",
    "    def __init__(self, nombre_persona):\n",
    "        self.nombre = nombre_persona\n",
    "        self.calif = 10\n",
    "        \n",
    "    def decir_calif(self):\n",
    "        print(f'La persona {self.nombre}, tiene de calificacion {self.calif}')\n",
    "        \n",
    "    def no_entrego(self, valor):\n",
    "        self.calif = self.calif - valor\n"
   ]
  },
  {
   "cell_type": "code",
   "execution_count": 134,
   "id": "be80c585-8577-451b-893f-53aba2294057",
   "metadata": {},
   "outputs": [],
   "source": [
    "zahid = Alumno('Zahid')"
   ]
  },
  {
   "cell_type": "code",
   "execution_count": 135,
   "id": "f50f8aff-033f-4188-8e6b-3716c3866b90",
   "metadata": {},
   "outputs": [
    {
     "name": "stdout",
     "output_type": "stream",
     "text": [
      "La persona Zahid, tiene de calificacion 10\n"
     ]
    }
   ],
   "source": [
    "zahid.decir_calif()"
   ]
  },
  {
   "cell_type": "code",
   "execution_count": 136,
   "id": "c88204a0-8c10-49c6-b7f2-f1fa1a019696",
   "metadata": {},
   "outputs": [],
   "source": [
    "nay = Alumno('Nayely')"
   ]
  },
  {
   "cell_type": "code",
   "execution_count": 137,
   "id": "ded39087-ccbe-48c5-8fe8-7288e29b6ae6",
   "metadata": {},
   "outputs": [],
   "source": [
    "nay.no_entrego(1.2)"
   ]
  },
  {
   "cell_type": "code",
   "execution_count": 138,
   "id": "b8b0de5d-6cd3-4f8f-ba79-5f92f5f09f9b",
   "metadata": {},
   "outputs": [],
   "source": [
    "nay.no_entrego(2.2)"
   ]
  },
  {
   "cell_type": "code",
   "execution_count": 139,
   "id": "32272e05-5e0e-4028-9099-a2f88fb4e5b7",
   "metadata": {},
   "outputs": [
    {
     "name": "stdout",
     "output_type": "stream",
     "text": [
      "La persona Nayely, tiene de calificacion 6.6000000000000005\n"
     ]
    }
   ],
   "source": [
    "nay.decir_calif()"
   ]
  },
  {
   "cell_type": "code",
   "execution_count": 41,
   "id": "20de944a-431a-4c72-a21b-38114a4c57e7",
   "metadata": {},
   "outputs": [],
   "source": [
    "class Alumno:\n",
    "    \n",
    "    def __init__(self, nombre_persona):\n",
    "        self.nombre = nombre_persona\n",
    "        self.calif = 10\n",
    "        \n",
    "    def decir_calif(self):\n",
    "        print(f'La persona {self.nombre}, tiene de calificacion {self.calif}')\n",
    "        \n",
    "    def no_entrego(self, valor):\n",
    "        self.calif = self.calif - valor"
   ]
  },
  {
   "cell_type": "code",
   "execution_count": 42,
   "id": "8924d45b-9226-48a3-ac7d-8cca0a06fca4",
   "metadata": {},
   "outputs": [],
   "source": [
    "humberto = Alumno('Humberto')"
   ]
  },
  {
   "cell_type": "code",
   "execution_count": 43,
   "id": "82c6b085-83ac-41da-b686-3b5700c5a63b",
   "metadata": {},
   "outputs": [
    {
     "data": {
      "text/plain": [
       "'Humberto'"
      ]
     },
     "execution_count": 43,
     "metadata": {},
     "output_type": "execute_result"
    }
   ],
   "source": [
    "humberto.nombre"
   ]
  },
  {
   "cell_type": "code",
   "execution_count": 44,
   "id": "9346f245-33ff-4aa4-adea-f2b516e44f0c",
   "metadata": {},
   "outputs": [
    {
     "ename": "TypeError",
     "evalue": "'str' object is not callable",
     "output_type": "error",
     "traceback": [
      "\u001b[1;31m---------------------------------------------------------------------------\u001b[0m",
      "\u001b[1;31mTypeError\u001b[0m                                 Traceback (most recent call last)",
      "Cell \u001b[1;32mIn [44], line 1\u001b[0m\n\u001b[1;32m----> 1\u001b[0m humberto\u001b[38;5;241m.\u001b[39mnombre(\u001b[38;5;124m'\u001b[39m\u001b[38;5;124mbeto\u001b[39m\u001b[38;5;124m'\u001b[39m)\n",
      "\u001b[1;31mTypeError\u001b[0m: 'str' object is not callable"
     ]
    }
   ],
   "source": [
    "humberto.nombre('beto')"
   ]
  },
  {
   "cell_type": "code",
   "execution_count": 48,
   "id": "0057e4ec-2e66-4dfd-89d6-ee7b2a03e9d8",
   "metadata": {},
   "outputs": [],
   "source": [
    "humberto.nombre = 'Beto'"
   ]
  },
  {
   "cell_type": "code",
   "execution_count": 49,
   "id": "dcea5557-30c9-4810-9502-4458228d5501",
   "metadata": {},
   "outputs": [
    {
     "data": {
      "text/plain": [
       "'Beto'"
      ]
     },
     "execution_count": 49,
     "metadata": {},
     "output_type": "execute_result"
    }
   ],
   "source": [
    "humberto.nombre"
   ]
  },
  {
   "cell_type": "code",
   "execution_count": 50,
   "id": "99964c95-0103-4942-a401-06402df81f44",
   "metadata": {},
   "outputs": [],
   "source": [
    "class Alumno:\n",
    "    \n",
    "    def __init__(self, nombre_persona):\n",
    "        self.nombre = nombre_persona\n",
    "        self.calif = 10\n",
    "        \n",
    "    def decir_calif(self):\n",
    "        print(f'La persona {self.nombre}, tiene de calificacion {self.calif}')\n",
    "        \n",
    "    def no_entrego(self, valor):\n",
    "        self.calif = self.calif - valor\n",
    "        \n",
    "    def cambio_nombre(self, nuevo_nombre):\n",
    "        self.nombre = nuevo_nombre"
   ]
  },
  {
   "cell_type": "code",
   "execution_count": 51,
   "id": "40ecb069-26b6-42fa-b05f-f1177a62b841",
   "metadata": {},
   "outputs": [],
   "source": [
    "humberto = Alumno('Humberto')"
   ]
  },
  {
   "cell_type": "code",
   "execution_count": 52,
   "id": "95407800-c822-4739-a907-e0abc03e7c63",
   "metadata": {},
   "outputs": [
    {
     "data": {
      "text/plain": [
       "'Humberto'"
      ]
     },
     "execution_count": 52,
     "metadata": {},
     "output_type": "execute_result"
    }
   ],
   "source": [
    "humberto.nombre"
   ]
  },
  {
   "cell_type": "code",
   "execution_count": 54,
   "id": "5dc7d7ce-af7e-4874-a571-72e44dc8408f",
   "metadata": {},
   "outputs": [],
   "source": [
    "humberto.cambio_nombre('Beto')"
   ]
  },
  {
   "cell_type": "code",
   "execution_count": 55,
   "id": "093bd70b-220b-4f6d-a678-a51b73198ef4",
   "metadata": {},
   "outputs": [
    {
     "data": {
      "text/plain": [
       "'Beto'"
      ]
     },
     "execution_count": 55,
     "metadata": {},
     "output_type": "execute_result"
    }
   ],
   "source": [
    "humberto.nombre"
   ]
  },
  {
   "cell_type": "code",
   "execution_count": 56,
   "id": "2790d293-bb2d-42e7-8088-3b12b391f1fa",
   "metadata": {},
   "outputs": [],
   "source": [
    "humberto.__dict__['apellido'] = 'Alcantara'"
   ]
  },
  {
   "cell_type": "code",
   "execution_count": 57,
   "id": "981443d5-669f-43b6-a959-de0b0d44b97a",
   "metadata": {},
   "outputs": [
    {
     "data": {
      "text/plain": [
       "'Alcantara'"
      ]
     },
     "execution_count": 57,
     "metadata": {},
     "output_type": "execute_result"
    }
   ],
   "source": [
    "humberto.apellido"
   ]
  },
  {
   "cell_type": "code",
   "execution_count": 136,
   "id": "9fd12c1f-db96-4a20-8456-0bd5d4f38ed7",
   "metadata": {},
   "outputs": [],
   "source": [
    "class Alumno:\n",
    "    \n",
    "    def __init__(self, nombre_persona):\n",
    "        self.nombre = nombre_persona\n",
    "        self.calif = 10\n",
    "        \n",
    "    def decir_calif(self):\n",
    "        print(f'La persona {self.nombre}, tiene de calificacion {self.calif}')\n",
    "        \n",
    "    def no_entrego(self, valor):\n",
    "        self.calif = self.calif - valor\n",
    "        \n",
    "    def cambio_nombre(self, nuevo_nombre):\n",
    "        self.nombre = nuevo_nombre\n",
    "        \n",
    "    def nuevos_atributos(self, **atributos):\n",
    "        self.__dict__.update(atributos)"
   ]
  },
  {
   "cell_type": "code",
   "execution_count": 58,
   "id": "3f647b05-7dea-4279-ab80-ee1209805d61",
   "metadata": {},
   "outputs": [],
   "source": [
    "def probando_kwargs(**kwargs):\n",
    "    print(kwargs)"
   ]
  },
  {
   "cell_type": "code",
   "execution_count": 77,
   "id": "791d4296-1164-445c-a002-81b1faf957a9",
   "metadata": {},
   "outputs": [
    {
     "name": "stdout",
     "output_type": "stream",
     "text": [
      "{'llave': 'valor', 'llave2': 'valor2'}\n"
     ]
    }
   ],
   "source": [
    "probando_kwargs(llave = 'valor', llave2 = 'valor2')"
   ]
  },
  {
   "cell_type": "code",
   "execution_count": 78,
   "id": "90ff014d-4ce2-4af7-b10d-2fb5e439c3e7",
   "metadata": {},
   "outputs": [],
   "source": [
    "diccionario1 = {'llave':'valor', 'comida':'taco'}"
   ]
  },
  {
   "cell_type": "code",
   "execution_count": 83,
   "id": "ece9c7cd-6eed-4b74-be01-e6cb164dbcdd",
   "metadata": {},
   "outputs": [],
   "source": [
    "diccionario2 = {'llave': 'valor1', 'llave2': 'valor2'}"
   ]
  },
  {
   "cell_type": "code",
   "execution_count": 80,
   "id": "c4d0bbe5-8b08-4e83-8f06-4e77d36a7f44",
   "metadata": {},
   "outputs": [
    {
     "data": {
      "text/plain": [
       "{'llave': 'valor', 'comida': 'taco'}"
      ]
     },
     "execution_count": 80,
     "metadata": {},
     "output_type": "execute_result"
    }
   ],
   "source": [
    "diccionario1"
   ]
  },
  {
   "cell_type": "code",
   "execution_count": 75,
   "id": "7b0d2d12-3ef3-4630-a803-6f1b23673692",
   "metadata": {},
   "outputs": [],
   "source": [
    "diccionario1.update(diccionario2)"
   ]
  },
  {
   "cell_type": "code",
   "execution_count": 76,
   "id": "a82b3812-feda-449a-9899-9fa97beae2b6",
   "metadata": {},
   "outputs": [
    {
     "data": {
      "text/plain": [
       "{'llave': 'valor1', 'comida': 'valor2'}"
      ]
     },
     "execution_count": 76,
     "metadata": {},
     "output_type": "execute_result"
    }
   ],
   "source": [
    "diccionario1"
   ]
  },
  {
   "cell_type": "code",
   "execution_count": 84,
   "id": "f76a0f8b-3afb-405c-9c68-7c562a7dea0e",
   "metadata": {},
   "outputs": [],
   "source": [
    "diccionario1 = diccionario2.copy()"
   ]
  },
  {
   "cell_type": "code",
   "execution_count": 85,
   "id": "e2bacd92-93cd-400f-93ea-45ea17fae8e1",
   "metadata": {},
   "outputs": [
    {
     "data": {
      "text/plain": [
       "{'llave': 'valor1', 'llave2': 'valor2'}"
      ]
     },
     "execution_count": 85,
     "metadata": {},
     "output_type": "execute_result"
    }
   ],
   "source": [
    "diccionario1"
   ]
  },
  {
   "cell_type": "code",
   "execution_count": 89,
   "id": "86819837-6e54-4652-97c8-ff8b4d7106a9",
   "metadata": {},
   "outputs": [],
   "source": [
    "humberto = Alumno('Humberto')"
   ]
  },
  {
   "cell_type": "code",
   "execution_count": 90,
   "id": "da076b95-7703-4fc8-af9a-608bf887da09",
   "metadata": {},
   "outputs": [
    {
     "data": {
      "text/plain": [
       "{'nombre': 'Humberto', 'calif': 10}"
      ]
     },
     "execution_count": 90,
     "metadata": {},
     "output_type": "execute_result"
    }
   ],
   "source": [
    "humberto.__dict__"
   ]
  },
  {
   "cell_type": "code",
   "execution_count": 92,
   "id": "659d3ad9-a2d7-4c74-b7cc-6325c7e017eb",
   "metadata": {},
   "outputs": [
    {
     "data": {
      "text/plain": [
       "'Humberto'"
      ]
     },
     "execution_count": 92,
     "metadata": {},
     "output_type": "execute_result"
    }
   ],
   "source": [
    "humberto.nombre"
   ]
  },
  {
   "cell_type": "code",
   "execution_count": 102,
   "id": "a1112d2a-d5c3-411d-b448-b11ce7c927e9",
   "metadata": {},
   "outputs": [],
   "source": [
    "#humberto.nuevos_atributos(**{'nombre':'Beto', 'apellido':'Alcantara'})\n",
    "humberto.nuevos_atributos(nombre = 'Beto', apellido = 'Alcantara')"
   ]
  },
  {
   "cell_type": "code",
   "execution_count": 103,
   "id": "57749a53-3404-4984-b690-b83947b3f4b6",
   "metadata": {},
   "outputs": [
    {
     "data": {
      "text/plain": [
       "'Beto'"
      ]
     },
     "execution_count": 103,
     "metadata": {},
     "output_type": "execute_result"
    }
   ],
   "source": [
    "humberto.nombre"
   ]
  },
  {
   "cell_type": "code",
   "execution_count": 104,
   "id": "f370c2c9-3b77-477b-8278-08ee9149cb42",
   "metadata": {},
   "outputs": [
    {
     "data": {
      "text/plain": [
       "'Alcantara'"
      ]
     },
     "execution_count": 104,
     "metadata": {},
     "output_type": "execute_result"
    }
   ],
   "source": [
    "humberto.apellido"
   ]
  },
  {
   "cell_type": "code",
   "execution_count": 121,
   "id": "ba38eabe-a78a-47a8-a2b3-332baacaa4ac",
   "metadata": {},
   "outputs": [],
   "source": [
    "class Crawler:\n",
    "    \n",
    "    def __init__(self, url, paginas = 1, navegador = 'Chrome'):\n",
    "        self.pagina_web = url\n",
    "        self.npaginas = paginas\n",
    "        self.driver = navegador\n",
    "        \n",
    "    def acceder_pagina(self):\n",
    "        print(f'Usando navegador {self.driver}')\n",
    "        print(f'Accedimos a la pagina {self.pagina_web}')\n",
    "        \n",
    "    def sacar_info(self):\n",
    "        for pagina in range(self.npaginas):\n",
    "            print(f'Sacando info de la pagina {pagina}')"
   ]
  },
  {
   "cell_type": "code",
   "execution_count": 122,
   "id": "072408a0-b304-4578-ba54-2a80e7e4db64",
   "metadata": {},
   "outputs": [],
   "source": [
    "scraper = Crawler('nasa.com', 3)"
   ]
  },
  {
   "cell_type": "code",
   "execution_count": 123,
   "id": "c516e3e8-f75b-43a2-8a02-18293c8814e5",
   "metadata": {},
   "outputs": [
    {
     "data": {
      "text/plain": [
       "'nasa.com'"
      ]
     },
     "execution_count": 123,
     "metadata": {},
     "output_type": "execute_result"
    }
   ],
   "source": [
    "scraper.pagina_web"
   ]
  },
  {
   "cell_type": "code",
   "execution_count": 124,
   "id": "c2d398e7-a972-4529-b335-5e6293fc8cb5",
   "metadata": {},
   "outputs": [
    {
     "data": {
      "text/plain": [
       "{'pagina_web': 'nasa.com', 'npaginas': 3, 'driver': 'Chrome'}"
      ]
     },
     "execution_count": 124,
     "metadata": {},
     "output_type": "execute_result"
    }
   ],
   "source": [
    "scraper.__dict__"
   ]
  },
  {
   "cell_type": "code",
   "execution_count": 125,
   "id": "8c1273dd-ae56-4e0e-bff9-88ed358280bb",
   "metadata": {},
   "outputs": [
    {
     "name": "stdout",
     "output_type": "stream",
     "text": [
      "Usando navegador Chrome\n",
      "Accedimos a la pagina nasa.com\n"
     ]
    }
   ],
   "source": [
    "scraper.acceder_pagina()"
   ]
  },
  {
   "cell_type": "code",
   "execution_count": 127,
   "id": "84c73cd7-d229-492e-8625-856a41eaa955",
   "metadata": {},
   "outputs": [
    {
     "name": "stdout",
     "output_type": "stream",
     "text": [
      "Sacando info de la pagina 0\n",
      "Sacando info de la pagina 1\n",
      "Sacando info de la pagina 2\n"
     ]
    }
   ],
   "source": [
    "scraper.sacar_info()"
   ]
  },
  {
   "cell_type": "code",
   "execution_count": 196,
   "id": "7670639c-65f1-4800-bf4a-c75a00cf015b",
   "metadata": {},
   "outputs": [],
   "source": [
    "class Crawler:\n",
    "    \n",
    "    def __init__(self, url, paginas = 1, navegador = 'Chrome'):\n",
    "        self.pagina_web = url\n",
    "        self.npaginas = paginas\n",
    "        self.driver = navegador\n",
    "        \n",
    "    def acceder_pagina(self):\n",
    "        print(f'Usando navegador {self.driver}')\n",
    "        print(f'Accedimos a la pagina {self.pagina_web}')\n",
    "        \n",
    "    def sacar_info(self):\n",
    "        for pagina in range(self.npaginas):\n",
    "            print(f'Sacando info de la pagina {pagina}')\n",
    "            \n",
    "            \n",
    "class ScraperIronhack(Crawler):\n",
    "    \n",
    "    def __init__(self, user, password, url, paginas = 1, navegador = 'Chrome'):\n",
    "        self.user = user\n",
    "        self.password = password\n",
    "        #self.pagina_web = url\n",
    "        #self.npaginas = paginas\n",
    "        #self.driver = navegador\n",
    "        Crawler.__init__(self, url, paginas, navegador)\n",
    "        \n",
    "    def iniciar_sesion(self):\n",
    "        print(f'Iniciando sesion usuario {self.user}')\n",
    "        \n",
    "    def acceder_pagina(self):\n",
    "        super().acceder_pagina()\n",
    "        print('Favor de iniciar sesion')\n",
    "        \n",
    "class ScraperInsta(Crawler):\n",
    "    \n",
    "    def __init__(self, user, password, url, paginas = 1, navegador = 'Chrome'):\n",
    "        self.user = user\n",
    "        self.password = password\n",
    "        super().__init__(url, paginas, navegador)\n",
    "        \n",
    "    def iniciar_sesion(self):\n",
    "        print(f'Iniciando sesion usuario {self.user}')\n",
    "        \n",
    "    def stalkear(self):\n",
    "        print('Ya superala')"
   ]
  },
  {
   "cell_type": "code",
   "execution_count": 197,
   "id": "9d0826af-6b6f-4d13-a8e2-134e6bc4c1c6",
   "metadata": {},
   "outputs": [],
   "source": [
    "scraper = Crawler('nasa.com', 3)"
   ]
  },
  {
   "cell_type": "code",
   "execution_count": 198,
   "id": "ce117eda-dc23-4b9b-addc-fd5ddedc2116",
   "metadata": {},
   "outputs": [
    {
     "data": {
      "text/plain": [
       "{'pagina_web': 'nasa.com', 'npaginas': 3, 'driver': 'Chrome'}"
      ]
     },
     "execution_count": 198,
     "metadata": {},
     "output_type": "execute_result"
    }
   ],
   "source": [
    "scraper.__dict__"
   ]
  },
  {
   "cell_type": "code",
   "execution_count": 199,
   "id": "db172872-dc0b-4832-b27e-38ccfc818a16",
   "metadata": {},
   "outputs": [
    {
     "name": "stdout",
     "output_type": "stream",
     "text": [
      "Usando navegador Chrome\n",
      "Accedimos a la pagina nasa.com\n"
     ]
    }
   ],
   "source": [
    "scraper.acceder_pagina()"
   ]
  },
  {
   "cell_type": "code",
   "execution_count": 200,
   "id": "1d838dd8-1ba3-4628-8227-5d9ec54228ba",
   "metadata": {},
   "outputs": [
    {
     "name": "stdout",
     "output_type": "stream",
     "text": [
      "Sacando info de la pagina 0\n",
      "Sacando info de la pagina 1\n",
      "Sacando info de la pagina 2\n"
     ]
    }
   ],
   "source": [
    "scraper.sacar_info()"
   ]
  },
  {
   "cell_type": "code",
   "execution_count": 201,
   "id": "dc6ac133-29c4-467d-b00d-1f14f2a8fe33",
   "metadata": {},
   "outputs": [],
   "source": [
    "scraper_iron = ScraperIronhack('Zahid', 'onepiece1234', 'ironhack.com')"
   ]
  },
  {
   "cell_type": "code",
   "execution_count": 202,
   "id": "e676978f-4c33-45df-8219-3a94fab83a51",
   "metadata": {},
   "outputs": [
    {
     "data": {
      "text/plain": [
       "{'user': 'Zahid',\n",
       " 'password': 'onepiece1234',\n",
       " 'pagina_web': 'ironhack.com',\n",
       " 'npaginas': 1,\n",
       " 'driver': 'Chrome'}"
      ]
     },
     "execution_count": 202,
     "metadata": {},
     "output_type": "execute_result"
    }
   ],
   "source": [
    "scraper_iron.__dict__"
   ]
  },
  {
   "cell_type": "code",
   "execution_count": 203,
   "id": "1eacd828-08d0-4327-b739-bb2b48b4a4ed",
   "metadata": {},
   "outputs": [
    {
     "name": "stdout",
     "output_type": "stream",
     "text": [
      "Usando navegador Chrome\n",
      "Accedimos a la pagina ironhack.com\n",
      "Favor de iniciar sesion\n"
     ]
    }
   ],
   "source": [
    "scraper_iron.acceder_pagina()"
   ]
  },
  {
   "cell_type": "code",
   "execution_count": 204,
   "id": "5e1ef855-3731-492c-9d2d-e431beac21e5",
   "metadata": {},
   "outputs": [
    {
     "name": "stdout",
     "output_type": "stream",
     "text": [
      "Sacando info de la pagina 0\n"
     ]
    }
   ],
   "source": [
    "scraper_iron.sacar_info()"
   ]
  },
  {
   "cell_type": "code",
   "execution_count": 205,
   "id": "8c2ca65a-2f0f-4cc8-8774-726798e7004e",
   "metadata": {},
   "outputs": [
    {
     "name": "stdout",
     "output_type": "stream",
     "text": [
      "Iniciando sesion usuario Zahid\n"
     ]
    }
   ],
   "source": [
    "scraper_iron.iniciar_sesion()"
   ]
  },
  {
   "cell_type": "code",
   "execution_count": 206,
   "id": "946c9800-0244-4604-b5db-dab8c5f9554f",
   "metadata": {},
   "outputs": [],
   "source": [
    "scraper_insta = ScraperInsta('Zahid10Messi', 'onepiece1234', 'instagram.com')"
   ]
  },
  {
   "cell_type": "code",
   "execution_count": 207,
   "id": "fe1b9424-001c-43bc-b12f-3da5a12a4fa8",
   "metadata": {},
   "outputs": [
    {
     "data": {
      "text/plain": [
       "{'user': 'Zahid10Messi',\n",
       " 'password': 'onepiece1234',\n",
       " 'pagina_web': 'instagram.com',\n",
       " 'npaginas': 1,\n",
       " 'driver': 'Chrome'}"
      ]
     },
     "execution_count": 207,
     "metadata": {},
     "output_type": "execute_result"
    }
   ],
   "source": [
    "scraper_insta.__dict__"
   ]
  },
  {
   "cell_type": "code",
   "execution_count": 208,
   "id": "aed248eb-b92e-4a0f-847f-de6b14719fab",
   "metadata": {},
   "outputs": [
    {
     "name": "stdout",
     "output_type": "stream",
     "text": [
      "Usando navegador Chrome\n",
      "Accedimos a la pagina instagram.com\n"
     ]
    }
   ],
   "source": [
    "scraper_insta.acceder_pagina()"
   ]
  },
  {
   "cell_type": "code",
   "execution_count": 209,
   "id": "9e7651bb-8672-4185-b839-b605bf6c8bff",
   "metadata": {},
   "outputs": [
    {
     "name": "stdout",
     "output_type": "stream",
     "text": [
      "Sacando info de la pagina 0\n"
     ]
    }
   ],
   "source": [
    "scraper_insta.sacar_info()"
   ]
  },
  {
   "cell_type": "code",
   "execution_count": 210,
   "id": "738ba620-874a-4b45-8250-1040703ef615",
   "metadata": {},
   "outputs": [
    {
     "name": "stdout",
     "output_type": "stream",
     "text": [
      "Iniciando sesion usuario Zahid10Messi\n"
     ]
    }
   ],
   "source": [
    "scraper_insta.iniciar_sesion()"
   ]
  },
  {
   "cell_type": "code",
   "execution_count": 172,
   "id": "d7501041-2d24-4e0c-834c-033cb04b8840",
   "metadata": {},
   "outputs": [
    {
     "name": "stdout",
     "output_type": "stream",
     "text": [
      "Ya superala\n"
     ]
    }
   ],
   "source": [
    "scraper_insta.stalkear()"
   ]
  },
  {
   "cell_type": "code",
   "execution_count": 213,
   "id": "359a8967-0bca-4725-b9a9-4db801288c16",
   "metadata": {},
   "outputs": [
    {
     "name": "stdout",
     "output_type": "stream",
     "text": [
      "Usando navegador Chrome\n",
      "Accedimos a la pagina nasa.com\n",
      "--------------------------------------------------\n",
      "Usando navegador Chrome\n",
      "Accedimos a la pagina ironhack.com\n",
      "Favor de iniciar sesion\n",
      "--------------------------------------------------\n",
      "Usando navegador Chrome\n",
      "Accedimos a la pagina instagram.com\n",
      "--------------------------------------------------\n"
     ]
    }
   ],
   "source": [
    "scrapers = [scraper, scraper_iron, scraper_insta]\n",
    "\n",
    "for scr in scrapers:\n",
    "    scr.acceder_pagina()\n",
    "    print('-'*50)"
   ]
  },
  {
   "cell_type": "code",
   "execution_count": 229,
   "id": "7bd107a3-90f0-43f5-8b46-55b04dcbd0b2",
   "metadata": {},
   "outputs": [],
   "source": [
    "class ScraperInsta(Crawler):\n",
    "    \n",
    "    def __init__(self, user, password, url, paginas = 1, navegador = 'Chrome'):\n",
    "        self.user = user\n",
    "        self.password = password\n",
    "        super().__init__(url, paginas, navegador)\n",
    "        \n",
    "    def iniciar_sesion(self):\n",
    "        print(f'Iniciando sesion usuario {self.user}')\n",
    "        \n",
    "    def stalkear(self):\n",
    "        print('Ya superala')\n",
    "        \n",
    "    def __add__(self, other):\n",
    "        return self.npaginas + other.npaginas\n",
    "    \n",
    "    def __str__(self):\n",
    "        return f'Usuario {self.user}, contrasenia {self.password}'"
   ]
  },
  {
   "cell_type": "code",
   "execution_count": 230,
   "id": "c3bebe35-7a13-422a-b2dc-f25d625ac569",
   "metadata": {},
   "outputs": [],
   "source": [
    "scraperzahid = ScraperInsta('Zahid10Messi', 'onepiece1234', 'instagram.com')\n",
    "scrapernay = ScraperInsta('NayElBicho', 'elbichomisalvador', 'instagram.com')"
   ]
  },
  {
   "cell_type": "code",
   "execution_count": 231,
   "id": "555c8eb2-2f53-439d-94cd-a0fd632aa033",
   "metadata": {},
   "outputs": [
    {
     "data": {
      "text/plain": [
       "2"
      ]
     },
     "execution_count": 231,
     "metadata": {},
     "output_type": "execute_result"
    }
   ],
   "source": [
    "scraperzahid + scrapernay"
   ]
  },
  {
   "cell_type": "code",
   "execution_count": 232,
   "id": "273f6683-8dee-4ea1-a9ba-44d65d28adb7",
   "metadata": {},
   "outputs": [
    {
     "name": "stdout",
     "output_type": "stream",
     "text": [
      "Usuario Zahid10Messi, contrasenia onepiece1234\n"
     ]
    }
   ],
   "source": [
    "print(scraperzahid)"
   ]
  },
  {
   "cell_type": "code",
   "execution_count": 233,
   "id": "ec439cd5-8c52-4fe3-bef2-6a37c26b68f3",
   "metadata": {},
   "outputs": [
    {
     "data": {
      "text/plain": [
       "'Usuario Zahid10Messi, contrasenia onepiece1234'"
      ]
     },
     "execution_count": 233,
     "metadata": {},
     "output_type": "execute_result"
    }
   ],
   "source": [
    "str(scraperzahid)"
   ]
  }
 ],
 "metadata": {
  "kernelspec": {
   "display_name": "Python 3 (ipykernel)",
   "language": "python",
   "name": "python3"
  },
  "language_info": {
   "codemirror_mode": {
    "name": "ipython",
    "version": 3
   },
   "file_extension": ".py",
   "mimetype": "text/x-python",
   "name": "python",
   "nbconvert_exporter": "python",
   "pygments_lexer": "ipython3",
   "version": "3.10.7"
  }
 },
 "nbformat": 4,
 "nbformat_minor": 5
}
