{
 "cells": [
  {
   "cell_type": "raw",
   "id": "7ff269dd-311e-416d-9ea6-0e44aa132e10",
   "metadata": {},
   "source": [
    "obtener_info(url):\n",
    "entra al link y saque la informacion necesaria\n",
    "regresar info"
   ]
  },
  {
   "cell_type": "raw",
   "id": "62c1d7ac-e97b-4a29-baae-e857cf7e78a5",
   "metadata": {},
   "source": [
    "limpiar_datos(data):\n",
    "Elimina typos de mi data, y la prepara para su uso y exploracion"
   ]
  },
  {
   "cell_type": "raw",
   "id": "a8111158-3638-4f6e-95a8-1e0fe5a68a4b",
   "metadata": {},
   "source": [
    "generar_graficos(datos):\n",
    "toma los datos y realiza la visualizaciones adecuadas"
   ]
  },
  {
   "cell_type": "raw",
   "id": "4a3a80ac-b9a9-4976-9f58-24ef6ba4d9ee",
   "metadata": {},
   "source": [
    "def main():\n",
    "url = input(pasame la pagina)\n",
    "info = obtener_info(url)\n",
    "datos_limpio = limpiar_datos(info)\n",
    "fin = generar_graficos(datos_limpios)"
   ]
  },
  {
   "cell_type": "code",
   "execution_count": 12,
   "id": "8781f600-efde-4a33-8e99-8a8540e79472",
   "metadata": {},
   "outputs": [],
   "source": [
    "def decir_algo():\n",
    "    print('algo')"
   ]
  },
  {
   "cell_type": "code",
   "execution_count": 21,
   "id": "24a47f30-45c2-4e49-b62c-cc49f81fedd4",
   "metadata": {},
   "outputs": [
    {
     "name": "stdout",
     "output_type": "stream",
     "text": [
      "algo\n"
     ]
    }
   ],
   "source": [
    "decir_algo()"
   ]
  },
  {
   "cell_type": "code",
   "execution_count": 13,
   "id": "0dfdea53-cdf7-4820-abd0-be99d75278ca",
   "metadata": {},
   "outputs": [
    {
     "name": "stdout",
     "output_type": "stream",
     "text": [
      "algo\n"
     ]
    }
   ],
   "source": [
    "resultado = decir_algo()"
   ]
  },
  {
   "cell_type": "code",
   "execution_count": 14,
   "id": "03923e7d-db95-41cb-a565-7892f8829ef9",
   "metadata": {},
   "outputs": [
    {
     "name": "stdout",
     "output_type": "stream",
     "text": [
      "None\n"
     ]
    }
   ],
   "source": [
    "print(resultado)"
   ]
  },
  {
   "cell_type": "code",
   "execution_count": 15,
   "id": "e6f8db29-0b8e-4862-970d-93f34e4fb26e",
   "metadata": {},
   "outputs": [],
   "source": [
    "resultado"
   ]
  },
  {
   "cell_type": "code",
   "execution_count": 16,
   "id": "9bcd08fb-387c-4d58-b361-5fc9c5b593b6",
   "metadata": {},
   "outputs": [],
   "source": [
    "def regresar_algo():\n",
    "    return 'algo'"
   ]
  },
  {
   "cell_type": "code",
   "execution_count": 19,
   "id": "85630fd1-04f2-4ef0-aca2-0fa1b516fa9e",
   "metadata": {},
   "outputs": [
    {
     "data": {
      "text/plain": [
       "'algo'"
      ]
     },
     "execution_count": 19,
     "metadata": {},
     "output_type": "execute_result"
    }
   ],
   "source": [
    "regresar_algo()"
   ]
  },
  {
   "cell_type": "code",
   "execution_count": 22,
   "id": "fc06a918-d8c1-464f-94ce-adbe039b48f4",
   "metadata": {},
   "outputs": [],
   "source": [
    "resultado = regresar_algo()"
   ]
  },
  {
   "cell_type": "code",
   "execution_count": 23,
   "id": "3bc21e6c-e2b0-4cd7-b38e-697d410ab331",
   "metadata": {},
   "outputs": [
    {
     "name": "stdout",
     "output_type": "stream",
     "text": [
      "algo\n"
     ]
    }
   ],
   "source": [
    "print(resultado)"
   ]
  },
  {
   "cell_type": "code",
   "execution_count": 24,
   "id": "4bb38c7f-32af-4bf4-8949-009fe45e99cf",
   "metadata": {},
   "outputs": [],
   "source": [
    "def decir_algo_regresar_otro():\n",
    "    print('algo')\n",
    "    return 'otro'"
   ]
  },
  {
   "cell_type": "code",
   "execution_count": 25,
   "id": "22f76772-f02c-456e-9105-d2647e98fb22",
   "metadata": {},
   "outputs": [
    {
     "name": "stdout",
     "output_type": "stream",
     "text": [
      "algo\n"
     ]
    }
   ],
   "source": [
    "resultado = decir_algo_regresar_otro()"
   ]
  },
  {
   "cell_type": "code",
   "execution_count": 26,
   "id": "faee14e1-22e9-4b43-91b2-b94978d2582a",
   "metadata": {},
   "outputs": [
    {
     "name": "stdout",
     "output_type": "stream",
     "text": [
      "otro\n"
     ]
    }
   ],
   "source": [
    "print(resultado)"
   ]
  },
  {
   "cell_type": "code",
   "execution_count": 28,
   "id": "407d9f4f-c1a5-467d-982d-8b7f33ace666",
   "metadata": {},
   "outputs": [],
   "source": [
    "def decir_algo_regresar_otro_fin_antes():\n",
    "    return 'solo esto'\n",
    "    print('algo')\n",
    "    return 'otro'"
   ]
  },
  {
   "cell_type": "code",
   "execution_count": 29,
   "id": "1c5474f3-1b75-4718-8839-d4a1775fc31d",
   "metadata": {},
   "outputs": [],
   "source": [
    "resultado = decir_algo_regresar_otro_fin_antes()"
   ]
  },
  {
   "cell_type": "code",
   "execution_count": 30,
   "id": "264b4cbf-8047-4192-8fcd-2c63ae42691b",
   "metadata": {},
   "outputs": [
    {
     "name": "stdout",
     "output_type": "stream",
     "text": [
      "solo esto\n"
     ]
    }
   ],
   "source": [
    "print(resultado)"
   ]
  },
  {
   "cell_type": "code",
   "execution_count": 31,
   "id": "562d7d51-8017-4b1f-bade-4ef4feb60f91",
   "metadata": {},
   "outputs": [
    {
     "data": {
      "text/plain": [
       "'solo esto'"
      ]
     },
     "execution_count": 31,
     "metadata": {},
     "output_type": "execute_result"
    }
   ],
   "source": [
    "resultado"
   ]
  },
  {
   "cell_type": "code",
   "execution_count": 41,
   "id": "d62d57ac-19e8-400b-a80c-d23beefcd8d9",
   "metadata": {},
   "outputs": [],
   "source": [
    "def saludar_persona(nombre):\n",
    "    print(f'Hola {nombre}, como te va?')"
   ]
  },
  {
   "cell_type": "code",
   "execution_count": 34,
   "id": "0d80d878-ffc4-456f-bbcb-31c5472cde3e",
   "metadata": {},
   "outputs": [
    {
     "name": "stdout",
     "output_type": "stream",
     "text": [
      "Hola 4324, como te va?\n"
     ]
    }
   ],
   "source": [
    "saludar_persona(4324)"
   ]
  },
  {
   "cell_type": "code",
   "execution_count": 39,
   "id": "f784a103-36f2-4b9e-ac15-6859a1b8c197",
   "metadata": {},
   "outputs": [
    {
     "data": {
      "text/plain": [
       "'Zahid'"
      ]
     },
     "execution_count": 39,
     "metadata": {},
     "output_type": "execute_result"
    }
   ],
   "source": [
    "nombre"
   ]
  },
  {
   "cell_type": "code",
   "execution_count": 36,
   "id": "1cb881a8-75e4-45c3-b8ba-35655cd99e92",
   "metadata": {},
   "outputs": [],
   "source": [
    "yo = 'Zahid'"
   ]
  },
  {
   "cell_type": "code",
   "execution_count": 37,
   "id": "ee0e5fd5-f91b-490e-8fb2-301e91458c23",
   "metadata": {},
   "outputs": [
    {
     "name": "stdout",
     "output_type": "stream",
     "text": [
      "Hola Zahid, como te va?\n"
     ]
    }
   ],
   "source": [
    "saludar_persona(yo)"
   ]
  },
  {
   "cell_type": "code",
   "execution_count": 38,
   "id": "e9470cf6-642e-4ce8-8485-7cc000577a5f",
   "metadata": {},
   "outputs": [
    {
     "name": "stdout",
     "output_type": "stream",
     "text": [
      "Hola Zahid, como te va?\n"
     ]
    }
   ],
   "source": [
    "nombre = 'Zahid'\n",
    "saludar_persona(nombre)"
   ]
  },
  {
   "cell_type": "code",
   "execution_count": 42,
   "id": "cd406495-f268-4a8d-8bc6-fcba8c9dfde2",
   "metadata": {},
   "outputs": [],
   "source": [
    "def saludar_persona_completa(nombre, apellido):\n",
    "    print(f'Hola {nombre} de apellido {apellido}, como te va?')"
   ]
  },
  {
   "cell_type": "code",
   "execution_count": 43,
   "id": "75e40a5b-2b94-4aea-aa8d-e0a154c17e0b",
   "metadata": {},
   "outputs": [
    {
     "name": "stdout",
     "output_type": "stream",
     "text": [
      "Hola Zahid de apellido Sanchez, como te va?\n"
     ]
    }
   ],
   "source": [
    "saludar_persona_completa('Zahid', 'Sanchez')"
   ]
  },
  {
   "cell_type": "code",
   "execution_count": 44,
   "id": "ed919c2c-0255-46c8-bfbe-c25fbab61e8b",
   "metadata": {},
   "outputs": [],
   "source": [
    "def multiplicar(numero1, numero2):\n",
    "    return numero1 * numero2"
   ]
  },
  {
   "cell_type": "code",
   "execution_count": 45,
   "id": "ad6d275d-ace4-4214-a2aa-bc293a2268e3",
   "metadata": {},
   "outputs": [
    {
     "name": "stdout",
     "output_type": "stream",
     "text": [
      "10\n"
     ]
    }
   ],
   "source": [
    "resultado = multiplicar(5, 2)\n",
    "print(resultado)"
   ]
  },
  {
   "cell_type": "code",
   "execution_count": 46,
   "id": "9571b614-b0bf-4756-bea7-9a845cafaa8c",
   "metadata": {},
   "outputs": [],
   "source": [
    "def multiplicar_opcional(numero1, numero2 = 1):\n",
    "    return numero1 * numero2"
   ]
  },
  {
   "cell_type": "code",
   "execution_count": 47,
   "id": "4a3f93a2-7c2b-4133-bf46-23157ddca038",
   "metadata": {},
   "outputs": [
    {
     "name": "stdout",
     "output_type": "stream",
     "text": [
      "10\n"
     ]
    }
   ],
   "source": [
    "resultado = multiplicar_opcional(5, 2)\n",
    "print(resultado)"
   ]
  },
  {
   "cell_type": "code",
   "execution_count": 48,
   "id": "8db91e2b-ff6c-4eee-823f-83f45ef5c482",
   "metadata": {},
   "outputs": [
    {
     "name": "stdout",
     "output_type": "stream",
     "text": [
      "5\n"
     ]
    }
   ],
   "source": [
    "resultado = multiplicar_opcional(5)\n",
    "print(resultado)"
   ]
  },
  {
   "cell_type": "code",
   "execution_count": 49,
   "id": "e87a1806-cd69-4bbb-baac-990c7b78b6ee",
   "metadata": {},
   "outputs": [
    {
     "ename": "TypeError",
     "evalue": "multiplicar_opcional() missing 1 required positional argument: 'numero1'",
     "output_type": "error",
     "traceback": [
      "\u001b[1;31m---------------------------------------------------------------------------\u001b[0m",
      "\u001b[1;31mTypeError\u001b[0m                                 Traceback (most recent call last)",
      "Cell \u001b[1;32mIn [49], line 1\u001b[0m\n\u001b[1;32m----> 1\u001b[0m resultado \u001b[38;5;241m=\u001b[39m multiplicar_opcional()\n\u001b[0;32m      2\u001b[0m \u001b[38;5;28mprint\u001b[39m(resultado)\n",
      "\u001b[1;31mTypeError\u001b[0m: multiplicar_opcional() missing 1 required positional argument: 'numero1'"
     ]
    }
   ],
   "source": [
    "resultado = multiplicar_opcional()\n",
    "print(resultado)"
   ]
  },
  {
   "cell_type": "code",
   "execution_count": 51,
   "id": "d0bfecfd-730e-46cb-8815-34bea58323b1",
   "metadata": {},
   "outputs": [],
   "source": [
    "def multiplicar_opcional(numero2 = 1, numero1 = 1):\n",
    "    return numero1 * numero2"
   ]
  },
  {
   "cell_type": "code",
   "execution_count": 52,
   "id": "057eafee-23a1-4100-9c3e-3fcf12227922",
   "metadata": {},
   "outputs": [
    {
     "data": {
      "text/plain": [
       "1"
      ]
     },
     "execution_count": 52,
     "metadata": {},
     "output_type": "execute_result"
    }
   ],
   "source": [
    "multiplicar_opcional()"
   ]
  },
  {
   "cell_type": "code",
   "execution_count": 53,
   "id": "e6142600-3574-4100-8b7f-967d8ea55f78",
   "metadata": {},
   "outputs": [
    {
     "data": {
      "text/plain": [
       "'Segun gente esto es un comentario multilineas'"
      ]
     },
     "execution_count": 53,
     "metadata": {},
     "output_type": "execute_result"
    }
   ],
   "source": [
    "\"\"\"Segun gente esto es un comentario multilineas\"\"\""
   ]
  },
  {
   "cell_type": "code",
   "execution_count": 54,
   "id": "b466d97a-7f67-4303-9547-20b7bae327b6",
   "metadata": {},
   "outputs": [],
   "source": [
    "def multiplicar(numero1, numero2):\n",
    "    \"\"\"A esto se le conoce como docstring y suele ser\n",
    "    una descripcion del funcionamiento de la funcion\"\"\"\n",
    "    return numero1 * numero2"
   ]
  },
  {
   "cell_type": "code",
   "execution_count": null,
   "id": "ac243a05-8288-4d2a-8180-3cb4ecf151d4",
   "metadata": {},
   "outputs": [],
   "source": [
    "multiplicar()"
   ]
  },
  {
   "cell_type": "code",
   "execution_count": 56,
   "id": "bd4cc1ea-a48a-49bf-8e39-5f834f20a688",
   "metadata": {},
   "outputs": [
    {
     "name": "stdout",
     "output_type": "stream",
     "text": [
      "A esto se le conoce como docstring y suele ser\n",
      "    una descripcion del funcionamiento de la funcion\n"
     ]
    }
   ],
   "source": [
    "print(multiplicar.__doc__)"
   ]
  },
  {
   "cell_type": "code",
   "execution_count": 57,
   "id": "b1fdc458-49b2-4e8b-aa9e-b15d4f40497b",
   "metadata": {},
   "outputs": [
    {
     "name": "stdout",
     "output_type": "stream",
     "text": [
      "Help on function multiplicar in module __main__:\n",
      "\n",
      "multiplicar(numero1, numero2)\n",
      "    A esto se le conoce como docstring y suele ser\n",
      "    una descripcion del funcionamiento de la funcion\n",
      "\n"
     ]
    }
   ],
   "source": [
    "help(multiplicar)"
   ]
  },
  {
   "cell_type": "code",
   "execution_count": 1,
   "id": "68a0b596-4fb3-4f9e-a394-9edd05a8c8cc",
   "metadata": {},
   "outputs": [],
   "source": [
    "# Variable global estan disponibles en todo mi espacio (notebook o archivo)\n",
    "numero = 4"
   ]
  },
  {
   "cell_type": "code",
   "execution_count": 2,
   "id": "7b1ebeac-33fe-48e7-961a-83b3bbdb94fa",
   "metadata": {},
   "outputs": [
    {
     "name": "stdout",
     "output_type": "stream",
     "text": [
      "4\n"
     ]
    }
   ],
   "source": [
    "print(numero)"
   ]
  },
  {
   "cell_type": "code",
   "execution_count": 4,
   "id": "8348e9fb-8e41-40fa-9f1d-257b4e68dbf4",
   "metadata": {},
   "outputs": [],
   "source": [
    "def funcion_nums():\n",
    "    print(numero)"
   ]
  },
  {
   "cell_type": "code",
   "execution_count": 5,
   "id": "45080b22-70e8-4168-9a16-854aefd7be7b",
   "metadata": {},
   "outputs": [
    {
     "name": "stdout",
     "output_type": "stream",
     "text": [
      "4\n"
     ]
    }
   ],
   "source": [
    "funcion_nums()"
   ]
  },
  {
   "cell_type": "code",
   "execution_count": 6,
   "id": "a3970266-869f-48a0-bd15-1a8949620bfd",
   "metadata": {},
   "outputs": [],
   "source": [
    "def funcion_nums_locales(numero):\n",
    "    print(numero)"
   ]
  },
  {
   "cell_type": "code",
   "execution_count": 8,
   "id": "458dfa32-88f6-4bbd-8d97-c1286e3a03bf",
   "metadata": {},
   "outputs": [
    {
     "name": "stdout",
     "output_type": "stream",
     "text": [
      "34\n"
     ]
    }
   ],
   "source": [
    "funcion_nums_locales(34)"
   ]
  },
  {
   "cell_type": "code",
   "execution_count": 11,
   "id": "b8a57ac5-b9ab-42de-a381-76581b4a8856",
   "metadata": {},
   "outputs": [],
   "source": [
    "# Las variables locales solo existen dentro del espacio que estoy trabajando en\n",
    "# este caso dentro de la funcion\n",
    "def funcion_nums_locales():\n",
    "    numero = 5\n",
    "    print(numero)"
   ]
  },
  {
   "cell_type": "code",
   "execution_count": 12,
   "id": "7bab732b-384f-42b6-b050-2fd4083f17f8",
   "metadata": {},
   "outputs": [
    {
     "name": "stdout",
     "output_type": "stream",
     "text": [
      "5\n"
     ]
    }
   ],
   "source": [
    "funcion_nums_locales()"
   ]
  },
  {
   "cell_type": "code",
   "execution_count": 13,
   "id": "1387bd8a-1073-40fb-801c-fe761677ba69",
   "metadata": {},
   "outputs": [
    {
     "name": "stdout",
     "output_type": "stream",
     "text": [
      "4\n"
     ]
    }
   ],
   "source": [
    "print(numero)"
   ]
  },
  {
   "cell_type": "code",
   "execution_count": 14,
   "id": "88a90b34-0c7e-464b-bde6-09b7bda964a3",
   "metadata": {},
   "outputs": [],
   "source": [
    "def funcion_nums_locales():\n",
    "    numero = 5\n",
    "    print(numero)\n",
    "    return numero"
   ]
  },
  {
   "cell_type": "code",
   "execution_count": 15,
   "id": "de91b72e-8d37-478c-9f0b-7a444822a889",
   "metadata": {},
   "outputs": [
    {
     "name": "stdout",
     "output_type": "stream",
     "text": [
      "5\n"
     ]
    },
    {
     "data": {
      "text/plain": [
       "5"
      ]
     },
     "execution_count": 15,
     "metadata": {},
     "output_type": "execute_result"
    }
   ],
   "source": [
    "funcion_nums_locales()"
   ]
  },
  {
   "cell_type": "code",
   "execution_count": 16,
   "id": "675e6869-81e7-4b7e-ac38-1a718982a5af",
   "metadata": {},
   "outputs": [
    {
     "name": "stdout",
     "output_type": "stream",
     "text": [
      "4\n"
     ]
    }
   ],
   "source": [
    "print(numero)"
   ]
  },
  {
   "cell_type": "code",
   "execution_count": 17,
   "id": "49caecd6-64c6-427a-9684-a84021ec8835",
   "metadata": {},
   "outputs": [
    {
     "name": "stdout",
     "output_type": "stream",
     "text": [
      "5\n"
     ]
    }
   ],
   "source": [
    "numero = funcion_nums_locales()"
   ]
  },
  {
   "cell_type": "code",
   "execution_count": 18,
   "id": "6a58ae50-ba9b-4c73-89dc-4bf7e8710bdb",
   "metadata": {},
   "outputs": [
    {
     "name": "stdout",
     "output_type": "stream",
     "text": [
      "5\n"
     ]
    }
   ],
   "source": [
    "print(numero)"
   ]
  },
  {
   "cell_type": "code",
   "execution_count": 19,
   "id": "6db332cb-f212-4f29-86c7-cd74acbb31e7",
   "metadata": {},
   "outputs": [],
   "source": [
    "texto = 'global'"
   ]
  },
  {
   "cell_type": "code",
   "execution_count": 20,
   "id": "6a559dd9-38e5-4aef-bba5-6f022e040fdb",
   "metadata": {},
   "outputs": [],
   "source": [
    "def funcion_texto_local():\n",
    "    global texto\n",
    "    texto = 'local'\n",
    "    print(texto)"
   ]
  },
  {
   "cell_type": "code",
   "execution_count": 21,
   "id": "5a3c1d23-ae5b-4613-bc13-ce275cdc3244",
   "metadata": {},
   "outputs": [
    {
     "name": "stdout",
     "output_type": "stream",
     "text": [
      "local\n"
     ]
    }
   ],
   "source": [
    "funcion_texto_local()"
   ]
  },
  {
   "cell_type": "code",
   "execution_count": 22,
   "id": "2159cdd8-1bb1-400c-ba25-941cb19049c1",
   "metadata": {},
   "outputs": [
    {
     "name": "stdout",
     "output_type": "stream",
     "text": [
      "local\n"
     ]
    }
   ],
   "source": [
    "print(texto)"
   ]
  },
  {
   "cell_type": "code",
   "execution_count": 23,
   "id": "ba48c1db-9435-4703-9807-f0c063889b55",
   "metadata": {},
   "outputs": [],
   "source": [
    "def funcion_texto_local():\n",
    "    global texto2\n",
    "    texto2 = 'local'\n",
    "    print(texto2)"
   ]
  },
  {
   "cell_type": "code",
   "execution_count": 24,
   "id": "fad35720-bb42-488b-b5c5-4d629aee6c9a",
   "metadata": {},
   "outputs": [
    {
     "name": "stdout",
     "output_type": "stream",
     "text": [
      "local\n"
     ]
    }
   ],
   "source": [
    "funcion_texto_local()"
   ]
  },
  {
   "cell_type": "code",
   "execution_count": 25,
   "id": "36617991-a239-4ac1-86b4-331e310f700e",
   "metadata": {},
   "outputs": [
    {
     "data": {
      "text/plain": [
       "'local'"
      ]
     },
     "execution_count": 25,
     "metadata": {},
     "output_type": "execute_result"
    }
   ],
   "source": [
    "texto2"
   ]
  },
  {
   "cell_type": "code",
   "execution_count": 26,
   "id": "c6753efe-c99d-484c-8abe-59ee371cd005",
   "metadata": {},
   "outputs": [],
   "source": [
    "numero = 6"
   ]
  },
  {
   "cell_type": "code",
   "execution_count": 27,
   "id": "1305e4ac-fbc9-4f6b-ae86-6286b96c35f9",
   "metadata": {},
   "outputs": [],
   "source": [
    "def incrementar(valor):\n",
    "    return valor + 1"
   ]
  },
  {
   "cell_type": "code",
   "execution_count": 28,
   "id": "446d9f9a-ee70-4bbd-a98b-eb903c33da65",
   "metadata": {},
   "outputs": [
    {
     "data": {
      "text/plain": [
       "7"
      ]
     },
     "execution_count": 28,
     "metadata": {},
     "output_type": "execute_result"
    }
   ],
   "source": [
    "incrementar(numero)"
   ]
  },
  {
   "cell_type": "code",
   "execution_count": 29,
   "id": "f12dba7e-84f4-4d01-ac4e-17719c7f3c6c",
   "metadata": {},
   "outputs": [
    {
     "name": "stdout",
     "output_type": "stream",
     "text": [
      "6\n"
     ]
    }
   ],
   "source": [
    "print(numero)"
   ]
  },
  {
   "cell_type": "code",
   "execution_count": 35,
   "id": "cb163cab-5641-440b-85a3-d3d49b2d8dfb",
   "metadata": {},
   "outputs": [],
   "source": [
    "numero = incrementar(numero)"
   ]
  },
  {
   "cell_type": "code",
   "execution_count": 36,
   "id": "81a36a39-7460-45e2-b931-e56b35ad0906",
   "metadata": {},
   "outputs": [
    {
     "name": "stdout",
     "output_type": "stream",
     "text": [
      "9\n"
     ]
    }
   ],
   "source": [
    "print(numero)"
   ]
  },
  {
   "cell_type": "code",
   "execution_count": 45,
   "id": "16418199-6365-4f40-a55e-d25119348ef9",
   "metadata": {},
   "outputs": [],
   "source": [
    "def multiplicar3(numero):\n",
    "    \"\"\"Esta funcion acepta un numero y regresa ese numero multiplicado por 3\"\"\"\n",
    "    return numero * 3"
   ]
  },
  {
   "cell_type": "code",
   "execution_count": 46,
   "id": "2a4b7b5c-f26d-4c12-b27a-7e99cedc51f8",
   "metadata": {},
   "outputs": [
    {
     "data": {
      "text/plain": [
       "12"
      ]
     },
     "execution_count": 46,
     "metadata": {},
     "output_type": "execute_result"
    }
   ],
   "source": [
    "multiplicar3(4)"
   ]
  },
  {
   "cell_type": "code",
   "execution_count": 47,
   "id": "eb41ce60-5f6c-4714-aadc-6d4ffac8e459",
   "metadata": {},
   "outputs": [
    {
     "data": {
      "text/plain": [
       "'holaholahola'"
      ]
     },
     "execution_count": 47,
     "metadata": {},
     "output_type": "execute_result"
    }
   ],
   "source": [
    "multiplicar3(\"hola\")"
   ]
  },
  {
   "cell_type": "code",
   "execution_count": 48,
   "id": "c8d3ad66-8986-4d4a-9c48-8ca06f6fd74f",
   "metadata": {},
   "outputs": [],
   "source": [
    "def multiplicar3(numero):\n",
    "    \"\"\"Esta funcion acepta un numero y regresa ese numero multiplicado por 3\"\"\"\n",
    "    if isinstance(numero, int):\n",
    "        return numero * 3\n",
    "    \n",
    "    print('Error, la funcion solo sirve con enteros')"
   ]
  },
  {
   "cell_type": "code",
   "execution_count": 49,
   "id": "74532f6f-6d32-4f2c-8959-2fada48adc81",
   "metadata": {},
   "outputs": [
    {
     "name": "stdout",
     "output_type": "stream",
     "text": [
      "Error, la funcion solo sirve con enteros\n"
     ]
    }
   ],
   "source": [
    "multiplicar3(\"hola\")"
   ]
  },
  {
   "cell_type": "code",
   "execution_count": 50,
   "id": "94f53512-3a81-4e02-8e39-9bf0dd9f6c71",
   "metadata": {},
   "outputs": [
    {
     "data": {
      "text/plain": [
       "9"
      ]
     },
     "execution_count": 50,
     "metadata": {},
     "output_type": "execute_result"
    }
   ],
   "source": [
    "multiplicar3(3)"
   ]
  },
  {
   "cell_type": "markdown",
   "id": "e1ad8855-7d45-42b9-a4e9-a32179491959",
   "metadata": {
    "jp-MarkdownHeadingCollapsed": true,
    "tags": []
   },
   "source": [
    "##### Recursion"
   ]
  },
  {
   "cell_type": "code",
   "execution_count": 67,
   "id": "f9fb577c-143c-49d4-902f-0aa4ff8d36bf",
   "metadata": {},
   "outputs": [],
   "source": [
    "def pedir_si_no():\n",
    "    respuesta = input('Dime si si vasir o no vasir?')\n",
    "    \n",
    "    #if respuesta != 'si' or respuesta != 'no':\n",
    "    #    haz algo\n",
    "    \n",
    "    if respuesta.lower() in ['si', 'no']:\n",
    "        return respuesta.lower()\n",
    "    \n",
    "    else:\n",
    "        print('Tu respuesta fue invalida')\n",
    "        return pedir_si_no()"
   ]
  },
  {
   "cell_type": "code",
   "execution_count": 68,
   "id": "3547952e-2376-4683-a1d4-44d2485ea694",
   "metadata": {},
   "outputs": [
    {
     "name": "stdin",
     "output_type": "stream",
     "text": [
      "Dime si si vasir o no vasir? si\n"
     ]
    },
    {
     "name": "stdout",
     "output_type": "stream",
     "text": [
      "si\n"
     ]
    }
   ],
   "source": [
    "resultado_funcion = pedir_si_no()\n",
    "print(resultado_funcion)"
   ]
  },
  {
   "cell_type": "code",
   "execution_count": 69,
   "id": "27ba7534-1573-4ab0-abd7-9efa975e5bfb",
   "metadata": {},
   "outputs": [
    {
     "name": "stdout",
     "output_type": "stream",
     "text": [
      "0\n",
      "1\n",
      "2\n"
     ]
    }
   ],
   "source": [
    "for i in range(100):\n",
    "    print(i)\n",
    "    if i == 2:\n",
    "        break"
   ]
  },
  {
   "cell_type": "markdown",
   "id": "01c03e11-576a-49d1-930d-106ccb963bf9",
   "metadata": {},
   "source": [
    "##### Seguimos"
   ]
  },
  {
   "cell_type": "code",
   "execution_count": 70,
   "id": "e228ced7-6500-4c42-adcd-09cb746bf1dc",
   "metadata": {},
   "outputs": [],
   "source": [
    "def saludar_persona_completa(nombre, apellido):\n",
    "    print(f'Hola {nombre} de apellido {apellido}, como te va?')"
   ]
  },
  {
   "cell_type": "code",
   "execution_count": 71,
   "id": "1ba1ae13-52e8-4f50-b8f3-fb0640a682d6",
   "metadata": {},
   "outputs": [
    {
     "name": "stdout",
     "output_type": "stream",
     "text": [
      "Hola Zahid de apellido Sanchez, como te va?\n"
     ]
    }
   ],
   "source": [
    "saludar_persona_completa('Zahid', 'Sanchez')"
   ]
  },
  {
   "cell_type": "code",
   "execution_count": 72,
   "id": "9f85a116-5a15-4a36-802a-9818c90eb860",
   "metadata": {},
   "outputs": [
    {
     "name": "stdout",
     "output_type": "stream",
     "text": [
      "Hola Zahid de apellido Sanchez, como te va?\n"
     ]
    }
   ],
   "source": [
    "saludar_persona_completa(apellido = 'Sanchez', nombre = 'Zahid')"
   ]
  },
  {
   "cell_type": "code",
   "execution_count": 73,
   "id": "df93ddf4-b7b2-47c6-82b6-cecb7a762f73",
   "metadata": {},
   "outputs": [],
   "source": [
    "def saludar_persona_completa(nombre, apellido):\n",
    "    tercer_variable = 'otro'\n",
    "    print(tercer_variable)\n",
    "    print(f'Hola {nombre} de apellido {apellido}, como te va?')"
   ]
  },
  {
   "cell_type": "code",
   "execution_count": 74,
   "id": "9e35dbc6-bceb-4028-a9ae-62d77bceb3c2",
   "metadata": {},
   "outputs": [
    {
     "name": "stdout",
     "output_type": "stream",
     "text": [
      "otro\n",
      "Hola Zahid de apellido Sanchez, como te va?\n"
     ]
    }
   ],
   "source": [
    "saludar_persona_completa(apellido = 'Sanchez', nombre = 'Zahid')"
   ]
  },
  {
   "cell_type": "code",
   "execution_count": 75,
   "id": "528efe80-e8c7-4095-beed-83e59f16d94b",
   "metadata": {},
   "outputs": [],
   "source": [
    "# cuando tenga argumentos posicionales y keyword arguments (son los opcionales) se construyen\n",
    "# de la siguiente manera\n",
    "# def funcion(posicional1, posicional2, keyword1 = default1, keyword2 = default2)"
   ]
  },
  {
   "cell_type": "code",
   "execution_count": 86,
   "id": "7160e193-611d-4562-80f8-01d5da651cfa",
   "metadata": {},
   "outputs": [
    {
     "ename": "SyntaxError",
     "evalue": "non-default argument follows default argument (4033661592.py, line 1)",
     "output_type": "error",
     "traceback": [
      "\u001b[1;36m  Cell \u001b[1;32mIn [86], line 1\u001b[1;36m\u001b[0m\n\u001b[1;33m    def mercado(nombre, item1 = 'leche', presupuesto, item2 = 'agua'):\u001b[0m\n\u001b[1;37m                                         ^\u001b[0m\n\u001b[1;31mSyntaxError\u001b[0m\u001b[1;31m:\u001b[0m non-default argument follows default argument\n"
     ]
    }
   ],
   "source": [
    "def mercado(nombre, item1 = 'leche', presupuesto, item2 = 'agua'):\n",
    "    print(f'{nombre} fue a hacer el mercado, con presupuesto de {presupuesto}')\n",
    "    print(f'Los objetos a comprar son {item1}, {item2}')"
   ]
  },
  {
   "cell_type": "code",
   "execution_count": 76,
   "id": "d851234e-e1d9-452c-ac4b-3e8ac3f0e802",
   "metadata": {},
   "outputs": [],
   "source": [
    "def mercado(nombre, presupuesto, item1 = 'leche', item2 = 'agua'):\n",
    "    print(f'{nombre} fue a hacer el mercado, con presupuesto de {presupuesto}')\n",
    "    print(f'Los objetos a comprar son {item1}, {item2}')"
   ]
  },
  {
   "cell_type": "code",
   "execution_count": 81,
   "id": "03a34393-9f96-412c-a3c0-d8649406ed28",
   "metadata": {},
   "outputs": [
    {
     "name": "stdout",
     "output_type": "stream",
     "text": [
      "Zahid fue a hacer el mercado, con presupuesto de 2\n",
      "Los objetos a comprar son leche, pizza\n"
     ]
    }
   ],
   "source": [
    "mercado('Zahid', 2, item2 = 'pizza')"
   ]
  },
  {
   "cell_type": "code",
   "execution_count": 78,
   "id": "202d2f61-88ef-41ef-8367-5fce7abd8f69",
   "metadata": {},
   "outputs": [
    {
     "name": "stdout",
     "output_type": "stream",
     "text": [
      "Zahid fue a hacer el mercado, con presupuesto de 2\n",
      "Los objetos a comprar son pizza, burrito\n"
     ]
    }
   ],
   "source": [
    "mercado('Zahid', 2, 'pizza', 'burrito')"
   ]
  },
  {
   "cell_type": "code",
   "execution_count": 88,
   "id": "e007eba2-3b32-4ed0-bc69-491cc4e9dd93",
   "metadata": {},
   "outputs": [
    {
     "name": "stdout",
     "output_type": "stream",
     "text": [
      "Zahid fue a hacer el mercado, con presupuesto de 2\n",
      "Los objetos a comprar son leche, pizza\n"
     ]
    }
   ],
   "source": [
    "mercado('Zahid', item2 = 'pizza', presupuesto = 2)"
   ]
  },
  {
   "cell_type": "code",
   "execution_count": 89,
   "id": "bb81f178-4786-4adb-ae3d-217f76db36ec",
   "metadata": {},
   "outputs": [],
   "source": [
    "# Input para validar si ya se termino o ir agregando\n",
    "def mercado(nombre, presupuesto, lista_items):\n",
    "    print(f'{nombre} fue a hacer el mercado, con presupuesto de {presupuesto}')\n",
    "    print(f'Los objetos a comprar son')\n",
    "    for item in lista_items:\n",
    "        print(f'* {item}')"
   ]
  },
  {
   "cell_type": "code",
   "execution_count": 90,
   "id": "9ef51acf-7399-4596-8c71-83f5b1840a50",
   "metadata": {},
   "outputs": [
    {
     "name": "stdout",
     "output_type": "stream",
     "text": [
      "Zahid fue a hacer el mercado, con presupuesto de 342\n",
      "Los objetos a comprar son\n",
      "* tortillas\n",
      "* pan\n",
      "* maruchan\n",
      "* huevo\n"
     ]
    }
   ],
   "source": [
    "mercado('Zahid', 342, ['tortillas', 'pan', 'maruchan', 'huevo'])"
   ]
  },
  {
   "cell_type": "code",
   "execution_count": 91,
   "id": "534d1194-8a51-433c-ab45-a28bfbd397a9",
   "metadata": {},
   "outputs": [
    {
     "name": "stdout",
     "output_type": "stream",
     "text": [
      "Zahid fue a hacer el mercado, con presupuesto de 342\n",
      "Los objetos a comprar son\n"
     ]
    }
   ],
   "source": [
    "mercado('Zahid', 342, [])"
   ]
  },
  {
   "cell_type": "markdown",
   "id": "da473dc2-881e-4e9a-b97b-32d52ffd26ff",
   "metadata": {},
   "source": [
    "###### Args y Kwargs"
   ]
  },
  {
   "cell_type": "code",
   "execution_count": 93,
   "id": "5c903325-92e3-40e8-a1e1-21fdda4f386a",
   "metadata": {},
   "outputs": [],
   "source": [
    "# Los args (*args), nos permiten tomar tantos positional arguments como quiera\n",
    "# y juntarlos dentro de una tupla"
   ]
  },
  {
   "cell_type": "code",
   "execution_count": 106,
   "id": "ba2c010c-f492-4987-9842-9872104a14ca",
   "metadata": {},
   "outputs": [],
   "source": [
    "def ejemplo_args(*args):\n",
    "    print(args)\n",
    "    for valor in args:\n",
    "        print(valor)"
   ]
  },
  {
   "cell_type": "code",
   "execution_count": 107,
   "id": "eb3d9db4-c565-4edf-8b0b-1715a7efffd5",
   "metadata": {},
   "outputs": [
    {
     "name": "stdout",
     "output_type": "stream",
     "text": [
      "()\n"
     ]
    }
   ],
   "source": [
    "ejemplo_args()"
   ]
  },
  {
   "cell_type": "code",
   "execution_count": 108,
   "id": "fa89ebf5-7f44-4363-8007-f723d3136bd8",
   "metadata": {},
   "outputs": [
    {
     "name": "stdout",
     "output_type": "stream",
     "text": [
      "('una', 'dos', 324, 324, 234, 23, 4, 23)\n",
      "una\n",
      "dos\n",
      "324\n",
      "324\n",
      "234\n",
      "23\n",
      "4\n",
      "23\n"
     ]
    }
   ],
   "source": [
    "ejemplo_args('una', 'dos',324,324,234,23,4,23)"
   ]
  },
  {
   "cell_type": "code",
   "execution_count": 110,
   "id": "b28a453d-565e-4b5a-b1f6-567fb7e7a2c2",
   "metadata": {},
   "outputs": [
    {
     "name": "stdout",
     "output_type": "stream",
     "text": [
      "\n"
     ]
    }
   ],
   "source": [
    "print()"
   ]
  },
  {
   "cell_type": "code",
   "execution_count": 111,
   "id": "185c408a-065e-4c15-9596-47cd9233273d",
   "metadata": {},
   "outputs": [
    {
     "name": "stdout",
     "output_type": "stream",
     "text": [
      "1 23 4 34 32 3\n"
     ]
    }
   ],
   "source": [
    "print(1,23,4,34,32,3)"
   ]
  },
  {
   "cell_type": "code",
   "execution_count": 109,
   "id": "9386a45d-d7fc-42ad-ae7a-4376c29c9028",
   "metadata": {},
   "outputs": [],
   "source": [
    "def mercado(nombre, presupuesto, *lista_items):\n",
    "    print(f'{nombre} fue a hacer el mercado, con presupuesto de {presupuesto}')\n",
    "    print(f'Los objetos a comprar son')\n",
    "    for item in lista_items:\n",
    "        print(f'* {item}')"
   ]
  },
  {
   "cell_type": "code",
   "execution_count": 112,
   "id": "60c58190-f8ba-4a37-90a1-c8daf6b2a735",
   "metadata": {},
   "outputs": [
    {
     "name": "stdout",
     "output_type": "stream",
     "text": [
      "Zahid fue a hacer el mercado, con presupuesto de 342\n",
      "Los objetos a comprar son\n",
      "* tortillas\n",
      "* pan\n",
      "* maruchan\n",
      "* huevo\n"
     ]
    }
   ],
   "source": [
    "mercado('Zahid', 342, 'tortillas', 'pan', 'maruchan', 'huevo')"
   ]
  },
  {
   "cell_type": "code",
   "execution_count": 113,
   "id": "4624a4df-e762-4d3f-a15a-1d7b52b1f90f",
   "metadata": {},
   "outputs": [],
   "source": [
    "# Los kwargs (**kwargs), nos permiten tomar tantos keyword arguments como quiera\n",
    "# y juntarlos dentro de un diccionario"
   ]
  },
  {
   "cell_type": "code",
   "execution_count": 122,
   "id": "5da3c75e-3377-413f-b26e-3764a16e9195",
   "metadata": {},
   "outputs": [],
   "source": [
    "def ejemplo_kwargs(**kwargs):\n",
    "    print(kwargs)\n",
    "    for llave, valor in kwargs.items():\n",
    "        print(llave, valor)"
   ]
  },
  {
   "cell_type": "code",
   "execution_count": 123,
   "id": "e31bc22e-f295-455e-a1c7-c21d82050f78",
   "metadata": {},
   "outputs": [
    {
     "name": "stdout",
     "output_type": "stream",
     "text": [
      "{}\n"
     ]
    }
   ],
   "source": [
    "ejemplo_kwargs()"
   ]
  },
  {
   "cell_type": "code",
   "execution_count": 125,
   "id": "1da73c9e-e84b-47c8-b064-e90b98fa5541",
   "metadata": {},
   "outputs": [
    {
     "name": "stdout",
     "output_type": "stream",
     "text": [
      "{'llave1': 'valor1', 'llave2': 'valor2', 'llave3': 'valor3'}\n",
      "llave1 valor1\n",
      "llave2 valor2\n",
      "llave3 valor3\n"
     ]
    }
   ],
   "source": [
    "ejemplo_kwargs(llave1 = 'valor1', llave2 = 'valor2', llave3 = 'valor3')"
   ]
  },
  {
   "cell_type": "code",
   "execution_count": 126,
   "id": "4a9ee64b-fe4c-415b-8f1a-980e803299a9",
   "metadata": {},
   "outputs": [],
   "source": [
    "# funcion con todos los tipos de args seria algo asi\n",
    "# def funcion(positional, *args, keyword, **kwargs)"
   ]
  },
  {
   "cell_type": "code",
   "execution_count": 127,
   "id": "3d0f309f-57bd-4393-95c5-142ac85ad9ba",
   "metadata": {},
   "outputs": [],
   "source": [
    "def funcion_args_antes_posi(*lista_items, nombre):\n",
    "    print(f'{nombre} fue a hacer mercado')\n",
    "    print(f'Los objetos a comprar son')\n",
    "    for item in lista_items:\n",
    "        print(f'* {item}')"
   ]
  },
  {
   "cell_type": "code",
   "execution_count": 129,
   "id": "291c56e4-8a13-4233-81bf-ab1cf0c0cd6c",
   "metadata": {},
   "outputs": [
    {
     "name": "stdout",
     "output_type": "stream",
     "text": [
      "Zahid fue a hacer mercado\n",
      "Los objetos a comprar son\n",
      "* tortillas\n",
      "* pan\n",
      "* maruchan\n",
      "* huevo\n"
     ]
    }
   ],
   "source": [
    "funcion_args_antes_posi('tortillas', 'pan', 'maruchan', 'huevo', nombre = 'Zahid')"
   ]
  },
  {
   "cell_type": "code",
   "execution_count": 151,
   "id": "3620d56b-cca3-4f4b-a201-1d018f0fe281",
   "metadata": {},
   "outputs": [],
   "source": [
    "def full_mandado(nombre: str, *lista_items, presupuesto = 0, **precios):\n",
    "    print(f'{nombre} fue a hacer mercado con un presupuesto {presupuesto}')\n",
    "    print('Los objetos a comprar son')\n",
    "    for item in lista_items:\n",
    "        print(f'* {item}')\n",
    "    print('Los precios son')\n",
    "    for item, price in precios.items():\n",
    "        print(f'{item} -> {price}')"
   ]
  },
  {
   "cell_type": "code",
   "execution_count": 155,
   "id": "0cfceb76-61af-47d2-ac98-412d01ec557c",
   "metadata": {},
   "outputs": [
    {
     "name": "stdout",
     "output_type": "stream",
     "text": [
      "Zahid fue a hacer mercado con un presupuesto [4332, 432]\n",
      "Los objetos a comprar son\n",
      "* agua\n",
      "* papas\n",
      "* zanahorias\n",
      "* huevo\n",
      "* queso\n",
      "Los precios son\n",
      "agua -> dos\n",
      "papas -> 3\n",
      "leche -> 10\n",
      "zanahorias -> 32\n",
      "huevo -> 31\n",
      "queso -> 3\n"
     ]
    }
   ],
   "source": [
    "full_mandado('Zahid', 'agua','papas', 'zanahorias', 'huevo', 'queso', presupuesto = [4332,432],\n",
    "            agua = 'dos', papas = 3, leche = 10, zanahorias = 32, huevo = 31,\n",
    "            queso = 3)"
   ]
  },
  {
   "cell_type": "code",
   "execution_count": 139,
   "id": "2ff31406-6225-400f-b834-eb63c150d98f",
   "metadata": {},
   "outputs": [],
   "source": [
    "def regresar_2_numeros():\n",
    "    return 4, 5"
   ]
  },
  {
   "cell_type": "code",
   "execution_count": 141,
   "id": "1de593a0-e892-4c6a-b767-a2ee90b55eb8",
   "metadata": {},
   "outputs": [
    {
     "data": {
      "text/plain": [
       "(4, 5)"
      ]
     },
     "execution_count": 141,
     "metadata": {},
     "output_type": "execute_result"
    }
   ],
   "source": [
    "resultado = regresar_2_numeros()\n",
    "resultado"
   ]
  },
  {
   "cell_type": "code",
   "execution_count": 144,
   "id": "3d2c9e32-1c1c-436a-9a96-c601323b16eb",
   "metadata": {},
   "outputs": [
    {
     "data": {
      "text/plain": [
       "4"
      ]
     },
     "execution_count": 144,
     "metadata": {},
     "output_type": "execute_result"
    }
   ],
   "source": [
    "numero1, numero2 = regresar_2_numeros()\n",
    "numero1"
   ]
  },
  {
   "cell_type": "code",
   "execution_count": 145,
   "id": "44b6637b-88c7-44a2-aac7-ae8950e8ff01",
   "metadata": {},
   "outputs": [
    {
     "data": {
      "text/plain": [
       "5"
      ]
     },
     "execution_count": 145,
     "metadata": {},
     "output_type": "execute_result"
    }
   ],
   "source": [
    "numero2"
   ]
  },
  {
   "cell_type": "code",
   "execution_count": 157,
   "id": "9eaae62c-b5c6-4ae1-8d7c-eaca9c142197",
   "metadata": {},
   "outputs": [],
   "source": [
    "# funcion factorial\n",
    "# 5! = 5 * 4 * 3 * 2 * 1\n",
    "# = 5 * (4 * 3 * 2 * 1) = 5 * 4!"
   ]
  },
  {
   "cell_type": "code",
   "execution_count": 162,
   "id": "646ff10d-b356-4abf-aad3-298d87adc1cd",
   "metadata": {},
   "outputs": [],
   "source": [
    "def factorial(numero):\n",
    "    if numero == 1 or numero == 0:\n",
    "        return 1\n",
    "    \n",
    "    else:\n",
    "        return numero * factorial(numero-1)"
   ]
  },
  {
   "cell_type": "code",
   "execution_count": 164,
   "id": "9fb17f7a-c289-40a9-bc4f-48fa2ddcfb9d",
   "metadata": {},
   "outputs": [
    {
     "data": {
      "text/plain": [
       "120"
      ]
     },
     "execution_count": 164,
     "metadata": {},
     "output_type": "execute_result"
    }
   ],
   "source": [
    "factorial(5)"
   ]
  },
  {
   "cell_type": "markdown",
   "id": "4ca1dc50-2e54-432e-bf3d-2cf1425fa92d",
   "metadata": {},
   "source": [
    "#### Iterators"
   ]
  },
  {
   "cell_type": "markdown",
   "id": "fa2f648a-3446-448a-9cef-0da396eb6efa",
   "metadata": {},
   "source": [
    "Un iterator es un objeto que cuenta con una funcion next"
   ]
  },
  {
   "cell_type": "code",
   "execution_count": 165,
   "id": "8dcffc1a-9bdb-4829-bbed-57c7e1d8b7a0",
   "metadata": {},
   "outputs": [],
   "source": [
    "#Iterable no necesariamente es iterator\n",
    "lista_ejemplo = [1, 2, 3, 4, 5, 6, 7, 8]"
   ]
  },
  {
   "cell_type": "code",
   "execution_count": 166,
   "id": "29c07fcd-2697-4bb8-b913-46e149f1c5c7",
   "metadata": {},
   "outputs": [
    {
     "ename": "TypeError",
     "evalue": "'list' object is not an iterator",
     "output_type": "error",
     "traceback": [
      "\u001b[1;31m---------------------------------------------------------------------------\u001b[0m",
      "\u001b[1;31mTypeError\u001b[0m                                 Traceback (most recent call last)",
      "Cell \u001b[1;32mIn [166], line 1\u001b[0m\n\u001b[1;32m----> 1\u001b[0m \u001b[38;5;28mnext\u001b[39m(lista_ejemplo)\n",
      "\u001b[1;31mTypeError\u001b[0m: 'list' object is not an iterator"
     ]
    }
   ],
   "source": [
    "next(lista_ejemplo)"
   ]
  },
  {
   "cell_type": "code",
   "execution_count": 167,
   "id": "13c732c0-b2e1-4bed-83ec-4a693952bd1f",
   "metadata": {},
   "outputs": [],
   "source": [
    "iterator_ejemplo = iter(lista_ejemplo)"
   ]
  },
  {
   "cell_type": "code",
   "execution_count": 177,
   "id": "bedb3bc8-fe1c-4443-abae-2db1cf77b90f",
   "metadata": {},
   "outputs": [
    {
     "ename": "StopIteration",
     "evalue": "",
     "output_type": "error",
     "traceback": [
      "\u001b[1;31m---------------------------------------------------------------------------\u001b[0m",
      "\u001b[1;31mStopIteration\u001b[0m                             Traceback (most recent call last)",
      "Cell \u001b[1;32mIn [177], line 1\u001b[0m\n\u001b[1;32m----> 1\u001b[0m \u001b[38;5;28mnext\u001b[39m(iterator_ejemplo)\n",
      "\u001b[1;31mStopIteration\u001b[0m: "
     ]
    }
   ],
   "source": [
    "next(iterator_ejemplo)"
   ]
  },
  {
   "cell_type": "code",
   "execution_count": 179,
   "id": "c3dd557c-ee54-4af7-81cf-ac263e44b00c",
   "metadata": {},
   "outputs": [
    {
     "data": {
      "text/plain": [
       "[]"
      ]
     },
     "execution_count": 179,
     "metadata": {},
     "output_type": "execute_result"
    }
   ],
   "source": [
    "list(iterator_ejemplo)"
   ]
  },
  {
   "cell_type": "code",
   "execution_count": 180,
   "id": "dfdfdef9-c4ba-46e4-98df-af0309981d3c",
   "metadata": {},
   "outputs": [],
   "source": [
    "iterator_ejemplo = iter(lista_ejemplo)"
   ]
  },
  {
   "cell_type": "code",
   "execution_count": 181,
   "id": "b21d4113-52c9-43ad-98f3-fe3b1eb6e280",
   "metadata": {},
   "outputs": [
    {
     "data": {
      "text/plain": [
       "[1, 2, 3, 4, 5, 6, 7, 8]"
      ]
     },
     "execution_count": 181,
     "metadata": {},
     "output_type": "execute_result"
    }
   ],
   "source": [
    "list(iterator_ejemplo)"
   ]
  },
  {
   "cell_type": "code",
   "execution_count": 182,
   "id": "b9bdb46f-1397-42c2-9df8-086ee40438ac",
   "metadata": {},
   "outputs": [
    {
     "data": {
      "text/plain": [
       "[]"
      ]
     },
     "execution_count": 182,
     "metadata": {},
     "output_type": "execute_result"
    }
   ],
   "source": [
    "list(iterator_ejemplo)"
   ]
  },
  {
   "cell_type": "code",
   "execution_count": 183,
   "id": "bc95e984-5578-4d75-a23f-96854e800a38",
   "metadata": {},
   "outputs": [],
   "source": [
    "iterator_ejemplo = iter(lista_ejemplo)"
   ]
  },
  {
   "cell_type": "code",
   "execution_count": 184,
   "id": "256006ed-c761-41bc-96fe-deac9e00df21",
   "metadata": {},
   "outputs": [
    {
     "name": "stdout",
     "output_type": "stream",
     "text": [
      "1\n",
      "2\n",
      "3\n",
      "4\n",
      "5\n",
      "6\n",
      "7\n",
      "8\n"
     ]
    }
   ],
   "source": [
    "for elemento in iterator_ejemplo:\n",
    "    print(elemento)"
   ]
  },
  {
   "cell_type": "code",
   "execution_count": 185,
   "id": "96ad67e5-14dc-4fa6-a822-38e3ffc60b1b",
   "metadata": {},
   "outputs": [
    {
     "data": {
      "text/plain": [
       "[]"
      ]
     },
     "execution_count": 185,
     "metadata": {},
     "output_type": "execute_result"
    }
   ],
   "source": [
    "list(iterator_ejemplo)"
   ]
  },
  {
   "cell_type": "code",
   "execution_count": 186,
   "id": "a25973c2-5342-4869-ac08-42f4d439006a",
   "metadata": {},
   "outputs": [],
   "source": [
    "for elemento in iterator_ejemplo:\n",
    "    print(elemento)"
   ]
  },
  {
   "cell_type": "code",
   "execution_count": 187,
   "id": "2bc88fd9-705e-4db6-bf76-0c2ed4ca72a5",
   "metadata": {},
   "outputs": [],
   "source": [
    "f = open('archivo2.txt')"
   ]
  },
  {
   "cell_type": "code",
   "execution_count": 191,
   "id": "190ffa0b-0ea9-4184-a758-0ef595016749",
   "metadata": {},
   "outputs": [],
   "source": [
    "f.close()"
   ]
  },
  {
   "cell_type": "markdown",
   "id": "bb014fe4-8882-4b99-a536-9d5e7c69c20c",
   "metadata": {},
   "source": [
    "#### Generators\n",
    "Son un caso particular de los iterators"
   ]
  },
  {
   "cell_type": "markdown",
   "id": "1c8b8e54-458c-4a8e-88e2-9fac7503ec38",
   "metadata": {},
   "source": [
    "Estos objetos su contenido se va construyendo mientras los voy\n",
    "consumiendo"
   ]
  },
  {
   "cell_type": "code",
   "execution_count": 203,
   "id": "badc2537-cc94-4020-858a-f6a9e22f3ca0",
   "metadata": {},
   "outputs": [],
   "source": [
    "# Una funcion que usa yield en lugar de return es un tipo de generator\n",
    "def funcion_muchos_numeros(n):\n",
    "    for i in range(n):\n",
    "        return i"
   ]
  },
  {
   "cell_type": "code",
   "execution_count": 204,
   "id": "cd6883bd-3be4-48c1-bdf0-ae8ab2040797",
   "metadata": {},
   "outputs": [],
   "source": [
    "resultado = funcion_muchos_numeros(5)"
   ]
  },
  {
   "cell_type": "code",
   "execution_count": 205,
   "id": "c24cc31f-175a-4a63-a76c-a7053e379805",
   "metadata": {},
   "outputs": [
    {
     "name": "stdout",
     "output_type": "stream",
     "text": [
      "0\n"
     ]
    }
   ],
   "source": [
    "print(resultado)"
   ]
  },
  {
   "cell_type": "code",
   "execution_count": 206,
   "id": "73983e24-3238-4d76-8110-4c01bed64090",
   "metadata": {},
   "outputs": [],
   "source": [
    "def generator_muchos_numeros(n):\n",
    "    for i in range(n):\n",
    "        yield i"
   ]
  },
  {
   "cell_type": "code",
   "execution_count": 207,
   "id": "d0b739ea-1200-492a-a786-4838c3219ea2",
   "metadata": {},
   "outputs": [],
   "source": [
    "resultado = generator_muchos_numeros(5)"
   ]
  },
  {
   "cell_type": "code",
   "execution_count": 208,
   "id": "4fc462be-e030-46f3-b049-30d19d8813b5",
   "metadata": {},
   "outputs": [
    {
     "name": "stdout",
     "output_type": "stream",
     "text": [
      "<generator object generator_muchos_numeros at 0x0000020D93696730>\n"
     ]
    }
   ],
   "source": [
    "print(resultado)"
   ]
  },
  {
   "cell_type": "code",
   "execution_count": 214,
   "id": "125caa7e-6fbb-4cbe-a9d0-85d31b223af0",
   "metadata": {},
   "outputs": [
    {
     "ename": "StopIteration",
     "evalue": "",
     "output_type": "error",
     "traceback": [
      "\u001b[1;31m---------------------------------------------------------------------------\u001b[0m",
      "\u001b[1;31mStopIteration\u001b[0m                             Traceback (most recent call last)",
      "Cell \u001b[1;32mIn [214], line 1\u001b[0m\n\u001b[1;32m----> 1\u001b[0m \u001b[38;5;28mnext\u001b[39m(resultado)\n",
      "\u001b[1;31mStopIteration\u001b[0m: "
     ]
    }
   ],
   "source": [
    "next(resultado)"
   ]
  },
  {
   "cell_type": "code",
   "execution_count": 215,
   "id": "0d04e30e-2580-4cb7-aedb-26da3a4eec4e",
   "metadata": {},
   "outputs": [],
   "source": [
    "def generator_muchos_numeros():\n",
    "    i = 0\n",
    "    while True:\n",
    "        yield i\n",
    "        i += 1"
   ]
  },
  {
   "cell_type": "code",
   "execution_count": 216,
   "id": "865aad1d-493c-43af-a1b8-8a691e857f0b",
   "metadata": {},
   "outputs": [],
   "source": [
    "generador_infinito = generator_muchos_numeros()"
   ]
  },
  {
   "cell_type": "code",
   "execution_count": 294,
   "id": "26eb684d-1df1-4a76-8d2f-67303970fe1c",
   "metadata": {},
   "outputs": [
    {
     "data": {
      "text/plain": [
       "77"
      ]
     },
     "execution_count": 294,
     "metadata": {},
     "output_type": "execute_result"
    }
   ],
   "source": [
    "next(generador_infinito)"
   ]
  },
  {
   "cell_type": "code",
   "execution_count": 297,
   "id": "8a7f7e6a-bf40-4fb8-8a6e-f840c8fda815",
   "metadata": {},
   "outputs": [
    {
     "name": "stdout",
     "output_type": "stream",
     "text": [
      "[0, 1, 2, 3, 4, 5, 6, 7, 8, 9, 10, 11, 12, 13, 14, 15, 16, 17, 18, 19, 20, 21, 22, 23, 24, 25, 26, 27, 28, 29, 30, 31]\n"
     ]
    }
   ],
   "source": [
    "print([i for i in range(32)])"
   ]
  },
  {
   "cell_type": "code",
   "execution_count": 306,
   "id": "3fd258fe-fada-44e2-9e2e-2d56a2e004cd",
   "metadata": {},
   "outputs": [],
   "source": [
    "generator_numbers = (i for i in range(32))"
   ]
  },
  {
   "cell_type": "code",
   "execution_count": null,
   "id": "59873e5e-6b7b-439e-90af-13b2b4a71e95",
   "metadata": {},
   "outputs": [],
   "source": [
    "def generar_esto(archivo):\n",
    "    while True:\n",
    "        linea = next(archivo)\n",
    "        pintar_grafico(linea)\n",
    "        \n",
    "    try:\n",
    "        linea = next(archivo)\n",
    "        pintar_grafico(linea)\n",
    "        generar_esto(archivo)\n",
    "    except:\n",
    "        return\n",
    "        \n",
    "        \n",
    "    for linea in archivo:\n",
    "        pintar_grafico(linea)"
   ]
  },
  {
   "cell_type": "code",
   "execution_count": 316,
   "id": "9f54e93e-5756-49c0-9296-4797081aeb1a",
   "metadata": {},
   "outputs": [
    {
     "name": "stdout",
     "output_type": "stream",
     "text": [
      "CPU times: total: 10.8 s\n",
      "Wall time: 11.6 s\n"
     ]
    }
   ],
   "source": [
    "%%time\n",
    "lista = [i for i in range(200_000_000)]"
   ]
  },
  {
   "cell_type": "code",
   "execution_count": 317,
   "id": "8a8019b1-405b-46c3-857d-3c112615f4d8",
   "metadata": {},
   "outputs": [
    {
     "name": "stdout",
     "output_type": "stream",
     "text": [
      "CPU times: total: 0 ns\n",
      "Wall time: 0 ns\n"
     ]
    }
   ],
   "source": [
    "%%time\n",
    "generador = (i for i in range(200_000_000))"
   ]
  },
  {
   "cell_type": "markdown",
   "id": "bc99ee8e-2693-4641-9ea8-dd38fe0e77c6",
   "metadata": {},
   "source": [
    "#### Ayuda lab"
   ]
  },
  {
   "cell_type": "code",
   "execution_count": 62,
   "id": "74f8fd8c-67f9-4a61-9e26-e685750af76c",
   "metadata": {},
   "outputs": [],
   "source": [
    "import pandas as pd"
   ]
  },
  {
   "cell_type": "code",
   "execution_count": 64,
   "id": "65ca6257-b1e6-4e87-a5b6-81eba4e5acdb",
   "metadata": {},
   "outputs": [],
   "source": [
    "rutas = ['archivo2.txt', 'data/prueba_lectura.txt', '../archivo3.txt']"
   ]
  },
  {
   "cell_type": "code",
   "execution_count": 65,
   "id": "13d2b4c2-485b-49b7-9834-815efd177087",
   "metadata": {},
   "outputs": [
    {
     "data": {
      "text/html": [
       "<div>\n",
       "<style scoped>\n",
       "    .dataframe tbody tr th:only-of-type {\n",
       "        vertical-align: middle;\n",
       "    }\n",
       "\n",
       "    .dataframe tbody tr th {\n",
       "        vertical-align: top;\n",
       "    }\n",
       "\n",
       "    .dataframe thead th {\n",
       "        text-align: right;\n",
       "    }\n",
       "</style>\n",
       "<table border=\"1\" class=\"dataframe\">\n",
       "  <thead>\n",
       "    <tr style=\"text-align: right;\">\n",
       "      <th></th>\n",
       "      <th>columna1</th>\n",
       "      <th>columna2</th>\n",
       "      <th>columna3</th>\n",
       "      <th>columna4</th>\n",
       "    </tr>\n",
       "  </thead>\n",
       "  <tbody>\n",
       "    <tr>\n",
       "      <th>0</th>\n",
       "      <td>algo</td>\n",
       "      <td>otracosa</td>\n",
       "      <td>otrocoso</td>\n",
       "      <td>jaja</td>\n",
       "    </tr>\n",
       "    <tr>\n",
       "      <th>0</th>\n",
       "      <td>fdaf</td>\n",
       "      <td>fdasf</td>\n",
       "      <td>fdafdsa</td>\n",
       "      <td>adf</td>\n",
       "    </tr>\n",
       "    <tr>\n",
       "      <th>0</th>\n",
       "      <td>fdaf</td>\n",
       "      <td>fdasf</td>\n",
       "      <td>fdafdsa</td>\n",
       "      <td>adf</td>\n",
       "    </tr>\n",
       "  </tbody>\n",
       "</table>\n",
       "</div>"
      ],
      "text/plain": [
       "  columna1   columna2   columna3 columna4\n",
       "0     algo   otracosa   otrocoso     jaja\n",
       "0     fdaf      fdasf    fdafdsa      adf\n",
       "0     fdaf      fdasf    fdafdsa      adf"
      ]
     },
     "execution_count": 65,
     "metadata": {},
     "output_type": "execute_result"
    }
   ],
   "source": [
    "dfs = [pd.read_csv(ruta) for ruta in rutas]\n",
    "pd.concat(dfs)"
   ]
  }
 ],
 "metadata": {
  "kernelspec": {
   "display_name": "Python 3 (ipykernel)",
   "language": "python",
   "name": "python3"
  },
  "language_info": {
   "codemirror_mode": {
    "name": "ipython",
    "version": 3
   },
   "file_extension": ".py",
   "mimetype": "text/x-python",
   "name": "python",
   "nbconvert_exporter": "python",
   "pygments_lexer": "ipython3",
   "version": "3.10.7"
  }
 },
 "nbformat": 4,
 "nbformat_minor": 5
}
