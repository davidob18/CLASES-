{
 "cells": [
  {
   "cell_type": "code",
   "execution_count": 150,
   "id": "30294510-3514-4d92-8856-05bea1d1c506",
   "metadata": {},
   "outputs": [],
   "source": [
    "import requests\n",
    "import pandas as pd\n",
    "from bs4 import BeautifulSoup"
   ]
  },
  {
   "cell_type": "code",
   "execution_count": 4,
   "id": "889aee6c-54c2-4854-ae42-1dc856c2fd95",
   "metadata": {},
   "outputs": [],
   "source": [
    "response = requests.get('https://es.wikipedia.org/wiki/Feminismo')"
   ]
  },
  {
   "cell_type": "code",
   "execution_count": 5,
   "id": "972ef2a1-85c1-428f-a671-c7d52de6645e",
   "metadata": {},
   "outputs": [
    {
     "data": {
      "text/plain": [
       "<Response [200]>"
      ]
     },
     "execution_count": 5,
     "metadata": {},
     "output_type": "execute_result"
    }
   ],
   "source": [
    "response"
   ]
  },
  {
   "cell_type": "code",
   "execution_count": 6,
   "id": "26ba2c40-6391-40c2-b4d8-06f67e1b0814",
   "metadata": {},
   "outputs": [
    {
     "data": {
      "text/plain": [
       "200"
      ]
     },
     "execution_count": 6,
     "metadata": {},
     "output_type": "execute_result"
    }
   ],
   "source": [
    "response.status_code"
   ]
  },
  {
   "cell_type": "code",
   "execution_count": 8,
   "id": "7f6f8700-53ba-44eb-b0b8-fc9537110fa6",
   "metadata": {},
   "outputs": [
    {
     "data": {
      "text/plain": [
       "bytes"
      ]
     },
     "execution_count": 8,
     "metadata": {},
     "output_type": "execute_result"
    }
   ],
   "source": [
    "type(response.content)"
   ]
  },
  {
   "cell_type": "code",
   "execution_count": 9,
   "id": "600f5ade-fa9e-4c72-90c2-c8e3e47bb78c",
   "metadata": {},
   "outputs": [],
   "source": [
    "# la sopa ahora si va a ser como un html\n",
    "soup = BeautifulSoup(response.content)"
   ]
  },
  {
   "cell_type": "code",
   "execution_count": 11,
   "id": "3b2ca1a9-270b-4070-87d9-37e69a0e1093",
   "metadata": {},
   "outputs": [
    {
     "data": {
      "text/plain": [
       "b'<!DOCTYPE html>\\n<html class=\"client-nojs\" lang=\"es\" dir=\"ltr\">\\n<head>\\n<meta charset=\"UTF-8\"/>\\n<title>Feminismo - Wikipedia, la enciclopedia libre</title>\\n<script>document.documentElement.className=\"client-js\";RLCONF={\"wgBreakFrames\":false,\"wgSeparatorTransformTable\":[\",\\\\t.\",\"\\xc2\\xa0\\\\t,\"],\"wgDigitTransformTable\":[\"\",\"\"],\"wgDefaultDateFormat\":\"dmy\",\"wgMonthNames\":[\"\",\"enero\",\"febrero\",\"marzo\",\"abril\",\"mayo\",\"junio\",\"julio\",\"agosto\",\"septiembre\",\"octubre\",\"noviembre\",\"diciembre\"],\"wgRequestId\":\"1eb0f251-e5f5-4f7e-8a59-b1943fff8013\",\"wgCSPNonce\":false,\"wgCanonicalNamespace\":\"\",\"wgCanonicalSpecialPageName\":false,\"wgNamespaceNumber\":0,\"wgPageName\":\"Feminismo\",\"wgTitle\":\"Feminismo\",\"wgCurRevisionId\":146835319,\"wgRevisionId\":146835319,\"wgArticleId\":16192,\"wgIsArticle\":true,\"wgIsRedirect\":false,\"wgAction\":\"view\",\"wgUserName\":null,\"wgUserGroups\":[\"*\"],\"wgCategories\":[\"Wikipedia:Art\\xc3\\xadculos con enlaces externos rotos\",\"Wikipedia:P\\xc3\\xa1ginas con enlaces m\\xc3\\xa1gicos de ISBN\",\"Wikipedia:Art\\xc3\\xadculos con pasajes q'"
      ]
     },
     "execution_count": 11,
     "metadata": {},
     "output_type": "execute_result"
    }
   ],
   "source": [
    "response.content[:1000]"
   ]
  },
  {
   "cell_type": "code",
   "execution_count": 15,
   "id": "92ab03a9-d0bc-4138-8c74-ee9127b53362",
   "metadata": {},
   "outputs": [
    {
     "name": "stdout",
     "output_type": "stream",
     "text": [
      "<!DOCTYPE html>\n",
      "<html class=\"client-nojs\" dir=\"ltr\" lang=\"es\">\n",
      " <head>\n",
      "  <meta charset=\"utf-8\"/>\n",
      "  <title>\n",
      "   Feminismo - Wikipedia, la enciclopedia libre\n",
      "  </title>\n",
      "  <script>\n",
      "   document.documentElement.className=\"client-js\";RLCONF={\"wgBreakFrames\":false,\"wgSeparatorTransformTable\":[\",\\t.\",\" \\t,\"],\"wgDigitTransformTable\":[\"\",\"\"],\"wgDefaultDateFormat\":\"dmy\",\"wgMonthNames\":[\"\",\"enero\",\"febrero\",\"marzo\",\"abril\",\"mayo\",\"junio\",\"julio\",\"agosto\",\"septiembre\",\"octubre\",\"noviembre\",\"diciembre\"],\"wgRequestId\":\"1eb0f251-e5f5-4f7e-8a59-b1943fff8013\",\"wgCSPNonce\":false,\"wgCanonicalNamespace\":\"\",\"wgCanonicalSpecialPageName\":false,\"wgNamespaceNumber\":0,\"wgPageName\":\"Feminismo\",\"wgTitle\":\"Feminismo\",\"wgCurRevisionId\":146835319,\"wgRevisionId\":146835319,\"wgArticleId\":16192,\"wgIsArticle\":true,\"wgIsRedirect\":false,\"wgAction\":\"view\",\"wgUserName\":null,\"wgUserGroups\":[\"*\"],\"wgCategories\":[\"Wikipedia:Artículos con enlaces externos rotos\",\"Wikipedia:Páginas con enlaces mágicos de ISBN\",\"Wikipedia:Artículos \n"
     ]
    }
   ],
   "source": [
    "print(soup.prettify()[:1000])"
   ]
  },
  {
   "cell_type": "code",
   "execution_count": 33,
   "id": "25495206-3e52-48d6-b693-308c958ee413",
   "metadata": {},
   "outputs": [],
   "source": [
    "headers = {'user-agent': 'Mozilla/5.0 (Windows NT 10.0; Win64; x64) AppleWebKit/537.36 (KHTML, like Gecko) Chrome/107.0.0.0 Safari/537.36'}"
   ]
  },
  {
   "cell_type": "code",
   "execution_count": 34,
   "id": "8069cd90-13ae-4bcb-930c-f9ce1a851b3e",
   "metadata": {},
   "outputs": [],
   "source": [
    "response = requests.get('https://www.walmart.com.mx', headers = headers)"
   ]
  },
  {
   "cell_type": "code",
   "execution_count": 35,
   "id": "63916953-c5a4-4d9f-a136-2dfd3a874227",
   "metadata": {},
   "outputs": [
    {
     "data": {
      "text/plain": [
       "<Response [200]>"
      ]
     },
     "execution_count": 35,
     "metadata": {},
     "output_type": "execute_result"
    }
   ],
   "source": [
    "response"
   ]
  },
  {
   "cell_type": "code",
   "execution_count": 36,
   "id": "702245dc-4a04-4e82-be3d-4d7e0c0905ab",
   "metadata": {},
   "outputs": [],
   "source": [
    "soup_walmart = BeautifulSoup(response.content)"
   ]
  },
  {
   "cell_type": "code",
   "execution_count": 39,
   "id": "9f19499c-5ae8-4a6b-8111-2b6c1e24f08c",
   "metadata": {},
   "outputs": [],
   "source": [
    "link = 'https://res.cloudinary.com/walmart-labs/image/upload/dpr_auto,f_auto,q_auto:best/i5ns/dfw/4ff9c6c9-b9dc/k2-_84b5a57f-025c-4d0c-85fa-0845fe02b768.v1.png'"
   ]
  },
  {
   "cell_type": "code",
   "execution_count": 40,
   "id": "6de492ef-3eed-4f5a-b1ee-6f1068193e8a",
   "metadata": {},
   "outputs": [
    {
     "data": {
      "text/plain": [
       "False"
      ]
     },
     "execution_count": 40,
     "metadata": {},
     "output_type": "execute_result"
    }
   ],
   "source": [
    "link in soup_walmart.prettify()"
   ]
  },
  {
   "cell_type": "code",
   "execution_count": 38,
   "id": "3e5bb670-8a96-48ce-9b1f-cf554dbee768",
   "metadata": {},
   "outputs": [
    {
     "name": "stdout",
     "output_type": "stream",
     "text": [
      "<!DOCTYPE html>\n",
      "<html lang=\"en\">\n",
      " <head>\n",
      "  <meta charset=\"utf-8\"/>\n",
      "  <meta content=\"IE=edge\" http-equiv=\"x-ua-compatible\"/>\n",
      "  <meta content=\"width=device-width,initial-scale=1,maximum-scale=1,user-scalable=no,shrink-to-fit=no\" name=\"viewport\"/>\n",
      "  <meta content=\"#000000\" name=\"theme-color\"/>\n",
      "  <link href=\"manifest.json\" rel=\"manifest\"/>\n",
      "  <link href=\"//i5.walmartimages.com\" rel=\"dns-prefetch\"/>\n",
      "  <script>\n",
      "   !function(e,a,o,t,n){a.getElementsByTagName(o)[0];var d=a.createElement(o),i=-1!==(e&&e.location&&e.location.hostname||\"\").indexOf(\"bodega\")?\"GTM-5BD4WTC\":\"GTM-TQ57QQP\";d.async=!0,d.src=\"https://www.googleoptimize.com/optimize.js?id=\"+i,d.onerror=\"dataLayer.hide.end && dataLayer.hide.end()\",a.head.appendChild(d)}(window,document,\"script\")\n",
      "  </script>\n",
      "  <script>\n",
      "   !function(e,t,a,n,o,g){e[n]=e[n]||[],e[n].push({\"gtm.start\":(new Date).getTime(),event:\"gtm.js\"});var m=t.getElementsByTagName(a)[0],s=t.createElement(a),r=-1!==(e&&e.location&&e.location.hostname||\"\").indexOf(\"bodega\")?\"GTM-TSJS2GW\":\"GTM-D8LF\";s.async=!0,s.src=\"https://www.googletagmanager.com/gtm.js?id=\"+r,m.parentNode.insertBefore(s,m)}(window,document,\"script\",\"dataLayer\")\n",
      "  </script>\n",
      "  <title>\n",
      "  </title>\n",
      "  <script>\n",
      "   !function(e,o){var a=-1!==(e&&e.location&&e.location.hostname||\"\").indexOf(\"bodega\"),n=o.createElement(\"link\");o.title=a?\"Bodega\":\"Walmart\",n.rel=\"shortcut icon\",n.href=a?\"/bodegafavicon.ico\":\"/favicon.ico\",o.getElementsByTagName(\"head\")[0].appendChild(n)}(window,document)\n",
      "  </script>\n",
      "  <link href=\"static/css/18.b20af8a0.chunk.css\" rel=\"stylesheet\"/>\n",
      "  <link href=\"static/css/main.fa9426ee.chunk.css\" rel=\"stylesheet\"/>\n",
      " </head>\n",
      " <body>\n",
      "  <noscript>\n",
      "   You need to enable JavaScript to run this app.\n",
      "  </noscript>\n",
      "  <div id=\"root\">\n",
      "  </div>\n",
      "  <script>\n",
      "   !function(e,t){var n=-1!==(e&&e.location&&e.location.hostname||\"\").indexOf(\"bodega\"),o=document.createElement(\"IMG\"),a=document.createElement(\"IMG\"),d=document.createElement(\"div\"),i=document.createElement(\"div\");o.src=n?\"/Bodega-Aurrera-en-linea.png\":\"/walmart-logo.png\",o.alt=\"brand image\",o.style=\"max-width: 130px;\",d.style=n?\"background-color: #3fad49; padding: 10px 20px; position: relative;\":\"background-color: #017ADB; padding: 10px 20px; position: relative;\",d.appendChild(o),i.style=\"position: fixed;top: 0;left: 0;width: 100%;height: 100%;background: rgba(255, 255, 255, 0.5);z-index: 100000;\",a.src=n?\"/bodega-spinner.gif\":\"/spinner.webm\",a.style=\"position: absolute;top: 50%;right: 50%;transform: translate(50%, -50%);width:60px;\",i.appendChild(a),t.getElementById(\"root\").appendChild(d),t.getElementById(\"root\").appendChild(i)}(window,document)\n",
      "  </script>\n",
      "  <script>\n",
      "   !function(d){function e(e){for(var t,r,n=e[0],a=e[1],c=e[2],o=0,f=[];o<n.length;o++)r=n[o],s[r]&&f.push(s[r][0]),s[r]=0;for(t in a)Object.prototype.hasOwnProperty.call(a,t)&&(d[t]=a[t]);for(p&&p(e);f.length;)f.shift()();return i.push.apply(i,c||[]),u()}function u(){for(var e,t=0;t<i.length;t++){for(var r=i[t],n=!0,a=1;a<r.length;a++){var c=r[a];0!==s[c]&&(n=!1)}n&&(i.splice(t--,1),e=b(b.s=r[0]))}return e}var r={},l={17:0},s={17:0},i=[];function b(e){if(r[e])return r[e].exports;var t=r[e]={i:e,l:!1,exports:{}};return d[e].call(t.exports,t,t.exports,b),t.l=!0,t.exports}b.e=function(i){var e=[];l[i]?e.push(l[i]):0!==l[i]&&{1:1,2:1,3:1,4:1,5:1,6:1,7:1,8:1,9:1,10:1,11:1,19:1,21:1,22:1,23:1,24:1,25:1,26:1,27:1,28:1,29:1,30:1,31:1,32:1,33:1,35:1,36:1,37:1,38:1}[i]&&e.push(l[i]=new Promise(function(e,n){for(var t=\"static/css/\"+({}[i]||i)+\".\"+{0:\"31d6cfe0\",1:\"e4b64e99\",2:\"be47dfde\",3:\"30408714\",4:\"f8797d48\",5:\"eb2c9bc4\",6:\"9bcf9828\",7:\"20e46828\",8:\"7a60670f\",9:\"193533ad\",10:\"4087d2ab\",11:\"5e8bad3a\",12:\"31d6cfe0\",13:\"31d6cfe0\",14:\"31d6cfe0\",15:\"31d6cfe0\",19:\"28f035fe\",20:\"31d6cfe0\",21:\"d0fc2f44\",22:\"cb54eeca\",23:\"2d687507\",24:\"564f33e2\",25:\"99e1e813\",26:\"e78be119\",27:\"08c7adb5\",28:\"ae776e95\",29:\"51531edb\",30:\"c6d6bf39\",31:\"453d5a6a\",32:\"99bad59b\",33:\"f0c4064e\",34:\"31d6cfe0\",35:\"f0d91c8d\",36:\"6c3115a4\",37:\"d0946808\",38:\"28c7bf1f\",39:\"31d6cfe0\",40:\"31d6cfe0\",41:\"31d6cfe0\"}[i]+\".chunk.css\",a=b.p+t,r=document.getElementsByTagName(\"link\"),c=0;c<r.length;c++){var o=(d=r[c]).getAttribute(\"data-href\")||d.getAttribute(\"href\");if(\"stylesheet\"===d.rel&&(o===t||o===a))return e()}var f=document.getElementsByTagName(\"style\");for(c=0;c<f.length;c++){var d;if((o=(d=f[c]).getAttribute(\"data-href\"))===t||o===a)return e()}var u=document.createElement(\"link\");u.rel=\"stylesheet\",u.type=\"text/css\",u.onload=e,u.onerror=function(e){var t=e&&e.target&&e.target.src||a,r=new Error(\"Loading CSS chunk \"+i+\" failed.\\n(\"+t+\")\");r.request=t,delete l[i],u.parentNode.removeChild(u),n(r)},u.href=a,document.getElementsByTagName(\"head\")[0].appendChild(u)}).then(function(){l[i]=0}));var r=s[i];if(0!==r)if(r)e.push(r[2]);else{var t=new Promise(function(e,t){r=s[i]=[e,t]});e.push(r[2]=t);var n,c=document.createElement(\"script\");c.charset=\"utf-8\",c.timeout=120,b.nc&&c.setAttribute(\"nonce\",b.nc),c.src=b.p+\"static/js/\"+({}[i]||i)+\".\"+{0:\"0155da2b\",1:\"11533591\",2:\"24ebd0ab\",3:\"574eb1c0\",4:\"3411bea9\",5:\"e1981cb2\",6:\"61ec88af\",7:\"1ca270a4\",8:\"9203f0fe\",9:\"9be5176b\",10:\"c1d76d46\",11:\"bab7d526\",12:\"f1567253\",13:\"fcfb413e\",14:\"5c3ed99f\",15:\"b63384ea\",19:\"04dedfad\",20:\"979023f2\",21:\"d1fc7717\",22:\"83e747b7\",23:\"a71fb520\",24:\"29988893\",25:\"a5fcd9f2\",26:\"e443b739\",27:\"ca5c2edb\",28:\"0297fa8f\",29:\"afbe88cb\",30:\"8ce7d7d3\",31:\"678eef71\",32:\"23c1b4dd\",33:\"7d17aaaa\",34:\"30be5fd1\",35:\"47deea2f\",36:\"d3007535\",37:\"40969925\",38:\"a5f52459\",39:\"583eb54e\",40:\"25ec572c\",41:\"98d42125\"}[i]+\".chunk.js\",n=function(e){c.onerror=c.onload=null,clearTimeout(o);var t=s[i];if(0!==t){if(t){var r=e&&(\"load\"===e.type?\"missing\":e.type),n=e&&e.target&&e.target.src,a=new Error(\"Loading chunk \"+i+\" failed.\\n(\"+r+\": \"+n+\")\");a.type=r,a.request=n,t[1](a)}s[i]=void 0}};var o=setTimeout(function(){n({type:\"timeout\",target:c})},12e4);c.onerror=c.onload=n,document.head.appendChild(c)}return Promise.all(e)},b.m=d,b.c=r,b.d=function(e,t,r){b.o(e,t)||Object.defineProperty(e,t,{enumerable:!0,get:r})},b.r=function(e){\"undefined\"!=typeof Symbol&&Symbol.toStringTag&&Object.defineProperty(e,Symbol.toStringTag,{value:\"Module\"}),Object.defineProperty(e,\"__esModule\",{value:!0})},b.t=function(t,e){if(1&e&&(t=b(t)),8&e)return t;if(4&e&&\"object\"==typeof t&&t&&t.__esModule)return t;var r=Object.create(null);if(b.r(r),Object.defineProperty(r,\"default\",{enumerable:!0,value:t}),2&e&&\"string\"!=typeof t)for(var n in t)b.d(r,n,function(e){return t[e]}.bind(null,n));return r},b.n=function(e){var t=e&&e.__esModule?function(){return e.default}:function(){return e};return b.d(t,\"a\",t),t},b.o=function(e,t){return Object.prototype.hasOwnProperty.call(e,t)},b.p=\"/\",b.oe=function(e){throw console.error(e),e};var t=window.webpackJsonp=window.webpackJsonp||[],n=t.push.bind(t);t.push=e,t=t.slice();for(var a=0;a<t.length;a++)e(t[a]);var p=n;u()}([])\n",
      "  </script>\n",
      "  <script src=\"static/js/18.790bbcaa.chunk.js\">\n",
      "  </script>\n",
      "  <script src=\"static/js/main.2c0c070e.chunk.js\">\n",
      "  </script>\n",
      " </body>\n",
      "</html>\n"
     ]
    }
   ],
   "source": [
    "print(soup_walmart.prettify())"
   ]
  },
  {
   "cell_type": "code",
   "execution_count": 42,
   "id": "e8730d47-fc8e-49ca-96d0-18bc086851fd",
   "metadata": {},
   "outputs": [],
   "source": [
    "html_ejemplo = \"\"\"<!DOCTYPE html>\n",
    "<html>\n",
    "  <head>\n",
    "      <title>Title of the document</title>\n",
    "      <style>\n",
    "      .info_secreta {\n",
    "        border: 5px outset red;\n",
    "        background-color: lightblue;\n",
    "      }\n",
    "      .texto_centrado {\n",
    "        text-align: center;\n",
    "      }\n",
    "      </style>\n",
    "  </head>\n",
    "\n",
    "  <body>\n",
    "    <h1> Esto es un titulon </h1>\n",
    "    <a href = \"https://es.wikipedia.org/wiki/Feminismo\"> Esto es un link al feminismo en wikipedia </a>\n",
    "    <h3> Esto es un titulin </h3>\n",
    "    The content of the document......\n",
    "    <p> Esto es un parrafo dentro de mi pagina </p>\n",
    "    <ol>\n",
    "    \t<li> Primer elemento </li>\n",
    "        <li> Segundo elemento </li>\n",
    "        <li> Tercer elemento </li>\n",
    "    </ol>\n",
    "\n",
    "    \n",
    "    <table>\n",
    "    \t<tr><th>Nombre</th><th>Apellido</th><th>Edad</th></tr>\n",
    "        <tr><td>Zahid</td><td>Sanchez</td><td>25</td></tr>\n",
    "        <tr><td>Nay</td><td>Saldivar</td><td>26</td></tr>\n",
    "    </table>\n",
    "    <div class = \"info_secreta\">\n",
    "      <h2>Un titulo asi bien raro</h2>\n",
    "      <p>Un parrafo un poco menos raro.</p>\n",
    "    </div>\n",
    "    <div class = \"info_secreta texto_centrado\">\n",
    "      <ul>\n",
    "          <li> Primer elemento </li>\n",
    "          <li> Segundo elemento </li>\n",
    "          <li> Tercer elemento </li>\n",
    "      </ul>\n",
    "    </div>\n",
    "  </body>\n",
    "</html>\"\"\""
   ]
  },
  {
   "cell_type": "code",
   "execution_count": 44,
   "id": "de57fef7-e577-4b7c-80ed-72b3c0786651",
   "metadata": {},
   "outputs": [],
   "source": [
    "sopa_ejemplo = BeautifulSoup(html_ejemplo)"
   ]
  },
  {
   "cell_type": "code",
   "execution_count": 46,
   "id": "32ff3ac4-30bd-42b5-8153-4c4318bc8f2f",
   "metadata": {},
   "outputs": [
    {
     "data": {
      "text/plain": [
       "<title>Title of the document</title>"
      ]
     },
     "execution_count": 46,
     "metadata": {},
     "output_type": "execute_result"
    }
   ],
   "source": [
    "sopa_ejemplo.title"
   ]
  },
  {
   "cell_type": "code",
   "execution_count": 47,
   "id": "4e4431ea-6f6b-4672-8488-654a4b9e3256",
   "metadata": {},
   "outputs": [
    {
     "data": {
      "text/plain": [
       "<li> Primer elemento </li>"
      ]
     },
     "execution_count": 47,
     "metadata": {},
     "output_type": "execute_result"
    }
   ],
   "source": [
    "sopa_ejemplo.li"
   ]
  },
  {
   "cell_type": "code",
   "execution_count": 50,
   "id": "a5b46b1b-8032-4050-9bf1-f55acea364a4",
   "metadata": {},
   "outputs": [
    {
     "data": {
      "text/plain": [
       "<ul>\n",
       "<li> Primer elemento </li>\n",
       "<li> Segundo elemento </li>\n",
       "<li> Tercer elemento </li>\n",
       "</ul>"
      ]
     },
     "execution_count": 50,
     "metadata": {},
     "output_type": "execute_result"
    }
   ],
   "source": [
    "sopa_ejemplo.ul"
   ]
  },
  {
   "cell_type": "code",
   "execution_count": 57,
   "id": "f138174f-872f-4fbb-b8de-9ffe72b2fc39",
   "metadata": {},
   "outputs": [
    {
     "name": "stdout",
     "output_type": "stream",
     "text": [
      "<class 'bs4.element.Doctype'>\n",
      "html\n",
      "<class 'bs4.element.Tag'>\n",
      "<html>\n",
      "<head>\n",
      "<title>Title of the document</title>\n",
      "<style>\n",
      "      .info_secreta {\n",
      "        border: 5px outset red;\n",
      "        background-color: lightblue;\n",
      "      }\n",
      "      .texto_centrado {\n",
      "        text-align: center;\n",
      "      }\n",
      "      </style>\n",
      "</head>\n",
      "<body>\n",
      "<h1> Esto es un titulon </h1>\n",
      "<a href=\"https://es.wikipedia.org/wiki/Feminismo\"> Esto es un link al feminismo en wikipedia </a>\n",
      "<h3> Esto es un titulin </h3>\n",
      "    The content of the document......\n",
      "    <p> Esto es un parrafo dentro de mi pagina </p>\n",
      "<ol>\n",
      "<li> Primer elemento </li>\n",
      "<li> Segundo elemento </li>\n",
      "<li> Tercer elemento </li>\n",
      "</ol>\n",
      "<table>\n",
      "<tr><th>Nombre</th><th>Apellido</th><th>Edad</th></tr>\n",
      "<tr><td>Zahid</td><td>Sanchez</td><td>25</td></tr>\n",
      "<tr><td>Nay</td><td>Saldivar</td><td>26</td></tr>\n",
      "</table>\n",
      "<div class=\"info_secreta\">\n",
      "<h2>Un titulo asi bien raro</h2>\n",
      "<p>Un parrafo un poco menos raro.</p>\n",
      "</div>\n",
      "<div class=\"info_secreta texto_centrado\">\n",
      "<ul>\n",
      "<li> Primer elemento </li>\n",
      "<li> Segundo elemento </li>\n",
      "<li> Tercer elemento </li>\n",
      "</ul>\n",
      "</div>\n",
      "</body>\n",
      "</html>\n"
     ]
    }
   ],
   "source": [
    "for val in sopa_ejemplo:\n",
    "    print(type(val))\n",
    "    print(val)"
   ]
  },
  {
   "cell_type": "code",
   "execution_count": 58,
   "id": "c873da66-99ca-45c5-862d-0bb3286c4b2e",
   "metadata": {},
   "outputs": [
    {
     "data": {
      "text/plain": [
       "'[document]'"
      ]
     },
     "execution_count": 58,
     "metadata": {},
     "output_type": "execute_result"
    }
   ],
   "source": [
    "sopa_ejemplo.name"
   ]
  },
  {
   "cell_type": "code",
   "execution_count": 59,
   "id": "820270b2-69c3-4c92-b2c4-28fb189255b9",
   "metadata": {},
   "outputs": [
    {
     "data": {
      "text/plain": [
       "'ul'"
      ]
     },
     "execution_count": 59,
     "metadata": {},
     "output_type": "execute_result"
    }
   ],
   "source": [
    "sopa_ejemplo.ul.name"
   ]
  },
  {
   "cell_type": "code",
   "execution_count": 60,
   "id": "f0e82bad-c066-4b37-80c5-1cc79bdfbe9e",
   "metadata": {},
   "outputs": [
    {
     "data": {
      "text/plain": [
       "<ul>\n",
       "<li> Primer elemento </li>\n",
       "<li> Segundo elemento </li>\n",
       "<li> Tercer elemento </li>\n",
       "</ul>"
      ]
     },
     "execution_count": 60,
     "metadata": {},
     "output_type": "execute_result"
    }
   ],
   "source": [
    "sopa_ejemplo.ul"
   ]
  },
  {
   "cell_type": "code",
   "execution_count": 63,
   "id": "b06e4349-01b8-406c-bf6b-e786367e4bdd",
   "metadata": {},
   "outputs": [],
   "source": [
    "body_ejemplo = sopa_ejemplo.body"
   ]
  },
  {
   "cell_type": "code",
   "execution_count": 69,
   "id": "c1d851cd-2f8c-4c31-8fe1-7f6cf05afc77",
   "metadata": {},
   "outputs": [
    {
     "data": {
      "text/plain": [
       "<ol>\n",
       "<li> Primer elemento </li>\n",
       "<li> Segundo elemento </li>\n",
       "<li> Tercer elemento </li>\n",
       "</ol>"
      ]
     },
     "execution_count": 69,
     "metadata": {},
     "output_type": "execute_result"
    }
   ],
   "source": [
    "body_ejemplo.ol"
   ]
  },
  {
   "cell_type": "code",
   "execution_count": 70,
   "id": "301d7850-eb94-4e2a-b7b2-0b420abe13d0",
   "metadata": {},
   "outputs": [
    {
     "data": {
      "text/plain": [
       "'\\n Primer elemento \\n Segundo elemento \\n Tercer elemento \\n'"
      ]
     },
     "execution_count": 70,
     "metadata": {},
     "output_type": "execute_result"
    }
   ],
   "source": [
    "body_ejemplo.ol.text"
   ]
  },
  {
   "cell_type": "code",
   "execution_count": 71,
   "id": "be80109f-5716-40df-939f-0049721f6fab",
   "metadata": {},
   "outputs": [
    {
     "name": "stdout",
     "output_type": "stream",
     "text": [
      "\n",
      " Primer elemento \n",
      " Segundo elemento \n",
      " Tercer elemento \n",
      "\n"
     ]
    }
   ],
   "source": [
    "print(body_ejemplo.ol.text)"
   ]
  },
  {
   "cell_type": "code",
   "execution_count": 73,
   "id": "c041b35d-3b7c-4ce9-840b-96046ae94300",
   "metadata": {},
   "outputs": [],
   "source": [
    "body_ejemplo.ol.string"
   ]
  },
  {
   "cell_type": "code",
   "execution_count": 74,
   "id": "10040b6a-b4ce-43d3-9ed1-b6516cb4edd4",
   "metadata": {},
   "outputs": [
    {
     "name": "stdout",
     "output_type": "stream",
     "text": [
      "None\n"
     ]
    }
   ],
   "source": [
    "print(body_ejemplo.ol.string)"
   ]
  },
  {
   "cell_type": "code",
   "execution_count": 79,
   "id": "e0d5ee27-40c0-491a-9350-44a62154285c",
   "metadata": {},
   "outputs": [
    {
     "data": {
      "text/plain": [
       "<li> Primer elemento </li>"
      ]
     },
     "execution_count": 79,
     "metadata": {},
     "output_type": "execute_result"
    }
   ],
   "source": [
    "body_ejemplo.ol.li"
   ]
  },
  {
   "cell_type": "code",
   "execution_count": 77,
   "id": "39be57aa-5fa7-4564-8139-61bfedd70e48",
   "metadata": {},
   "outputs": [
    {
     "data": {
      "text/plain": [
       "' Primer elemento '"
      ]
     },
     "execution_count": 77,
     "metadata": {},
     "output_type": "execute_result"
    }
   ],
   "source": [
    "body_ejemplo.ol.li.text"
   ]
  },
  {
   "cell_type": "code",
   "execution_count": 78,
   "id": "aa0d4c2d-3f5a-485f-a77e-9ba7dfe1ed3b",
   "metadata": {},
   "outputs": [
    {
     "data": {
      "text/plain": [
       "' Primer elemento '"
      ]
     },
     "execution_count": 78,
     "metadata": {},
     "output_type": "execute_result"
    }
   ],
   "source": [
    "body_ejemplo.ol.li.string"
   ]
  },
  {
   "cell_type": "code",
   "execution_count": 88,
   "id": "fc15b4c3-a35a-453c-9b29-30a6b3dc8511",
   "metadata": {},
   "outputs": [],
   "source": [
    "lista_lis = sopa_ejemplo.find_all('li')"
   ]
  },
  {
   "cell_type": "code",
   "execution_count": 89,
   "id": "48b2a379-f32e-4c12-ad86-aa3cf8fae184",
   "metadata": {},
   "outputs": [
    {
     "data": {
      "text/plain": [
       "[<li> Primer elemento </li>,\n",
       " <li> Segundo elemento </li>,\n",
       " <li> Tercer elemento </li>,\n",
       " <li> Primer elemento </li>,\n",
       " <li> Segundo elemento </li>,\n",
       " <li> Tercer elemento </li>]"
      ]
     },
     "execution_count": 89,
     "metadata": {},
     "output_type": "execute_result"
    }
   ],
   "source": [
    "lista_lis"
   ]
  },
  {
   "cell_type": "code",
   "execution_count": 94,
   "id": "90b8e0c6-aa6a-42fe-8656-79a99bffea84",
   "metadata": {},
   "outputs": [
    {
     "data": {
      "text/plain": [
       "[<table>\n",
       " <tr><th>Nombre</th><th>Apellido</th><th>Edad</th></tr>\n",
       " <tr><td>Zahid</td><td>Sanchez</td><td>25</td></tr>\n",
       " <tr><td>Nay</td><td>Saldivar</td><td>26</td></tr>\n",
       " </table>]"
      ]
     },
     "execution_count": 94,
     "metadata": {},
     "output_type": "execute_result"
    }
   ],
   "source": [
    "sopa_ejemplo.find_all('table')"
   ]
  },
  {
   "cell_type": "code",
   "execution_count": 95,
   "id": "8a42b007-c637-46e8-82bc-5c8007bee4ca",
   "metadata": {},
   "outputs": [
    {
     "data": {
      "text/plain": [
       "[<table>\n",
       " <tr><th>Nombre</th><th>Apellido</th><th>Edad</th></tr>\n",
       " <tr><td>Zahid</td><td>Sanchez</td><td>25</td></tr>\n",
       " <tr><td>Nay</td><td>Saldivar</td><td>26</td></tr>\n",
       " </table>]"
      ]
     },
     "execution_count": 95,
     "metadata": {},
     "output_type": "execute_result"
    }
   ],
   "source": [
    "sopa_ejemplo.select('table')"
   ]
  },
  {
   "cell_type": "code",
   "execution_count": 97,
   "id": "96fab01e-088b-4b2d-8de6-bcd08d368ba8",
   "metadata": {},
   "outputs": [
    {
     "data": {
      "text/plain": [
       "<a href=\"https://es.wikipedia.org/wiki/Feminismo\"> Esto es un link al feminismo en wikipedia </a>"
      ]
     },
     "execution_count": 97,
     "metadata": {},
     "output_type": "execute_result"
    }
   ],
   "source": [
    "sopa_ejemplo.a"
   ]
  },
  {
   "cell_type": "code",
   "execution_count": 100,
   "id": "c2c2918a-d441-4f6a-a4c2-d7ccf8d2f0ba",
   "metadata": {},
   "outputs": [
    {
     "data": {
      "text/plain": [
       "'https://es.wikipedia.org/wiki/Feminismo'"
      ]
     },
     "execution_count": 100,
     "metadata": {},
     "output_type": "execute_result"
    }
   ],
   "source": [
    "sopa_ejemplo.a['href']"
   ]
  },
  {
   "cell_type": "code",
   "execution_count": 104,
   "id": "2a3f711a-382e-48f0-95e8-b5f700b91b1a",
   "metadata": {},
   "outputs": [
    {
     "data": {
      "text/plain": [
       "[<div class=\"info_secreta\">\n",
       " <h2>Un titulo asi bien raro</h2>\n",
       " <p>Un parrafo un poco menos raro.</p>\n",
       " </div>,\n",
       " <div class=\"info_secreta texto_centrado\">\n",
       " <ul>\n",
       " <li> Primer elemento </li>\n",
       " <li> Segundo elemento </li>\n",
       " <li> Tercer elemento </li>\n",
       " </ul>\n",
       " </div>]"
      ]
     },
     "execution_count": 104,
     "metadata": {},
     "output_type": "execute_result"
    }
   ],
   "source": [
    "sopa_ejemplo.find_all('div')"
   ]
  },
  {
   "cell_type": "code",
   "execution_count": 105,
   "id": "bb1ccab7-f5ee-4251-a0aa-812af219650e",
   "metadata": {},
   "outputs": [
    {
     "data": {
      "text/plain": [
       "[<div class=\"info_secreta texto_centrado\">\n",
       " <ul>\n",
       " <li> Primer elemento </li>\n",
       " <li> Segundo elemento </li>\n",
       " <li> Tercer elemento </li>\n",
       " </ul>\n",
       " </div>]"
      ]
     },
     "execution_count": 105,
     "metadata": {},
     "output_type": "execute_result"
    }
   ],
   "source": [
    "sopa_ejemplo.find_all('div', attrs = {'class':'texto_centrado'})"
   ]
  },
  {
   "cell_type": "code",
   "execution_count": 107,
   "id": "0251592e-21f6-4e8c-b0e6-51f53d982426",
   "metadata": {},
   "outputs": [
    {
     "data": {
      "text/plain": [
       "[<div class=\"info_secreta texto_centrado\">\n",
       " <ul>\n",
       " <li> Primer elemento </li>\n",
       " <li> Segundo elemento </li>\n",
       " <li> Tercer elemento </li>\n",
       " </ul>\n",
       " </div>]"
      ]
     },
     "execution_count": 107,
     "metadata": {},
     "output_type": "execute_result"
    }
   ],
   "source": [
    "sopa_ejemplo.find_all('div', class_ = 'texto_centrado')"
   ]
  },
  {
   "cell_type": "code",
   "execution_count": 106,
   "id": "37031273-ca9d-4e74-adf5-3d2073f44687",
   "metadata": {},
   "outputs": [
    {
     "data": {
      "text/plain": [
       "[<div class=\"info_secreta texto_centrado\">\n",
       " <ul>\n",
       " <li> Primer elemento </li>\n",
       " <li> Segundo elemento </li>\n",
       " <li> Tercer elemento </li>\n",
       " </ul>\n",
       " </div>]"
      ]
     },
     "execution_count": 106,
     "metadata": {},
     "output_type": "execute_result"
    }
   ],
   "source": [
    "sopa_ejemplo.select('div.texto_centrado')"
   ]
  },
  {
   "cell_type": "code",
   "execution_count": 115,
   "id": "d36626a6-1151-4226-8f8d-62666c4f2759",
   "metadata": {},
   "outputs": [
    {
     "data": {
      "text/plain": [
       "[<div class=\"info_secreta\">\n",
       " <h2>Un titulo asi bien raro</h2>\n",
       " <p>Un parrafo un poco menos raro.</p>\n",
       " </div>,\n",
       " <div class=\"info_secreta texto_centrado\">\n",
       " <ul>\n",
       " <li> Primer elemento </li>\n",
       " <li> Segundo elemento </li>\n",
       " <li> Tercer elemento </li>\n",
       " </ul>\n",
       " </div>]"
      ]
     },
     "execution_count": 115,
     "metadata": {},
     "output_type": "execute_result"
    }
   ],
   "source": [
    "sopa_ejemplo.select('div.info_secreta')"
   ]
  },
  {
   "cell_type": "code",
   "execution_count": 114,
   "id": "26ea02d3-4ab6-4e03-bbc1-6b322a4f4bc7",
   "metadata": {},
   "outputs": [
    {
     "data": {
      "text/plain": [
       "[<div class=\"info_secreta texto_centrado\">\n",
       " <ul>\n",
       " <li> Primer elemento </li>\n",
       " <li> Segundo elemento </li>\n",
       " <li> Tercer elemento </li>\n",
       " </ul>\n",
       " </div>]"
      ]
     },
     "execution_count": 114,
     "metadata": {},
     "output_type": "execute_result"
    }
   ],
   "source": [
    "sopa_ejemplo.select('div[class=\"info_secreta texto_centrado\"]')"
   ]
  },
  {
   "cell_type": "code",
   "execution_count": 109,
   "id": "c6676a1b-1ced-4aea-a960-17b26f4b3d9f",
   "metadata": {},
   "outputs": [
    {
     "data": {
      "text/plain": [
       "[<a href=\"https://es.wikipedia.org/wiki/Feminismo\"> Esto es un link al feminismo en wikipedia </a>]"
      ]
     },
     "execution_count": 109,
     "metadata": {},
     "output_type": "execute_result"
    }
   ],
   "source": [
    "sopa_ejemplo.find_all('a', attrs = {'href':'https://es.wikipedia.org/wiki/Feminismo'})"
   ]
  },
  {
   "cell_type": "code",
   "execution_count": 111,
   "id": "d77a4737-1ab2-4990-bf7e-a8c764da966f",
   "metadata": {},
   "outputs": [
    {
     "data": {
      "text/plain": [
       "[<a href=\"https://es.wikipedia.org/wiki/Feminismo\"> Esto es un link al feminismo en wikipedia </a>]"
      ]
     },
     "execution_count": 111,
     "metadata": {},
     "output_type": "execute_result"
    }
   ],
   "source": [
    "sopa_ejemplo.select('a[href=\"https://es.wikipedia.org/wiki/Feminismo\"]')"
   ]
  },
  {
   "cell_type": "markdown",
   "id": "4caaf2ea-3d54-4334-a866-b61f50adf3cf",
   "metadata": {},
   "source": [
    "#### Ejemplo utilizando pagina (https://developers.whatismybrowser.com/useragents/explore/software_name/chrome/)"
   ]
  },
  {
   "cell_type": "code",
   "execution_count": 168,
   "id": "79ae38b8-aaa6-45a8-8506-ebf30227dbed",
   "metadata": {},
   "outputs": [],
   "source": [
    "respuesta = requests.get('https://developers.whatismybrowser.com/useragents/explore/software_name/chrome/')"
   ]
  },
  {
   "cell_type": "code",
   "execution_count": 169,
   "id": "c3c18619-fc48-41c0-a267-64970eed87b2",
   "metadata": {},
   "outputs": [
    {
     "data": {
      "text/plain": [
       "200"
      ]
     },
     "execution_count": 169,
     "metadata": {},
     "output_type": "execute_result"
    }
   ],
   "source": [
    "respuesta.status_code"
   ]
  },
  {
   "cell_type": "code",
   "execution_count": 170,
   "id": "efbe71a0-7c2e-4799-93c1-e369bc8393cc",
   "metadata": {},
   "outputs": [],
   "source": [
    "sopa_users = BeautifulSoup(respuesta.content)"
   ]
  },
  {
   "cell_type": "code",
   "execution_count": 171,
   "id": "02f14bdc-8cf0-4cd8-8823-979648bd416d",
   "metadata": {},
   "outputs": [],
   "source": [
    "tabla_users = sopa_users.select('table.listing-of-useragents')[0]"
   ]
  },
  {
   "cell_type": "code",
   "execution_count": 172,
   "id": "638ddb2c-d80f-401a-a028-effd8fc00e53",
   "metadata": {},
   "outputs": [],
   "source": [
    "lista_user_agents = tabla_users.select('a[href]')"
   ]
  },
  {
   "cell_type": "code",
   "execution_count": 173,
   "id": "1ed6eded-b70c-40a9-95e2-75a2cc97981a",
   "metadata": {},
   "outputs": [
    {
     "data": {
      "text/plain": [
       "[<a class=\"code\" href=\"/useragents/parse/2899915-chrome-windows-blink\">Mozilla/5.0 (Windows NT 10.0; Win64; x64) AppleWebKit/537.36 (KHTML, like Gecko) Chrome/74.0.3729.169 Safari/537.36</a>,\n",
       " <a class=\"code\" href=\"/useragents/parse/1252728-chrome-windows-blink\">Mozilla/5.0 (Windows NT 10.0; WOW64) AppleWebKit/537.36 (KHTML, like Gecko) Chrome/72.0.3626.121 Safari/537.36</a>,\n",
       " <a class=\"code\" href=\"/useragents/parse/2441403-chrome-windows-blink\">Mozilla/5.0 (Windows NT 10.0; Win64; x64) AppleWebKit/537.36 (KHTML, like Gecko) Chrome/74.0.3729.157 Safari/537.36</a>,\n",
       " <a class=\"code\" href=\"/useragents/parse/667490-chrome-windows-blink\">Mozilla/5.0 (Windows NT 10.0; Win64; x64) AppleWebKit/537.36 (KHTML, like Gecko) Chrome/60.0.3112.113 Safari/537.36</a>,\n",
       " <a class=\"code\" href=\"/useragents/parse/636-chrome-linux-blink\">Mozilla/5.0 (X11; Linux x86_64) AppleWebKit/537.36 (KHTML, like Gecko) Chrome/44.0.2403.157 Safari/537.36</a>]"
      ]
     },
     "execution_count": 173,
     "metadata": {},
     "output_type": "execute_result"
    }
   ],
   "source": [
    "lista_user_agents[:5]"
   ]
  },
  {
   "cell_type": "code",
   "execution_count": 174,
   "id": "91c57654-4d9a-4876-a8ae-50db9a62452a",
   "metadata": {},
   "outputs": [
    {
     "data": {
      "text/plain": [
       "<a class=\"code\" href=\"/useragents/parse/1252990-chrome-windows-blink\">Mozilla/5.0 (Windows NT 10.0) AppleWebKit/537.36 (KHTML, like Gecko) Chrome/72.0.3626.121 Safari/537.36</a>"
      ]
     },
     "execution_count": 174,
     "metadata": {},
     "output_type": "execute_result"
    }
   ],
   "source": [
    "lista_user_agents[6]"
   ]
  },
  {
   "cell_type": "code",
   "execution_count": 175,
   "id": "13128cbe-9f20-4884-85e7-d8ccd264fcf5",
   "metadata": {},
   "outputs": [
    {
     "data": {
      "text/plain": [
       "'Mozilla/5.0 (Windows NT 10.0) AppleWebKit/537.36 (KHTML, like Gecko) Chrome/72.0.3626.121 Safari/537.36'"
      ]
     },
     "execution_count": 175,
     "metadata": {},
     "output_type": "execute_result"
    }
   ],
   "source": [
    "lista_user_agents[6].text"
   ]
  },
  {
   "cell_type": "code",
   "execution_count": 176,
   "id": "5059a16d-5d93-46d6-988a-157a288d4198",
   "metadata": {},
   "outputs": [],
   "source": [
    "textos_user_agents = [tag.text for tag in lista_user_agents]"
   ]
  },
  {
   "cell_type": "code",
   "execution_count": 177,
   "id": "72e32c44-909a-43ed-b815-d343bf375cec",
   "metadata": {},
   "outputs": [
    {
     "data": {
      "text/plain": [
       "['Mozilla/5.0 (Windows NT 10.0; Win64; x64) AppleWebKit/537.36 (KHTML, like Gecko) Chrome/74.0.3729.169 Safari/537.36',\n",
       " 'Mozilla/5.0 (Windows NT 10.0; WOW64) AppleWebKit/537.36 (KHTML, like Gecko) Chrome/72.0.3626.121 Safari/537.36',\n",
       " 'Mozilla/5.0 (Windows NT 10.0; Win64; x64) AppleWebKit/537.36 (KHTML, like Gecko) Chrome/74.0.3729.157 Safari/537.36',\n",
       " 'Mozilla/5.0 (Windows NT 10.0; Win64; x64) AppleWebKit/537.36 (KHTML, like Gecko) Chrome/60.0.3112.113 Safari/537.36',\n",
       " 'Mozilla/5.0 (X11; Linux x86_64) AppleWebKit/537.36 (KHTML, like Gecko) Chrome/44.0.2403.157 Safari/537.36']"
      ]
     },
     "execution_count": 177,
     "metadata": {},
     "output_type": "execute_result"
    }
   ],
   "source": [
    "textos_user_agents[:5]"
   ]
  },
  {
   "cell_type": "code",
   "execution_count": 178,
   "id": "de012ee0-de64-4368-a252-38978285f9dd",
   "metadata": {},
   "outputs": [
    {
     "data": {
      "text/plain": [
       "['Mozilla/5.0 (Windows NT 10.0; Win64; x64) AppleWebKit/537.36 (KHTML, like Gecko) Chrome/74.0.3729.169 Safari/537.36',\n",
       " 'Mozilla/5.0 (Windows NT 10.0; WOW64) AppleWebKit/537.36 (KHTML, like Gecko) Chrome/72.0.3626.121 Safari/537.36',\n",
       " 'Mozilla/5.0 (Windows NT 10.0; Win64; x64) AppleWebKit/537.36 (KHTML, like Gecko) Chrome/74.0.3729.157 Safari/537.36',\n",
       " 'Mozilla/5.0 (Windows NT 10.0; Win64; x64) AppleWebKit/537.36 (KHTML, like Gecko) Chrome/60.0.3112.113 Safari/537.36',\n",
       " 'Mozilla/5.0 (X11; Linux x86_64) AppleWebKit/537.36 (KHTML, like Gecko) Chrome/44.0.2403.157 Safari/537.36',\n",
       " 'Mozilla/5.0 (Windows NT 6.1; Win64; x64) AppleWebKit/537.36 (KHTML, like Gecko) Chrome/60.0.3112.90 Safari/537.36',\n",
       " 'Mozilla/5.0 (Windows NT 10.0) AppleWebKit/537.36 (KHTML, like Gecko) Chrome/72.0.3626.121 Safari/537.36',\n",
       " 'Mozilla/5.0 (Windows NT 6.1; Win64; x64) AppleWebKit/537.36 (KHTML, like Gecko) Chrome/74.0.3729.169 Safari/537.36',\n",
       " 'Mozilla/5.0 (Windows NT 5.1) AppleWebKit/537.36 (KHTML, like Gecko) Chrome/46.0.2490.71 Safari/537.36',\n",
       " 'Mozilla/5.0 (Windows NT 6.1; WOW64) AppleWebKit/537.1 (KHTML, like Gecko) Chrome/21.0.1180.83 Safari/537.1',\n",
       " 'Mozilla/5.0 (Windows NT 10.0; Win64; x64) AppleWebKit/537.36 (KHTML, like Gecko) Chrome/69.0.3497.100 Safari/537.36',\n",
       " 'Mozilla/5.0 (Windows NT 10.0; Win64; x64) AppleWebKit/537.36 (KHTML, like Gecko) Chrome/63.0.3239.132 Safari/537.36',\n",
       " 'Mozilla/5.0 (Windows NT 5.1; Win64; x64) AppleWebKit/537.36 (KHTML, like Gecko) Chrome/60.0.3112.90 Safari/537.36',\n",
       " 'Mozilla/5.0 (Windows NT 6.2; Win64; x64) AppleWebKit/537.36 (KHTML, like Gecko) Chrome/60.0.3112.90 Safari/537.36',\n",
       " 'Mozilla/5.0 (Windows NT 6.3; Win64; x64) AppleWebKit/537.36 (KHTML, like Gecko) Chrome/60.0.3112.113 Safari/537.36',\n",
       " 'Mozilla/5.0 (Windows NT 10.0; Win64; x64) AppleWebKit/537.36 (KHTML, like Gecko) Chrome/67.0.3396.99 Safari/537.36',\n",
       " 'Mozilla/5.0 (Windows NT 10.0; Win64; x64) AppleWebKit/537.36 (KHTML, like Gecko) Chrome/74.0.3729.131 Safari/537.36',\n",
       " 'Mozilla/5.0 (Windows NT 10.0; Win64; x64) AppleWebKit/537.36 (KHTML, like Gecko) Chrome/68.0.3440.106 Safari/537.36',\n",
       " 'Mozilla/5.0 (Windows NT 10.0; Win64; x64) AppleWebKit/537.36 (KHTML, like Gecko) Chrome/72.0.3626.121 Safari/537.36',\n",
       " 'Mozilla/5.0 (X11; Linux x86_64) AppleWebKit/537.36 (KHTML, like Gecko) Chrome/72.0.3626.121 Safari/537.36',\n",
       " 'Mozilla/5.0 (Windows NT 10.0; Win64; x64) AppleWebKit/537.36 (KHTML, like Gecko) Chrome/70.0.3538.102 Safari/537.36',\n",
       " 'Mozilla/5.0 (Windows NT 10.0; Win64; x64) AppleWebKit/537.36 (KHTML, like Gecko) Chrome/65.0.3325.181 Safari/537.36',\n",
       " 'Mozilla/5.0 (Windows NT 6.1; Win64; x64) AppleWebKit/537.36 (KHTML, like Gecko) Chrome/69.0.3497.100 Safari/537.36',\n",
       " 'Mozilla/5.0 (Windows NT 6.1) AppleWebKit/537.36 (KHTML, like Gecko) Chrome/56.0.2924.76 Safari/537.36',\n",
       " 'Mozilla/5.0 (Windows NT 10.0; Win64; x64) AppleWebKit/537.36 (KHTML, like Gecko) Chrome/57.0.2987.133 Safari/537.36',\n",
       " 'Mozilla/5.0 (Windows NT 10.0; Win64; x64) AppleWebKit/537.36 (KHTML, like Gecko) Chrome/64.0.3282.186 Safari/537.36',\n",
       " 'Mozilla/5.0 (Windows NT 6.1; Win64; x64) AppleWebKit/537.36 (KHTML, like Gecko) Chrome/63.0.3239.132 Safari/537.36',\n",
       " 'Mozilla/5.0 (Windows NT 10.0; Win64; x64) AppleWebKit/537.36 (KHTML, like Gecko) Chrome/61.0.3163.100 Safari/537.36',\n",
       " 'Mozilla/5.0 (Windows NT 10.0; Win64; x64) AppleWebKit/537.36 (KHTML, like Gecko) Chrome/70.0.3538.77 Safari/537.36',\n",
       " 'Mozilla/5.0 (Windows NT 10.0; Win64; x64) AppleWebKit/537.36 (KHTML, like Gecko) Chrome/58.0.3029.110 Safari/537.36',\n",
       " 'Mozilla/5.0 (Windows NT 10.0; Win64; x64) AppleWebKit/537.36 (KHTML, like Gecko) Chrome/70.0.3538.110 Safari/537.36',\n",
       " 'Mozilla/5.0 (Windows NT 6.1; Win64; x64) AppleWebKit/537.36 (KHTML, like Gecko) Chrome/67.0.3396.99 Safari/537.36',\n",
       " 'Mozilla/5.0 (Windows NT 5.1) AppleWebKit/537.36 (KHTML, like Gecko) Chrome/49.0.2623.112 Safari/537.36',\n",
       " 'Mozilla/5.0 (Windows NT 10.0; Win64; x64) AppleWebKit/537.36 (KHTML, like Gecko) Chrome/75.0.3770.100 Safari/537.36',\n",
       " 'Mozilla/5.0 (Windows NT 6.1; WOW64) AppleWebKit/537.36 (KHTML, like Gecko) Chrome/36.0.1985.143 Safari/537.36',\n",
       " 'Mozilla/5.0 (Windows NT 10.0; Win64; x64) AppleWebKit/537.36 (KHTML, like Gecko) Chrome/75.0.3770.142 Safari/537.36',\n",
       " 'Mozilla/5.0 (Windows NT 10.0; Win64; x64) AppleWebKit/537.36 (KHTML, like Gecko) Chrome/59.0.3071.115 Safari/537.36',\n",
       " 'Mozilla/5.0 (Windows NT 10.0; Win64; x64) AppleWebKit/537.36 (KHTML, like Gecko) Chrome/60.0.3112.113 Safari/537.36 (+https://whatis.contentkingapp.com)',\n",
       " 'Mozilla/5.0 (Windows NT 10.0; Win64; x64) AppleWebKit/537.36 (KHTML, like Gecko) Chrome/63.0.3239.84 Safari/537.36',\n",
       " 'Mozilla/5.0 (Windows NT 10.0; Win64; x64) AppleWebKit/537.36 (KHTML, like Gecko) Chrome/66.0.3359.181 Safari/537.36',\n",
       " 'Mozilla/5.0 (Windows NT 6.1) AppleWebKit/537.36 (KHTML, like Gecko) Chrome/41.0.2228.0 Safari/537.36',\n",
       " 'Mozilla/5.0 (Windows NT 6.1; Win64; x64) AppleWebKit/537.36 (KHTML, like Gecko) Chrome/65.0.3325.181 Safari/537.36',\n",
       " 'Mozilla/5.0 (Macintosh; Intel Mac OS X 10_15_7) AppleWebKit/537.36 (KHTML, like Gecko) Chrome/105.0.0.0 Safari/537.36',\n",
       " 'Mozilla/5.0 (Windows NT 6.2; WOW64) AppleWebKit/537.36 (KHTML, like Gecko) Chrome/42.0.2311.90 Safari/537.36',\n",
       " 'Mozilla/5.0 (Windows NT 6.1; Win64; x64) AppleWebKit/537.36 (KHTML, like Gecko) Chrome/74.0.3729.157 Safari/537.36',\n",
       " 'Mozilla/5.0 (Windows NT 10.0; Win64; x64) AppleWebKit/537.36 (KHTML, like Gecko) Chrome/60.0.3112.90 Safari/537.36',\n",
       " 'Mozilla/5.0 (Windows NT 6.1; Win64; x64) AppleWebKit/537.36 (KHTML, like Gecko) Chrome/68.0.3440.106 Safari/537.36',\n",
       " 'Mozilla/5.0 (Macintosh; Intel Mac OS X 10_15_7) AppleWebKit/537.36 (KHTML, like Gecko) Chrome/103.0.0.0 Safari/537.36',\n",
       " 'Mozilla/5.0 (Windows NT 10.0; Win64; x64) AppleWebKit/537.36 (KHTML, like Gecko) Chrome/77.0.3865.120 Safari/537.36',\n",
       " 'Mozilla/5.0 (Windows NT 10.0; Win64; x64) AppleWebKit/537.36 (KHTML, like Gecko) Chrome/76.0.3809.132 Safari/537.36']"
      ]
     },
     "execution_count": 178,
     "metadata": {},
     "output_type": "execute_result"
    }
   ],
   "source": [
    "[tag.text for tag in sopa_users.select('a.code')]"
   ]
  },
  {
   "cell_type": "code",
   "execution_count": 180,
   "id": "d506d9cc-6a71-4bc5-87c1-23fd4adbbbb2",
   "metadata": {},
   "outputs": [
    {
     "data": {
      "text/plain": [
       "'Mozilla/5.0 (Windows NT 10.0; Win64; x64) AppleWebKit/537.36 (KHTML, like Gecko) Chrome/60.0.3112.113 Safari/537.36'"
      ]
     },
     "execution_count": 180,
     "metadata": {},
     "output_type": "execute_result"
    }
   ],
   "source": [
    "textos_user_agents[3]"
   ]
  },
  {
   "cell_type": "code",
   "execution_count": 182,
   "id": "561b945e-be69-4849-a4d1-8828942f15d5",
   "metadata": {},
   "outputs": [],
   "source": [
    "with open('user_agents.txt', 'w') as f:\n",
    "    f.writelines('\\n'.join(textos_user_agents))"
   ]
  },
  {
   "cell_type": "code",
   "execution_count": 297,
   "id": "8d42bdcc-c32b-4d95-a364-317c4d726314",
   "metadata": {},
   "outputs": [],
   "source": [
    "def regresar_user_agents(path = 'user_agents.txt'):\n",
    "    with open(path, 'r') as f:\n",
    "        user_agents = f.readlines()\n",
    "    return user_agents"
   ]
  },
  {
   "cell_type": "code",
   "execution_count": 298,
   "id": "afd722ba-3d0f-4e18-bc0d-a82fbc4d51a1",
   "metadata": {},
   "outputs": [],
   "source": [
    "import random"
   ]
  },
  {
   "cell_type": "code",
   "execution_count": 318,
   "id": "18f1f2d5-6e46-4aa3-bcde-946b8b989dce",
   "metadata": {},
   "outputs": [],
   "source": [
    "def select_user_agent(agents_list):\n",
    "    return {'user_agent' : random.choice(agents_list).strip('\\n')}"
   ]
  },
  {
   "cell_type": "code",
   "execution_count": 319,
   "id": "e18c660a-a47b-4fb2-b3ee-7d70d6ff7a23",
   "metadata": {},
   "outputs": [],
   "source": [
    "agents = regresar_user_agents()"
   ]
  },
  {
   "cell_type": "code",
   "execution_count": 320,
   "id": "105e539b-3345-4e9a-8b73-665aec6bc397",
   "metadata": {},
   "outputs": [],
   "source": [
    "headers = select_user_agent(agents)"
   ]
  },
  {
   "cell_type": "code",
   "execution_count": 321,
   "id": "b1237f5c-0a95-4fee-814a-85902da9efb4",
   "metadata": {},
   "outputs": [
    {
     "data": {
      "text/plain": [
       "{'user_agent': 'Mozilla/5.0 (Windows NT 10.0; Win64; x64) AppleWebKit/537.36 (KHTML, like Gecko) Chrome/77.0.3865.120 Safari/537.36'}"
      ]
     },
     "execution_count": 321,
     "metadata": {},
     "output_type": "execute_result"
    }
   ],
   "source": [
    "headers"
   ]
  },
  {
   "cell_type": "code",
   "execution_count": 314,
   "id": "e40a4412-e84e-4104-8bb7-fb7ac5e4cf21",
   "metadata": {},
   "outputs": [],
   "source": [
    "url = 'https://github.com/trending/developers'"
   ]
  },
  {
   "cell_type": "code",
   "execution_count": 322,
   "id": "d7769f77-8da5-4ced-b0d5-b1e39ae287ce",
   "metadata": {},
   "outputs": [],
   "source": [
    "response = requests.get(url, headers = select_user_agent(agents))"
   ]
  },
  {
   "cell_type": "code",
   "execution_count": 323,
   "id": "b51edc5d-e78e-4e11-af79-c27e5ab43321",
   "metadata": {},
   "outputs": [
    {
     "data": {
      "text/plain": [
       "<Response [200]>"
      ]
     },
     "execution_count": 323,
     "metadata": {},
     "output_type": "execute_result"
    }
   ],
   "source": [
    "response"
   ]
  },
  {
   "cell_type": "code",
   "execution_count": 324,
   "id": "3386db8a-ae0a-4f4f-afef-e0b28e336b36",
   "metadata": {},
   "outputs": [],
   "source": [
    "sopa_git = BeautifulSoup(response.content)"
   ]
  },
  {
   "cell_type": "code",
   "execution_count": 340,
   "id": "ee634072-d2d5-4237-8279-14f6fd70b57d",
   "metadata": {},
   "outputs": [],
   "source": [
    "bloques = sopa_git.select('article.Box-row.d-flex')"
   ]
  },
  {
   "cell_type": "code",
   "execution_count": 342,
   "id": "e091d6d5-aded-4b88-b37b-ddc18f171fae",
   "metadata": {},
   "outputs": [
    {
     "data": {
      "text/plain": [
       "25"
      ]
     },
     "execution_count": 342,
     "metadata": {},
     "output_type": "execute_result"
    }
   ],
   "source": [
    "len(bloques)"
   ]
  },
  {
   "cell_type": "code",
   "execution_count": 357,
   "id": "2af6a1ce-6f56-470f-b670-bc6c6cec523e",
   "metadata": {},
   "outputs": [
    {
     "data": {
      "text/plain": [
       "<div class=\"col-md-6\">\n",
       "<h1 class=\"h3 lh-condensed\">\n",
       "<a data-hydro-click='{\"event_type\":\"explore.click\",\"payload\":{\"click_context\":\"TRENDING_DEVELOPERS_PAGE\",\"click_target\":\"OWNER\",\"click_visual_representation\":\"TRENDING_DEVELOPER\",\"actor_id\":null,\"record_id\":4660275,\"originating_url\":\"https://github.com/trending/developers\",\"user_id\":null}}' data-hydro-click-hmac=\"71515a6198349161f1388602de97ec09f127095bae7bf3100180bb143d589b7d\" data-view-component=\"true\" href=\"/sobolevn\">\n",
       "            Nikita Sobolev\n",
       "</a> </h1>\n",
       "<p class=\"f4 text-normal mb-1\">\n",
       "<a class=\"Link--secondary\" data-hydro-click='{\"event_type\":\"explore.click\",\"payload\":{\"click_context\":\"TRENDING_DEVELOPERS_PAGE\",\"click_target\":\"OWNER\",\"click_visual_representation\":\"TRENDING_DEVELOPER\",\"actor_id\":null,\"record_id\":4660275,\"originating_url\":\"https://github.com/trending/developers\",\"user_id\":null}}' data-hydro-click-hmac=\"71515a6198349161f1388602de97ec09f127095bae7bf3100180bb143d589b7d\" data-view-component=\"true\" href=\"/sobolevn\">\n",
       "              sobolevn\n",
       "</a> </p>\n",
       "</div>"
      ]
     },
     "execution_count": 357,
     "metadata": {},
     "output_type": "execute_result"
    }
   ],
   "source": [
    "bloques[0].select('div.col-md-6:first-of-type')[0]"
   ]
  },
  {
   "cell_type": "code",
   "execution_count": 379,
   "id": "946d7335-90ba-4b21-9577-ca95928b3cbb",
   "metadata": {},
   "outputs": [],
   "source": [
    "usuarios = [bloque.select('div.col-md-6:first-of-type')[0] for bloque in bloques]"
   ]
  },
  {
   "cell_type": "code",
   "execution_count": 359,
   "id": "d557211b-d68c-42b1-919a-f6cfbde47be7",
   "metadata": {},
   "outputs": [
    {
     "data": {
      "text/plain": [
       "[<div class=\"col-md-6\">\n",
       " <h1 class=\"h3 lh-condensed\">\n",
       " <a data-hydro-click='{\"event_type\":\"explore.click\",\"payload\":{\"click_context\":\"TRENDING_DEVELOPERS_PAGE\",\"click_target\":\"OWNER\",\"click_visual_representation\":\"TRENDING_DEVELOPER\",\"actor_id\":null,\"record_id\":4660275,\"originating_url\":\"https://github.com/trending/developers\",\"user_id\":null}}' data-hydro-click-hmac=\"71515a6198349161f1388602de97ec09f127095bae7bf3100180bb143d589b7d\" data-view-component=\"true\" href=\"/sobolevn\">\n",
       "             Nikita Sobolev\n",
       " </a> </h1>\n",
       " <p class=\"f4 text-normal mb-1\">\n",
       " <a class=\"Link--secondary\" data-hydro-click='{\"event_type\":\"explore.click\",\"payload\":{\"click_context\":\"TRENDING_DEVELOPERS_PAGE\",\"click_target\":\"OWNER\",\"click_visual_representation\":\"TRENDING_DEVELOPER\",\"actor_id\":null,\"record_id\":4660275,\"originating_url\":\"https://github.com/trending/developers\",\"user_id\":null}}' data-hydro-click-hmac=\"71515a6198349161f1388602de97ec09f127095bae7bf3100180bb143d589b7d\" data-view-component=\"true\" href=\"/sobolevn\">\n",
       "               sobolevn\n",
       " </a> </p>\n",
       " </div>,\n",
       " <div class=\"col-md-6\">\n",
       " <h1 class=\"h3 lh-condensed\">\n",
       " <a data-hydro-click='{\"event_type\":\"explore.click\",\"payload\":{\"click_context\":\"TRENDING_DEVELOPERS_PAGE\",\"click_target\":\"OWNER\",\"click_visual_representation\":\"TRENDING_DEVELOPER\",\"actor_id\":null,\"record_id\":1148717,\"originating_url\":\"https://github.com/trending/developers\",\"user_id\":null}}' data-hydro-click-hmac=\"e63714fba102c81161256026f733701b107c533357596fd3a9b8b0ccdb58acba\" data-view-component=\"true\" href=\"/emilk\">\n",
       "             Emil Ernerfeldt\n",
       " </a> </h1>\n",
       " <p class=\"f4 text-normal mb-1\">\n",
       " <a class=\"Link--secondary\" data-hydro-click='{\"event_type\":\"explore.click\",\"payload\":{\"click_context\":\"TRENDING_DEVELOPERS_PAGE\",\"click_target\":\"OWNER\",\"click_visual_representation\":\"TRENDING_DEVELOPER\",\"actor_id\":null,\"record_id\":1148717,\"originating_url\":\"https://github.com/trending/developers\",\"user_id\":null}}' data-hydro-click-hmac=\"e63714fba102c81161256026f733701b107c533357596fd3a9b8b0ccdb58acba\" data-view-component=\"true\" href=\"/emilk\">\n",
       "               emilk\n",
       " </a> </p>\n",
       " </div>]"
      ]
     },
     "execution_count": 359,
     "metadata": {},
     "output_type": "execute_result"
    }
   ],
   "source": [
    "usuarios[:2]"
   ]
  },
  {
   "cell_type": "code",
   "execution_count": 368,
   "id": "00949451-432c-4d82-8442-8791ec834d76",
   "metadata": {},
   "outputs": [
    {
     "data": {
      "text/plain": [
       "'Nikita Sobolev'"
      ]
     },
     "execution_count": 368,
     "metadata": {},
     "output_type": "execute_result"
    }
   ],
   "source": [
    "usuarios[0].select('h1 a')[0].text.strip(' \\n')"
   ]
  },
  {
   "cell_type": "code",
   "execution_count": 369,
   "id": "6bd3af30-3049-412c-afac-6ce2a3e8edd2",
   "metadata": {},
   "outputs": [],
   "source": [
    "nombres = [usuario.select('h1 a')[0].text.strip(' \\n') for usuario in usuarios]"
   ]
  },
  {
   "cell_type": "code",
   "execution_count": 372,
   "id": "e5721f19-9489-4860-ab36-0a8beedace96",
   "metadata": {},
   "outputs": [
    {
     "data": {
      "text/plain": [
       "'sobolevn'"
      ]
     },
     "execution_count": 372,
     "metadata": {},
     "output_type": "execute_result"
    }
   ],
   "source": [
    "usuarios[0].select('p a')[0].text.strip(' \\n')"
   ]
  },
  {
   "cell_type": "code",
   "execution_count": 380,
   "id": "f472d5e4-19b0-4351-8fab-4af7d0a5c0ca",
   "metadata": {},
   "outputs": [],
   "source": [
    "user_names = []\n",
    "for usuario in usuarios:\n",
    "    try:\n",
    "        user_names.append(usuario.select('p a')[0].text.strip(' \\n'))\n",
    "    except:\n",
    "        user_names.append(usuario.select('h1 a')[0].text.strip(' \\n'))"
   ]
  },
  {
   "cell_type": "code",
   "execution_count": 385,
   "id": "5944f4d2-60e1-4a12-b1b8-ddd56d6cb9ea",
   "metadata": {},
   "outputs": [],
   "source": [
    "respuesta = [f'{user} ({name})' if user != name else user for name, user in zip(nombres, user_names)]"
   ]
  },
  {
   "cell_type": "code",
   "execution_count": 387,
   "id": "5e04b841-c9bc-4e95-9902-f8da18c352a9",
   "metadata": {},
   "outputs": [
    {
     "data": {
      "text/plain": [
       "['sobolevn (Nikita Sobolev)',\n",
       " 'emilk (Emil Ernerfeldt)',\n",
       " 'jonataslaw (Jonny Borges)',\n",
       " 'stephencelis (Stephen Celis)',\n",
       " 'monkeyWie',\n",
       " 'azure-sdk (Azure SDK Bot)',\n",
       " 'martinbonnin (Martin Bonnin)',\n",
       " 'fffonion (Wangchong Zhou)',\n",
       " 'ammarahm-ed (Ammar Ahmed)',\n",
       " 'mjbvz (Matt Bierner)']"
      ]
     },
     "execution_count": 387,
     "metadata": {},
     "output_type": "execute_result"
    }
   ],
   "source": [
    "respuesta[:10]"
   ]
  },
  {
   "cell_type": "code",
   "execution_count": 388,
   "id": "bae966cb-845a-4e88-969f-ea960c72df5b",
   "metadata": {},
   "outputs": [
    {
     "data": {
      "text/plain": [
       "['\\n\\n\\n            Nikita Sobolev\\n \\n\\n\\n              sobolevn\\n \\n',\n",
       " '\\n\\n\\n            Emil Ernerfeldt\\n \\n\\n\\n              emilk\\n \\n',\n",
       " '\\n\\n\\n            Jonny Borges\\n \\n\\n\\n              jonataslaw\\n \\n',\n",
       " '\\n\\n\\n            Stephen Celis\\n \\n\\n\\n              stephencelis\\n \\n',\n",
       " '\\n\\n\\n            monkeyWie\\n \\n',\n",
       " '\\n\\n\\n            Azure SDK Bot\\n \\n\\n\\n              azure-sdk\\n \\n',\n",
       " '\\n\\n\\n            Martin Bonnin\\n \\n\\n\\n              martinbonnin\\n \\n',\n",
       " '\\n\\n\\n            Wangchong Zhou\\n \\n\\n\\n              fffonion\\n \\n',\n",
       " '\\n\\n\\n            Ammar Ahmed\\n \\n\\n\\n              ammarahm-ed\\n \\n',\n",
       " '\\n\\n\\n            Matt Bierner\\n \\n\\n\\n              mjbvz\\n \\n']"
      ]
     },
     "execution_count": 388,
     "metadata": {},
     "output_type": "execute_result"
    }
   ],
   "source": [
    "[user.text for user in usuarios][:10]"
   ]
  },
  {
   "cell_type": "code",
   "execution_count": 389,
   "id": "08b0bf72-2e18-4aa0-b30a-c5a688200f81",
   "metadata": {},
   "outputs": [],
   "source": [
    "url = 'https://www.nike.com/mx/w/rebajas-3yaep'"
   ]
  },
  {
   "cell_type": "code",
   "execution_count": 390,
   "id": "a6f58888-54c5-4ac1-be92-e38d4045399c",
   "metadata": {},
   "outputs": [],
   "source": [
    "response = requests.get(url)"
   ]
  },
  {
   "cell_type": "code",
   "execution_count": 391,
   "id": "ed285126-d54d-426d-9689-66e20355b72c",
   "metadata": {},
   "outputs": [],
   "source": [
    "sopa = BeautifulSoup(response.content)"
   ]
  },
  {
   "cell_type": "code",
   "execution_count": 397,
   "id": "5bdaa3da-b5fc-4819-ad3a-993b8b08672e",
   "metadata": {},
   "outputs": [],
   "source": [
    "bloques = sopa.select('a[aria-label=\"Nike Air Force 1 \\'07 LV8\"]')"
   ]
  },
  {
   "cell_type": "code",
   "execution_count": 399,
   "id": "6ae16f5a-4839-4d6b-852a-beece7395d87",
   "metadata": {},
   "outputs": [
    {
     "data": {
      "text/plain": [
       "[<a aria-label=\"Nike Air Force 1 '07 LV8\" class=\"product-card__img-link-overlay\" data-el-type=\"Hero\" data-testid=\"product-card__img-link-overlay\" href=\"https://www.nike.com/mx/t/calzado-air-force-1-07-lv8-7j2wDJ/DM0118-100\"><div class=\"wall-image-loader css-1la3v4n\" data-testid=\"wall-image-loader\"><img alt=\"Nike Air Force 1 '07 LV8 Calzado para hombre\" class=\"product-card__hero-image css-1fxh5tw\" loading=\"lazy\" sizes=\"\" src=\"data:image/gif;base64,R0lGODlhAQABAIAAAAAAAP///yH5BAEAAAAALAAAAAABAAEAAAIBRAA7\" srcset=\"\"/><noscript><img alt=\"Nike Air Force 1 '07 LV8 Calzado para hombre\" class=\"product-card__hero-image css-1fxh5tw\" height=\"400\" loading=\"lazy\" width=\"400\"/></noscript></div></a>]"
      ]
     },
     "execution_count": 399,
     "metadata": {},
     "output_type": "execute_result"
    }
   ],
   "source": [
    "bloques"
   ]
  },
  {
   "cell_type": "code",
   "execution_count": 404,
   "id": "15a05d51-dd79-4497-8a77-91eaa30a41ba",
   "metadata": {},
   "outputs": [],
   "source": [
    "bloques_imagenes = sopa.select('a.product-card__img-link-overlay')"
   ]
  },
  {
   "cell_type": "code",
   "execution_count": 421,
   "id": "43ded67a-66b0-4bef-b664-39e2886b9c2f",
   "metadata": {},
   "outputs": [
    {
     "data": {
      "text/plain": [
       "<img alt=\"Nike Air Force 1 '07 LV8 Calzado para hombre\" class=\"product-card__hero-image css-1fxh5tw\" loading=\"lazy\" sizes=\"\" src=\"data:image/gif;base64,R0lGODlhAQABAIAAAAAAAP///yH5BAEAAAAALAAAAAABAAEAAAIBRAA7\" srcset=\"\"/>"
      ]
     },
     "execution_count": 421,
     "metadata": {},
     "output_type": "execute_result"
    }
   ],
   "source": [
    "bloques_imagenes[0].select('img')[0]"
   ]
  },
  {
   "cell_type": "code",
   "execution_count": 423,
   "id": "45aebdc0-6cbc-4c2d-bae2-84e83611ce93",
   "metadata": {},
   "outputs": [
    {
     "data": {
      "text/plain": [
       "'data:image/gif;base64,R0lGODlhAQABAIAAAAAAAP///yH5BAEAAAAALAAAAAABAAEAAAIBRAA7'"
      ]
     },
     "execution_count": 423,
     "metadata": {},
     "output_type": "execute_result"
    }
   ],
   "source": [
    "bloques_imagenes[0].select('img')[0]['src']"
   ]
  },
  {
   "cell_type": "code",
   "execution_count": 427,
   "id": "3127f214-3576-4405-babc-480e5e17d9aa",
   "metadata": {},
   "outputs": [
    {
     "data": {
      "text/plain": [
       "'data:image/gif;base64,R0lGODlhAQABAIAAAAAAAP///yH5BAEAAAAALAAAAAABAAEAAAIBRAA7'"
      ]
     },
     "execution_count": 427,
     "metadata": {},
     "output_type": "execute_result"
    }
   ],
   "source": [
    "bloques_imagenes[0].select('img')[0].get('src')"
   ]
  },
  {
   "cell_type": "code",
   "execution_count": 432,
   "id": "5359b5a8-4eda-4fd5-98ba-eddc8d915a75",
   "metadata": {},
   "outputs": [],
   "source": [
    "links_imagenes = [imagen.select('img')[0].get('src') for imagen in bloques_imagenes]"
   ]
  },
  {
   "cell_type": "code",
   "execution_count": 434,
   "id": "5ac1bda5-f3df-41b5-bc52-fad69f8f88c0",
   "metadata": {},
   "outputs": [
    {
     "data": {
      "text/plain": [
       "['data:image/gif;base64,R0lGODlhAQABAIAAAAAAAP///yH5BAEAAAAALAAAAAABAAEAAAIBRAA7',\n",
       " 'data:image/gif;base64,R0lGODlhAQABAIAAAAAAAP///yH5BAEAAAAALAAAAAABAAEAAAIBRAA7',\n",
       " 'data:image/gif;base64,R0lGODlhAQABAIAAAAAAAP///yH5BAEAAAAALAAAAAABAAEAAAIBRAA7',\n",
       " 'data:image/gif;base64,R0lGODlhAQABAIAAAAAAAP///yH5BAEAAAAALAAAAAABAAEAAAIBRAA7',\n",
       " 'data:image/gif;base64,R0lGODlhAQABAIAAAAAAAP///yH5BAEAAAAALAAAAAABAAEAAAIBRAA7',\n",
       " 'data:image/gif;base64,R0lGODlhAQABAIAAAAAAAP///yH5BAEAAAAALAAAAAABAAEAAAIBRAA7',\n",
       " 'data:image/gif;base64,R0lGODlhAQABAIAAAAAAAP///yH5BAEAAAAALAAAAAABAAEAAAIBRAA7',\n",
       " 'data:image/gif;base64,R0lGODlhAQABAIAAAAAAAP///yH5BAEAAAAALAAAAAABAAEAAAIBRAA7',\n",
       " 'data:image/gif;base64,R0lGODlhAQABAIAAAAAAAP///yH5BAEAAAAALAAAAAABAAEAAAIBRAA7',\n",
       " 'data:image/gif;base64,R0lGODlhAQABAIAAAAAAAP///yH5BAEAAAAALAAAAAABAAEAAAIBRAA7']"
      ]
     },
     "execution_count": 434,
     "metadata": {},
     "output_type": "execute_result"
    }
   ],
   "source": [
    "links_imagenes[:10]"
   ]
  },
  {
   "cell_type": "code",
   "execution_count": 436,
   "id": "b0c7a400-2667-4c7a-b448-026245a5f3e9",
   "metadata": {},
   "outputs": [],
   "source": [
    "bloques_info = sopa.select('div.product-card__info')"
   ]
  },
  {
   "cell_type": "code",
   "execution_count": 461,
   "id": "de881c1f-3aa3-4e7b-b77f-d87e6cba0d95",
   "metadata": {},
   "outputs": [
    {
     "data": {
      "text/plain": [
       "[<div class=\"product-card__title\" id=\"Nike Air Force 1 '07 LV8\" role=\"link\">Nike Air Force 1 '07 LV8</div>]"
      ]
     },
     "execution_count": 461,
     "metadata": {},
     "output_type": "execute_result"
    }
   ],
   "source": [
    "bloques_info[0].select('div.product-card__title')"
   ]
  },
  {
   "cell_type": "code",
   "execution_count": 462,
   "id": "6815f67c-07d8-4fda-ad57-6638a742bd83",
   "metadata": {},
   "outputs": [
    {
     "data": {
      "text/plain": [
       "<div class=\"product-card__title\" id=\"Nike Air Force 1 '07 LV8\" role=\"link\">Nike Air Force 1 '07 LV8</div>"
      ]
     },
     "execution_count": 462,
     "metadata": {},
     "output_type": "execute_result"
    }
   ],
   "source": [
    "bloques_info[0].select('div.product-card__title')[0]"
   ]
  },
  {
   "cell_type": "code",
   "execution_count": 463,
   "id": "c3706062-4b69-4189-a242-4ed0b9b3adb5",
   "metadata": {},
   "outputs": [
    {
     "data": {
      "text/plain": [
       "\"Nike Air Force 1 '07 LV8\""
      ]
     },
     "execution_count": 463,
     "metadata": {},
     "output_type": "execute_result"
    }
   ],
   "source": [
    "bloques_info[0].select('div.product-card__title')[0].text"
   ]
  },
  {
   "cell_type": "code",
   "execution_count": 464,
   "id": "f006b1e5-49bf-4937-bd9b-fb5ced467577",
   "metadata": {},
   "outputs": [],
   "source": [
    "nombres_productos = [nombre.select('div.product-card__title')[0].text for nombre in bloques_info]"
   ]
  },
  {
   "cell_type": "code",
   "execution_count": 466,
   "id": "80c1e609-5cb0-4a55-9f37-aa2a103e98c5",
   "metadata": {},
   "outputs": [
    {
     "data": {
      "text/plain": [
       "[\"Nike Air Force 1 '07 LV8\",\n",
       " 'Nike Sportswear',\n",
       " 'Nike Sportswear Sport Essentials+',\n",
       " 'Nike Air Max Koko',\n",
       " \"Nike Air Force 1 '07 LX Next Nature\"]"
      ]
     },
     "execution_count": 466,
     "metadata": {},
     "output_type": "execute_result"
    }
   ],
   "source": [
    "nombres_productos[:5]"
   ]
  },
  {
   "cell_type": "code",
   "execution_count": 469,
   "id": "220694e0-c74c-43c8-8b67-85c6ac5a7dcd",
   "metadata": {},
   "outputs": [
    {
     "data": {
      "text/plain": [
       "'Calzado para hombre'"
      ]
     },
     "execution_count": 469,
     "metadata": {},
     "output_type": "execute_result"
    }
   ],
   "source": [
    "bloques_info[0].select('div.product-card__subtitle')[0].text"
   ]
  },
  {
   "cell_type": "code",
   "execution_count": 470,
   "id": "68505278-d176-4e1c-a586-1304820dbe0a",
   "metadata": {},
   "outputs": [],
   "source": [
    "descripcion_productos = [nombre.select('div.product-card__subtitle')[0].text for nombre in bloques_info]"
   ]
  },
  {
   "cell_type": "code",
   "execution_count": 471,
   "id": "c1274c8c-73f1-4c1d-9236-012514e4dc92",
   "metadata": {},
   "outputs": [
    {
     "data": {
      "text/plain": [
       "['Calzado para hombre',\n",
       " 'Sudadera de French Terry para hombre',\n",
       " 'Shorts Flow para hombre',\n",
       " 'Sandalias para mujer',\n",
       " 'Calzado para hombre']"
      ]
     },
     "execution_count": 471,
     "metadata": {},
     "output_type": "execute_result"
    }
   ],
   "source": [
    "descripcion_productos[:5]"
   ]
  },
  {
   "cell_type": "code",
   "execution_count": 472,
   "id": "f46154f1-e69a-445d-ad7a-bae590a0e718",
   "metadata": {},
   "outputs": [
    {
     "data": {
      "text/plain": [
       "[<div class=\"product-card__price\" data-testid=\"product-card__price\" role=\"link\"><div aria-label=\"precio actual $2,249, precio original $2,499\" class=\"product-price__wrapper css-1q1feg0\"><div aria-hidden=\"true\" class=\"product-price is--current-price css-1ydfahe\" data-test=\"product-price-reduced\" role=\"link\">$2,249</div><div aria-hidden=\"true\" class=\"product-price mx__styling is--striked-out css-0\" data-test=\"product-price\" role=\"link\">$2,499</div></div></div>]"
      ]
     },
     "execution_count": 472,
     "metadata": {},
     "output_type": "execute_result"
    }
   ],
   "source": [
    "bloques_info[0].select('div.product-card__price')"
   ]
  },
  {
   "cell_type": "code",
   "execution_count": 490,
   "id": "9d8428fd-58c8-4823-a57b-a6876f77dee7",
   "metadata": {},
   "outputs": [
    {
     "data": {
      "text/plain": [
       "'$2,249$2,499'"
      ]
     },
     "execution_count": 490,
     "metadata": {},
     "output_type": "execute_result"
    }
   ],
   "source": [
    "bloques_info[0].select('div.product-card__price')[0].text"
   ]
  },
  {
   "cell_type": "code",
   "execution_count": 486,
   "id": "7350e3d5-5a99-4c9a-8398-797da7e41beb",
   "metadata": {},
   "outputs": [
    {
     "data": {
      "text/plain": [
       "['2,249', '2,499']"
      ]
     },
     "execution_count": 486,
     "metadata": {},
     "output_type": "execute_result"
    }
   ],
   "source": [
    "bloques_info[0].select('div.product-card__price')[0].text.strip('$').split('$')"
   ]
  },
  {
   "cell_type": "code",
   "execution_count": 487,
   "id": "2c9a0752-11f4-410d-ac2d-b61486f1379d",
   "metadata": {},
   "outputs": [],
   "source": [
    "precios_antes_despues = [precio.select('div.product-card__price')[0].text.strip('$').split('$') for precio in bloques_info]"
   ]
  },
  {
   "cell_type": "code",
   "execution_count": 491,
   "id": "d94fefd5-9659-4d42-a0e3-d1035a0a48fc",
   "metadata": {},
   "outputs": [
    {
     "data": {
      "text/plain": [
       "[['2,249', '2,499'],\n",
       " ['1,189', '1,699'],\n",
       " ['799', '999'],\n",
       " ['1,379', '2,299'],\n",
       " ['2,024', '2,699']]"
      ]
     },
     "execution_count": 491,
     "metadata": {},
     "output_type": "execute_result"
    }
   ],
   "source": [
    "precios_antes_despues[:5]"
   ]
  },
  {
   "cell_type": "code",
   "execution_count": null,
   "id": "a9a9ba27-e722-4352-b490-e8e8a8c37894",
   "metadata": {},
   "outputs": [],
   "source": [
    "nombres_productos\n",
    "descripcion_productos\n",
    "precios_antes_despues"
   ]
  },
  {
   "cell_type": "code",
   "execution_count": 496,
   "id": "60d7eb3c-48b3-47a9-ac78-3918e3090215",
   "metadata": {},
   "outputs": [
    {
     "data": {
      "text/plain": [
       "\"Nike Air Force 1 '07 LV8\""
      ]
     },
     "execution_count": 496,
     "metadata": {},
     "output_type": "execute_result"
    }
   ],
   "source": [
    "nombres_productos[0]"
   ]
  },
  {
   "cell_type": "code",
   "execution_count": 497,
   "id": "feedf2df-4536-41ce-b4b2-f46a669e296e",
   "metadata": {},
   "outputs": [
    {
     "data": {
      "text/plain": [
       "'Calzado para hombre'"
      ]
     },
     "execution_count": 497,
     "metadata": {},
     "output_type": "execute_result"
    }
   ],
   "source": [
    "descripcion_productos[0]"
   ]
  },
  {
   "cell_type": "code",
   "execution_count": 498,
   "id": "b19c487e-2f32-4d08-a113-0387d05a860f",
   "metadata": {},
   "outputs": [
    {
     "data": {
      "text/plain": [
       "['2,249', '2,499']"
      ]
     },
     "execution_count": 498,
     "metadata": {},
     "output_type": "execute_result"
    }
   ],
   "source": [
    "precios_antes_despues[0]"
   ]
  },
  {
   "cell_type": "code",
   "execution_count": 500,
   "id": "9a0e151f-6ba1-41ed-bcad-804692dc62f1",
   "metadata": {},
   "outputs": [
    {
     "data": {
      "text/plain": [
       "[(\"Nike Air Force 1 '07 LV8\", 'Calzado para hombre'),\n",
       " ('Nike Sportswear', 'Sudadera de French Terry para hombre')]"
      ]
     },
     "execution_count": 500,
     "metadata": {},
     "output_type": "execute_result"
    }
   ],
   "source": [
    "list(zip(nombres_productos, descripcion_productos))[:2]"
   ]
  },
  {
   "cell_type": "code",
   "execution_count": 504,
   "id": "b2004acb-ae26-4304-9cbe-9a37c51d3f44",
   "metadata": {},
   "outputs": [
    {
     "data": {
      "text/plain": [
       "[['2,249', '2,499'], ['1,189', '1,699'], ['799', '999'], ['1,379', '2,299']]"
      ]
     },
     "execution_count": 504,
     "metadata": {},
     "output_type": "execute_result"
    }
   ],
   "source": [
    "precios_antes_despues[:4]"
   ]
  },
  {
   "cell_type": "code",
   "execution_count": 510,
   "id": "24724715-6fc3-4a29-9cd1-545bfa2a6ffd",
   "metadata": {},
   "outputs": [],
   "source": [
    "precios_despues, precios_antes = list(zip(*precios_antes_despues))"
   ]
  },
  {
   "cell_type": "code",
   "execution_count": 544,
   "id": "0e1371b8-46ad-49b4-95f3-91027589e1c6",
   "metadata": {},
   "outputs": [],
   "source": [
    "data = zip(nombres_productos, descripcion_productos, precios_antes, precios_despues)"
   ]
  },
  {
   "cell_type": "code",
   "execution_count": 545,
   "id": "3bf64735-48f1-42ce-b5a1-673a03f21736",
   "metadata": {},
   "outputs": [],
   "source": [
    "import pandas as pd"
   ]
  },
  {
   "cell_type": "code",
   "execution_count": 546,
   "id": "da4d00ff-2c9e-4a4d-8e9f-178ebc3aef99",
   "metadata": {},
   "outputs": [],
   "source": [
    "df = pd.DataFrame(data, columns = ['producto', 'descripcion', 'precio_original', 'precio_actual'])"
   ]
  },
  {
   "cell_type": "code",
   "execution_count": 547,
   "id": "868d34a5-f179-4d7c-94c2-2dec9a6cbdc1",
   "metadata": {},
   "outputs": [
    {
     "data": {
      "text/html": [
       "<div>\n",
       "<style scoped>\n",
       "    .dataframe tbody tr th:only-of-type {\n",
       "        vertical-align: middle;\n",
       "    }\n",
       "\n",
       "    .dataframe tbody tr th {\n",
       "        vertical-align: top;\n",
       "    }\n",
       "\n",
       "    .dataframe thead th {\n",
       "        text-align: right;\n",
       "    }\n",
       "</style>\n",
       "<table border=\"1\" class=\"dataframe\">\n",
       "  <thead>\n",
       "    <tr style=\"text-align: right;\">\n",
       "      <th></th>\n",
       "      <th>producto</th>\n",
       "      <th>descripcion</th>\n",
       "      <th>precio_original</th>\n",
       "      <th>precio_actual</th>\n",
       "    </tr>\n",
       "  </thead>\n",
       "  <tbody>\n",
       "    <tr>\n",
       "      <th>0</th>\n",
       "      <td>Nike Air Force 1 '07 LV8</td>\n",
       "      <td>Calzado para hombre</td>\n",
       "      <td>2,499</td>\n",
       "      <td>2,249</td>\n",
       "    </tr>\n",
       "    <tr>\n",
       "      <th>1</th>\n",
       "      <td>Nike Sportswear</td>\n",
       "      <td>Sudadera de French Terry para hombre</td>\n",
       "      <td>1,699</td>\n",
       "      <td>1,189</td>\n",
       "    </tr>\n",
       "    <tr>\n",
       "      <th>2</th>\n",
       "      <td>Nike Sportswear Sport Essentials+</td>\n",
       "      <td>Shorts Flow para hombre</td>\n",
       "      <td>999</td>\n",
       "      <td>799</td>\n",
       "    </tr>\n",
       "    <tr>\n",
       "      <th>3</th>\n",
       "      <td>Nike Air Max Koko</td>\n",
       "      <td>Sandalias para mujer</td>\n",
       "      <td>2,299</td>\n",
       "      <td>1,379</td>\n",
       "    </tr>\n",
       "    <tr>\n",
       "      <th>4</th>\n",
       "      <td>Nike Air Force 1 '07 LX Next Nature</td>\n",
       "      <td>Calzado para hombre</td>\n",
       "      <td>2,699</td>\n",
       "      <td>2,024</td>\n",
       "    </tr>\n",
       "  </tbody>\n",
       "</table>\n",
       "</div>"
      ],
      "text/plain": [
       "                              producto                           descripcion  \\\n",
       "0             Nike Air Force 1 '07 LV8                   Calzado para hombre   \n",
       "1                      Nike Sportswear  Sudadera de French Terry para hombre   \n",
       "2    Nike Sportswear Sport Essentials+               Shorts Flow para hombre   \n",
       "3                    Nike Air Max Koko                  Sandalias para mujer   \n",
       "4  Nike Air Force 1 '07 LX Next Nature                   Calzado para hombre   \n",
       "\n",
       "  precio_original precio_actual  \n",
       "0           2,499         2,249  \n",
       "1           1,699         1,189  \n",
       "2             999           799  \n",
       "3           2,299         1,379  \n",
       "4           2,699         2,024  "
      ]
     },
     "execution_count": 547,
     "metadata": {},
     "output_type": "execute_result"
    }
   ],
   "source": [
    "df.head()"
   ]
  },
  {
   "cell_type": "code",
   "execution_count": 548,
   "id": "cae702e6-1a6d-4e8f-9e53-453da7b159c6",
   "metadata": {},
   "outputs": [],
   "source": [
    "df.precio_original = df.precio_original.str.replace(',','').astype('int')\n",
    "df.precio_actual = df.precio_actual.str.replace(',','').astype('int')"
   ]
  },
  {
   "cell_type": "code",
   "execution_count": 549,
   "id": "b1b1b2f6-5bd2-42ec-a8cf-fdcbadf95d5b",
   "metadata": {},
   "outputs": [
    {
     "data": {
      "text/html": [
       "<div>\n",
       "<style scoped>\n",
       "    .dataframe tbody tr th:only-of-type {\n",
       "        vertical-align: middle;\n",
       "    }\n",
       "\n",
       "    .dataframe tbody tr th {\n",
       "        vertical-align: top;\n",
       "    }\n",
       "\n",
       "    .dataframe thead th {\n",
       "        text-align: right;\n",
       "    }\n",
       "</style>\n",
       "<table border=\"1\" class=\"dataframe\">\n",
       "  <thead>\n",
       "    <tr style=\"text-align: right;\">\n",
       "      <th></th>\n",
       "      <th>producto</th>\n",
       "      <th>descripcion</th>\n",
       "      <th>precio_original</th>\n",
       "      <th>precio_actual</th>\n",
       "    </tr>\n",
       "  </thead>\n",
       "  <tbody>\n",
       "    <tr>\n",
       "      <th>0</th>\n",
       "      <td>Nike Air Force 1 '07 LV8</td>\n",
       "      <td>Calzado para hombre</td>\n",
       "      <td>2499</td>\n",
       "      <td>2249</td>\n",
       "    </tr>\n",
       "    <tr>\n",
       "      <th>1</th>\n",
       "      <td>Nike Sportswear</td>\n",
       "      <td>Sudadera de French Terry para hombre</td>\n",
       "      <td>1699</td>\n",
       "      <td>1189</td>\n",
       "    </tr>\n",
       "    <tr>\n",
       "      <th>2</th>\n",
       "      <td>Nike Sportswear Sport Essentials+</td>\n",
       "      <td>Shorts Flow para hombre</td>\n",
       "      <td>999</td>\n",
       "      <td>799</td>\n",
       "    </tr>\n",
       "    <tr>\n",
       "      <th>3</th>\n",
       "      <td>Nike Air Max Koko</td>\n",
       "      <td>Sandalias para mujer</td>\n",
       "      <td>2299</td>\n",
       "      <td>1379</td>\n",
       "    </tr>\n",
       "    <tr>\n",
       "      <th>4</th>\n",
       "      <td>Nike Air Force 1 '07 LX Next Nature</td>\n",
       "      <td>Calzado para hombre</td>\n",
       "      <td>2699</td>\n",
       "      <td>2024</td>\n",
       "    </tr>\n",
       "  </tbody>\n",
       "</table>\n",
       "</div>"
      ],
      "text/plain": [
       "                              producto                           descripcion  \\\n",
       "0             Nike Air Force 1 '07 LV8                   Calzado para hombre   \n",
       "1                      Nike Sportswear  Sudadera de French Terry para hombre   \n",
       "2    Nike Sportswear Sport Essentials+               Shorts Flow para hombre   \n",
       "3                    Nike Air Max Koko                  Sandalias para mujer   \n",
       "4  Nike Air Force 1 '07 LX Next Nature                   Calzado para hombre   \n",
       "\n",
       "   precio_original  precio_actual  \n",
       "0             2499           2249  \n",
       "1             1699           1189  \n",
       "2              999            799  \n",
       "3             2299           1379  \n",
       "4             2699           2024  "
      ]
     },
     "execution_count": 549,
     "metadata": {},
     "output_type": "execute_result"
    }
   ],
   "source": [
    "df.head()"
   ]
  },
  {
   "cell_type": "code",
   "execution_count": 550,
   "id": "06bc377e-d456-46d9-b2f0-09df92b6fa39",
   "metadata": {},
   "outputs": [],
   "source": [
    "df['porcentaje_descuento'] = (((df.precio_original - df.precio_actual)/df.precio_original)*100).astype(int).astype(str) + ' %'"
   ]
  },
  {
   "cell_type": "code",
   "execution_count": 551,
   "id": "77374de7-bfe1-499b-96c6-c10d6c3596af",
   "metadata": {},
   "outputs": [
    {
     "data": {
      "text/html": [
       "<div>\n",
       "<style scoped>\n",
       "    .dataframe tbody tr th:only-of-type {\n",
       "        vertical-align: middle;\n",
       "    }\n",
       "\n",
       "    .dataframe tbody tr th {\n",
       "        vertical-align: top;\n",
       "    }\n",
       "\n",
       "    .dataframe thead th {\n",
       "        text-align: right;\n",
       "    }\n",
       "</style>\n",
       "<table border=\"1\" class=\"dataframe\">\n",
       "  <thead>\n",
       "    <tr style=\"text-align: right;\">\n",
       "      <th></th>\n",
       "      <th>producto</th>\n",
       "      <th>descripcion</th>\n",
       "      <th>precio_original</th>\n",
       "      <th>precio_actual</th>\n",
       "      <th>porcentaje_descuento</th>\n",
       "    </tr>\n",
       "  </thead>\n",
       "  <tbody>\n",
       "    <tr>\n",
       "      <th>0</th>\n",
       "      <td>Nike Air Force 1 '07 LV8</td>\n",
       "      <td>Calzado para hombre</td>\n",
       "      <td>2499</td>\n",
       "      <td>2249</td>\n",
       "      <td>10 %</td>\n",
       "    </tr>\n",
       "    <tr>\n",
       "      <th>1</th>\n",
       "      <td>Nike Sportswear</td>\n",
       "      <td>Sudadera de French Terry para hombre</td>\n",
       "      <td>1699</td>\n",
       "      <td>1189</td>\n",
       "      <td>30 %</td>\n",
       "    </tr>\n",
       "    <tr>\n",
       "      <th>2</th>\n",
       "      <td>Nike Sportswear Sport Essentials+</td>\n",
       "      <td>Shorts Flow para hombre</td>\n",
       "      <td>999</td>\n",
       "      <td>799</td>\n",
       "      <td>20 %</td>\n",
       "    </tr>\n",
       "    <tr>\n",
       "      <th>3</th>\n",
       "      <td>Nike Air Max Koko</td>\n",
       "      <td>Sandalias para mujer</td>\n",
       "      <td>2299</td>\n",
       "      <td>1379</td>\n",
       "      <td>40 %</td>\n",
       "    </tr>\n",
       "    <tr>\n",
       "      <th>4</th>\n",
       "      <td>Nike Air Force 1 '07 LX Next Nature</td>\n",
       "      <td>Calzado para hombre</td>\n",
       "      <td>2699</td>\n",
       "      <td>2024</td>\n",
       "      <td>25 %</td>\n",
       "    </tr>\n",
       "  </tbody>\n",
       "</table>\n",
       "</div>"
      ],
      "text/plain": [
       "                              producto                           descripcion  \\\n",
       "0             Nike Air Force 1 '07 LV8                   Calzado para hombre   \n",
       "1                      Nike Sportswear  Sudadera de French Terry para hombre   \n",
       "2    Nike Sportswear Sport Essentials+               Shorts Flow para hombre   \n",
       "3                    Nike Air Max Koko                  Sandalias para mujer   \n",
       "4  Nike Air Force 1 '07 LX Next Nature                   Calzado para hombre   \n",
       "\n",
       "   precio_original  precio_actual porcentaje_descuento  \n",
       "0             2499           2249                 10 %  \n",
       "1             1699           1189                 30 %  \n",
       "2              999            799                 20 %  \n",
       "3             2299           1379                 40 %  \n",
       "4             2699           2024                 25 %  "
      ]
     },
     "execution_count": 551,
     "metadata": {},
     "output_type": "execute_result"
    }
   ],
   "source": [
    "df.head()"
   ]
  },
  {
   "cell_type": "code",
   "execution_count": 553,
   "id": "2e3e692b-b93e-4e13-8d70-4ccee18c8694",
   "metadata": {},
   "outputs": [],
   "source": [
    "df.to_csv('producto_nike.csv', index = False)"
   ]
  },
  {
   "cell_type": "code",
   "execution_count": 564,
   "id": "92e41a3e-6a51-4df5-b96d-d7ce4c0ec744",
   "metadata": {},
   "outputs": [],
   "source": [
    "url = 'https://en.wikipedia.org/wiki/Club_Am%C3%A9rica'"
   ]
  },
  {
   "cell_type": "code",
   "execution_count": 565,
   "id": "fe9054f9-b6ea-4dff-bfb2-fa6749755d15",
   "metadata": {},
   "outputs": [],
   "source": [
    "dfs = pd.read_html(url)"
   ]
  },
  {
   "cell_type": "code",
   "execution_count": 619,
   "id": "f935bc06-02ad-4c54-9d3a-f1ac98d2d0dc",
   "metadata": {},
   "outputs": [
    {
     "data": {
      "text/html": [
       "<div>\n",
       "<style scoped>\n",
       "    .dataframe tbody tr th:only-of-type {\n",
       "        vertical-align: middle;\n",
       "    }\n",
       "\n",
       "    .dataframe tbody tr th {\n",
       "        vertical-align: top;\n",
       "    }\n",
       "\n",
       "    .dataframe thead th {\n",
       "        text-align: right;\n",
       "    }\n",
       "</style>\n",
       "<table border=\"1\" class=\"dataframe\">\n",
       "  <thead>\n",
       "    <tr style=\"text-align: right;\">\n",
       "      <th></th>\n",
       "      <th>No.</th>\n",
       "      <th>Pos.</th>\n",
       "      <th>Nation</th>\n",
       "      <th>Player</th>\n",
       "    </tr>\n",
       "  </thead>\n",
       "  <tbody>\n",
       "    <tr>\n",
       "      <th>0</th>\n",
       "      <td>17</td>\n",
       "      <td>MF</td>\n",
       "      <td>MEX</td>\n",
       "      <td>Alejandro Zendejas</td>\n",
       "    </tr>\n",
       "    <tr>\n",
       "      <th>1</th>\n",
       "      <td>18</td>\n",
       "      <td>DF</td>\n",
       "      <td>PAR</td>\n",
       "      <td>Bruno Valdez</td>\n",
       "    </tr>\n",
       "    <tr>\n",
       "      <th>2</th>\n",
       "      <td>19</td>\n",
       "      <td>DF</td>\n",
       "      <td>MEX</td>\n",
       "      <td>Miguel Layún</td>\n",
       "    </tr>\n",
       "    <tr>\n",
       "      <th>3</th>\n",
       "      <td>20</td>\n",
       "      <td>MF</td>\n",
       "      <td>PAR</td>\n",
       "      <td>Richard Sánchez</td>\n",
       "    </tr>\n",
       "    <tr>\n",
       "      <th>4</th>\n",
       "      <td>21</td>\n",
       "      <td>FW</td>\n",
       "      <td>MEX</td>\n",
       "      <td>Henry Martín</td>\n",
       "    </tr>\n",
       "    <tr>\n",
       "      <th>5</th>\n",
       "      <td>23</td>\n",
       "      <td>DF</td>\n",
       "      <td>MEX</td>\n",
       "      <td>Emilio Lara</td>\n",
       "    </tr>\n",
       "    <tr>\n",
       "      <th>6</th>\n",
       "      <td>24</td>\n",
       "      <td>FW</td>\n",
       "      <td>URU</td>\n",
       "      <td>Federico Viñas</td>\n",
       "    </tr>\n",
       "    <tr>\n",
       "      <th>7</th>\n",
       "      <td>25</td>\n",
       "      <td>MF</td>\n",
       "      <td>MEX</td>\n",
       "      <td>Jürgen Damm</td>\n",
       "    </tr>\n",
       "    <tr>\n",
       "      <th>8</th>\n",
       "      <td>26</td>\n",
       "      <td>DF</td>\n",
       "      <td>MEX</td>\n",
       "      <td>Salvador Reyes</td>\n",
       "    </tr>\n",
       "    <tr>\n",
       "      <th>9</th>\n",
       "      <td>27</td>\n",
       "      <td>GK</td>\n",
       "      <td>MEX</td>\n",
       "      <td>Óscar Jiménez</td>\n",
       "    </tr>\n",
       "    <tr>\n",
       "      <th>10</th>\n",
       "      <td>35</td>\n",
       "      <td>GK</td>\n",
       "      <td>MEX</td>\n",
       "      <td>Fernando Tapia</td>\n",
       "    </tr>\n",
       "  </tbody>\n",
       "</table>\n",
       "</div>"
      ],
      "text/plain": [
       "    No. Pos. Nation              Player\n",
       "0    17   MF    MEX  Alejandro Zendejas\n",
       "1    18   DF    PAR        Bruno Valdez\n",
       "2    19   DF    MEX        Miguel Layún\n",
       "3    20   MF    PAR     Richard Sánchez\n",
       "4    21   FW    MEX        Henry Martín\n",
       "5    23   DF    MEX         Emilio Lara\n",
       "6    24   FW    URU      Federico Viñas\n",
       "7    25   MF    MEX         Jürgen Damm\n",
       "8    26   DF    MEX      Salvador Reyes\n",
       "9    27   GK    MEX       Óscar Jiménez\n",
       "10   35   GK    MEX      Fernando Tapia"
      ]
     },
     "execution_count": 619,
     "metadata": {},
     "output_type": "execute_result"
    }
   ],
   "source": [
    "dfs[7]"
   ]
  },
  {
   "cell_type": "code",
   "execution_count": 571,
   "id": "5e203dac-adc0-42dc-9d6f-f1c42ee831de",
   "metadata": {},
   "outputs": [],
   "source": [
    "response = requests.get(url)"
   ]
  },
  {
   "cell_type": "code",
   "execution_count": 572,
   "id": "fca71a02-b77a-49b5-a1f4-2be8b4d49316",
   "metadata": {},
   "outputs": [
    {
     "data": {
      "text/plain": [
       "<Response [200]>"
      ]
     },
     "execution_count": 572,
     "metadata": {},
     "output_type": "execute_result"
    }
   ],
   "source": [
    "response"
   ]
  },
  {
   "cell_type": "code",
   "execution_count": 573,
   "id": "03c9bd03-8e81-456a-8570-0f1ac19a8bfc",
   "metadata": {},
   "outputs": [],
   "source": [
    "sopa = BeautifulSoup(response.content)"
   ]
  },
  {
   "cell_type": "code",
   "execution_count": 606,
   "id": "beb0f1d6-4f8f-4b11-8bac-e8f62475f6f9",
   "metadata": {},
   "outputs": [],
   "source": [
    "tabla = sopa.select('h3:has(span#Management) + div + table')[0]"
   ]
  },
  {
   "cell_type": "code",
   "execution_count": 617,
   "id": "7098d7e5-5d2c-4fbe-b68a-1b5784ce4ace",
   "metadata": {},
   "outputs": [],
   "source": [
    "df = pd.read_html(str(tabla))[0]"
   ]
  },
  {
   "cell_type": "code",
   "execution_count": 611,
   "id": "9127613a-43c2-43a6-a1ba-83fa16f74082",
   "metadata": {},
   "outputs": [
    {
     "data": {
      "text/html": [
       "<div>\n",
       "<style scoped>\n",
       "    .dataframe tbody tr th:only-of-type {\n",
       "        vertical-align: middle;\n",
       "    }\n",
       "\n",
       "    .dataframe tbody tr th {\n",
       "        vertical-align: top;\n",
       "    }\n",
       "\n",
       "    .dataframe thead th {\n",
       "        text-align: right;\n",
       "    }\n",
       "</style>\n",
       "<table border=\"1\" class=\"dataframe\">\n",
       "  <thead>\n",
       "    <tr style=\"text-align: right;\">\n",
       "      <th></th>\n",
       "      <th>Position</th>\n",
       "      <th>Staff</th>\n",
       "    </tr>\n",
       "  </thead>\n",
       "  <tbody>\n",
       "    <tr>\n",
       "      <th>0</th>\n",
       "      <td>Chairman</td>\n",
       "      <td>Emilio Azcárraga Jean</td>\n",
       "    </tr>\n",
       "    <tr>\n",
       "      <th>1</th>\n",
       "      <td>Honorary counsel</td>\n",
       "      <td>Bernardo Gómez Martínez</td>\n",
       "    </tr>\n",
       "    <tr>\n",
       "      <th>2</th>\n",
       "      <td>Sporting president</td>\n",
       "      <td>Santiago Baños</td>\n",
       "    </tr>\n",
       "    <tr>\n",
       "      <th>3</th>\n",
       "      <td>Operations president</td>\n",
       "      <td>Héctor González Iñárritu</td>\n",
       "    </tr>\n",
       "    <tr>\n",
       "      <th>4</th>\n",
       "      <td>Committee of football president</td>\n",
       "      <td>Joaquín Balcarcel</td>\n",
       "    </tr>\n",
       "  </tbody>\n",
       "</table>\n",
       "</div>"
      ],
      "text/plain": [
       "                          Position                     Staff\n",
       "0                         Chairman     Emilio Azcárraga Jean\n",
       "1                 Honorary counsel   Bernardo Gómez Martínez\n",
       "2               Sporting president            Santiago Baños\n",
       "3             Operations president  Héctor González Iñárritu\n",
       "4  Committee of football president         Joaquín Balcarcel"
      ]
     },
     "execution_count": 611,
     "metadata": {},
     "output_type": "execute_result"
    }
   ],
   "source": [
    "df.head()"
   ]
  },
  {
   "cell_type": "code",
   "execution_count": null,
   "id": "abf7c632-a8d9-4503-b2ff-a3eb261940b5",
   "metadata": {},
   "outputs": [],
   "source": []
  }
 ],
 "metadata": {
  "kernelspec": {
   "display_name": "Python 3 (ipykernel)",
   "language": "python",
   "name": "python3"
  },
  "language_info": {
   "codemirror_mode": {
    "name": "ipython",
    "version": 3
   },
   "file_extension": ".py",
   "mimetype": "text/x-python",
   "name": "python",
   "nbconvert_exporter": "python",
   "pygments_lexer": "ipython3",
   "version": "3.9.12"
  }
 },
 "nbformat": 4,
 "nbformat_minor": 5
}
