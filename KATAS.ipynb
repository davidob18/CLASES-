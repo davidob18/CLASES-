{
 "cells": [
  {
   "cell_type": "code",
   "execution_count": 122,
   "id": "2a6b9602-03ec-48e6-9957-eaf7aa270870",
   "metadata": {
    "tags": []
   },
   "outputs": [],
   "source": [
    "s = \"Fred:Corwill;Wilfred:Corwill;Barney:Tornbull;Betty:Tornbull;Bjon:Tornbull;Raphael:Corwill;Alfred:Corwill\";"
   ]
  },
  {
   "cell_type": "code",
   "execution_count": 25,
   "id": "05ae3b00-dff3-4dca-b562-801cd725c8a4",
   "metadata": {},
   "outputs": [
    {
     "data": {
      "text/plain": [
       "'Fred:Corwill;Wilfred:Corwill;Barney:Tornbull;Betty:Tornbull;Bjon:Tornbull;Raphael:Corwill;Alfred:Corwill'"
      ]
     },
     "execution_count": 25,
     "metadata": {},
     "output_type": "execute_result"
    }
   ],
   "source": [
    "s"
   ]
  },
  {
   "cell_type": "code",
   "execution_count": null,
   "id": "e131f0ec-562e-49d8-8d4d-b431ef49fa89",
   "metadata": {},
   "outputs": [],
   "source": []
  },
  {
   "cell_type": "code",
   "execution_count": 3,
   "id": "668dc558-f87d-4be4-b0c0-e7340399caa8",
   "metadata": {},
   "outputs": [],
   "source": [
    "#\"(CORWILL, ALFRED)(CORWILL, FRED)(CORWILL, RAPHAEL)(CORWILL, WILFRED)(TORNBULL, BARNEY)(TORNBULL, BETTY)(TORNBULL, BJON)\""
   ]
  },
  {
   "cell_type": "code",
   "execution_count": 33,
   "id": "5de22298-e407-4834-9ee0-b5e9db612121",
   "metadata": {},
   "outputs": [
    {
     "data": {
      "text/plain": [
       "str"
      ]
     },
     "execution_count": 33,
     "metadata": {},
     "output_type": "execute_result"
    }
   ],
   "source": [
    "type(s)"
   ]
  },
  {
   "cell_type": "code",
   "execution_count": 34,
   "id": "e5c2fa08-1af0-4427-a294-c5ecd1bd1765",
   "metadata": {
    "tags": []
   },
   "outputs": [],
   "source": [
    "x = s.split(';')"
   ]
  },
  {
   "cell_type": "code",
   "execution_count": 35,
   "id": "634a434d-2bec-49ba-8a35-ef9dd1b22747",
   "metadata": {},
   "outputs": [
    {
     "data": {
      "text/plain": [
       "['Fred:Corwill',\n",
       " 'Wilfred:Corwill',\n",
       " 'Barney:Tornbull',\n",
       " 'Betty:Tornbull',\n",
       " 'Bjon:Tornbull',\n",
       " 'Raphael:Corwill',\n",
       " 'Alfred:Corwill']"
      ]
     },
     "execution_count": 35,
     "metadata": {},
     "output_type": "execute_result"
    }
   ],
   "source": [
    "x"
   ]
  },
  {
   "cell_type": "code",
   "execution_count": 10,
   "id": "652c8864-7bf4-4a3f-9b11-f8ffdfed914a",
   "metadata": {
    "tags": []
   },
   "outputs": [
    {
     "data": {
      "text/plain": [
       "['Fred', 'Corwill']"
      ]
     },
     "execution_count": 10,
     "metadata": {},
     "output_type": "execute_result"
    }
   ],
   "source": [
    "x[0].split(':')"
   ]
  },
  {
   "cell_type": "code",
   "execution_count": 11,
   "id": "0fcf7d40-2e3e-4fcd-8d3b-a5a25a2c4707",
   "metadata": {},
   "outputs": [
    {
     "data": {
      "text/plain": [
       "list"
      ]
     },
     "execution_count": 11,
     "metadata": {},
     "output_type": "execute_result"
    }
   ],
   "source": [
    "type(x)"
   ]
  },
  {
   "cell_type": "code",
   "execution_count": 12,
   "id": "20eb4a0e-fa84-4ffe-9daa-666ddc9cd50a",
   "metadata": {},
   "outputs": [
    {
     "data": {
      "text/plain": [
       "'Wilfred:Corwill'"
      ]
     },
     "execution_count": 12,
     "metadata": {},
     "output_type": "execute_result"
    }
   ],
   "source": [
    "x[1]"
   ]
  },
  {
   "cell_type": "code",
   "execution_count": 13,
   "id": "72ecbba8-83d4-45a9-9fca-ae43fd747ddf",
   "metadata": {},
   "outputs": [],
   "source": [
    "y=()"
   ]
  },
  {
   "cell_type": "code",
   "execution_count": 14,
   "id": "def051c4-0e78-4fed-91fd-c935b499171e",
   "metadata": {},
   "outputs": [
    {
     "name": "stdout",
     "output_type": "stream",
     "text": [
      "<class 'tuple'>\n"
     ]
    }
   ],
   "source": [
    "print(type(y))"
   ]
  },
  {
   "cell_type": "code",
   "execution_count": null,
   "id": "f618cd69-1117-4c78-af57-2aa8dbaa9f8f",
   "metadata": {},
   "outputs": [],
   "source": [
    "#apellidos_puntos = [(apellido, random.randint(0,10)) for apellido in apellidos]"
   ]
  },
  {
   "cell_type": "code",
   "execution_count": 36,
   "id": "6eac316d-11c0-48ec-8ef4-233744448458",
   "metadata": {},
   "outputs": [],
   "source": [
    "for t in x:\n",
    "    z.append(t.split(':'))"
   ]
  },
  {
   "cell_type": "code",
   "execution_count": 31,
   "id": "d6404e44-4e87-45de-8f06-6f89479b2d2d",
   "metadata": {},
   "outputs": [],
   "source": [
    "z=[]"
   ]
  },
  {
   "cell_type": "code",
   "execution_count": 37,
   "id": "7b5aca9a-fa70-4658-903b-2c68f2531c2b",
   "metadata": {},
   "outputs": [
    {
     "data": {
      "text/plain": [
       "[['Fred', 'Corwill'],\n",
       " ['Wilfred', 'Corwill'],\n",
       " ['Barney', 'Tornbull'],\n",
       " ['Betty', 'Tornbull'],\n",
       " ['Bjon', 'Tornbull'],\n",
       " ['Raphael', 'Corwill'],\n",
       " ['Alfred', 'Corwill']]"
      ]
     },
     "execution_count": 37,
     "metadata": {},
     "output_type": "execute_result"
    }
   ],
   "source": [
    "z"
   ]
  },
  {
   "cell_type": "code",
   "execution_count": 107,
   "id": "92f6080e-826f-4dfc-954c-4bc70e24b577",
   "metadata": {},
   "outputs": [],
   "source": [
    "#apellidos_puntos = [(apellido[1], apellido[0]) for apellido in z]\n",
    "apellidos_puntos = [[apellido[1], apellido[0]]for apellido in z]"
   ]
  },
  {
   "cell_type": "code",
   "execution_count": 108,
   "id": "d954dfe2-3932-4b7d-82e2-73ff4111e85b",
   "metadata": {
    "tags": []
   },
   "outputs": [
    {
     "data": {
      "text/plain": [
       "[['Corwill', 'Fred'],\n",
       " ['Corwill', 'Wilfred'],\n",
       " ['Tornbull', 'Barney'],\n",
       " ['Tornbull', 'Betty'],\n",
       " ['Tornbull', 'Bjon'],\n",
       " ['Corwill', 'Raphael'],\n",
       " ['Corwill', 'Alfred']]"
      ]
     },
     "execution_count": 108,
     "metadata": {},
     "output_type": "execute_result"
    }
   ],
   "source": [
    "apellidos_puntos"
   ]
  },
  {
   "cell_type": "code",
   "execution_count": 109,
   "id": "beb6cb3a-eff1-4760-8af5-77c4440e81e4",
   "metadata": {},
   "outputs": [],
   "source": [
    "apellidos_ordenados = sorted(apellidos_puntos)"
   ]
  },
  {
   "cell_type": "code",
   "execution_count": 110,
   "id": "d5c416ad-de4b-4462-ab00-67e489526a4a",
   "metadata": {},
   "outputs": [
    {
     "data": {
      "text/plain": [
       "[['Corwill', 'Alfred'],\n",
       " ['Corwill', 'Fred'],\n",
       " ['Corwill', 'Raphael'],\n",
       " ['Corwill', 'Wilfred'],\n",
       " ['Tornbull', 'Barney'],\n",
       " ['Tornbull', 'Betty'],\n",
       " ['Tornbull', 'Bjon']]"
      ]
     },
     "execution_count": 110,
     "metadata": {},
     "output_type": "execute_result"
    }
   ],
   "source": [
    "apellidos_ordenados"
   ]
  },
  {
   "cell_type": "code",
   "execution_count": 101,
   "id": "1b626693-015c-49b8-bed6-ee9e10f058f2",
   "metadata": {},
   "outputs": [
    {
     "data": {
      "text/plain": [
       "'CORWILL, ALFRED'"
      ]
     },
     "execution_count": 101,
     "metadata": {},
     "output_type": "execute_result"
    }
   ],
   "source": [
    "(\", \".join(apellidos_ordenados[0])).upper()"
   ]
  },
  {
   "cell_type": "code",
   "execution_count": 115,
   "id": "879ab72a-0e3a-4fa4-ab3f-fafc7bdb369f",
   "metadata": {
    "tags": []
   },
   "outputs": [],
   "source": [
    "for item in apellidos_ordenados:\n",
    "    z2.append(f'({(\", \".join(item)).upper()})')"
   ]
  },
  {
   "cell_type": "code",
   "execution_count": 114,
   "id": "deb8178a-d959-4afb-83f0-0e3b76870ca8",
   "metadata": {},
   "outputs": [],
   "source": [
    "z2=[]"
   ]
  },
  {
   "cell_type": "code",
   "execution_count": 116,
   "id": "6c65f2a9-072e-48bf-b9a0-07ea436a883e",
   "metadata": {},
   "outputs": [
    {
     "data": {
      "text/plain": [
       "['(CORWILL, ALFRED)',\n",
       " '(CORWILL, FRED)',\n",
       " '(CORWILL, RAPHAEL)',\n",
       " '(CORWILL, WILFRED)',\n",
       " '(TORNBULL, BARNEY)',\n",
       " '(TORNBULL, BETTY)',\n",
       " '(TORNBULL, BJON)']"
      ]
     },
     "execution_count": 116,
     "metadata": {},
     "output_type": "execute_result"
    }
   ],
   "source": [
    "z2"
   ]
  },
  {
   "cell_type": "code",
   "execution_count": 117,
   "id": "03ea5f50-0a2f-4f45-a838-5c954b6765f7",
   "metadata": {},
   "outputs": [],
   "source": [
    "z3= \"\".join(z2)"
   ]
  },
  {
   "cell_type": "code",
   "execution_count": 118,
   "id": "fbed1c8d-183f-44bc-8751-64b3d5cbdd72",
   "metadata": {},
   "outputs": [
    {
     "data": {
      "text/plain": [
       "'(CORWILL, ALFRED)(CORWILL, FRED)(CORWILL, RAPHAEL)(CORWILL, WILFRED)(TORNBULL, BARNEY)(TORNBULL, BETTY)(TORNBULL, BJON)'"
      ]
     },
     "execution_count": 118,
     "metadata": {},
     "output_type": "execute_result"
    }
   ],
   "source": [
    "z3"
   ]
  },
  {
   "cell_type": "code",
   "execution_count": 84,
   "id": "ac7bb64a-087e-44c5-8eee-3352060c79d2",
   "metadata": {},
   "outputs": [
    {
     "data": {
      "text/plain": [
       "'Corwill,Alfred:Corwill,Fred:Corwill,Raphael:Corwill,Wilfred:Tornbull,Barney:Tornbull,Betty:Tornbull,Bjon'"
      ]
     },
     "execution_count": 84,
     "metadata": {},
     "output_type": "execute_result"
    }
   ],
   "source": [
    "z3"
   ]
  },
  {
   "cell_type": "code",
   "execution_count": 95,
   "id": "90ac466d-b80b-4100-ae57-cbce44536cc5",
   "metadata": {},
   "outputs": [
    {
     "data": {
      "text/plain": [
       "'(CORWILL,ALFRED)'"
      ]
     },
     "execution_count": 95,
     "metadata": {},
     "output_type": "execute_result"
    }
   ],
   "source": [
    "f'({(\",\".join(apellidos_ordenados[0])).upper()})'"
   ]
  },
  {
   "cell_type": "code",
   "execution_count": null,
   "id": "ae11bda9-0e72-4a82-ad3a-b4a323788f2a",
   "metadata": {},
   "outputs": [],
   "source": []
  },
  {
   "cell_type": "raw",
   "id": "eeabaca7-8782-4ec6-964e-1436b3a2c26e",
   "metadata": {},
   "source": [
    "myTuple = (\"John\", \"Peter\", \"Vicky\")\n",
    "\n",
    "x = \"#\".join(myTuple)\n",
    "\n",
    "print(x)"
   ]
  },
  {
   "cell_type": "raw",
   "id": "97493f67-2789-4e7a-b43c-49e82a149f43",
   "metadata": {},
   "source": [
    "txt = \"welcome to the jungle\"\n",
    "\n",
    "x = txt.split()\n",
    "\n",
    "print(x)"
   ]
  },
  {
   "cell_type": "code",
   "execution_count": 146,
   "id": "8eca5cad-89f6-45e3-9f5f-5d82a20c47e5",
   "metadata": {},
   "outputs": [],
   "source": [
    "def meeting(s):\n",
    "    nombre_apellido = s.upper().split(';')\n",
    "    nombre_apellido_separado=[]\n",
    "    acomodo_impresion = []\n",
    "    \n",
    "    for t in nombre_apellido:\n",
    "        nombre_apellido_separado.append(t.split(':'))\n",
    "        \n",
    "    apellidos_primero = [[apellido[1], apellido[0]]for apellido in nombre_apellido_separado]\n",
    "    \n",
    "    apellidos_ordenados = sorted(apellidos_primero)\n",
    "    \n",
    "    for item in apellidos_ordenados:\n",
    "        acomodo_impresion.append(f'({(\", \".join(item))})')\n",
    "        \n",
    "    final= \"\".join(acomodo_impresion)\n",
    "    \n",
    "    return final"
   ]
  },
  {
   "cell_type": "code",
   "execution_count": 132,
   "id": "170af8c2-6ac5-42aa-bc8f-a9508da7afea",
   "metadata": {},
   "outputs": [
    {
     "data": {
      "text/plain": [
       "'(CORWILL, ALFRED)(CORWILL, FRED)(CORWILL, RAPHAEL)(CORWILL, WILFRED)(TORNBULL, BARNEY)(TORNBULL, BETTY)(TORNBULL, BJON)'"
      ]
     },
     "execution_count": 132,
     "metadata": {},
     "output_type": "execute_result"
    }
   ],
   "source": [
    "meeting(s)"
   ]
  },
  {
   "cell_type": "code",
   "execution_count": null,
   "id": "bb5e2d8f-df53-4a1f-9955-e136fd558d4a",
   "metadata": {},
   "outputs": [],
   "source": []
  },
  {
   "cell_type": "code",
   "execution_count": null,
   "id": "ac6bdc79-3015-49a5-b33e-9224377d8967",
   "metadata": {},
   "outputs": [],
   "source": [
    "testing(\"Alexis:Wahl;John:Bell;Victoria:Schwarz;Abba:Dorny;Grace:Meta;Ann:Arno;Madison:STAN;Alex:Cornwell;Lewis:Kern;Megan:Stan;Alex:Korn\", \n",
    "            \"(ARNO, ANN)(BELL, JOHN)(CORNWELL, ALEX)(DORNY, ABBA)(KERN, LEWIS)(KORN, ALEX)(META, GRACE)(SCHWARZ, VICTORIA)(STAN, MADISON)(STAN, MEGAN)(WAHL, ALEXIS)\")"
   ]
  },
  {
   "cell_type": "code",
   "execution_count": 133,
   "id": "f1bd0ddd-d8ff-42ca-9837-54eded627d22",
   "metadata": {},
   "outputs": [],
   "source": [
    "s2 = \"Alexis:Wahl;John:Bell;Victoria:Schwarz;Abba:Dorny;Grace:Meta;Ann:Arno;Madison:STAN;Alex:Cornwell;Lewis:Kern;Megan:Stan;Alex:Korn\""
   ]
  },
  {
   "cell_type": "code",
   "execution_count": 134,
   "id": "61be7948-fbba-4fce-929d-f70c7fe9b2ab",
   "metadata": {},
   "outputs": [
    {
     "data": {
      "text/plain": [
       "'(ARNO, ANN)(BELL, JOHN)(CORNWELL, ALEX)(DORNY, ABBA)(KERN, LEWIS)(KORN, ALEX)(META, GRACE)(STAN, MADISON)(SCHWARZ, VICTORIA)(STAN, MEGAN)(WAHL, ALEXIS)'"
      ]
     },
     "execution_count": 134,
     "metadata": {},
     "output_type": "execute_result"
    }
   ],
   "source": [
    "meeting(s2)"
   ]
  },
  {
   "cell_type": "code",
   "execution_count": 144,
   "id": "7abb8d77-5518-4d68-a6d9-e768567eaf9c",
   "metadata": {},
   "outputs": [],
   "source": [
    "def meeting_2(s):\n",
    "    #s=s.upper()\n",
    "    nombre_apellido = s.upper().split(';')\n",
    "    nombre_apellido_separado=[]\n",
    "    acomodo_impresion = []\n",
    "    \n",
    "    for t in nombre_apellido:\n",
    "        nombre_apellido_separado.append(t.split(':'))\n",
    "        \n",
    "    apellidos_primero = [[apellido[1], apellido[0]]for apellido in nombre_apellido_separado]\n",
    "    \n",
    "    apellidos_ordenados = sorted(apellidos_primero)\n",
    "    \n",
    "    return apellidos_ordenados"
   ]
  },
  {
   "cell_type": "code",
   "execution_count": 145,
   "id": "8c30c0ad-fa5b-4920-a42a-a145d20d4903",
   "metadata": {},
   "outputs": [
    {
     "data": {
      "text/plain": [
       "[['ARNO', 'ANN'],\n",
       " ['BELL', 'JOHN'],\n",
       " ['CORNWELL', 'ALEX'],\n",
       " ['DORNY', 'ABBA'],\n",
       " ['KERN', 'LEWIS'],\n",
       " ['KORN', 'ALEX'],\n",
       " ['META', 'GRACE'],\n",
       " ['SCHWARZ', 'VICTORIA'],\n",
       " ['STAN', 'MADISON'],\n",
       " ['STAN', 'MEGAN'],\n",
       " ['WAHL', 'ALEXIS']]"
      ]
     },
     "execution_count": 145,
     "metadata": {},
     "output_type": "execute_result"
    }
   ],
   "source": [
    "meeting_2(s2)"
   ]
  },
  {
   "cell_type": "code",
   "execution_count": 141,
   "id": "c9490756-2494-41fb-90ba-97c22819885b",
   "metadata": {},
   "outputs": [
    {
     "data": {
      "text/plain": [
       "'ALEXIS:WAHL;JOHN:BELL;VICTORIA:SCHWARZ;ABBA:DORNY;GRACE:META;ANN:ARNO;MADISON:STAN;ALEX:CORNWELL;LEWIS:KERN;MEGAN:STAN;ALEX:KORN'"
      ]
     },
     "execution_count": 141,
     "metadata": {},
     "output_type": "execute_result"
    }
   ],
   "source": [
    "s2.upper()"
   ]
  },
  {
   "cell_type": "code",
   "execution_count": 164,
   "id": "b43ea5d2-30cf-4796-8806-d0e3ba31020b",
   "metadata": {},
   "outputs": [],
   "source": [
    "def meeting_3(s):\n",
    "    #s=s.upper()\n",
    "    #nombre_apellido = s.upper().split(';')\n",
    "    nombre_apellido_separado=[]\n",
    "    acomodo_impresion = []\n",
    "    \n",
    "    nombre_apellido_separado = [ t.split(':') for t in s.upper().split(';')]\n",
    "    #for t in nombre_apellido:\n",
    "    #    nombre_apellido_separado.append(t.split(':'))\n",
    "        \n",
    "    #apellidos_primero = [[apellido[1], apellido[0]] for apellido in nombre_apellido_separado]\n",
    "    \n",
    "    apellidos_ordenados = sorted( [[apellido[1], apellido[0]] for apellido in nombre_apellido_separado] )\n",
    "    \n",
    "    return apellidos_ordenados"
   ]
  },
  {
   "cell_type": "code",
   "execution_count": 162,
   "id": "ed0e785a-b545-4cc1-bd4c-7987aaaa7006",
   "metadata": {},
   "outputs": [
    {
     "data": {
      "text/plain": [
       "[['ARNO', 'ANN'],\n",
       " ['BELL', 'JOHN'],\n",
       " ['CORNWELL', 'ALEX'],\n",
       " ['DORNY', 'ABBA'],\n",
       " ['KERN', 'LEWIS'],\n",
       " ['KORN', 'ALEX'],\n",
       " ['META', 'GRACE'],\n",
       " ['SCHWARZ', 'VICTORIA'],\n",
       " ['STAN', 'MADISON'],\n",
       " ['STAN', 'MEGAN'],\n",
       " ['WAHL', 'ALEXIS']]"
      ]
     },
     "execution_count": 162,
     "metadata": {},
     "output_type": "execute_result"
    }
   ],
   "source": [
    "meeting_3(s2)"
   ]
  },
  {
   "cell_type": "code",
   "execution_count": 165,
   "id": "10ced6cc-d692-4322-9c48-cbccbd18cb48",
   "metadata": {
    "tags": []
   },
   "outputs": [
    {
     "data": {
      "text/plain": [
       "[['ARNO', 'ANN'],\n",
       " ['BELL', 'JOHN'],\n",
       " ['CORNWELL', 'ALEX'],\n",
       " ['DORNY', 'ABBA'],\n",
       " ['KERN', 'LEWIS'],\n",
       " ['KORN', 'ALEX'],\n",
       " ['META', 'GRACE'],\n",
       " ['SCHWARZ', 'VICTORIA'],\n",
       " ['STAN', 'MADISON'],\n",
       " ['STAN', 'MEGAN'],\n",
       " ['WAHL', 'ALEXIS']]"
      ]
     },
     "execution_count": 165,
     "metadata": {},
     "output_type": "execute_result"
    }
   ],
   "source": [
    "meeting_3(s2)"
   ]
  },
  {
   "cell_type": "code",
   "execution_count": null,
   "id": "0003732f-bdfa-4b77-b4d9-dd0fe7527b8f",
   "metadata": {},
   "outputs": [],
   "source": [
    "s2 = \"Alexis:Wahl;John:Bell;Victoria:Schwarz;Abba:Dorny;Grace:Meta;Ann:Arno;Madison:STAN;Alex:Cornwell;Lewis:Kern;Megan:Stan;Alex:Korn\""
   ]
  },
  {
   "cell_type": "code",
   "execution_count": 188,
   "id": "9f8d3e5a-2c0b-49fb-b351-984bc3b5e2c8",
   "metadata": {
    "tags": []
   },
   "outputs": [],
   "source": [
    "def meeting_5(s):\n",
    "    return sorted( [[apellido[1], apellido[0]] for apellido in [ t.split(':') for t in s.upper().split(';')] ] )"
   ]
  },
  {
   "cell_type": "code",
   "execution_count": 189,
   "id": "3fc75d7c-d797-4962-9762-88cd7ae46211",
   "metadata": {},
   "outputs": [
    {
     "data": {
      "text/plain": [
       "[['ARNO', 'ANN'],\n",
       " ['BELL', 'JOHN'],\n",
       " ['CORNWELL', 'ALEX'],\n",
       " ['DORNY', 'ABBA'],\n",
       " ['KERN', 'LEWIS'],\n",
       " ['KORN', 'ALEX'],\n",
       " ['META', 'GRACE'],\n",
       " ['SCHWARZ', 'VICTORIA'],\n",
       " ['STAN', 'MADISON'],\n",
       " ['STAN', 'MEGAN'],\n",
       " ['WAHL', 'ALEXIS']]"
      ]
     },
     "execution_count": 189,
     "metadata": {},
     "output_type": "execute_result"
    }
   ],
   "source": [
    "meeting_5(s2)"
   ]
  },
  {
   "cell_type": "code",
   "execution_count": 202,
   "id": "e28aec38-cca4-4741-ab2e-ed21f54390bd",
   "metadata": {},
   "outputs": [],
   "source": [
    "def meeting_6(s):\n",
    "    #acomodo_impresion = []\n",
    "    #apellidos_ordenados = sorted( [[apellido[1], apellido[0]] for apellido in [ t.split(':') for t in s.upper().split(';')] ] )\n",
    "    \n",
    "    #acomodo_impresion = [f'({(\", \".join(item))})' for item in apellidos_ordenados]\n",
    "        \n",
    "    #final= \"\".join(f'({(\", \".join(item))})' for item in sorted( [[apellido[1], apellido[0]] for apellido in [ t.split(':') for t in s.upper().split(';')] ] ))\n",
    "    return \"\".join(f'({(\", \".join(item))})' for item in sorted( [[apellido[1], apellido[0]] for apellido in [ t.split(':') for t in s.upper().split(';')] ] ))"
   ]
  },
  {
   "cell_type": "code",
   "execution_count": 203,
   "id": "1e9ea225-16d9-4af7-875e-aec47c9c64cd",
   "metadata": {},
   "outputs": [
    {
     "data": {
      "text/plain": [
       "'(ARNO, ANN)(BELL, JOHN)(CORNWELL, ALEX)(DORNY, ABBA)(KERN, LEWIS)(KORN, ALEX)(META, GRACE)(SCHWARZ, VICTORIA)(STAN, MADISON)(STAN, MEGAN)(WAHL, ALEXIS)'"
      ]
     },
     "execution_count": 203,
     "metadata": {},
     "output_type": "execute_result"
    }
   ],
   "source": [
    "meeting_6(s2)"
   ]
  },
  {
   "cell_type": "raw",
   "id": "08397ad0-c166-4831-84b4-b3f733764cad",
   "metadata": {},
   "source": [
    "def meeting(s):\n",
    "    nombre_apellido = s.upper().split(';')\n",
    "    nombre_apellido_separado=[]\n",
    "    acomodo_impresion = []\n",
    "    \n",
    "    for t in nombre_apellido:\n",
    "        nombre_apellido_separado.append(t.split(':'))\n",
    "        \n",
    "    apellidos_primero = [[apellido[1], apellido[0]]for apellido in nombre_apellido_separado]\n",
    "    \n",
    "    apellidos_ordenados = sorted(apellidos_primero)\n",
    "    \n",
    "    for item in apellidos_ordenados:\n",
    "        acomodo_impresion.append(f'({(\", \".join(item))})')\n",
    "        \n",
    "    final= \"\".join(acomodo_impresion)\n",
    "    \n",
    "    return final"
   ]
  },
  {
   "cell_type": "code",
   "execution_count": null,
   "id": "62ce5e49-f395-4f13-bebd-41d8da4bd684",
   "metadata": {},
   "outputs": [],
   "source": []
  },
  {
   "cell_type": "code",
   "execution_count": null,
   "id": "8dc27bf4-428e-4e84-ad1a-870a2611cccc",
   "metadata": {},
   "outputs": [],
   "source": []
  },
  {
   "cell_type": "code",
   "execution_count": null,
   "id": "3a08b61f-4328-4a1d-a27d-f05066ca8773",
   "metadata": {},
   "outputs": [],
   "source": []
  },
  {
   "cell_type": "code",
   "execution_count": null,
   "id": "29af088d-7f5b-4ddf-b2a9-0905d9d02880",
   "metadata": {},
   "outputs": [],
   "source": []
  },
  {
   "cell_type": "code",
   "execution_count": null,
   "id": "2cc07627-efc9-4b20-bf80-9e04837a4b40",
   "metadata": {},
   "outputs": [],
   "source": []
  }
 ],
 "metadata": {
  "kernelspec": {
   "display_name": "Python 3 (ipykernel)",
   "language": "python",
   "name": "python3"
  },
  "language_info": {
   "codemirror_mode": {
    "name": "ipython",
    "version": 3
   },
   "file_extension": ".py",
   "mimetype": "text/x-python",
   "name": "python",
   "nbconvert_exporter": "python",
   "pygments_lexer": "ipython3",
   "version": "3.9.13"
  }
 },
 "nbformat": 4,
 "nbformat_minor": 5
}
