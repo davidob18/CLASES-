{
 "cells": [
  {
   "cell_type": "code",
   "execution_count": 122,
   "id": "2a6b9602-03ec-48e6-9957-eaf7aa270870",
   "metadata": {
    "tags": []
   },
   "outputs": [],
   "source": [
    "s = \"Fred:Corwill;Wilfred:Corwill;Barney:Tornbull;Betty:Tornbull;Bjon:Tornbull;Raphael:Corwill;Alfred:Corwill\";"
   ]
  },
  {
   "cell_type": "code",
   "execution_count": 25,
   "id": "05ae3b00-dff3-4dca-b562-801cd725c8a4",
   "metadata": {},
   "outputs": [
    {
     "data": {
      "text/plain": [
       "'Fred:Corwill;Wilfred:Corwill;Barney:Tornbull;Betty:Tornbull;Bjon:Tornbull;Raphael:Corwill;Alfred:Corwill'"
      ]
     },
     "execution_count": 25,
     "metadata": {},
     "output_type": "execute_result"
    }
   ],
   "source": [
    "s"
   ]
  },
  {
   "cell_type": "code",
   "execution_count": null,
   "id": "e131f0ec-562e-49d8-8d4d-b431ef49fa89",
   "metadata": {},
   "outputs": [],
   "source": []
  },
  {
   "cell_type": "code",
   "execution_count": 3,
   "id": "668dc558-f87d-4be4-b0c0-e7340399caa8",
   "metadata": {},
   "outputs": [],
   "source": [
    "#\"(CORWILL, ALFRED)(CORWILL, FRED)(CORWILL, RAPHAEL)(CORWILL, WILFRED)(TORNBULL, BARNEY)(TORNBULL, BETTY)(TORNBULL, BJON)\""
   ]
  },
  {
   "cell_type": "code",
   "execution_count": 33,
   "id": "5de22298-e407-4834-9ee0-b5e9db612121",
   "metadata": {},
   "outputs": [
    {
     "data": {
      "text/plain": [
       "str"
      ]
     },
     "execution_count": 33,
     "metadata": {},
     "output_type": "execute_result"
    }
   ],
   "source": [
    "type(s)"
   ]
  },
  {
   "cell_type": "code",
   "execution_count": 34,
   "id": "e5c2fa08-1af0-4427-a294-c5ecd1bd1765",
   "metadata": {
    "tags": []
   },
   "outputs": [],
   "source": [
    "x = s.split(';')"
   ]
  },
  {
   "cell_type": "code",
   "execution_count": 35,
   "id": "634a434d-2bec-49ba-8a35-ef9dd1b22747",
   "metadata": {},
   "outputs": [
    {
     "data": {
      "text/plain": [
       "['Fred:Corwill',\n",
       " 'Wilfred:Corwill',\n",
       " 'Barney:Tornbull',\n",
       " 'Betty:Tornbull',\n",
       " 'Bjon:Tornbull',\n",
       " 'Raphael:Corwill',\n",
       " 'Alfred:Corwill']"
      ]
     },
     "execution_count": 35,
     "metadata": {},
     "output_type": "execute_result"
    }
   ],
   "source": [
    "x"
   ]
  },
  {
   "cell_type": "code",
   "execution_count": 10,
   "id": "652c8864-7bf4-4a3f-9b11-f8ffdfed914a",
   "metadata": {
    "tags": []
   },
   "outputs": [
    {
     "data": {
      "text/plain": [
       "['Fred', 'Corwill']"
      ]
     },
     "execution_count": 10,
     "metadata": {},
     "output_type": "execute_result"
    }
   ],
   "source": [
    "x[0].split(':')"
   ]
  },
  {
   "cell_type": "code",
   "execution_count": 11,
   "id": "0fcf7d40-2e3e-4fcd-8d3b-a5a25a2c4707",
   "metadata": {},
   "outputs": [
    {
     "data": {
      "text/plain": [
       "list"
      ]
     },
     "execution_count": 11,
     "metadata": {},
     "output_type": "execute_result"
    }
   ],
   "source": [
    "type(x)"
   ]
  },
  {
   "cell_type": "code",
   "execution_count": 12,
   "id": "20eb4a0e-fa84-4ffe-9daa-666ddc9cd50a",
   "metadata": {},
   "outputs": [
    {
     "data": {
      "text/plain": [
       "'Wilfred:Corwill'"
      ]
     },
     "execution_count": 12,
     "metadata": {},
     "output_type": "execute_result"
    }
   ],
   "source": [
    "x[1]"
   ]
  },
  {
   "cell_type": "code",
   "execution_count": 13,
   "id": "72ecbba8-83d4-45a9-9fca-ae43fd747ddf",
   "metadata": {},
   "outputs": [],
   "source": [
    "y=()"
   ]
  },
  {
   "cell_type": "code",
   "execution_count": 14,
   "id": "def051c4-0e78-4fed-91fd-c935b499171e",
   "metadata": {},
   "outputs": [
    {
     "name": "stdout",
     "output_type": "stream",
     "text": [
      "<class 'tuple'>\n"
     ]
    }
   ],
   "source": [
    "print(type(y))"
   ]
  },
  {
   "cell_type": "code",
   "execution_count": null,
   "id": "f618cd69-1117-4c78-af57-2aa8dbaa9f8f",
   "metadata": {},
   "outputs": [],
   "source": [
    "#apellidos_puntos = [(apellido, random.randint(0,10)) for apellido in apellidos]"
   ]
  },
  {
   "cell_type": "code",
   "execution_count": 36,
   "id": "6eac316d-11c0-48ec-8ef4-233744448458",
   "metadata": {},
   "outputs": [],
   "source": [
    "for t in x:\n",
    "    z.append(t.split(':'))"
   ]
  },
  {
   "cell_type": "code",
   "execution_count": 31,
   "id": "d6404e44-4e87-45de-8f06-6f89479b2d2d",
   "metadata": {},
   "outputs": [],
   "source": [
    "z=[]"
   ]
  },
  {
   "cell_type": "code",
   "execution_count": 37,
   "id": "7b5aca9a-fa70-4658-903b-2c68f2531c2b",
   "metadata": {},
   "outputs": [
    {
     "data": {
      "text/plain": [
       "[['Fred', 'Corwill'],\n",
       " ['Wilfred', 'Corwill'],\n",
       " ['Barney', 'Tornbull'],\n",
       " ['Betty', 'Tornbull'],\n",
       " ['Bjon', 'Tornbull'],\n",
       " ['Raphael', 'Corwill'],\n",
       " ['Alfred', 'Corwill']]"
      ]
     },
     "execution_count": 37,
     "metadata": {},
     "output_type": "execute_result"
    }
   ],
   "source": [
    "z"
   ]
  },
  {
   "cell_type": "code",
   "execution_count": 107,
   "id": "92f6080e-826f-4dfc-954c-4bc70e24b577",
   "metadata": {},
   "outputs": [],
   "source": [
    "#apellidos_puntos = [(apellido[1], apellido[0]) for apellido in z]\n",
    "apellidos_puntos = [[apellido[1], apellido[0]]for apellido in z]"
   ]
  },
  {
   "cell_type": "code",
   "execution_count": 108,
   "id": "d954dfe2-3932-4b7d-82e2-73ff4111e85b",
   "metadata": {
    "tags": []
   },
   "outputs": [
    {
     "data": {
      "text/plain": [
       "[['Corwill', 'Fred'],\n",
       " ['Corwill', 'Wilfred'],\n",
       " ['Tornbull', 'Barney'],\n",
       " ['Tornbull', 'Betty'],\n",
       " ['Tornbull', 'Bjon'],\n",
       " ['Corwill', 'Raphael'],\n",
       " ['Corwill', 'Alfred']]"
      ]
     },
     "execution_count": 108,
     "metadata": {},
     "output_type": "execute_result"
    }
   ],
   "source": [
    "apellidos_puntos"
   ]
  },
  {
   "cell_type": "code",
   "execution_count": 109,
   "id": "beb6cb3a-eff1-4760-8af5-77c4440e81e4",
   "metadata": {},
   "outputs": [],
   "source": [
    "apellidos_ordenados = sorted(apellidos_puntos)"
   ]
  },
  {
   "cell_type": "code",
   "execution_count": 110,
   "id": "d5c416ad-de4b-4462-ab00-67e489526a4a",
   "metadata": {},
   "outputs": [
    {
     "data": {
      "text/plain": [
       "[['Corwill', 'Alfred'],\n",
       " ['Corwill', 'Fred'],\n",
       " ['Corwill', 'Raphael'],\n",
       " ['Corwill', 'Wilfred'],\n",
       " ['Tornbull', 'Barney'],\n",
       " ['Tornbull', 'Betty'],\n",
       " ['Tornbull', 'Bjon']]"
      ]
     },
     "execution_count": 110,
     "metadata": {},
     "output_type": "execute_result"
    }
   ],
   "source": [
    "apellidos_ordenados"
   ]
  },
  {
   "cell_type": "code",
   "execution_count": 101,
   "id": "1b626693-015c-49b8-bed6-ee9e10f058f2",
   "metadata": {},
   "outputs": [
    {
     "data": {
      "text/plain": [
       "'CORWILL, ALFRED'"
      ]
     },
     "execution_count": 101,
     "metadata": {},
     "output_type": "execute_result"
    }
   ],
   "source": [
    "(\", \".join(apellidos_ordenados[0])).upper()"
   ]
  },
  {
   "cell_type": "code",
   "execution_count": 115,
   "id": "879ab72a-0e3a-4fa4-ab3f-fafc7bdb369f",
   "metadata": {
    "tags": []
   },
   "outputs": [],
   "source": [
    "for item in apellidos_ordenados:\n",
    "    z2.append(f'({(\", \".join(item)).upper()})')"
   ]
  },
  {
   "cell_type": "code",
   "execution_count": 114,
   "id": "deb8178a-d959-4afb-83f0-0e3b76870ca8",
   "metadata": {},
   "outputs": [],
   "source": [
    "z2=[]"
   ]
  },
  {
   "cell_type": "code",
   "execution_count": 116,
   "id": "6c65f2a9-072e-48bf-b9a0-07ea436a883e",
   "metadata": {},
   "outputs": [
    {
     "data": {
      "text/plain": [
       "['(CORWILL, ALFRED)',\n",
       " '(CORWILL, FRED)',\n",
       " '(CORWILL, RAPHAEL)',\n",
       " '(CORWILL, WILFRED)',\n",
       " '(TORNBULL, BARNEY)',\n",
       " '(TORNBULL, BETTY)',\n",
       " '(TORNBULL, BJON)']"
      ]
     },
     "execution_count": 116,
     "metadata": {},
     "output_type": "execute_result"
    }
   ],
   "source": [
    "z2"
   ]
  },
  {
   "cell_type": "code",
   "execution_count": 117,
   "id": "03ea5f50-0a2f-4f45-a838-5c954b6765f7",
   "metadata": {},
   "outputs": [],
   "source": [
    "z3= \"\".join(z2)"
   ]
  },
  {
   "cell_type": "code",
   "execution_count": 118,
   "id": "fbed1c8d-183f-44bc-8751-64b3d5cbdd72",
   "metadata": {},
   "outputs": [
    {
     "data": {
      "text/plain": [
       "'(CORWILL, ALFRED)(CORWILL, FRED)(CORWILL, RAPHAEL)(CORWILL, WILFRED)(TORNBULL, BARNEY)(TORNBULL, BETTY)(TORNBULL, BJON)'"
      ]
     },
     "execution_count": 118,
     "metadata": {},
     "output_type": "execute_result"
    }
   ],
   "source": [
    "z3"
   ]
  },
  {
   "cell_type": "code",
   "execution_count": 84,
   "id": "ac7bb64a-087e-44c5-8eee-3352060c79d2",
   "metadata": {},
   "outputs": [
    {
     "data": {
      "text/plain": [
       "'Corwill,Alfred:Corwill,Fred:Corwill,Raphael:Corwill,Wilfred:Tornbull,Barney:Tornbull,Betty:Tornbull,Bjon'"
      ]
     },
     "execution_count": 84,
     "metadata": {},
     "output_type": "execute_result"
    }
   ],
   "source": [
    "z3"
   ]
  },
  {
   "cell_type": "code",
   "execution_count": 95,
   "id": "90ac466d-b80b-4100-ae57-cbce44536cc5",
   "metadata": {},
   "outputs": [
    {
     "data": {
      "text/plain": [
       "'(CORWILL,ALFRED)'"
      ]
     },
     "execution_count": 95,
     "metadata": {},
     "output_type": "execute_result"
    }
   ],
   "source": [
    "f'({(\",\".join(apellidos_ordenados[0])).upper()})'"
   ]
  },
  {
   "cell_type": "code",
   "execution_count": null,
   "id": "ae11bda9-0e72-4a82-ad3a-b4a323788f2a",
   "metadata": {},
   "outputs": [],
   "source": []
  },
  {
   "cell_type": "raw",
   "id": "eeabaca7-8782-4ec6-964e-1436b3a2c26e",
   "metadata": {},
   "source": [
    "myTuple = (\"John\", \"Peter\", \"Vicky\")\n",
    "\n",
    "x = \"#\".join(myTuple)\n",
    "\n",
    "print(x)"
   ]
  },
  {
   "cell_type": "raw",
   "id": "97493f67-2789-4e7a-b43c-49e82a149f43",
   "metadata": {},
   "source": [
    "txt = \"welcome to the jungle\"\n",
    "\n",
    "x = txt.split()\n",
    "\n",
    "print(x)"
   ]
  },
  {
   "cell_type": "code",
   "execution_count": 146,
   "id": "8eca5cad-89f6-45e3-9f5f-5d82a20c47e5",
   "metadata": {},
   "outputs": [],
   "source": [
    "def meeting(s):\n",
    "    nombre_apellido = s.upper().split(';')\n",
    "    nombre_apellido_separado=[]\n",
    "    acomodo_impresion = []\n",
    "    \n",
    "    for t in nombre_apellido:\n",
    "        nombre_apellido_separado.append(t.split(':'))\n",
    "        \n",
    "    apellidos_primero = [[apellido[1], apellido[0]]for apellido in nombre_apellido_separado]\n",
    "    \n",
    "    apellidos_ordenados = sorted(apellidos_primero)\n",
    "    \n",
    "    for item in apellidos_ordenados:\n",
    "        acomodo_impresion.append(f'({(\", \".join(item))})')\n",
    "        \n",
    "    final= \"\".join(acomodo_impresion)\n",
    "    \n",
    "    return final"
   ]
  },
  {
   "cell_type": "code",
   "execution_count": 132,
   "id": "170af8c2-6ac5-42aa-bc8f-a9508da7afea",
   "metadata": {},
   "outputs": [
    {
     "data": {
      "text/plain": [
       "'(CORWILL, ALFRED)(CORWILL, FRED)(CORWILL, RAPHAEL)(CORWILL, WILFRED)(TORNBULL, BARNEY)(TORNBULL, BETTY)(TORNBULL, BJON)'"
      ]
     },
     "execution_count": 132,
     "metadata": {},
     "output_type": "execute_result"
    }
   ],
   "source": [
    "meeting(s)"
   ]
  },
  {
   "cell_type": "code",
   "execution_count": null,
   "id": "bb5e2d8f-df53-4a1f-9955-e136fd558d4a",
   "metadata": {},
   "outputs": [],
   "source": []
  },
  {
   "cell_type": "code",
   "execution_count": null,
   "id": "ac6bdc79-3015-49a5-b33e-9224377d8967",
   "metadata": {},
   "outputs": [],
   "source": [
    "testing(\"Alexis:Wahl;John:Bell;Victoria:Schwarz;Abba:Dorny;Grace:Meta;Ann:Arno;Madison:STAN;Alex:Cornwell;Lewis:Kern;Megan:Stan;Alex:Korn\", \n",
    "            \"(ARNO, ANN)(BELL, JOHN)(CORNWELL, ALEX)(DORNY, ABBA)(KERN, LEWIS)(KORN, ALEX)(META, GRACE)(SCHWARZ, VICTORIA)(STAN, MADISON)(STAN, MEGAN)(WAHL, ALEXIS)\")"
   ]
  },
  {
   "cell_type": "code",
   "execution_count": 133,
   "id": "f1bd0ddd-d8ff-42ca-9837-54eded627d22",
   "metadata": {},
   "outputs": [],
   "source": [
    "s2 = \"Alexis:Wahl;John:Bell;Victoria:Schwarz;Abba:Dorny;Grace:Meta;Ann:Arno;Madison:STAN;Alex:Cornwell;Lewis:Kern;Megan:Stan;Alex:Korn\""
   ]
  },
  {
   "cell_type": "code",
   "execution_count": 134,
   "id": "61be7948-fbba-4fce-929d-f70c7fe9b2ab",
   "metadata": {},
   "outputs": [
    {
     "data": {
      "text/plain": [
       "'(ARNO, ANN)(BELL, JOHN)(CORNWELL, ALEX)(DORNY, ABBA)(KERN, LEWIS)(KORN, ALEX)(META, GRACE)(STAN, MADISON)(SCHWARZ, VICTORIA)(STAN, MEGAN)(WAHL, ALEXIS)'"
      ]
     },
     "execution_count": 134,
     "metadata": {},
     "output_type": "execute_result"
    }
   ],
   "source": [
    "meeting(s2)"
   ]
  },
  {
   "cell_type": "code",
   "execution_count": 144,
   "id": "7abb8d77-5518-4d68-a6d9-e768567eaf9c",
   "metadata": {},
   "outputs": [],
   "source": [
    "def meeting_2(s):\n",
    "    #s=s.upper()\n",
    "    nombre_apellido = s.upper().split(';')\n",
    "    nombre_apellido_separado=[]\n",
    "    acomodo_impresion = []\n",
    "    \n",
    "    for t in nombre_apellido:\n",
    "        nombre_apellido_separado.append(t.split(':'))\n",
    "        \n",
    "    apellidos_primero = [[apellido[1], apellido[0]]for apellido in nombre_apellido_separado]\n",
    "    \n",
    "    apellidos_ordenados = sorted(apellidos_primero)\n",
    "    \n",
    "    return apellidos_ordenados"
   ]
  },
  {
   "cell_type": "code",
   "execution_count": 145,
   "id": "8c30c0ad-fa5b-4920-a42a-a145d20d4903",
   "metadata": {},
   "outputs": [
    {
     "data": {
      "text/plain": [
       "[['ARNO', 'ANN'],\n",
       " ['BELL', 'JOHN'],\n",
       " ['CORNWELL', 'ALEX'],\n",
       " ['DORNY', 'ABBA'],\n",
       " ['KERN', 'LEWIS'],\n",
       " ['KORN', 'ALEX'],\n",
       " ['META', 'GRACE'],\n",
       " ['SCHWARZ', 'VICTORIA'],\n",
       " ['STAN', 'MADISON'],\n",
       " ['STAN', 'MEGAN'],\n",
       " ['WAHL', 'ALEXIS']]"
      ]
     },
     "execution_count": 145,
     "metadata": {},
     "output_type": "execute_result"
    }
   ],
   "source": [
    "meeting_2(s2)"
   ]
  },
  {
   "cell_type": "code",
   "execution_count": 141,
   "id": "c9490756-2494-41fb-90ba-97c22819885b",
   "metadata": {},
   "outputs": [
    {
     "data": {
      "text/plain": [
       "'ALEXIS:WAHL;JOHN:BELL;VICTORIA:SCHWARZ;ABBA:DORNY;GRACE:META;ANN:ARNO;MADISON:STAN;ALEX:CORNWELL;LEWIS:KERN;MEGAN:STAN;ALEX:KORN'"
      ]
     },
     "execution_count": 141,
     "metadata": {},
     "output_type": "execute_result"
    }
   ],
   "source": [
    "s2.upper()"
   ]
  },
  {
   "cell_type": "code",
   "execution_count": 164,
   "id": "b43ea5d2-30cf-4796-8806-d0e3ba31020b",
   "metadata": {},
   "outputs": [],
   "source": [
    "def meeting_3(s):\n",
    "    #s=s.upper()\n",
    "    #nombre_apellido = s.upper().split(';')\n",
    "    nombre_apellido_separado=[]\n",
    "    acomodo_impresion = []\n",
    "    \n",
    "    nombre_apellido_separado = [ t.split(':') for t in s.upper().split(';')]\n",
    "    #for t in nombre_apellido:\n",
    "    #    nombre_apellido_separado.append(t.split(':'))\n",
    "        \n",
    "    #apellidos_primero = [[apellido[1], apellido[0]] for apellido in nombre_apellido_separado]\n",
    "    \n",
    "    apellidos_ordenados = sorted( [[apellido[1], apellido[0]] for apellido in nombre_apellido_separado] )\n",
    "    \n",
    "    return apellidos_ordenados"
   ]
  },
  {
   "cell_type": "code",
   "execution_count": 162,
   "id": "ed0e785a-b545-4cc1-bd4c-7987aaaa7006",
   "metadata": {},
   "outputs": [
    {
     "data": {
      "text/plain": [
       "[['ARNO', 'ANN'],\n",
       " ['BELL', 'JOHN'],\n",
       " ['CORNWELL', 'ALEX'],\n",
       " ['DORNY', 'ABBA'],\n",
       " ['KERN', 'LEWIS'],\n",
       " ['KORN', 'ALEX'],\n",
       " ['META', 'GRACE'],\n",
       " ['SCHWARZ', 'VICTORIA'],\n",
       " ['STAN', 'MADISON'],\n",
       " ['STAN', 'MEGAN'],\n",
       " ['WAHL', 'ALEXIS']]"
      ]
     },
     "execution_count": 162,
     "metadata": {},
     "output_type": "execute_result"
    }
   ],
   "source": [
    "meeting_3(s2)"
   ]
  },
  {
   "cell_type": "code",
   "execution_count": 165,
   "id": "10ced6cc-d692-4322-9c48-cbccbd18cb48",
   "metadata": {
    "tags": []
   },
   "outputs": [
    {
     "data": {
      "text/plain": [
       "[['ARNO', 'ANN'],\n",
       " ['BELL', 'JOHN'],\n",
       " ['CORNWELL', 'ALEX'],\n",
       " ['DORNY', 'ABBA'],\n",
       " ['KERN', 'LEWIS'],\n",
       " ['KORN', 'ALEX'],\n",
       " ['META', 'GRACE'],\n",
       " ['SCHWARZ', 'VICTORIA'],\n",
       " ['STAN', 'MADISON'],\n",
       " ['STAN', 'MEGAN'],\n",
       " ['WAHL', 'ALEXIS']]"
      ]
     },
     "execution_count": 165,
     "metadata": {},
     "output_type": "execute_result"
    }
   ],
   "source": [
    "meeting_3(s2)"
   ]
  },
  {
   "cell_type": "code",
   "execution_count": null,
   "id": "0003732f-bdfa-4b77-b4d9-dd0fe7527b8f",
   "metadata": {},
   "outputs": [],
   "source": [
    "s2 = \"Alexis:Wahl;John:Bell;Victoria:Schwarz;Abba:Dorny;Grace:Meta;Ann:Arno;Madison:STAN;Alex:Cornwell;Lewis:Kern;Megan:Stan;Alex:Korn\""
   ]
  },
  {
   "cell_type": "code",
   "execution_count": 188,
   "id": "9f8d3e5a-2c0b-49fb-b351-984bc3b5e2c8",
   "metadata": {
    "tags": []
   },
   "outputs": [],
   "source": [
    "def meeting_5(s):\n",
    "    return sorted( [[apellido[1], apellido[0]] for apellido in [ t.split(':') for t in s.upper().split(';')] ] )"
   ]
  },
  {
   "cell_type": "code",
   "execution_count": 189,
   "id": "3fc75d7c-d797-4962-9762-88cd7ae46211",
   "metadata": {},
   "outputs": [
    {
     "data": {
      "text/plain": [
       "[['ARNO', 'ANN'],\n",
       " ['BELL', 'JOHN'],\n",
       " ['CORNWELL', 'ALEX'],\n",
       " ['DORNY', 'ABBA'],\n",
       " ['KERN', 'LEWIS'],\n",
       " ['KORN', 'ALEX'],\n",
       " ['META', 'GRACE'],\n",
       " ['SCHWARZ', 'VICTORIA'],\n",
       " ['STAN', 'MADISON'],\n",
       " ['STAN', 'MEGAN'],\n",
       " ['WAHL', 'ALEXIS']]"
      ]
     },
     "execution_count": 189,
     "metadata": {},
     "output_type": "execute_result"
    }
   ],
   "source": [
    "meeting_5(s2)"
   ]
  },
  {
   "cell_type": "code",
   "execution_count": 202,
   "id": "e28aec38-cca4-4741-ab2e-ed21f54390bd",
   "metadata": {},
   "outputs": [],
   "source": [
    "def meeting_6(s):\n",
    "    #acomodo_impresion = []\n",
    "    #apellidos_ordenados = sorted( [[apellido[1], apellido[0]] for apellido in [ t.split(':') for t in s.upper().split(';')] ] )\n",
    "    \n",
    "    #acomodo_impresion = [f'({(\", \".join(item))})' for item in apellidos_ordenados]\n",
    "        \n",
    "    #final= \"\".join(f'({(\", \".join(item))})' for item in sorted( [[apellido[1], apellido[0]] for apellido in [ t.split(':') for t in s.upper().split(';')] ] ))\n",
    "    return \"\".join(f'({(\", \".join(item))})' for item in sorted( [[apellido[1], apellido[0]] for apellido in [ t.split(':') for t in s.upper().split(';')] ] ))"
   ]
  },
  {
   "cell_type": "code",
   "execution_count": 203,
   "id": "1e9ea225-16d9-4af7-875e-aec47c9c64cd",
   "metadata": {},
   "outputs": [
    {
     "data": {
      "text/plain": [
       "'(ARNO, ANN)(BELL, JOHN)(CORNWELL, ALEX)(DORNY, ABBA)(KERN, LEWIS)(KORN, ALEX)(META, GRACE)(SCHWARZ, VICTORIA)(STAN, MADISON)(STAN, MEGAN)(WAHL, ALEXIS)'"
      ]
     },
     "execution_count": 203,
     "metadata": {},
     "output_type": "execute_result"
    }
   ],
   "source": [
    "meeting_6(s2)"
   ]
  },
  {
   "cell_type": "raw",
   "id": "08397ad0-c166-4831-84b4-b3f733764cad",
   "metadata": {},
   "source": [
    "def meeting(s):\n",
    "    nombre_apellido = s.upper().split(';')\n",
    "    nombre_apellido_separado=[]\n",
    "    acomodo_impresion = []\n",
    "    \n",
    "    for t in nombre_apellido:\n",
    "        nombre_apellido_separado.append(t.split(':'))\n",
    "        \n",
    "    apellidos_primero = [[apellido[1], apellido[0]]for apellido in nombre_apellido_separado]\n",
    "    \n",
    "    apellidos_ordenados = sorted(apellidos_primero)\n",
    "    \n",
    "    for item in apellidos_ordenados:\n",
    "        acomodo_impresion.append(f'({(\", \".join(item))})')\n",
    "        \n",
    "    final= \"\".join(acomodo_impresion)\n",
    "    \n",
    "    return final"
   ]
  },
  {
   "cell_type": "code",
   "execution_count": null,
   "id": "62ce5e49-f395-4f13-bebd-41d8da4bd684",
   "metadata": {},
   "outputs": [],
   "source": [
    "def meeting(s):\n",
    "    lista = s.upper().split(';')\n",
    "    return ''.join(sorted('({1}, {0})'.format(*(n.split(':'))) for n in lista))"
   ]
  },
  {
   "cell_type": "code",
   "execution_count": null,
   "id": "8dc27bf4-428e-4e84-ad1a-870a2611cccc",
   "metadata": {},
   "outputs": [],
   "source": [
    "mport re\n",
    "def meeting(s):\n",
    "    return ''.join(sorted(filter(None, re.sub(r'(\\w*):(\\w*);?','(\\g<2>, \\g<1>);',s).upper().split(';'))))"
   ]
  },
  {
   "cell_type": "code",
   "execution_count": null,
   "id": "41727a4a-60a6-47ed-8adf-de8a8100c2f8",
   "metadata": {},
   "outputs": [],
   "source": []
  },
  {
   "cell_type": "code",
   "execution_count": 1,
   "id": "7f2c6efd-a033-4a3c-998a-67187600ad48",
   "metadata": {},
   "outputs": [
    {
     "name": "stdout",
     "output_type": "stream",
     "text": [
      "Collecting selenium\n",
      "  Downloading selenium-4.6.0-py3-none-any.whl (5.2 MB)\n",
      "\u001b[K     |████████████████████████████████| 5.2 MB 872 kB/s eta 0:00:01\n",
      "\u001b[?25hCollecting trio~=0.17\n",
      "  Downloading trio-0.22.0-py3-none-any.whl (384 kB)\n",
      "\u001b[K     |████████████████████████████████| 384 kB 1.0 MB/s eta 0:00:01\n",
      "\u001b[?25hRequirement already satisfied: urllib3[socks]~=1.26 in /opt/anaconda3/lib/python3.9/site-packages (from selenium) (1.26.9)\n",
      "Requirement already satisfied: certifi>=2021.10.8 in /opt/anaconda3/lib/python3.9/site-packages (from selenium) (2021.10.8)\n",
      "Collecting trio-websocket~=0.9\n",
      "  Downloading trio_websocket-0.9.2-py3-none-any.whl (16 kB)\n",
      "Requirement already satisfied: sortedcontainers in /opt/anaconda3/lib/python3.9/site-packages (from trio~=0.17->selenium) (2.4.0)\n",
      "Requirement already satisfied: idna in /opt/anaconda3/lib/python3.9/site-packages (from trio~=0.17->selenium) (3.3)\n",
      "Requirement already satisfied: sniffio in /opt/anaconda3/lib/python3.9/site-packages (from trio~=0.17->selenium) (1.2.0)\n",
      "Collecting exceptiongroup>=1.0.0rc9\n",
      "  Downloading exceptiongroup-1.0.1-py3-none-any.whl (12 kB)\n",
      "Collecting async-generator>=1.9\n",
      "  Downloading async_generator-1.10-py3-none-any.whl (18 kB)\n",
      "Requirement already satisfied: attrs>=19.2.0 in /opt/anaconda3/lib/python3.9/site-packages (from trio~=0.17->selenium) (21.4.0)\n",
      "Collecting outcome\n",
      "  Downloading outcome-1.2.0-py2.py3-none-any.whl (9.7 kB)\n",
      "Collecting wsproto>=0.14\n",
      "  Downloading wsproto-1.2.0-py3-none-any.whl (24 kB)\n",
      "Requirement already satisfied: PySocks!=1.5.7,<2.0,>=1.5.6 in /opt/anaconda3/lib/python3.9/site-packages (from urllib3[socks]~=1.26->selenium) (1.7.1)\n",
      "Collecting h11<1,>=0.9.0\n",
      "  Downloading h11-0.14.0-py3-none-any.whl (58 kB)\n",
      "\u001b[K     |████████████████████████████████| 58 kB 1.5 MB/s eta 0:00:01\n",
      "\u001b[?25hInstalling collected packages: outcome, h11, exceptiongroup, async-generator, wsproto, trio, trio-websocket, selenium\n",
      "Successfully installed async-generator-1.10 exceptiongroup-1.0.1 h11-0.14.0 outcome-1.2.0 selenium-4.6.0 trio-0.22.0 trio-websocket-0.9.2 wsproto-1.2.0\n"
     ]
    }
   ],
   "source": [
    "!pip install selenium"
   ]
  },
  {
   "cell_type": "code",
   "execution_count": 19,
   "id": "3a08b61f-4328-4a1d-a27d-f05066ca8773",
   "metadata": {},
   "outputs": [],
   "source": [
    "import requests\n",
    "from bs4 import BeautifulSoup\n",
    "import pandas as pd\n",
    "\n",
    "from selenium.webdriver.common.by import By\n",
    "from selenium import webdriver\n",
    "from selenium.webdriver.common.keys import Keys\n",
    "from selenium.webdriver.common.action_chains import ActionChains"
   ]
  },
  {
   "cell_type": "code",
   "execution_count": 2,
   "id": "29af088d-7f5b-4ddf-b2a9-0905d9d02880",
   "metadata": {},
   "outputs": [],
   "source": [
    "driver = webdriver.Chrome()\n",
    "#driver = webdriver"
   ]
  },
  {
   "cell_type": "code",
   "execution_count": 11,
   "id": "2cc07627-efc9-4b20-bf80-9e04837a4b40",
   "metadata": {},
   "outputs": [],
   "source": [
    "driver.quit()"
   ]
  },
  {
   "cell_type": "code",
   "execution_count": 4,
   "id": "a4016bb3-0431-4e40-8fe7-d590cbe45cb7",
   "metadata": {},
   "outputs": [],
   "source": [
    "url = 'https://www.nike.com/mx/w/rebajas-3yaep'"
   ]
  },
  {
   "cell_type": "code",
   "execution_count": 5,
   "id": "4f676658-46ff-4d50-8b14-3f09e139138a",
   "metadata": {},
   "outputs": [],
   "source": [
    "driver.get(url)"
   ]
  },
  {
   "cell_type": "code",
   "execution_count": 6,
   "id": "cd41c5cf-43fa-44e3-970c-f0e9457486a4",
   "metadata": {},
   "outputs": [],
   "source": [
    "sopa = BeautifulSoup(driver.page_source, 'html5lib')"
   ]
  },
  {
   "cell_type": "code",
   "execution_count": 7,
   "id": "53bc2412-1e4b-47e5-ab21-f2641a1dc1c3",
   "metadata": {},
   "outputs": [],
   "source": [
    "bloques_imagenes = sopa.select('a.product-card__img-link-overlay')"
   ]
  },
  {
   "cell_type": "code",
   "execution_count": 8,
   "id": "41ab9f13-db06-454b-a419-3e3c49dffc86",
   "metadata": {},
   "outputs": [
    {
     "data": {
      "text/plain": [
       "24"
      ]
     },
     "execution_count": 8,
     "metadata": {},
     "output_type": "execute_result"
    }
   ],
   "source": [
    "len(bloques_imagenes)"
   ]
  },
  {
   "cell_type": "code",
   "execution_count": 9,
   "id": "b915ec7e-21da-4973-bd21-816878ccbb42",
   "metadata": {},
   "outputs": [],
   "source": [
    "links_imagenes = [imagen.select('img')[0].get('src') for imagen in bloques_imagenes]"
   ]
  },
  {
   "cell_type": "code",
   "execution_count": 10,
   "id": "f3336dc2-a068-4e85-bb26-55c282449c5a",
   "metadata": {},
   "outputs": [
    {
     "data": {
      "text/plain": [
       "['https://static.nike.com/a/images/c_limit,w_592,f_auto/t_product_v1/341e2ed9-9797-4f15-8d4f-265071377068/calzado-air-force-1-07-lv8-7j2wDJ.png',\n",
       " 'https://static.nike.com/a/images/c_limit,w_592,f_auto/t_product_v1/caac65a3-266e-474f-b812-af54943e7cc1/sudadera-de-french-terry-sportswear-4rDqm6.png',\n",
       " 'https://static.nike.com/a/images/c_limit,w_592,f_auto/t_product_v1/60aaa539-1a5a-4f4e-b2c4-189a74596df6/shorts-flow-sportswear-sport-essentials-ZZNC7C.png',\n",
       " 'https://static.nike.com/a/images/c_limit,w_592,f_auto/t_product_v1/i1-5d8f28aa-7c16-49b8-8f0d-1009a89a2fd1/sandalias-air-max-koko-SL67jw.png',\n",
       " 'https://static.nike.com/a/images/c_limit,w_592,f_auto/t_product_v1/515b64ee-4d9d-4e9d-9f50-4c59c8887a2c/calzado-air-force-1-07-60-next-nature-DzxWgp.png',\n",
       " 'https://static.nike.com/a/images/c_limit,w_592,f_auto/t_product_v1/3e8aa8a9-b208-430f-9c5f-83b09435e6a6/sudadera-con-gorro-sin-cierre-jordan-chilango-V5XS13.png',\n",
       " 'https://static.nike.com/a/images/c_limit,w_592,f_auto/t_product_v1/3a98bb69-0fcb-4765-9381-4bed7fac1db0/calzado-de-b%C3%A1squetbol-air-jordan-36-low-luka-JKf50W.png',\n",
       " 'https://static.nike.com/a/images/c_limit,w_592,f_auto/t_product_v1/e4dbf362-0ae5-4906-aef3-03533c5e6b92/calzado-de-entrenamiento-air-zoom-superrep-3-dNm6qz.png',\n",
       " 'https://static.nike.com/a/images/c_limit,w_592,f_auto/t_product_v1/4d0bf3fd-5781-4c97-ad96-dd687e2eec5c/bra-deportivo-con-gr%C3%A1ficos-sin-almohadillas-de-baja-sujeci%C3%B3n-yoga-indy-CDMXDd.png',\n",
       " 'https://static.nike.com/a/images/c_limit,w_592,f_auto/t_product_v1/68dd404f-2ca8-4e55-852f-eff4038f626b/shorts-de-75-900-pro-3ZtGX0.png']"
      ]
     },
     "execution_count": 10,
     "metadata": {},
     "output_type": "execute_result"
    }
   ],
   "source": [
    "links_imagenes[:10]"
   ]
  },
  {
   "cell_type": "code",
   "execution_count": 52,
   "id": "e215f606-4bf9-4dcc-8088-30f183151868",
   "metadata": {},
   "outputs": [
    {
     "name": "stdout",
     "output_type": "stream",
     "text": [
      "Collecting html5lib\n",
      "  Downloading html5lib-1.1-py2.py3-none-any.whl (112 kB)\n",
      "\u001b[K     |████████████████████████████████| 112 kB 1.4 MB/s eta 0:00:01\n",
      "\u001b[?25hRequirement already satisfied: webencodings in /opt/anaconda3/lib/python3.9/site-packages (from html5lib) (0.5.1)\n",
      "Requirement already satisfied: six>=1.9 in /opt/anaconda3/lib/python3.9/site-packages (from html5lib) (1.16.0)\n",
      "Installing collected packages: html5lib\n",
      "Successfully installed html5lib-1.1\n"
     ]
    }
   ],
   "source": [
    "!pip install html5lib"
   ]
  },
  {
   "cell_type": "code",
   "execution_count": null,
   "id": "f7803346-0e44-4d6c-8679-3af9c920777a",
   "metadata": {},
   "outputs": [],
   "source": []
  },
  {
   "cell_type": "code",
   "execution_count": 13,
   "id": "77e51bdc-7f28-4a3f-93d0-f05a43bbbd2a",
   "metadata": {},
   "outputs": [],
   "source": [
    "driver = webdriver.Chrome()\n",
    "url = 'https://www.nike.com/mx/w/rebajas-3yaep'\n",
    "driver.get(url)"
   ]
  },
  {
   "cell_type": "code",
   "execution_count": 90,
   "id": "c544b075-c191-4737-a2ea-d4f66977a348",
   "metadata": {
    "tags": []
   },
   "outputs": [],
   "source": [
    "sopa = BeautifulSoup(driver.page_source)"
   ]
  },
  {
   "cell_type": "code",
   "execution_count": null,
   "id": "92d226d5-1ad9-4ad1-a43a-aea5d559f663",
   "metadata": {},
   "outputs": [],
   "source": []
  },
  {
   "cell_type": "code",
   "execution_count": 85,
   "id": "eac39fb2-3d7b-4c0f-964a-c5dca7317190",
   "metadata": {
    "tags": []
   },
   "outputs": [
    {
     "data": {
      "text/plain": [
       "[]"
      ]
     },
     "execution_count": 85,
     "metadata": {},
     "output_type": "execute_result"
    }
   ],
   "source": [
    "sopa.select('button[name=\"bluecoreCloseButton\"]') #bluecoreCloseButton pre-close-icon"
   ]
  },
  {
   "cell_type": "code",
   "execution_count": 93,
   "id": "6e07b0f1-04d7-42a8-80b1-3b0c0e9ef379",
   "metadata": {},
   "outputs": [
    {
     "data": {
      "text/plain": [
       "[<button class=\"pre-modal-btn-close bg-transparent\" data-var=\"closeBtn\" style=\"display: block;\"><svg aria-hidden=\"true\" class=\"pre-close-icon\" fill=\"none\" focusable=\"false\" height=\"24px\" role=\"img\" viewbox=\"0 0 24 24\" width=\"24px\"><path d=\"M18.973 5.027L5.028 18.972M5.027 5.027l13.945 13.945\" stroke=\"currentColor\" stroke-width=\"1.5\"></path></svg></button>]"
      ]
     },
     "execution_count": 93,
     "metadata": {},
     "output_type": "execute_result"
    }
   ],
   "source": [
    "sopa.select('button.pre-modal-btn-close.bg-transparent')"
   ]
  },
  {
   "cell_type": "code",
   "execution_count": 20,
   "id": "c67ae7a5-52bb-40af-883a-9c128dd9c3bc",
   "metadata": {},
   "outputs": [],
   "source": [
    "fin_pagina = driver.find_element(by = By.CSS_SELECTOR, value = 'div.related_categories.css-1f8eq6b')"
   ]
  },
  {
   "cell_type": "code",
   "execution_count": 23,
   "id": "47e2bc67-56be-4f21-9dd3-3f11b9e44153",
   "metadata": {
    "tags": []
   },
   "outputs": [],
   "source": [
    "chain = ActionChains(driver)"
   ]
  },
  {
   "cell_type": "code",
   "execution_count": 25,
   "id": "016c816c-b590-4b9d-b8fe-a632d57ac90b",
   "metadata": {},
   "outputs": [],
   "source": [
    "import time"
   ]
  },
  {
   "cell_type": "code",
   "execution_count": 26,
   "id": "6b0fb594-0905-4243-aaf7-37e8a7c8521c",
   "metadata": {},
   "outputs": [],
   "source": [
    "for _ in range(10):\n",
    "    chain.scroll_to_element(fin_pagina).perform()\n",
    "    time.sleep(3)"
   ]
  },
  {
   "cell_type": "code",
   "execution_count": 27,
   "id": "c2ed5382-bca9-4f3b-b386-d1d9be17a685",
   "metadata": {},
   "outputs": [],
   "source": [
    "sopa = BeautifulSoup(driver.page_source)"
   ]
  },
  {
   "cell_type": "code",
   "execution_count": 28,
   "id": "f6479a87-f79a-4482-b3ac-5c775b20a247",
   "metadata": {},
   "outputs": [],
   "source": [
    "bloques_imagenes = sopa.select('a.product-card__img-link-overlay')"
   ]
  },
  {
   "cell_type": "code",
   "execution_count": 29,
   "id": "57ece260-4526-4e85-9855-ca7860284af0",
   "metadata": {},
   "outputs": [
    {
     "data": {
      "text/plain": [
       "792"
      ]
     },
     "execution_count": 29,
     "metadata": {},
     "output_type": "execute_result"
    }
   ],
   "source": [
    "len(bloques_imagenes)"
   ]
  },
  {
   "cell_type": "code",
   "execution_count": 74,
   "id": "13affdbc-378a-46b3-8c13-837ac7157fdf",
   "metadata": {
    "tags": []
   },
   "outputs": [],
   "source": [
    "buscador = driver.find_element(by = By.CSS_SELECTOR, value = 'button.pre-search-btn.ripple')"
   ]
  },
  {
   "cell_type": "code",
   "execution_count": 75,
   "id": "1daa67a4-1dda-4167-8fe5-11d8187c5de8",
   "metadata": {},
   "outputs": [],
   "source": [
    "buscador.click()"
   ]
  },
  {
   "cell_type": "code",
   "execution_count": 37,
   "id": "bbe1bcec-aa26-4300-a9d4-51e34aba2737",
   "metadata": {},
   "outputs": [
    {
     "data": {
      "text/plain": [
       "1"
      ]
     },
     "execution_count": 37,
     "metadata": {},
     "output_type": "execute_result"
    }
   ],
   "source": [
    "len(sopa.select('button.pre-search-btn.ripple'))"
   ]
  },
  {
   "cell_type": "code",
   "execution_count": 76,
   "id": "0d297c98-3d2e-4e45-8b3e-5b2d9b0ac0fe",
   "metadata": {},
   "outputs": [],
   "source": [
    "espacio = driver.find_element(by = 'id', value = 'VisualSearchInput')"
   ]
  },
  {
   "cell_type": "code",
   "execution_count": 77,
   "id": "4926e844-fe98-4bf0-bde8-bc47f5090334",
   "metadata": {},
   "outputs": [],
   "source": [
    "espacio.clear()"
   ]
  },
  {
   "cell_type": "code",
   "execution_count": null,
   "id": "533805d9-1716-4ab4-8fb2-976e67aa2fad",
   "metadata": {},
   "outputs": [],
   "source": []
  },
  {
   "cell_type": "code",
   "execution_count": 78,
   "id": "ead2d616-cc23-4d24-831a-1e1169df3b58",
   "metadata": {},
   "outputs": [],
   "source": [
    "# objeto.send_keys manda directo los comandos sobre el obejto\n",
    "espacio.send_keys('correr')\n",
    "espacio.send_keys(Keys.RETURN)"
   ]
  },
  {
   "cell_type": "code",
   "execution_count": 73,
   "id": "d4677227-8c01-49fc-be89-eff1e998a143",
   "metadata": {},
   "outputs": [],
   "source": [
    "chain.send_keys('tenis')\n",
    "chain.send_keys(Keys.RETURN)\n",
    "chain.perform()"
   ]
  },
  {
   "cell_type": "code",
   "execution_count": null,
   "id": "a5e607f5-c6fa-4ebf-af3a-86569df45466",
   "metadata": {},
   "outputs": [],
   "source": []
  },
  {
   "cell_type": "code",
   "execution_count": null,
   "id": "664be7cb-9cbf-4db3-8ea4-6863d3a15d21",
   "metadata": {},
   "outputs": [],
   "source": []
  }
 ],
 "metadata": {
  "kernelspec": {
   "display_name": "Python 3 (ipykernel)",
   "language": "python",
   "name": "python3"
  },
  "language_info": {
   "codemirror_mode": {
    "name": "ipython",
    "version": 3
   },
   "file_extension": ".py",
   "mimetype": "text/x-python",
   "name": "python",
   "nbconvert_exporter": "python",
   "pygments_lexer": "ipython3",
   "version": "3.9.13"
  }
 },
 "nbformat": 4,
 "nbformat_minor": 5
}
