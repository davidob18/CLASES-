{
 "cells": [
  {
   "cell_type": "code",
   "execution_count": null,
   "id": "a404d4ba-5936-49a3-803a-a4b44cf09ae7",
   "metadata": {},
   "outputs": [],
   "source": [
    "import requests\n",
    "from bs4 import BeautifulSoup\n",
    "import pandas as pd\n",
    "from selenium.webdriver.common.by import By\n",
    "from selenium import webdriver\n",
    "from selenium.webdriver.common.keys import Keys\n",
    "from selenium.webdriver.common.action_chains import ActionChains\n",
    "from selenium.webdriver.chrome.options import Options"
   ]
  },
  {
   "cell_type": "code",
   "execution_count": null,
   "id": "238876c5-bc13-4b83-a9c6-b08806bfb701",
   "metadata": {
    "tags": []
   },
   "outputs": [],
   "source": []
  },
  {
   "cell_type": "code",
   "execution_count": null,
   "id": "b4c158ae-e52b-4e8b-8fa4-705888fa0f02",
   "metadata": {},
   "outputs": [],
   "source": [
    "import time\n",
    "import pandas as pd\n",
    "from bs4 import BeautifulSoup\n",
    "from selenium import webdriver\n",
    "from selenium.webdriver.common.keys import Keys\n",
    "from selenium.webdriver.chrome.options import Options\n",
    "from selenium.webdriver.common.action_chains import ActionChains"
   ]
  },
  {
   "cell_type": "code",
   "execution_count": null,
   "id": "193f4705-751f-4420-8a1e-dcd4e1321b04",
   "metadata": {},
   "outputs": [],
   "source": []
  },
  {
   "cell_type": "code",
   "execution_count": null,
   "id": "5a279079-2079-4ba5-a4fb-445d090323b6",
   "metadata": {},
   "outputs": [],
   "source": []
  },
  {
   "cell_type": "code",
   "execution_count": null,
   "id": "7a852bf4-91d2-4a24-b17f-ddb637f59905",
   "metadata": {},
   "outputs": [],
   "source": []
  },
  {
   "cell_type": "code",
   "execution_count": 1,
   "id": "73fc375e-a8b4-424c-a36b-6d75b4ee0089",
   "metadata": {},
   "outputs": [
    {
     "ename": "NameError",
     "evalue": "name 'driver' is not defined",
     "output_type": "error",
     "traceback": [
      "\u001b[0;31m---------------------------------------------------------------------------\u001b[0m",
      "\u001b[0;31mNameError\u001b[0m                                 Traceback (most recent call last)",
      "Input \u001b[0;32mIn [1]\u001b[0m, in \u001b[0;36m<cell line: 1>\u001b[0;34m()\u001b[0m\n\u001b[0;32m----> 1\u001b[0m \u001b[43mdriver\u001b[49m\u001b[38;5;241m.\u001b[39mquit()\n",
      "\u001b[0;31mNameError\u001b[0m: name 'driver' is not defined"
     ]
    }
   ],
   "source": [
    "driver.quit()"
   ]
  },
  {
   "cell_type": "code",
   "execution_count": null,
   "id": "39f6c1c8-577d-4adf-89b3-f72d07303cbb",
   "metadata": {},
   "outputs": [],
   "source": [
    "usuario = input('ingresar usuario ejemplo \"@BarackObama\":').replace(\"@\", \"\") "
   ]
  },
  {
   "cell_type": "code",
   "execution_count": 23,
   "id": "81c5ad12-7877-4db3-a10e-633f30e1edb6",
   "metadata": {},
   "outputs": [],
   "source": [
    "driver = webdriver.Chrome()\n",
    "url = f'https://twitter.com/{usuario}'\n",
    "driver.get(url)"
   ]
  },
  {
   "cell_type": "code",
   "execution_count": 6,
   "id": "1f22f001-d081-4f22-a950-239bcffd9ab9",
   "metadata": {},
   "outputs": [
    {
     "ename": "NameError",
     "evalue": "name 'BarackObama' is not defined",
     "output_type": "error",
     "traceback": [
      "\u001b[1;31m---------------------------------------------------------------------------\u001b[0m",
      "\u001b[1;31mNameError\u001b[0m                                 Traceback (most recent call last)",
      "\u001b[1;32m~\\AppData\\Local\\Temp\\ipykernel_3056\\2374015950.py\u001b[0m in \u001b[0;36m<module>\u001b[1;34m\u001b[0m\n\u001b[1;32m----> 1\u001b[1;33m \u001b[0mBarackObama\u001b[0m\u001b[1;33m\u001b[0m\u001b[1;33m\u001b[0m\u001b[0m\n\u001b[0m",
      "\u001b[1;31mNameError\u001b[0m: name 'BarackObama' is not defined"
     ]
    }
   ],
   "source": [
    "BarackObama"
   ]
  },
  {
   "cell_type": "code",
   "execution_count": 50,
   "id": "ac8fa922-a107-49ce-bae1-6bede29c6c79",
   "metadata": {},
   "outputs": [],
   "source": [
    "sopa = BeautifulSoup(driver.page_source)"
   ]
  },
  {
   "cell_type": "code",
   "execution_count": 51,
   "id": "403ba831-5d27-4eca-8e6e-9e634ef9c32b",
   "metadata": {},
   "outputs": [],
   "source": [
    "bloques2 = sopa.select('div div a span span.css-901oao')"
   ]
  },
  {
   "cell_type": "code",
   "execution_count": 54,
   "id": "36b65517-2150-4c10-ad41-0402d0b3f868",
   "metadata": {},
   "outputs": [
    {
     "ename": "AttributeError",
     "evalue": "ResultSet object has no attribute 'select'. You're probably treating a list of elements like a single element. Did you call find_all() when you meant to call find()?",
     "output_type": "error",
     "traceback": [
      "\u001b[1;31m---------------------------------------------------------------------------\u001b[0m",
      "\u001b[1;31mAttributeError\u001b[0m                            Traceback (most recent call last)",
      "\u001b[1;32m~\\AppData\\Local\\Temp\\ipykernel_3056\\3338536459.py\u001b[0m in \u001b[0;36m<module>\u001b[1;34m\u001b[0m\n\u001b[1;32m----> 1\u001b[1;33m \u001b[0mbloques2\u001b[0m\u001b[1;33m.\u001b[0m\u001b[0mselect\u001b[0m\u001b[1;33m(\u001b[0m\u001b[1;34m'span:nth-child(2)'\u001b[0m\u001b[1;33m)\u001b[0m\u001b[1;33m\u001b[0m\u001b[1;33m\u001b[0m\u001b[0m\n\u001b[0m",
      "\u001b[1;32m~\\anaconda3\\lib\\site-packages\\bs4\\element.py\u001b[0m in \u001b[0;36m__getattr__\u001b[1;34m(self, key)\u001b[0m\n\u001b[0;32m   2287\u001b[0m     \u001b[1;32mdef\u001b[0m \u001b[0m__getattr__\u001b[0m\u001b[1;33m(\u001b[0m\u001b[0mself\u001b[0m\u001b[1;33m,\u001b[0m \u001b[0mkey\u001b[0m\u001b[1;33m)\u001b[0m\u001b[1;33m:\u001b[0m\u001b[1;33m\u001b[0m\u001b[1;33m\u001b[0m\u001b[0m\n\u001b[0;32m   2288\u001b[0m         \u001b[1;34m\"\"\"Raise a helpful exception to explain a common code fix.\"\"\"\u001b[0m\u001b[1;33m\u001b[0m\u001b[1;33m\u001b[0m\u001b[0m\n\u001b[1;32m-> 2289\u001b[1;33m         raise AttributeError(\n\u001b[0m\u001b[0;32m   2290\u001b[0m             \u001b[1;34m\"ResultSet object has no attribute '%s'. You're probably treating a list of elements like a single element. Did you call find_all() when you meant to call find()?\"\u001b[0m \u001b[1;33m%\u001b[0m \u001b[0mkey\u001b[0m\u001b[1;33m\u001b[0m\u001b[1;33m\u001b[0m\u001b[0m\n\u001b[0;32m   2291\u001b[0m         )\n",
      "\u001b[1;31mAttributeError\u001b[0m: ResultSet object has no attribute 'select'. You're probably treating a list of elements like a single element. Did you call find_all() when you meant to call find()?"
     ]
    }
   ],
   "source": [
    "bloques2.select('span:nth-child(2)')"
   ]
  },
  {
   "cell_type": "code",
   "execution_count": 63,
   "id": "8acc403b-ff19-40b4-8716-9e4f1a2825fb",
   "metadata": {},
   "outputs": [],
   "source": [
    "bloques2 = sopa.select('div div a span span:first-of-type')"
   ]
  },
  {
   "cell_type": "code",
   "execution_count": 64,
   "id": "3ba25dcb-72b8-4f8d-b6b4-1cbd1b15eaff",
   "metadata": {},
   "outputs": [
    {
     "data": {
      "text/plain": [
       "[<span class=\"css-901oao css-16my406 r-poiln3 r-bcqeeo r-qvutc0\">Iniciar sesión</span>,\n",
       " <span class=\"css-901oao css-16my406 r-poiln3 r-bcqeeo r-qvutc0\">Regístrate</span>,\n",
       " <span class=\"css-901oao css-16my406 r-poiln3 r-bcqeeo r-qvutc0\">572,5 mil</span>,\n",
       " <span class=\"css-901oao css-16my406 r-poiln3 r-bcqeeo r-qvutc0\">Siguiendo</span>,\n",
       " <span class=\"css-901oao css-16my406 r-poiln3 r-bcqeeo r-qvutc0\">133,3 M</span>,\n",
       " <span class=\"css-901oao css-16my406 r-poiln3 r-bcqeeo r-qvutc0\">Seguidores</span>,\n",
       " <span class=\"css-901oao css-16my406 r-poiln3 r-bcqeeo r-qvutc0\">Barack Obama</span>,\n",
       " <span class=\"css-901oao css-16my406 r-poiln3 r-bcqeeo r-qvutc0\">Barack Obama</span>,\n",
       " <span class=\"css-901oao css-16my406 r-poiln3 r-bcqeeo r-qvutc0\">Barack Obama</span>,\n",
       " <span class=\"css-901oao css-16my406 r-poiln3 r-bcqeeo r-qvutc0\">nbcnews.com</span>,\n",
       " <span class=\"css-901oao css-16my406 r-poiln3 r-bcqeeo r-qvutc0\">'So much relief': South Dakota voters pass Medicaid expansion</span>,\n",
       " <span class=\"css-901oao css-16my406 r-poiln3 r-bcqeeo r-qvutc0\">Barack Obama</span>,\n",
       " <span class=\"css-901oao css-16my406 r-poiln3 r-bcqeeo r-qvutc0\">Barack Obama</span>,\n",
       " <span class=\"css-901oao css-16my406 r-poiln3 r-bcqeeo r-qvutc0\">Barack Obama</span>,\n",
       " <span class=\"css-901oao css-16my406 r-poiln3 r-bcqeeo r-qvutc0\">Barack Obama</span>,\n",
       " <span class=\"css-901oao css-16my406 r-poiln3 r-bcqeeo r-qvutc0\">Barack Obama</span>]"
      ]
     },
     "execution_count": 64,
     "metadata": {},
     "output_type": "execute_result"
    }
   ],
   "source": [
    "bloques2"
   ]
  },
  {
   "cell_type": "code",
   "execution_count": 70,
   "id": "03a3ddc7-c46e-40ab-a920-6af708717c65",
   "metadata": {},
   "outputs": [
    {
     "data": {
      "text/plain": [
       "'572.5 mil'"
      ]
     },
     "execution_count": 70,
     "metadata": {},
     "output_type": "execute_result"
    }
   ],
   "source": [
    "bloques2[2].text.replace('\\xa0',' ').replace(',','.')"
   ]
  },
  {
   "cell_type": "code",
   "execution_count": null,
   "id": "85224fa1-2e2f-4ab0-9392-a69bab0c21c4",
   "metadata": {},
   "outputs": [],
   "source": []
  },
  {
   "cell_type": "code",
   "execution_count": 2,
   "id": "f7506157-77ed-4ec0-b8dd-50023ab314ae",
   "metadata": {},
   "outputs": [],
   "source": [
    "def usuario_2():\n",
    "    import time \n",
    "    usuario = input('ingresar usuario ejemplo \"@BarackObama\":').replace(\"@\", \"\") \n",
    "    driver = webdriver.Chrome()\n",
    "    url = f'https://twitter.com/{usuario}'\n",
    "    try:\n",
    "        driver.get(url)\n",
    "        time.sleep(3)\n",
    "        sopa = BeautifulSoup(driver.page_source)\n",
    "        bloques2 = sopa.select('div div a span span:first-of-type')\n",
    "        cantidad = bloques2[2].text.replace('\\xa0',' ').replace(',','.')\n",
    "        return print(f'personas siguiendo: {cantidad}')\n",
    "    except:\n",
    "        return print('NO encontro cuenta')\n",
    "\n"
   ]
  },
  {
   "cell_type": "code",
   "execution_count": 76,
   "id": "d96975e3-3eae-41c9-8802-5ab5b4fb23b9",
   "metadata": {},
   "outputs": [
    {
     "name": "stdin",
     "output_type": "stream",
     "text": [
      "ingresar usuario ejemplo \"@BarackObama\": Karmma18\n"
     ]
    },
    {
     "name": "stdout",
     "output_type": "stream",
     "text": [
      "personas siguiendo: 1.945\n"
     ]
    }
   ],
   "source": [
    "usuario_2()"
   ]
  },
  {
   "cell_type": "code",
   "execution_count": null,
   "id": "73aad01e-35d8-4434-bd56-224c0e6f147a",
   "metadata": {},
   "outputs": [],
   "source": []
  },
  {
   "cell_type": "code",
   "execution_count": 5,
   "id": "d6caf887-1fbd-48a7-97ac-4659a6c75e6a",
   "metadata": {},
   "outputs": [],
   "source": [
    "def extraer_info_tw():\n",
    "    chrome_options = Options()\n",
    "    chrome_options.add_argument(\"--headless\")\n",
    "    driver = webdriver.Chrome(options=chrome_options)\n",
    "    \n",
    "    import time \n",
    "    usuario = input('ingresar usuario ejemplo \"@BarackObama\":').replace(\"@\", \"\") \n",
    "    #driver = webdriver.Chrome()\n",
    "    url = f'https://twitter.com/{usuario}'\n",
    "    try:\n",
    "        driver.get(url)\n",
    "        time.sleep(1)\n",
    "        sopa = BeautifulSoup(driver.page_source)\n",
    "        bloques2 = sopa.select('div div a span span:first-of-type')\n",
    "        cantidad = bloques2[2].text.replace('\\xa0',' ').replace(',','.')\n",
    "        driver.quit()\n",
    "        return print(f'personas siguiendo: {cantidad}')\n",
    "    except:\n",
    "        driver.quit()\n",
    "        return print('NO encontro cuenta')\n"
   ]
  },
  {
   "cell_type": "code",
   "execution_count": 10,
   "id": "cb7ba5b3-9271-49dd-8d77-fc87ba79d099",
   "metadata": {},
   "outputs": [
    {
     "name": "stdin",
     "output_type": "stream",
     "text": [
      "ingresar usuario ejemplo \"@BarackObama\": shakira\n"
     ]
    },
    {
     "name": "stdout",
     "output_type": "stream",
     "text": [
      "personas siguiendo: 233\n"
     ]
    }
   ],
   "source": [
    "extraer_info_tw()"
   ]
  },
  {
   "cell_type": "code",
   "execution_count": null,
   "id": "a149e73f-3044-4578-ba96-c6f07ae5123d",
   "metadata": {},
   "outputs": [],
   "source": []
  },
  {
   "cell_type": "code",
   "execution_count": null,
   "id": "056a9294-d62f-4c7c-b278-0fbc4d588c8a",
   "metadata": {},
   "outputs": [],
   "source": [
    "def extraer_info_tw():\n",
    "    chrome_options = Options()\n",
    "    chrome_options.add_argument(\"--headless\")\n",
    "    driver = webdriver.Chrome(options=chrome_options)\n",
    "    \n",
    "    import time \n",
    "    usuario = input('ingresar usuario ejemplo \"@BarackObama\":').replace(\"@\", \"\") \n",
    "    driver = webdriver.Chrome()\n",
    "    url = f'https://twitter.com/{usuario}'\n",
    "    try:\n",
    "        driver.get(url)\n",
    "        time.sleep(3)\n",
    "        sopa = BeautifulSoup(driver.page_source)\n",
    "        bloques2 = sopa.select('div div a span span:first-of-type')\n",
    "        cantidad = bloques2[2].text.replace('\\xa0',' ').replace(',','.')\n",
    "        driver.quit()\n",
    "        return print(f'personas siguiendo: {cantidad}')\n",
    "    except:\n",
    "        driver.quit()\n",
    "        return print('NO encontro cuenta')"
   ]
  },
  {
   "cell_type": "code",
   "execution_count": null,
   "id": "7e9f8fd1-fb7e-4653-a6a5-7d2b7239e99a",
   "metadata": {},
   "outputs": [],
   "source": []
  },
  {
   "cell_type": "code",
   "execution_count": null,
   "id": "90d3eeed-a069-4f07-a1d7-da56f8e1bbb1",
   "metadata": {},
   "outputs": [],
   "source": []
  },
  {
   "cell_type": "code",
   "execution_count": 11,
   "id": "f3b4edfc-5124-4a7f-b56e-5d80cdf8d025",
   "metadata": {},
   "outputs": [
    {
     "name": "stdin",
     "output_type": "stream",
     "text": [
      "ingresar usuario ejemplo \"@BarackObama\": shakira\n"
     ]
    }
   ],
   "source": [
    "chrome_options = Options()\n",
    "chrome_options.add_argument(\"--headless\")\n",
    "driver = webdriver.Chrome(options=chrome_options)\n",
    "    \n",
    "import time \n",
    "usuario = input('ingresar usuario ejemplo \"@BarackObama\":').replace(\"@\", \"\") \n",
    "\n",
    "url = f'https://twitter.com/{usuario}'\n",
    "driver.get(url)\n",
    "time.sleep(1)\n",
    "sopa = BeautifulSoup(driver.page_source)\n",
    "\n",
    "driver.quit()\n"
   ]
  },
  {
   "cell_type": "code",
   "execution_count": 62,
   "id": "24c0a6c0-607b-485c-98d6-41207b4998ad",
   "metadata": {},
   "outputs": [],
   "source": [
    "bloques2 = sopa.select('div[data-testid=\"cellInnerDiv\"]')"
   ]
  },
  {
   "cell_type": "code",
   "execution_count": null,
   "id": "98fb5793-6bc9-46eb-a9cd-2d2c64ad0644",
   "metadata": {},
   "outputs": [],
   "source": [
    "bloques2 = sopa.select('div ')\n",
    "cantidad = bloques2[2].text.replace('\\xa0',' ').replace(',','.')"
   ]
  },
  {
   "cell_type": "code",
   "execution_count": 24,
   "id": "cb69c7f8-0b7c-47db-83f4-aeabd1ce0ac0",
   "metadata": {},
   "outputs": [
    {
     "data": {
      "text/plain": [
       "'MONOTONÍA  YA DISPONIBLE  https://sml.lnk.to/Monotonia'"
      ]
     },
     "execution_count": 24,
     "metadata": {},
     "output_type": "execute_result"
    }
   ],
   "source": [
    "bloques2[5].text"
   ]
  },
  {
   "cell_type": "code",
   "execution_count": 63,
   "id": "b63df261-ae5a-4bf6-8f3b-63dbcf91510e",
   "metadata": {},
   "outputs": [
    {
     "data": {
      "text/plain": [
       "0"
      ]
     },
     "execution_count": 63,
     "metadata": {},
     "output_type": "execute_result"
    }
   ],
   "source": [
    "len(bloques2)"
   ]
  },
  {
   "cell_type": "code",
   "execution_count": null,
   "id": "50fb26f8-2ca7-4229-990b-34204731d8a3",
   "metadata": {},
   "outputs": [],
   "source": [
    "css-901oao r-18jsvk2 r-37j5jr r-a023e6 r-16dba41 r-rjixqe r-bcqeeo r-bnwqim r-qvutc0"
   ]
  },
  {
   "cell_type": "code",
   "execution_count": 61,
   "id": "9ed6db8d-d33c-4c0e-a604-e3df0f9fc6d1",
   "metadata": {},
   "outputs": [
    {
     "data": {
      "text/plain": [
       "<div class=\"css-901oao r-18jsvk2 r-37j5jr r-a023e6 r-16dba41 r-rjixqe r-bcqeeo r-qvutc0\" data-testid=\"UserDescription\" dir=\"auto\"><span class=\"css-901oao css-16my406 r-poiln3 r-bcqeeo r-qvutc0\">MONOTONÍA </span><img alt=\"🫀\" class=\"r-4qtqp9 r-dflpy8 r-sjv1od r-zw8f10 r-10akycc r-h9hxbl\" draggable=\"false\" src=\"https://abs-0.twimg.com/emoji/v2/svg/1fac0.svg\"/><img alt=\"🗡️\" class=\"r-4qtqp9 r-dflpy8 r-sjv1od r-zw8f10 r-10akycc r-h9hxbl\" draggable=\"false\" src=\"https://abs-0.twimg.com/emoji/v2/svg/1f5e1.svg\"/><span class=\"css-901oao css-16my406 r-poiln3 r-bcqeeo r-qvutc0\"> YA DISPONIBLE </span><img alt=\"⬇️\" class=\"r-4qtqp9 r-dflpy8 r-sjv1od r-zw8f10 r-10akycc r-h9hxbl\" draggable=\"false\" src=\"https://abs-0.twimg.com/emoji/v2/svg/2b07.svg\"/><span class=\"css-901oao css-16my406 r-poiln3 r-bcqeeo r-qvutc0\"> </span><a class=\"css-4rbku5 css-18t94o4 css-901oao css-16my406 r-1cvl2hr r-1loqt21 r-poiln3 r-bcqeeo r-qvutc0\" dir=\"ltr\" href=\"https://t.co/Y3a2InXQdR\" rel=\"noopener noreferrer nofollow\" role=\"link\" target=\"_blank\"><span aria-hidden=\"true\" class=\"css-901oao css-16my406 r-poiln3 r-hiw28u r-qvk6io r-bcqeeo r-qvutc0\">https://</span>sml.lnk.to/Monotonia</a></div>"
      ]
     },
     "execution_count": 61,
     "metadata": {},
     "output_type": "execute_result"
    }
   ],
   "source": [
    "bloques2[8]"
   ]
  },
  {
   "cell_type": "code",
   "execution_count": 51,
   "id": "1cc39e73-b4ab-42f4-be83-8ad8bcc3b962",
   "metadata": {
    "tags": []
   },
   "outputs": [
    {
     "data": {
      "text/plain": [
       "'TweetsTweets y respuestasFotos y videosMe gusta'"
      ]
     },
     "execution_count": 51,
     "metadata": {},
     "output_type": "execute_result"
    }
   ],
   "source": [
    "bloques = sopa.select('a[aria-label=\"Nike Air Force 1 \\'07 LV8\"]')"
   ]
  },
  {
   "cell_type": "code",
   "execution_count": 70,
   "id": "d95b55b5-c048-48c3-9de3-682f22bb225b",
   "metadata": {},
   "outputs": [
    {
     "data": {
      "text/plain": [
       "[]"
      ]
     },
     "execution_count": 70,
     "metadata": {},
     "output_type": "execute_result"
    }
   ],
   "source": [
    "sopa.select('section[aria-labelledby]')"
   ]
  },
  {
   "cell_type": "code",
   "execution_count": 71,
   "id": "a38c3260-5763-4a15-9218-e428396c98fe",
   "metadata": {},
   "outputs": [
    {
     "data": {
      "text/plain": [
       "[]"
      ]
     },
     "execution_count": 71,
     "metadata": {},
     "output_type": "execute_result"
    }
   ],
   "source": [
    "sopa.select('section')"
   ]
  },
  {
   "cell_type": "code",
   "execution_count": 76,
   "id": "fbb511d1-2d19-4eb7-a5ae-a308f5ddb004",
   "metadata": {},
   "outputs": [
    {
     "data": {
      "text/plain": [
       "[]"
      ]
     },
     "execution_count": 76,
     "metadata": {},
     "output_type": "execute_result"
    }
   ],
   "source": [
    "sopa.find_all('section')"
   ]
  },
  {
   "cell_type": "code",
   "execution_count": 75,
   "id": "e596d619-a6ca-477a-a981-3eca88c0171a",
   "metadata": {},
   "outputs": [
    {
     "name": "stdout",
     "output_type": "stream",
     "text": [
      "Help on NoneType object:\n",
      "\n",
      "class NoneType(object)\n",
      " |  Methods defined here:\n",
      " |  \n",
      " |  __bool__(self, /)\n",
      " |      True if self else False\n",
      " |  \n",
      " |  __repr__(self, /)\n",
      " |      Return repr(self).\n",
      " |  \n",
      " |  ----------------------------------------------------------------------\n",
      " |  Static methods defined here:\n",
      " |  \n",
      " |  __new__(*args, **kwargs) from builtins.type\n",
      " |      Create and return a new object.  See help(type) for accurate signature.\n",
      "\n"
     ]
    }
   ],
   "source": [
    "help(sopa.fin_all)"
   ]
  },
  {
   "cell_type": "code",
   "execution_count": 270,
   "id": "6087fcd5-a297-434d-90ca-83cac299c682",
   "metadata": {},
   "outputs": [],
   "source": [
    "   \n",
    "import time \n",
    "driver = webdriver.Chrome()\n",
    "url = f'https://twitter.com/shakira'\n",
    "\n",
    "driver.get(url)\n",
    "time.sleep(3)\n",
    "chains = ActionChains(driver)\n",
    "for _ in range(4):\n",
    "    chains.scroll_by_amount(0, 500).perform()\n",
    "    time.sleep(1.5)\n",
    "\n",
    "sopa = BeautifulSoup(driver.page_source)\n",
    "\n",
    "#driver.quit()"
   ]
  },
  {
   "cell_type": "code",
   "execution_count": 271,
   "id": "0adf981a-b309-483d-9266-8d64a2bcf0c5",
   "metadata": {},
   "outputs": [],
   "source": [
    "bloque1 = sopa.select('div[data-testid=\"cellInnerDiv\"]')"
   ]
  },
  {
   "cell_type": "code",
   "execution_count": 272,
   "id": "08c97e96-783d-450b-bf8f-7961aa18ecca",
   "metadata": {},
   "outputs": [
    {
     "data": {
      "text/plain": [
       "9"
      ]
     },
     "execution_count": 272,
     "metadata": {},
     "output_type": "execute_result"
    }
   ],
   "source": [
    "len(bloque1)"
   ]
  },
  {
   "cell_type": "code",
   "execution_count": 273,
   "id": "919e7b1d-e695-484b-92e4-1a90d1265a96",
   "metadata": {},
   "outputs": [
    {
     "data": {
      "text/plain": [
       "'Tweet fijadoShakira@shakira·20 oct.#Monotonia @ozuna  YA DISPONIBLE / OUT NOW https://sml.lnk.to/Monotonia277,2\\xa0mil reproducciones0:01 / 0:338632.95818,6\\xa0mil'"
      ]
     },
     "execution_count": 273,
     "metadata": {},
     "output_type": "execute_result"
    }
   ],
   "source": [
    "bloque1[0].text"
   ]
  },
  {
   "cell_type": "code",
   "execution_count": 281,
   "id": "63326ce9-8b2e-45e9-8b2a-a5a44fe47d87",
   "metadata": {},
   "outputs": [
    {
     "data": {
      "text/plain": [
       "'Tweet fijadoShakira@shakira·20 oct.#Monotonia @ozuna  YA DISPONIBLE / OUT NOW https://sml.lnk.to/Monotonia277,2\\xa0mil reproducciones0:01 / 0:338632.95818,6\\xa0mil'"
      ]
     },
     "execution_count": 281,
     "metadata": {},
     "output_type": "execute_result"
    }
   ],
   "source": [
    "bloque1[0].select('div.css-1dbjc4n')[0].text"
   ]
  },
  {
   "cell_type": "code",
   "execution_count": 296,
   "id": "667ca2a0-5f1b-4d1d-9cd8-ff88eceebe22",
   "metadata": {
    "tags": []
   },
   "outputs": [],
   "source": []
  },
  {
   "cell_type": "code",
   "execution_count": 304,
   "id": "15dd1b6a-a793-48cb-8250-b16cbcaef7df",
   "metadata": {},
   "outputs": [
    {
     "ename": "AttributeError",
     "evalue": "'str' object has no attribute 'json'",
     "output_type": "error",
     "traceback": [
      "\u001b[1;31m---------------------------------------------------------------------------\u001b[0m",
      "\u001b[1;31mAttributeError\u001b[0m                            Traceback (most recent call last)",
      "\u001b[1;32m~\\AppData\\Local\\Temp\\ipykernel_3240\\3165252960.py\u001b[0m in \u001b[0;36m<module>\u001b[1;34m\u001b[0m\n\u001b[1;32m----> 1\u001b[1;33m \u001b[0mhelp\u001b[0m\u001b[1;33m(\u001b[0m\u001b[0mprueba\u001b[0m\u001b[1;33m.\u001b[0m\u001b[0mjson\u001b[0m\u001b[1;33m)\u001b[0m\u001b[1;33m\u001b[0m\u001b[1;33m\u001b[0m\u001b[0m\n\u001b[0m",
      "\u001b[1;31mAttributeError\u001b[0m: 'str' object has no attribute 'json'"
     ]
    }
   ],
   "source": []
  },
  {
   "cell_type": "code",
   "execution_count": 160,
   "id": "3915b873-68c0-4338-8f9f-2f3466f02fe4",
   "metadata": {},
   "outputs": [],
   "source": [
    "bloque2 = sopa.select('div[data-testid]')"
   ]
  },
  {
   "cell_type": "code",
   "execution_count": 181,
   "id": "43d98b72-2a75-4112-b38c-325bbe05dab4",
   "metadata": {},
   "outputs": [
    {
     "data": {
      "text/plain": [
       "5"
      ]
     },
     "execution_count": 181,
     "metadata": {},
     "output_type": "execute_result"
    }
   ],
   "source": [
    "len(bloque2)"
   ]
  },
  {
   "cell_type": "code",
   "execution_count": 163,
   "id": "9c8efa88-ab3a-4c17-af08-172d7f9fb7af",
   "metadata": {},
   "outputs": [
    {
     "data": {
      "text/plain": [
       "'No te pierdas lo que está pasandoLos usuarios de Twitter son los primeros en enterarse.Iniciar sesiónRegístrate'"
      ]
     },
     "execution_count": 163,
     "metadata": {},
     "output_type": "execute_result"
    }
   ],
   "source": [
    "bloque2[0].text"
   ]
  },
  {
   "cell_type": "code",
   "execution_count": 175,
   "id": "3bb150a6-d29f-42da-9730-26da15744d58",
   "metadata": {},
   "outputs": [],
   "source": [
    "import time \n",
    "driver = webdriver.Chrome()\n",
    "url = f'https://twitter.com/shakira'\n",
    "\n",
    "driver.get(url)\n",
    "time.sleep(3)\n",
    "\n",
    "sopa = BeautifulSoup(driver.page_source)"
   ]
  },
  {
   "cell_type": "code",
   "execution_count": 179,
   "id": "f0e1b856-1218-46cd-964b-6a93963789fa",
   "metadata": {},
   "outputs": [],
   "source": [
    "bloque2 = sopa.select('div[data-testid=\"cellInnerDiv\"]')"
   ]
  },
  {
   "cell_type": "code",
   "execution_count": 180,
   "id": "eb0bada1-99d1-4207-9846-a0ebfade3c15",
   "metadata": {
    "tags": []
   },
   "outputs": [
    {
     "data": {
      "text/plain": [
       "'Tweet fijadoShakira@shakira·20 oct.#Monotonia @ozuna  YA DISPONIBLE / OUT NOW https://sml.lnk.to/Monotonia0:32277\\xa0mil reproducciones8622.95618,6\\xa0mil'"
      ]
     },
     "execution_count": 180,
     "metadata": {},
     "output_type": "execute_result"
    }
   ],
   "source": [
    "bloque2[0].text"
   ]
  },
  {
   "cell_type": "code",
   "execution_count": 215,
   "id": "15ee6a25-2e82-4cf2-9b1f-a00bf0a7f759",
   "metadata": {},
   "outputs": [],
   "source": [
    "   \n",
    "import time \n",
    "driver = webdriver.Chrome()\n",
    "url = f'https://twitter.com/shakira'\n",
    "lista_twit=[]\n",
    "driver.get(url)\n",
    "time.sleep(3)\n",
    "chains = ActionChains(driver)\n",
    "for _ in range(6):\n",
    "    chains.scroll_by_amount(0, 500).perform()\n",
    "    time.sleep(1.5)\n",
    "\n",
    "sopa = BeautifulSoup(driver.page_source)\n",
    "bloque1 = sopa.select('div[data-testid=\"cellInnerDiv\"]')\n",
    "for item in bloque1:\n",
    "    twit = item.text\n",
    "    lista_twit.append(twit)\n",
    "driver.quit()"
   ]
  },
  {
   "cell_type": "code",
   "execution_count": 214,
   "id": "160478d8-98a9-4c05-9185-63a015895d64",
   "metadata": {},
   "outputs": [],
   "source": [
    "driver.quit()"
   ]
  },
  {
   "cell_type": "code",
   "execution_count": 217,
   "id": "7d1d5e6f-a7f9-48e4-be66-988a95a1595e",
   "metadata": {},
   "outputs": [
    {
     "data": {
      "text/plain": [
       "11"
      ]
     },
     "execution_count": 217,
     "metadata": {},
     "output_type": "execute_result"
    }
   ],
   "source": [
    "len(lista_twit)"
   ]
  },
  {
   "cell_type": "code",
   "execution_count": 218,
   "id": "c24ddf62-1b34-47b5-ad67-1a020e40a922",
   "metadata": {},
   "outputs": [
    {
     "data": {
      "text/plain": [
       "'Tweet fijadoShakira@shakira·20 oct.#Monotonia @ozuna  YA DISPONIBLE / OUT NOW https://sml.lnk.to/Monotonia277\\xa0mil reproducciones0:01 / 0:338622.95818,6\\xa0mil'"
      ]
     },
     "execution_count": 218,
     "metadata": {},
     "output_type": "execute_result"
    }
   ],
   "source": [
    "lista_twit[0]"
   ]
  },
  {
   "cell_type": "code",
   "execution_count": 264,
   "id": "e2c88653-77e5-430d-9997-1fedbaa0bc19",
   "metadata": {},
   "outputs": [],
   "source": [
    "def extraer_info_tw_t():\n",
    "    chrome_options = Options()\n",
    "    chrome_options.add_argument(\"--headless\")\n",
    "    driver = webdriver.Chrome(options=chrome_options)\n",
    "    lista_twit=[]\n",
    "    import time \n",
    "    usuario = input('ingresar usuario ejemplo \"@BarackObama\":').replace(\"@\", \"\") \n",
    "    #driver = webdriver.Chrome()\n",
    "    url = f'https://twitter.com/{usuario}'\n",
    "    try:\n",
    "        driver.get(url)\n",
    "        time.sleep(3)\n",
    "        chains = ActionChains(driver)\n",
    "        for _ in range(4):\n",
    "            chains.scroll_by_amount(0, 500).perform()\n",
    "            time.sleep(1.5)\n",
    "        sopa = BeautifulSoup(driver.page_source)\n",
    "        bloques1 = sopa.select('div[data-testid=\"cellInnerDiv\"]')\n",
    "        for item in bloques1:\n",
    "            twit = item.text\n",
    "            lista_twit.append(twit)\n",
    "        driver.quit()\n",
    "        print(\"Listo\")\n",
    "        return lista_twit \n",
    "    except:\n",
    "        driver.quit()\n",
    "        return print('NO encontro cuenta')"
   ]
  },
  {
   "cell_type": "code",
   "execution_count": 265,
   "id": "405e5749-5e1d-4127-9943-1592c6de9ff9",
   "metadata": {},
   "outputs": [
    {
     "name": "stdin",
     "output_type": "stream",
     "text": [
      "ingresar usuario ejemplo \"@BarackObama\": @shakira\n"
     ]
    },
    {
     "name": "stdout",
     "output_type": "stream",
     "text": [
      "Listo\n"
     ]
    }
   ],
   "source": [
    "lista = extraer_info_tw_t()"
   ]
  },
  {
   "cell_type": "code",
   "execution_count": 266,
   "id": "acc112a6-2be5-4681-b215-e05724f84498",
   "metadata": {},
   "outputs": [
    {
     "data": {
      "text/plain": [
       "7"
      ]
     },
     "execution_count": 266,
     "metadata": {},
     "output_type": "execute_result"
    }
   ],
   "source": [
    "len(lista)"
   ]
  },
  {
   "cell_type": "code",
   "execution_count": 269,
   "id": "22aec614-dd3c-40bd-b1a2-9d8540d47041",
   "metadata": {},
   "outputs": [
    {
     "data": {
      "text/plain": [
       "'Tweet fijadoShakira@shakira·20 oct.#Monotonia @ozuna  YA DISPONIBLE / OUT NOW https://sml.lnk.to/Monotonia277,2\\xa0mil reproducciones0:01 / 0:338632.95818,6\\xa0mil'"
      ]
     },
     "execution_count": 269,
     "metadata": {},
     "output_type": "execute_result"
    }
   ],
   "source": [
    "lista[0]"
   ]
  },
  {
   "cell_type": "code",
   "execution_count": 239,
   "id": "47a1d515-e9e4-4205-baa8-67f99110b431",
   "metadata": {},
   "outputs": [
    {
     "data": {
      "text/plain": [
       "11"
      ]
     },
     "execution_count": 239,
     "metadata": {},
     "output_type": "execute_result"
    }
   ],
   "source": [
    "len(bloque1)"
   ]
  }
 ],
 "metadata": {
  "kernelspec": {
   "display_name": "Python 3 (ipykernel)",
   "language": "python",
   "name": "python3"
  },
  "language_info": {
   "codemirror_mode": {
    "name": "ipython",
    "version": 3
   },
   "file_extension": ".py",
   "mimetype": "text/x-python",
   "name": "python",
   "nbconvert_exporter": "python",
   "pygments_lexer": "ipython3",
   "version": "3.9.13"
  }
 },
 "nbformat": 4,
 "nbformat_minor": 5
}
