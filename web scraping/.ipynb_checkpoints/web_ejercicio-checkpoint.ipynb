{
 "cells": [
  {
   "cell_type": "code",
   "execution_count": 1,
   "id": "4e69b8b9-9dc1-416c-9917-c82e0dc5de81",
   "metadata": {},
   "outputs": [],
   "source": [
    "import requests\n",
    "from bs4 import BeautifulSoup\n",
    "import pandas as pd\n",
    "\n",
    "from selenium.webdriver.common.by import By\n",
    "from selenium import webdriver\n",
    "from selenium.webdriver.common.keys import Keys\n",
    "from selenium.webdriver.common.action_chains import ActionChains"
   ]
  },
  {
   "cell_type": "code",
   "execution_count": 38,
   "id": "9f45dd49-7e64-4b06-9326-25d7ccec8dbc",
   "metadata": {
    "tags": []
   },
   "outputs": [],
   "source": [
    "url = 'https://coinmarketcap.com/'\n",
    "response = requests.get(url)\n",
    "sopa = BeautifulSoup(response.content)"
   ]
  },
  {
   "cell_type": "code",
   "execution_count": null,
   "id": "6773bc7f-31b2-41cd-be5b-64b3dbc68836",
   "metadata": {},
   "outputs": [],
   "source": []
  },
  {
   "cell_type": "code",
   "execution_count": 39,
   "id": "1886f21e-d6bd-4380-b443-1898afd1d80a",
   "metadata": {
    "tags": []
   },
   "outputs": [],
   "source": [
    "bloques = sopa.select('tr')"
   ]
  },
  {
   "cell_type": "code",
   "execution_count": 33,
   "id": "1b0656f2-c5fd-4785-8613-2766ba749392",
   "metadata": {},
   "outputs": [
    {
     "data": {
      "text/plain": [
       "101"
      ]
     },
     "execution_count": 33,
     "metadata": {},
     "output_type": "execute_result"
    }
   ],
   "source": [
    "len(bloques)"
   ]
  },
  {
   "cell_type": "code",
   "execution_count": 34,
   "id": "79ba28c8-40d8-4a37-a5ee-df971d5cd3d7",
   "metadata": {},
   "outputs": [
    {
     "data": {
      "text/plain": [
       "'1Bitcoin1BTC$16,865.980.14%0.35%20.90%$323.94B$323,937,960,267$33,912,192,6512,010,686 BTC19,205,681 BTC'"
      ]
     },
     "execution_count": 34,
     "metadata": {},
     "output_type": "execute_result"
    }
   ],
   "source": [
    "bloques[1].text"
   ]
  },
  {
   "cell_type": "code",
   "execution_count": 35,
   "id": "d5edb8aa-85a8-4c4f-8396-2af3310d23bd",
   "metadata": {},
   "outputs": [],
   "source": [
    "lista_info = [info.text for info in bloques]"
   ]
  },
  {
   "cell_type": "code",
   "execution_count": 37,
   "id": "8b2b91ac-84a6-4b71-a5fc-324ac7d888a9",
   "metadata": {},
   "outputs": [
    {
     "data": {
      "text/plain": [
       "'AaveAAVE$58.38'"
      ]
     },
     "execution_count": 37,
     "metadata": {},
     "output_type": "execute_result"
    }
   ],
   "source": [
    "lista_info[50]"
   ]
  },
  {
   "cell_type": "code",
   "execution_count": null,
   "id": "e78b9afc-8c9a-4d2f-90d2-da066d4d1a60",
   "metadata": {},
   "outputs": [],
   "source": []
  },
  {
   "cell_type": "code",
   "execution_count": 62,
   "id": "a17f544c-4f55-4918-b38e-393abce64ced",
   "metadata": {},
   "outputs": [],
   "source": [
    "driver = webdriver.Chrome()\n",
    "url = 'https://coinmarketcap.com/'\n",
    "driver.get(url)"
   ]
  },
  {
   "cell_type": "code",
   "execution_count": 41,
   "id": "706448bc-16cd-467b-94dc-33cbad032d8c",
   "metadata": {},
   "outputs": [],
   "source": [
    "sopa2 = BeautifulSoup(driver.page_source)"
   ]
  },
  {
   "cell_type": "code",
   "execution_count": 63,
   "id": "b0f20c12-64e3-45b8-8963-5abcf33a9fa0",
   "metadata": {},
   "outputs": [],
   "source": [
    "chain = ActionChains(driver)"
   ]
  },
  {
   "cell_type": "code",
   "execution_count": 64,
   "id": "53c26e0c-2e6f-4d75-8cec-0ce48ce75d3c",
   "metadata": {},
   "outputs": [],
   "source": [
    "chain = ActionChains(driver)\n",
    "chain.send_keys(Keys.END)\n",
    "chain.perform()"
   ]
  },
  {
   "cell_type": "code",
   "execution_count": 132,
   "id": "b205d46c-fadb-4403-8f3c-626be28bc980",
   "metadata": {},
   "outputs": [],
   "source": [
    "sopa2 = BeautifulSoup(driver.page_source)"
   ]
  },
  {
   "cell_type": "code",
   "execution_count": 133,
   "id": "2775e430-51f7-4229-931d-c5a13ade61b5",
   "metadata": {},
   "outputs": [],
   "source": [
    "bloques2 = sopa2.select('tr')"
   ]
  },
  {
   "cell_type": "code",
   "execution_count": 134,
   "id": "146d7073-527a-4e63-b2f9-3e394023668b",
   "metadata": {},
   "outputs": [
    {
     "data": {
      "text/plain": [
       "101"
      ]
     },
     "execution_count": 134,
     "metadata": {},
     "output_type": "execute_result"
    }
   ],
   "source": [
    "len(bloques2)"
   ]
  },
  {
   "cell_type": "code",
   "execution_count": 135,
   "id": "75895dd0-1275-4b11-8b64-46ac769f9d75",
   "metadata": {},
   "outputs": [],
   "source": [
    "lista_info2 = [info.text for info in bloques2]"
   ]
  },
  {
   "cell_type": "code",
   "execution_count": 136,
   "id": "fcdb04ad-d237-4554-94ee-e5de09622dbb",
   "metadata": {},
   "outputs": [
    {
     "data": {
      "text/plain": [
       "'100Compound100COMP$38.000.27%0.31%26.75%$275.96M$275,958,961$24,869,666651,961 COMP7,267,152 COMP'"
      ]
     },
     "execution_count": 136,
     "metadata": {},
     "output_type": "execute_result"
    }
   ],
   "source": [
    "lista_info2[100]"
   ]
  },
  {
   "cell_type": "code",
   "execution_count": 71,
   "id": "066d148a-09a9-49f7-83e0-b45f3399dd43",
   "metadata": {},
   "outputs": [],
   "source": [
    "#driver.quit()"
   ]
  },
  {
   "cell_type": "code",
   "execution_count": 99,
   "id": "0945ea3c-01b3-44d9-90c6-85ad7887a64a",
   "metadata": {},
   "outputs": [
    {
     "data": {
      "text/plain": [
       "'Compound'"
      ]
     },
     "execution_count": 99,
     "metadata": {},
     "output_type": "execute_result"
    }
   ],
   "source": [
    "bloques2[100].select('p')[1].text"
   ]
  },
  {
   "cell_type": "code",
   "execution_count": 137,
   "id": "f4673f2f-4d30-4ad5-91b4-e19d455aae14",
   "metadata": {},
   "outputs": [],
   "source": [
    "lista_num = [info.select('p')[0].text for info in bloques2]"
   ]
  },
  {
   "cell_type": "code",
   "execution_count": 105,
   "id": "773cc7c3-cf0f-4800-b64e-f57db1c3f826",
   "metadata": {},
   "outputs": [],
   "source": [
    "lista_num = []\n",
    "for info in bloques2:\n",
    "    try:\n",
    "         lista_num.append(info.select('p')[1].text)\n",
    "    except:\n",
    "        lista_num.append('0')"
   ]
  },
  {
   "cell_type": "code",
   "execution_count": 138,
   "id": "0b6f9810-7c51-456a-ba20-72a1312cb771",
   "metadata": {},
   "outputs": [
    {
     "data": {
      "text/plain": [
       "['#',\n",
       " '1',\n",
       " '2',\n",
       " '3',\n",
       " '4',\n",
       " '5',\n",
       " '6',\n",
       " '7',\n",
       " '8',\n",
       " '9',\n",
       " '10',\n",
       " '11',\n",
       " '12',\n",
       " '13',\n",
       " '14',\n",
       " '15',\n",
       " '16',\n",
       " '17',\n",
       " '18',\n",
       " '19',\n",
       " '20',\n",
       " '21',\n",
       " '22',\n",
       " '23',\n",
       " '24',\n",
       " '25',\n",
       " '26',\n",
       " '27',\n",
       " '28',\n",
       " '29',\n",
       " '30',\n",
       " '31',\n",
       " '32',\n",
       " '33',\n",
       " '34',\n",
       " '35',\n",
       " '36',\n",
       " '37',\n",
       " '38',\n",
       " '39',\n",
       " '40',\n",
       " '41',\n",
       " '42',\n",
       " '43',\n",
       " '44',\n",
       " '45',\n",
       " '46',\n",
       " '47',\n",
       " '48',\n",
       " '49',\n",
       " '50',\n",
       " '51',\n",
       " '52',\n",
       " '53',\n",
       " '54',\n",
       " '55',\n",
       " '56',\n",
       " '57',\n",
       " '58',\n",
       " '59',\n",
       " '60',\n",
       " '61',\n",
       " '62',\n",
       " '63',\n",
       " '64',\n",
       " '65',\n",
       " '66',\n",
       " '67',\n",
       " '68',\n",
       " '69',\n",
       " '70',\n",
       " '71',\n",
       " '72',\n",
       " '73',\n",
       " '74',\n",
       " '75',\n",
       " '76',\n",
       " '77',\n",
       " '78',\n",
       " '79',\n",
       " '80',\n",
       " '81',\n",
       " '82',\n",
       " '83',\n",
       " '84',\n",
       " '85',\n",
       " '86',\n",
       " '87',\n",
       " '88',\n",
       " '89',\n",
       " '90',\n",
       " '91',\n",
       " '92',\n",
       " '93',\n",
       " '94',\n",
       " '95',\n",
       " '96',\n",
       " '97',\n",
       " '98',\n",
       " '99',\n",
       " '100']"
      ]
     },
     "execution_count": 138,
     "metadata": {},
     "output_type": "execute_result"
    }
   ],
   "source": [
    "lista_num"
   ]
  },
  {
   "cell_type": "code",
   "execution_count": null,
   "id": "1e745a04-18d3-42af-8d7e-1ee2708eda7f",
   "metadata": {},
   "outputs": [],
   "source": [
    "for _ in range(10):\n",
    "    chain.scroll_to_element\n",
    "    time.sleep(3)"
   ]
  },
  {
   "cell_type": "code",
   "execution_count": 131,
   "id": "dfb1ab57-4125-4404-9fce-108c529b00e4",
   "metadata": {},
   "outputs": [],
   "source": [
    "chain.scroll_by_amount(0,-500)\n",
    "chain.perform()"
   ]
  },
  {
   "cell_type": "code",
   "execution_count": 112,
   "id": "4c987b58-e747-4b34-8406-bdb979b114b5",
   "metadata": {},
   "outputs": [
    {
     "name": "stdout",
     "output_type": "stream",
     "text": [
      "Help on method scroll in module selenium.webdriver.common.action_chains:\n",
      "\n",
      "scroll(x: int, y: int, delta_x: int, delta_y: int, duration: int = 0, origin: str = 'viewport') method of selenium.webdriver.common.action_chains.ActionChains instance\n",
      "    Sends wheel scroll information to the browser to be processed.\n",
      "    \n",
      "    :Args:\n",
      "     - x: starting X coordinate\n",
      "     - y: starting Y coordinate\n",
      "     - delta_x: the distance the mouse will scroll on the x axis\n",
      "     - delta_y: the distance the mouse will scroll on the y axis\n",
      "\n"
     ]
    }
   ],
   "source": [
    "help(chain.scroll)"
   ]
  },
  {
   "cell_type": "code",
   "execution_count": 140,
   "id": "5842e8ca-aebf-4c8f-bbea-0600f4170f40",
   "metadata": {},
   "outputs": [],
   "source": [
    "lista_nombre = [info.select('p')[1].text for info in bloques2]"
   ]
  },
  {
   "cell_type": "code",
   "execution_count": 142,
   "id": "8148398d-7fb8-4109-82df-cad872869f81",
   "metadata": {},
   "outputs": [],
   "source": [
    "lista_precio = [info.select('p')[2].text for info in bloques2]"
   ]
  },
  {
   "cell_type": "code",
   "execution_count": 148,
   "id": "8c588584-a3ce-49c0-849e-03f896345d5a",
   "metadata": {},
   "outputs": [],
   "source": [
    "nuevalista = []\n",
    "for i in range(len(lista_nombre)):\n",
    "\tnuevalista.append(lista_nombre[i]+lista_precio[i])"
   ]
  },
  {
   "cell_type": "code",
   "execution_count": 149,
   "id": "6446f3e7-71f6-4ac9-b20f-07e14504269b",
   "metadata": {},
   "outputs": [
    {
     "data": {
      "text/plain": [
       "['NamePrice',\n",
       " 'BitcoinBTC',\n",
       " 'EthereumETH',\n",
       " 'TetherUSDT',\n",
       " 'BNBBNB',\n",
       " 'USD CoinUSDC',\n",
       " 'Binance USDBUSD',\n",
       " 'XRPXRP',\n",
       " 'DogecoinDOGE',\n",
       " 'CardanoADA',\n",
       " 'PolygonMATIC',\n",
       " 'PolkadotDOT',\n",
       " 'DaiDAI',\n",
       " 'SolanaSOL',\n",
       " 'Shiba InuSHIB',\n",
       " 'TRONTRX',\n",
       " 'LitecoinLTC',\n",
       " 'UniswapUNI',\n",
       " 'Wrapped BitcoinWBTC',\n",
       " 'AvalancheAVAX',\n",
       " 'UNUS SED LEOLEO',\n",
       " 'CosmosATOM',\n",
       " 'ChainlinkLINK',\n",
       " 'Ethereum ClassicETC',\n",
       " 'StellarXLM',\n",
       " 'MoneroXMR',\n",
       " 'CronosCRO',\n",
       " 'Bitcoin CashBCH',\n",
       " 'AlgorandALGO',\n",
       " 'ToncoinTON',\n",
       " 'NEAR ProtocolNEAR',\n",
       " 'VeChainVET',\n",
       " 'FilecoinFIL',\n",
       " 'QuantQNT',\n",
       " 'ChilizCHZ',\n",
       " 'FlowFLOW',\n",
       " 'Terra ClassicLUNC',\n",
       " 'OKBOKB',\n",
       " 'HederaHBAR',\n",
       " 'MultiversX (Elrond)EGLD',\n",
       " 'Internet ComputerICP',\n",
       " 'ChainXCN',\n",
       " 'TezosXTZ',\n",
       " 'Pax DollarUSDP',\n",
       " 'ApeCoinAPE',\n",
       " 'EOSEOS',\n",
       " 'The SandboxSAND',\n",
       " 'Theta NetworkTHETA',\n",
       " 'DecentralandMANA',\n",
       " 'Gemini DollarGUSD',\n",
       " 'AaveAAVE',\n",
       " 'Huobi TokenHT',\n",
       " 'TrueUSDTUSD',\n",
       " 'Bitcoin SVBSV',\n",
       " 'USDDUSDD',\n",
       " 'KuCoin TokenKCS',\n",
       " 'MakerMKR',\n",
       " 'BitTorrent-NewBTT',\n",
       " 'BitDAOBIT',\n",
       " 'Neutrino USDUSDN',\n",
       " 'Axie InfinityAXS',\n",
       " 'ZcashZEC',\n",
       " 'IOTAMIOTA',\n",
       " 'AptosAPT',\n",
       " 'PancakeSwapCAKE',\n",
       " 'eCashXEC',\n",
       " 'PAX GoldPAXG',\n",
       " 'KlaytnKLAY',\n",
       " 'Trust Wallet TokenTWT',\n",
       " 'SynthetixSNX',\n",
       " 'FantomFTM',\n",
       " 'NeoNEO',\n",
       " 'EthereumPoWETHW',\n",
       " 'The GraphGRT',\n",
       " 'MinaMINA',\n",
       " 'Fei USDFEI',\n",
       " 'BinaryXBNX',\n",
       " 'NexoNEXO',\n",
       " 'GateTokenGT',\n",
       " 'DashDASH',\n",
       " 'THORChainRUNE',\n",
       " 'Basic Attention TokenBAT',\n",
       " 'CasperCSPR',\n",
       " 'Lido DAOLDO',\n",
       " 'OsmosisOSMO',\n",
       " 'LoopringLRC',\n",
       " 'HeliumHNT',\n",
       " 'Curve DAO TokenCRV',\n",
       " 'Enjin CoinENJ',\n",
       " 'XDC NetworkXDC',\n",
       " '1inch Network1INCH',\n",
       " 'StacksSTX',\n",
       " 'KavaKAVA',\n",
       " 'ArweaveAR',\n",
       " 'GMXGMX',\n",
       " 'ZilliqaZIL',\n",
       " 'DecredDCR',\n",
       " 'NEMXEM',\n",
       " 'ImmutableXIMX',\n",
       " 'FTX TokenFTT',\n",
       " 'CompoundCOMP']"
      ]
     },
     "execution_count": 149,
     "metadata": {},
     "output_type": "execute_result"
    }
   ],
   "source": [
    "nuevalista"
   ]
  },
  {
   "cell_type": "code",
   "execution_count": null,
   "id": "89088e59-8ea2-49b0-a90e-8d84c2908c2c",
   "metadata": {},
   "outputs": [],
   "source": []
  },
  {
   "cell_type": "code",
   "execution_count": 155,
   "id": "b23052cd-33c2-4e3f-a6ed-1ac580d83894",
   "metadata": {},
   "outputs": [
    {
     "data": {
      "text/plain": [
       "1"
      ]
     },
     "execution_count": 155,
     "metadata": {},
     "output_type": "execute_result"
    }
   ],
   "source": [
    "sopa = BeautifulSoup(driver.page_source)\n",
    "len(sopa.select('table'))"
   ]
  },
  {
   "cell_type": "code",
   "execution_count": 156,
   "id": "092ab4a2-5415-4c1c-9334-6a5633f5f77d",
   "metadata": {},
   "outputs": [],
   "source": [
    "info_tabla = str(sopa.select('table')[0])"
   ]
  },
  {
   "cell_type": "code",
   "execution_count": 157,
   "id": "60503080-8151-4885-b9aa-f3f2590f669a",
   "metadata": {},
   "outputs": [],
   "source": [
    "df = pd.read_html(info_tabla)[0]"
   ]
  },
  {
   "cell_type": "code",
   "execution_count": 159,
   "id": "f6b8dcf7-f31d-4b42-8c47-25229ff2af00",
   "metadata": {},
   "outputs": [
    {
     "data": {
      "text/html": [
       "<div>\n",
       "<style scoped>\n",
       "    .dataframe tbody tr th:only-of-type {\n",
       "        vertical-align: middle;\n",
       "    }\n",
       "\n",
       "    .dataframe tbody tr th {\n",
       "        vertical-align: top;\n",
       "    }\n",
       "\n",
       "    .dataframe thead th {\n",
       "        text-align: right;\n",
       "    }\n",
       "</style>\n",
       "<table border=\"1\" class=\"dataframe\">\n",
       "  <thead>\n",
       "    <tr style=\"text-align: right;\">\n",
       "      <th></th>\n",
       "      <th>Unnamed: 0</th>\n",
       "      <th>#</th>\n",
       "      <th>Name</th>\n",
       "      <th>Price</th>\n",
       "      <th>1h %</th>\n",
       "      <th>24h %</th>\n",
       "      <th>7d %</th>\n",
       "      <th>Market Cap</th>\n",
       "      <th>Volume(24h)</th>\n",
       "      <th>Circulating Supply</th>\n",
       "      <th>Last 7 Days</th>\n",
       "      <th>Unnamed: 11</th>\n",
       "    </tr>\n",
       "  </thead>\n",
       "  <tbody>\n",
       "    <tr>\n",
       "      <th>0</th>\n",
       "      <td>NaN</td>\n",
       "      <td>1</td>\n",
       "      <td>Bitcoin1BTCBuy</td>\n",
       "      <td>$16,856.20</td>\n",
       "      <td>0.06%</td>\n",
       "      <td>0.81%</td>\n",
       "      <td>20.99%</td>\n",
       "      <td>$323.74B$323,735,903,409</td>\n",
       "      <td>$32,859,268,1421,946,645 BTC</td>\n",
       "      <td>19,205,750 BTC</td>\n",
       "      <td>NaN</td>\n",
       "      <td>NaN</td>\n",
       "    </tr>\n",
       "    <tr>\n",
       "      <th>1</th>\n",
       "      <td>NaN</td>\n",
       "      <td>2</td>\n",
       "      <td>Ethereum2ETHBuy</td>\n",
       "      <td>$1,266.75</td>\n",
       "      <td>0.11%</td>\n",
       "      <td>0.60%</td>\n",
       "      <td>22.43%</td>\n",
       "      <td>$155.02B$155,017,317,013</td>\n",
       "      <td>$11,935,841,4189,407,014 ETH</td>\n",
       "      <td>122,373,866 ETH</td>\n",
       "      <td>NaN</td>\n",
       "      <td>NaN</td>\n",
       "    </tr>\n",
       "    <tr>\n",
       "      <th>2</th>\n",
       "      <td>NaN</td>\n",
       "      <td>3</td>\n",
       "      <td>Tether3USDTBuy</td>\n",
       "      <td>$1</td>\n",
       "      <td>0.00%</td>\n",
       "      <td>0.17%</td>\n",
       "      <td>0.14%</td>\n",
       "      <td>$67.42B$67,417,960,672</td>\n",
       "      <td>$44,357,672,79544,413,712,568 USDT</td>\n",
       "      <td>67,419,918,980 USDT</td>\n",
       "      <td>NaN</td>\n",
       "      <td>NaN</td>\n",
       "    </tr>\n",
       "    <tr>\n",
       "      <th>3</th>\n",
       "      <td>NaN</td>\n",
       "      <td>4</td>\n",
       "      <td>BNB4BNBBuy</td>\n",
       "      <td>$282.55</td>\n",
       "      <td>0.16%</td>\n",
       "      <td>1.39%</td>\n",
       "      <td>19.23%</td>\n",
       "      <td>$45.20B$45,201,643,516</td>\n",
       "      <td>$1,287,967,7664,552,859 BNB</td>\n",
       "      <td>159,974,882 BNB</td>\n",
       "      <td>NaN</td>\n",
       "      <td>NaN</td>\n",
       "    </tr>\n",
       "    <tr>\n",
       "      <th>4</th>\n",
       "      <td>NaN</td>\n",
       "      <td>5</td>\n",
       "      <td>USD Coin5USDCBuy</td>\n",
       "      <td>$1.00</td>\n",
       "      <td>0.01%</td>\n",
       "      <td>0.04%</td>\n",
       "      <td>0.02%</td>\n",
       "      <td>$44.17B$44,174,458,675</td>\n",
       "      <td>$2,621,286,8392,620,383,950 USDC</td>\n",
       "      <td>44,149,604,976 USDC</td>\n",
       "      <td>NaN</td>\n",
       "      <td>NaN</td>\n",
       "    </tr>\n",
       "  </tbody>\n",
       "</table>\n",
       "</div>"
      ],
      "text/plain": [
       "   Unnamed: 0  #              Name       Price   1h %  24h %    7d %  \\\n",
       "0         NaN  1    Bitcoin1BTCBuy  $16,856.20  0.06%  0.81%  20.99%   \n",
       "1         NaN  2   Ethereum2ETHBuy   $1,266.75  0.11%  0.60%  22.43%   \n",
       "2         NaN  3    Tether3USDTBuy          $1  0.00%  0.17%   0.14%   \n",
       "3         NaN  4        BNB4BNBBuy     $282.55  0.16%  1.39%  19.23%   \n",
       "4         NaN  5  USD Coin5USDCBuy       $1.00  0.01%  0.04%   0.02%   \n",
       "\n",
       "                 Market Cap                         Volume(24h)  \\\n",
       "0  $323.74B$323,735,903,409        $32,859,268,1421,946,645 BTC   \n",
       "1  $155.02B$155,017,317,013        $11,935,841,4189,407,014 ETH   \n",
       "2    $67.42B$67,417,960,672  $44,357,672,79544,413,712,568 USDT   \n",
       "3    $45.20B$45,201,643,516         $1,287,967,7664,552,859 BNB   \n",
       "4    $44.17B$44,174,458,675    $2,621,286,8392,620,383,950 USDC   \n",
       "\n",
       "    Circulating Supply  Last 7 Days  Unnamed: 11  \n",
       "0       19,205,750 BTC          NaN          NaN  \n",
       "1      122,373,866 ETH          NaN          NaN  \n",
       "2  67,419,918,980 USDT          NaN          NaN  \n",
       "3      159,974,882 BNB          NaN          NaN  \n",
       "4  44,149,604,976 USDC          NaN          NaN  "
      ]
     },
     "execution_count": 159,
     "metadata": {},
     "output_type": "execute_result"
    }
   ],
   "source": [
    "df.head()"
   ]
  },
  {
   "cell_type": "code",
   "execution_count": null,
   "id": "be0fdc13-b6a1-40bf-9cf6-da80705b27b7",
   "metadata": {},
   "outputs": [],
   "source": []
  },
  {
   "cell_type": "code",
   "execution_count": 160,
   "id": "07b368c5-dcd4-48ba-97c0-e256bb167648",
   "metadata": {},
   "outputs": [],
   "source": [
    "from selenium.webdriver.chrome.options import Options"
   ]
  },
  {
   "cell_type": "code",
   "execution_count": 161,
   "id": "59683d21-5e00-45f1-b4c3-b416f16aaa2c",
   "metadata": {},
   "outputs": [],
   "source": [
    "def extraer_info_pagina(driver, pagina):\n",
    "    driver.get(f'https://coinmarketcap.com/?page={pagina}')\n",
    "    chains = ActionChains(driver)\n",
    "    for _ in range(10):\n",
    "        chains.scroll_by_amount(0, 1000).perform()\n",
    "        time.sleep(1)\n",
    "    sopa = BeautifulSoup(driver.page_source)\n",
    "    info_tabla = str(sopa.select('table')[0])\n",
    "    return pd.read_html(info_tabla)[0]\n",
    "    #return chains"
   ]
  },
  {
   "cell_type": "code",
   "execution_count": 162,
   "id": "5529030a-657f-47a7-8ddb-4a9b8117768e",
   "metadata": {},
   "outputs": [],
   "source": [
    "def extraer_info_total():\n",
    "    chrome_options = Options()\n",
    "    chrome_options.add_argument(\"--headless\")\n",
    "    driver = webdriver.Chrome(options=chrome_options)\n",
    "    data_frames = []\n",
    "    for i in range(1,5):\n",
    "        print(f'Extrayendo pagina {i} de 93', end = '\\r')\n",
    "        data_frames.append(extraer_info_pagina(driver, i))\n",
    "    driver.quit()\n",
    "    return pd.concat(data_frames)"
   ]
  },
  {
   "cell_type": "code",
   "execution_count": 163,
   "id": "6717b4e4-ec67-410d-9857-145ac758039e",
   "metadata": {},
   "outputs": [],
   "source": [
    "com = extraer_info_total"
   ]
  },
  {
   "cell_type": "code",
   "execution_count": null,
   "id": "c9a1b0cc-1a1a-40f6-95f6-cdb257d9aaf0",
   "metadata": {},
   "outputs": [],
   "source": []
  },
  {
   "cell_type": "code",
   "execution_count": null,
   "id": "8d57ef5a-b340-4274-8e9e-951643f37501",
   "metadata": {},
   "outputs": [],
   "source": []
  }
 ],
 "metadata": {
  "kernelspec": {
   "display_name": "Python 3 (ipykernel)",
   "language": "python",
   "name": "python3"
  },
  "language_info": {
   "codemirror_mode": {
    "name": "ipython",
    "version": 3
   },
   "file_extension": ".py",
   "mimetype": "text/x-python",
   "name": "python",
   "nbconvert_exporter": "python",
   "pygments_lexer": "ipython3",
   "version": "3.9.12"
  }
 },
 "nbformat": 4,
 "nbformat_minor": 5
}
