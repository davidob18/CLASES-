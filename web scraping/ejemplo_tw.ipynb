{
 "cells": [
  {
   "cell_type": "code",
   "execution_count": 77,
   "id": "a404d4ba-5936-49a3-803a-a4b44cf09ae7",
   "metadata": {},
   "outputs": [],
   "source": [
    "import requests\n",
    "from bs4 import BeautifulSoup\n",
    "import pandas as pd\n",
    "\n",
    "from selenium.webdriver.common.by import By\n",
    "from selenium import webdriver\n",
    "from selenium.webdriver.common.keys import Keys\n",
    "from selenium.webdriver.common.action_chains import ActionChains\n",
    "from selenium.webdriver.chrome.options import Options"
   ]
  },
  {
   "cell_type": "code",
   "execution_count": 4,
   "id": "238876c5-bc13-4b83-a9c6-b08806bfb701",
   "metadata": {},
   "outputs": [],
   "source": []
  },
  {
   "cell_type": "code",
   "execution_count": null,
   "id": "73fc375e-a8b4-424c-a36b-6d75b4ee0089",
   "metadata": {},
   "outputs": [],
   "source": [
    "driver.quit()"
   ]
  },
  {
   "cell_type": "code",
   "execution_count": 22,
   "id": "39f6c1c8-577d-4adf-89b3-f72d07303cbb",
   "metadata": {},
   "outputs": [
    {
     "name": "stdin",
     "output_type": "stream",
     "text": [
      "ingresar usuario ejemplo \"@BarackObama\": BarackObama\n"
     ]
    }
   ],
   "source": [
    "usuario = input('ingresar usuario ejemplo \"@BarackObama\":').replace(\"@\", \"\") "
   ]
  },
  {
   "cell_type": "code",
   "execution_count": 23,
   "id": "81c5ad12-7877-4db3-a10e-633f30e1edb6",
   "metadata": {},
   "outputs": [],
   "source": [
    "driver = webdriver.Chrome()\n",
    "url = f'https://twitter.com/{usuario}'\n",
    "driver.get(url)"
   ]
  },
  {
   "cell_type": "code",
   "execution_count": 6,
   "id": "1f22f001-d081-4f22-a950-239bcffd9ab9",
   "metadata": {},
   "outputs": [
    {
     "ename": "NameError",
     "evalue": "name 'BarackObama' is not defined",
     "output_type": "error",
     "traceback": [
      "\u001b[1;31m---------------------------------------------------------------------------\u001b[0m",
      "\u001b[1;31mNameError\u001b[0m                                 Traceback (most recent call last)",
      "\u001b[1;32m~\\AppData\\Local\\Temp\\ipykernel_3056\\2374015950.py\u001b[0m in \u001b[0;36m<module>\u001b[1;34m\u001b[0m\n\u001b[1;32m----> 1\u001b[1;33m \u001b[0mBarackObama\u001b[0m\u001b[1;33m\u001b[0m\u001b[1;33m\u001b[0m\u001b[0m\n\u001b[0m",
      "\u001b[1;31mNameError\u001b[0m: name 'BarackObama' is not defined"
     ]
    }
   ],
   "source": [
    "BarackObama"
   ]
  },
  {
   "cell_type": "code",
   "execution_count": 50,
   "id": "ac8fa922-a107-49ce-bae1-6bede29c6c79",
   "metadata": {},
   "outputs": [],
   "source": [
    "sopa = BeautifulSoup(driver.page_source)"
   ]
  },
  {
   "cell_type": "code",
   "execution_count": 51,
   "id": "403ba831-5d27-4eca-8e6e-9e634ef9c32b",
   "metadata": {},
   "outputs": [],
   "source": [
    "bloques2 = sopa.select('div div a span span.css-901oao')"
   ]
  },
  {
   "cell_type": "code",
   "execution_count": 54,
   "id": "36b65517-2150-4c10-ad41-0402d0b3f868",
   "metadata": {},
   "outputs": [
    {
     "ename": "AttributeError",
     "evalue": "ResultSet object has no attribute 'select'. You're probably treating a list of elements like a single element. Did you call find_all() when you meant to call find()?",
     "output_type": "error",
     "traceback": [
      "\u001b[1;31m---------------------------------------------------------------------------\u001b[0m",
      "\u001b[1;31mAttributeError\u001b[0m                            Traceback (most recent call last)",
      "\u001b[1;32m~\\AppData\\Local\\Temp\\ipykernel_3056\\3338536459.py\u001b[0m in \u001b[0;36m<module>\u001b[1;34m\u001b[0m\n\u001b[1;32m----> 1\u001b[1;33m \u001b[0mbloques2\u001b[0m\u001b[1;33m.\u001b[0m\u001b[0mselect\u001b[0m\u001b[1;33m(\u001b[0m\u001b[1;34m'span:nth-child(2)'\u001b[0m\u001b[1;33m)\u001b[0m\u001b[1;33m\u001b[0m\u001b[1;33m\u001b[0m\u001b[0m\n\u001b[0m",
      "\u001b[1;32m~\\anaconda3\\lib\\site-packages\\bs4\\element.py\u001b[0m in \u001b[0;36m__getattr__\u001b[1;34m(self, key)\u001b[0m\n\u001b[0;32m   2287\u001b[0m     \u001b[1;32mdef\u001b[0m \u001b[0m__getattr__\u001b[0m\u001b[1;33m(\u001b[0m\u001b[0mself\u001b[0m\u001b[1;33m,\u001b[0m \u001b[0mkey\u001b[0m\u001b[1;33m)\u001b[0m\u001b[1;33m:\u001b[0m\u001b[1;33m\u001b[0m\u001b[1;33m\u001b[0m\u001b[0m\n\u001b[0;32m   2288\u001b[0m         \u001b[1;34m\"\"\"Raise a helpful exception to explain a common code fix.\"\"\"\u001b[0m\u001b[1;33m\u001b[0m\u001b[1;33m\u001b[0m\u001b[0m\n\u001b[1;32m-> 2289\u001b[1;33m         raise AttributeError(\n\u001b[0m\u001b[0;32m   2290\u001b[0m             \u001b[1;34m\"ResultSet object has no attribute '%s'. You're probably treating a list of elements like a single element. Did you call find_all() when you meant to call find()?\"\u001b[0m \u001b[1;33m%\u001b[0m \u001b[0mkey\u001b[0m\u001b[1;33m\u001b[0m\u001b[1;33m\u001b[0m\u001b[0m\n\u001b[0;32m   2291\u001b[0m         )\n",
      "\u001b[1;31mAttributeError\u001b[0m: ResultSet object has no attribute 'select'. You're probably treating a list of elements like a single element. Did you call find_all() when you meant to call find()?"
     ]
    }
   ],
   "source": [
    "bloques2.select('span:nth-child(2)')"
   ]
  },
  {
   "cell_type": "code",
   "execution_count": 63,
   "id": "8acc403b-ff19-40b4-8716-9e4f1a2825fb",
   "metadata": {},
   "outputs": [],
   "source": [
    "bloques2 = sopa.select('div div a span span:first-of-type')"
   ]
  },
  {
   "cell_type": "code",
   "execution_count": 64,
   "id": "3ba25dcb-72b8-4f8d-b6b4-1cbd1b15eaff",
   "metadata": {},
   "outputs": [
    {
     "data": {
      "text/plain": [
       "[<span class=\"css-901oao css-16my406 r-poiln3 r-bcqeeo r-qvutc0\">Iniciar sesión</span>,\n",
       " <span class=\"css-901oao css-16my406 r-poiln3 r-bcqeeo r-qvutc0\">Regístrate</span>,\n",
       " <span class=\"css-901oao css-16my406 r-poiln3 r-bcqeeo r-qvutc0\">572,5 mil</span>,\n",
       " <span class=\"css-901oao css-16my406 r-poiln3 r-bcqeeo r-qvutc0\">Siguiendo</span>,\n",
       " <span class=\"css-901oao css-16my406 r-poiln3 r-bcqeeo r-qvutc0\">133,3 M</span>,\n",
       " <span class=\"css-901oao css-16my406 r-poiln3 r-bcqeeo r-qvutc0\">Seguidores</span>,\n",
       " <span class=\"css-901oao css-16my406 r-poiln3 r-bcqeeo r-qvutc0\">Barack Obama</span>,\n",
       " <span class=\"css-901oao css-16my406 r-poiln3 r-bcqeeo r-qvutc0\">Barack Obama</span>,\n",
       " <span class=\"css-901oao css-16my406 r-poiln3 r-bcqeeo r-qvutc0\">Barack Obama</span>,\n",
       " <span class=\"css-901oao css-16my406 r-poiln3 r-bcqeeo r-qvutc0\">nbcnews.com</span>,\n",
       " <span class=\"css-901oao css-16my406 r-poiln3 r-bcqeeo r-qvutc0\">'So much relief': South Dakota voters pass Medicaid expansion</span>,\n",
       " <span class=\"css-901oao css-16my406 r-poiln3 r-bcqeeo r-qvutc0\">Barack Obama</span>,\n",
       " <span class=\"css-901oao css-16my406 r-poiln3 r-bcqeeo r-qvutc0\">Barack Obama</span>,\n",
       " <span class=\"css-901oao css-16my406 r-poiln3 r-bcqeeo r-qvutc0\">Barack Obama</span>,\n",
       " <span class=\"css-901oao css-16my406 r-poiln3 r-bcqeeo r-qvutc0\">Barack Obama</span>,\n",
       " <span class=\"css-901oao css-16my406 r-poiln3 r-bcqeeo r-qvutc0\">Barack Obama</span>]"
      ]
     },
     "execution_count": 64,
     "metadata": {},
     "output_type": "execute_result"
    }
   ],
   "source": [
    "bloques2"
   ]
  },
  {
   "cell_type": "code",
   "execution_count": 70,
   "id": "03a3ddc7-c46e-40ab-a920-6af708717c65",
   "metadata": {},
   "outputs": [
    {
     "data": {
      "text/plain": [
       "'572.5 mil'"
      ]
     },
     "execution_count": 70,
     "metadata": {},
     "output_type": "execute_result"
    }
   ],
   "source": [
    "bloques2[2].text.replace('\\xa0',' ').replace(',','.')"
   ]
  },
  {
   "cell_type": "code",
   "execution_count": null,
   "id": "85224fa1-2e2f-4ab0-9392-a69bab0c21c4",
   "metadata": {},
   "outputs": [],
   "source": []
  },
  {
   "cell_type": "code",
   "execution_count": 74,
   "id": "f7506157-77ed-4ec0-b8dd-50023ab314ae",
   "metadata": {},
   "outputs": [],
   "source": [
    "def usuario_2():\n",
    "    import time \n",
    "    usuario = input('ingresar usuario ejemplo \"@BarackObama\":').replace(\"@\", \"\") \n",
    "    driver = webdriver.Chrome()\n",
    "    url = f'https://twitter.com/{usuario}'\n",
    "    try:\n",
    "        driver.get(url)\n",
    "        time.sleep(3)\n",
    "        sopa = BeautifulSoup(driver.page_source)\n",
    "        bloques2 = sopa.select('div div a span span:first-of-type')\n",
    "        cantidad = bloques2[2].text.replace('\\xa0',' ').replace(',','.')\n",
    "        return print(f'personas siguiendo: {cantidad}')\n",
    "    except:\n",
    "        return print('NO encontro cuenta')\n",
    "\n"
   ]
  },
  {
   "cell_type": "code",
   "execution_count": 76,
   "id": "d96975e3-3eae-41c9-8802-5ab5b4fb23b9",
   "metadata": {},
   "outputs": [
    {
     "name": "stdin",
     "output_type": "stream",
     "text": [
      "ingresar usuario ejemplo \"@BarackObama\": Karmma18\n"
     ]
    },
    {
     "name": "stdout",
     "output_type": "stream",
     "text": [
      "personas siguiendo: 1.945\n"
     ]
    }
   ],
   "source": [
    "usuario_2()"
   ]
  },
  {
   "cell_type": "code",
   "execution_count": null,
   "id": "73aad01e-35d8-4434-bd56-224c0e6f147a",
   "metadata": {},
   "outputs": [],
   "source": []
  },
  {
   "cell_type": "code",
   "execution_count": 79,
   "id": "d6caf887-1fbd-48a7-97ac-4659a6c75e6a",
   "metadata": {},
   "outputs": [],
   "source": [
    "def extraer_info_tw():\n",
    "    chrome_options = Options()\n",
    "    chrome_options.add_argument(\"--headless\")\n",
    "    driver = webdriver.Chrome(options=chrome_options)\n",
    "    \n",
    "    import time \n",
    "    usuario = input('ingresar usuario ejemplo \"@BarackObama\":').replace(\"@\", \"\") \n",
    "    driver = webdriver.Chrome()\n",
    "    url = f'https://twitter.com/{usuario}'\n",
    "    try:\n",
    "        driver.get(url)\n",
    "        time.sleep(3)\n",
    "        sopa = BeautifulSoup(driver.page_source)\n",
    "        bloques2 = sopa.select('div div a span span:first-of-type')\n",
    "        cantidad = bloques2[2].text.replace('\\xa0',' ').replace(',','.')\n",
    "        return print(f'personas siguiendo: {cantidad}')\n",
    "    except:\n",
    "        return print('NO encontro cuenta')\n"
   ]
  },
  {
   "cell_type": "code",
   "execution_count": 80,
   "id": "cb7ba5b3-9271-49dd-8d77-fc87ba79d099",
   "metadata": {},
   "outputs": [
    {
     "name": "stdin",
     "output_type": "stream",
     "text": [
      "ingresar usuario ejemplo \"@BarackObama\": BarackObama\n"
     ]
    },
    {
     "name": "stdout",
     "output_type": "stream",
     "text": [
      "personas siguiendo: 572.5 mil\n"
     ]
    }
   ],
   "source": [
    "extraer_info_tw()"
   ]
  },
  {
   "cell_type": "code",
   "execution_count": null,
   "id": "a149e73f-3044-4578-ba96-c6f07ae5123d",
   "metadata": {},
   "outputs": [],
   "source": []
  },
  {
   "cell_type": "code",
   "execution_count": null,
   "id": "056a9294-d62f-4c7c-b278-0fbc4d588c8a",
   "metadata": {},
   "outputs": [],
   "source": []
  },
  {
   "cell_type": "code",
   "execution_count": null,
   "id": "7e9f8fd1-fb7e-4653-a6a5-7d2b7239e99a",
   "metadata": {},
   "outputs": [],
   "source": []
  },
  {
   "cell_type": "code",
   "execution_count": null,
   "id": "90d3eeed-a069-4f07-a1d7-da56f8e1bbb1",
   "metadata": {},
   "outputs": [],
   "source": []
  },
  {
   "cell_type": "code",
   "execution_count": null,
   "id": "f3b4edfc-5124-4a7f-b56e-5d80cdf8d025",
   "metadata": {},
   "outputs": [],
   "source": []
  },
  {
   "cell_type": "code",
   "execution_count": null,
   "id": "24c0a6c0-607b-485c-98d6-41207b4998ad",
   "metadata": {},
   "outputs": [],
   "source": []
  },
  {
   "cell_type": "code",
   "execution_count": null,
   "id": "98fb5793-6bc9-46eb-a9cd-2d2c64ad0644",
   "metadata": {},
   "outputs": [],
   "source": []
  }
 ],
 "metadata": {
  "kernelspec": {
   "display_name": "Python 3 (ipykernel)",
   "language": "python",
   "name": "python3"
  },
  "language_info": {
   "codemirror_mode": {
    "name": "ipython",
    "version": 3
   },
   "file_extension": ".py",
   "mimetype": "text/x-python",
   "name": "python",
   "nbconvert_exporter": "python",
   "pygments_lexer": "ipython3",
   "version": "3.9.13"
  }
 },
 "nbformat": 4,
 "nbformat_minor": 5
}
