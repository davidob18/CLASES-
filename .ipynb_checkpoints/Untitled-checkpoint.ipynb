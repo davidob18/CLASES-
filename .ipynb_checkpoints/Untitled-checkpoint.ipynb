{
 "cells": [
  {
   "cell_type": "code",
   "execution_count": 1,
   "id": "56b24429-cb4d-4727-8ce7-a40b152b86a3",
   "metadata": {},
   "outputs": [],
   "source": [
    "import requests\n",
    "from bs4 import BeautifulSoup\n",
    "import pandas as pd\n",
    "# from pprint import pprint\n",
    "from lxml import html\n",
    "from lxml.html import fromstring\n",
    "# import urllib.request\n",
    "# from urllib.request import urlopen\n",
    "# import random\n",
    "# import re\n",
    "# import scrapy"
   ]
  },
  {
   "cell_type": "code",
   "execution_count": null,
   "id": "92d3874a-e062-46b2-8610-5512404b2a6f",
   "metadata": {},
   "outputs": [],
   "source": [
    "#plate>orange:first-child"
   ]
  },
  {
   "cell_type": "raw",
   "id": "5f427ee8-ab0c-4765-be42-b30167e68994",
   "metadata": {},
   "source": [
    "req = Request('http://uscode.house.gov/download/download.shtml')\n",
    "html_page = urlopen(req)\n",
    "soup_2 = BeautifulSoup(html_page, \"lxml\")\n",
    "bloques_5= soup_2.findAll('div.uscitemlist')"
   ]
  },
  {
   "cell_type": "code",
   "execution_count": 83,
   "id": "0ef5fc56-5dfe-46dd-9230-72a74d4a23ba",
   "metadata": {},
   "outputs": [
    {
     "name": "stderr",
     "output_type": "stream",
     "text": [
      "C:\\Users\\sistemas\\anaconda3\\lib\\site-packages\\bs4\\builder\\__init__.py:545: XMLParsedAsHTMLWarning: It looks like you're parsing an XML document using an HTML parser. If this really is an HTML document (maybe it's XHTML?), you can ignore or filter this warning. If it's XML, you should know that using an XML parser will be more reliable. To parse this document as XML, make sure you have the lxml package installed, and pass the keyword argument `features=\"xml\"` into the BeautifulSoup constructor.\n",
      "  warnings.warn(\n"
     ]
    }
   ],
   "source": [
    "url4 ='http://uscode.house.gov/download/download.shtml' \n",
    "links=[]\n",
    "response_4 = requests.get(url4)\n",
    "sopa_git_4 = BeautifulSoup(response_4.content)\n"
   ]
  },
  {
   "cell_type": "code",
   "execution_count": 84,
   "id": "194879ef-9526-4272-b026-eb7421d5773e",
   "metadata": {
    "tags": []
   },
   "outputs": [],
   "source": [
    "bloques_5 = sopa_git_4.select('div.usctitle')\n",
    "\n",
    "\n",
    "#<div class=\"uscitemlist\">\n"
   ]
  },
  {
   "cell_type": "code",
   "execution_count": 93,
   "id": "78e5760a-e311-40cb-a29a-f9e72d1bf9d8",
   "metadata": {},
   "outputs": [
    {
     "data": {
      "text/plain": [
       "47"
      ]
     },
     "execution_count": 93,
     "metadata": {},
     "output_type": "execute_result"
    }
   ],
   "source": [
    "len(bloques_5)"
   ]
  },
  {
   "cell_type": "code",
   "execution_count": 94,
   "id": "1668d0c7-fa92-436e-9d8b-2cb112fa4772",
   "metadata": {},
   "outputs": [
    {
     "data": {
      "text/plain": [
       "47"
      ]
     },
     "execution_count": 94,
     "metadata": {},
     "output_type": "execute_result"
    }
   ],
   "source": [
    "len(titulo2)"
   ]
  },
  {
   "cell_type": "code",
   "execution_count": 85,
   "id": "c2be97bc-eb9c-42e9-a2d1-e8f4919c580d",
   "metadata": {},
   "outputs": [
    {
     "data": {
      "text/plain": [
       "'Title 1 - General Provisions ٭'"
      ]
     },
     "execution_count": 85,
     "metadata": {},
     "output_type": "execute_result"
    }
   ],
   "source": [
    "bloques_5[2].text.strip('\\n ').replace('*', \"\")"
   ]
  },
  {
   "cell_type": "code",
   "execution_count": 89,
   "id": "275c10ea-ee6a-4270-96c4-954bed81e0c3",
   "metadata": {},
   "outputs": [],
   "source": [
    "titulo2 = []\n",
    "for titulo in bloques_5:\n",
    "    titulo2.append(titulo.text.strip('\\n ٭'))#.replace('٭', \"\"))"
   ]
  },
  {
   "cell_type": "code",
   "execution_count": 92,
   "id": "a61c4696-a67b-4704-87ed-c0e12e8405f8",
   "metadata": {},
   "outputs": [
    {
     "data": {
      "text/plain": [
       "['All titles in the format selected compressed into a zip archive.',\n",
       " '\\xa0\\n\\n\\t',\n",
       " 'Title 1 - General Provisions',\n",
       " 'Title 2 - The Congress',\n",
       " 'Title 3 - The President',\n",
       " 'Title 4 - Flag and Seal, Seat of Government, and the States',\n",
       " 'Title 5 - Government Organization and Employees',\n",
       " 'Title 6 - Domestic Security',\n",
       " 'Title 7 - Agriculture',\n",
       " 'Title 8 - Aliens and Nationality',\n",
       " 'Title 9 - Arbitration',\n",
       " 'Title 10 - Armed Forces',\n",
       " 'Title 11 - Bankruptcy',\n",
       " 'Title 12 - Banks and Banking',\n",
       " 'Title 13 - Census',\n",
       " 'Title 14 - Coast Guard',\n",
       " 'Title 15 - Commerce and Trade',\n",
       " 'Title 16 - Conservation',\n",
       " 'Title 18 - Crimes and Criminal Procedure',\n",
       " 'Title 19 - Customs Duties',\n",
       " 'Title 20 - Education',\n",
       " 'Title 21 - Food and Drugs',\n",
       " 'Title 23 - Highways',\n",
       " 'Title 24 - Hospitals and Asylums',\n",
       " 'Title 25 - Indians',\n",
       " 'Title 26 - Internal Revenue Code',\n",
       " 'Title 27 - Intoxicating Liquors',\n",
       " 'Title 28 - Judiciary and Judicial Procedure',\n",
       " 'Title 29 - Labor',\n",
       " 'Title 30 - Mineral Lands and Mining',\n",
       " 'Title 31 - Money and Finance',\n",
       " 'Title 32 - National Guard',\n",
       " 'Title 33 - Navigation and Navigable Waters',\n",
       " 'Title 34 - Crime Control and Law Enforcement',\n",
       " 'Title 35 - Patents',\n",
       " 'Title 36 - Patriotic and National Observances, Ceremonies, and Organizations',\n",
       " 'Title 37 - Pay and Allowances of the Uniformed Services',\n",
       " 'Title 39 - Postal Service',\n",
       " 'Title 43 - Public Lands',\n",
       " 'Title 45 - Railroads',\n",
       " 'Title 46 - Shipping',\n",
       " 'Title 47 - Telecommunications',\n",
       " 'Title 48 - Territories and Insular Possessions',\n",
       " 'Title 50 - War and National Defense',\n",
       " 'Title 51 - National and Commercial Space Programs',\n",
       " 'Title 52 - Voting and Elections',\n",
       " 'Title 53 [Reserved]']"
      ]
     },
     "execution_count": 92,
     "metadata": {},
     "output_type": "execute_result"
    }
   ],
   "source": [
    "titulo2[:]"
   ]
  },
  {
   "cell_type": "code",
   "execution_count": 76,
   "id": "d0627190-4b40-4165-94db-5c81c2593750",
   "metadata": {},
   "outputs": [
    {
     "data": {
      "text/plain": [
       "str"
      ]
     },
     "execution_count": 76,
     "metadata": {},
     "output_type": "execute_result"
    }
   ],
   "source": [
    "type(titulo2[2])"
   ]
  },
  {
   "cell_type": "code",
   "execution_count": 78,
   "id": "bf7477c9-e074-4676-bcd4-1902ff13f92b",
   "metadata": {},
   "outputs": [
    {
     "name": "stdout",
     "output_type": "stream",
     "text": [
      "T\n",
      "i\n",
      "t\n",
      "l\n",
      "e\n",
      " \n",
      "1\n",
      " \n",
      "-\n",
      " \n",
      "G\n",
      "e\n",
      "n\n",
      "e\n",
      "r\n",
      "a\n",
      "l\n",
      " \n",
      "P\n",
      "r\n",
      "o\n",
      "v\n",
      "i\n",
      "s\n",
      "i\n",
      "o\n",
      "n\n",
      "s\n",
      " \n",
      "٭\n"
     ]
    }
   ],
   "source": [
    "for t in titulo2[2]:\n",
    "    print(t)"
   ]
  },
  {
   "cell_type": "code",
   "execution_count": null,
   "id": "6ee3bcd6-40dc-437e-ac74-98a71fb6ffd2",
   "metadata": {},
   "outputs": [],
   "source": []
  }
 ],
 "metadata": {
  "kernelspec": {
   "display_name": "Python 3 (ipykernel)",
   "language": "python",
   "name": "python3"
  },
  "language_info": {
   "codemirror_mode": {
    "name": "ipython",
    "version": 3
   },
   "file_extension": ".py",
   "mimetype": "text/x-python",
   "name": "python",
   "nbconvert_exporter": "python",
   "pygments_lexer": "ipython3",
   "version": "3.9.12"
  }
 },
 "nbformat": 4,
 "nbformat_minor": 5
}
